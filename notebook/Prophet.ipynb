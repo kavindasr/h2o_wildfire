{
 "cells": [
  {
   "cell_type": "code",
   "execution_count": 34,
   "id": "1e5c8567",
   "metadata": {},
   "outputs": [],
   "source": [
    "%matplotlib inline\n",
    "import pandas as pd\n",
    "import numpy as np\n",
    "from IPython.core.interactiveshell import InteractiveShell\n",
    "import random\n",
    "InteractiveShell.ast_node_interactivity = \"all\"\n",
    "import os\n",
    "from datetime import datetime\n",
    "import matplotlib.pyplot as plt\n",
    "#import plotly.express as px\n",
    "import glob\n",
    "from tqdm import tqdm\n",
    "\n",
    "# Using plotly.express\n",
    "import plotly.express as px\n",
    "\n",
    "import numpy as np\n",
    "import pandas as pd\n",
    "from datetime import datetime, timedelta\n",
    "import matplotlib.pyplot as plt\n",
    "import sys\n",
    "sys.path.append(\"../\")\n",
    "\n",
    "import warnings\n",
    "warnings.filterwarnings('ignore')\n",
    "\n",
    "from prophet import Prophet\n",
    "from prophet.plot import plot_plotly, plot_components_plotly"
   ]
  },
  {
   "cell_type": "code",
   "execution_count": 2,
   "id": "abc4cdc9",
   "metadata": {},
   "outputs": [
    {
     "data": {
      "text/plain": [
       "(1323312, 10)"
      ]
     },
     "execution_count": 2,
     "metadata": {},
     "output_type": "execute_result"
    },
    {
     "data": {
      "text/html": [
       "<div>\n",
       "<style scoped>\n",
       "    .dataframe tbody tr th:only-of-type {\n",
       "        vertical-align: middle;\n",
       "    }\n",
       "\n",
       "    .dataframe tbody tr th {\n",
       "        vertical-align: top;\n",
       "    }\n",
       "\n",
       "    .dataframe thead th {\n",
       "        text-align: right;\n",
       "    }\n",
       "</style>\n",
       "<table border=\"1\" class=\"dataframe\">\n",
       "  <thead>\n",
       "    <tr style=\"text-align: right;\">\n",
       "      <th></th>\n",
       "      <th>latitude</th>\n",
       "      <th>longitude</th>\n",
       "      <th>time</th>\n",
       "      <th>fire_count</th>\n",
       "      <th>confidence</th>\n",
       "      <th>est_brightness</th>\n",
       "      <th>frp</th>\n",
       "      <th>est_fire_area</th>\n",
       "      <th>loc_count</th>\n",
       "      <th>ranking</th>\n",
       "    </tr>\n",
       "  </thead>\n",
       "  <tbody>\n",
       "    <tr>\n",
       "      <th>0</th>\n",
       "      <td>-29.5</td>\n",
       "      <td>123.9</td>\n",
       "      <td>2019-02-16</td>\n",
       "      <td>315</td>\n",
       "      <td>79</td>\n",
       "      <td>331.6</td>\n",
       "      <td>358982.2</td>\n",
       "      <td>103.9</td>\n",
       "      <td>4</td>\n",
       "      <td>0.694892</td>\n",
       "    </tr>\n",
       "    <tr>\n",
       "      <th>1</th>\n",
       "      <td>-31.4</td>\n",
       "      <td>123.7</td>\n",
       "      <td>2019-11-10</td>\n",
       "      <td>680</td>\n",
       "      <td>71</td>\n",
       "      <td>324.5</td>\n",
       "      <td>24134.6</td>\n",
       "      <td>207.1</td>\n",
       "      <td>11</td>\n",
       "      <td>0.667022</td>\n",
       "    </tr>\n",
       "    <tr>\n",
       "      <th>2</th>\n",
       "      <td>-32.4</td>\n",
       "      <td>123.5</td>\n",
       "      <td>2020-01-02</td>\n",
       "      <td>474</td>\n",
       "      <td>86</td>\n",
       "      <td>335.9</td>\n",
       "      <td>11099.8</td>\n",
       "      <td>138.2</td>\n",
       "      <td>12</td>\n",
       "      <td>0.601851</td>\n",
       "    </tr>\n",
       "    <tr>\n",
       "      <th>3</th>\n",
       "      <td>-27.6</td>\n",
       "      <td>144.3</td>\n",
       "      <td>2013-01-13</td>\n",
       "      <td>566</td>\n",
       "      <td>68</td>\n",
       "      <td>313.9</td>\n",
       "      <td>13568.5</td>\n",
       "      <td>185.4</td>\n",
       "      <td>2</td>\n",
       "      <td>0.599751</td>\n",
       "    </tr>\n",
       "    <tr>\n",
       "      <th>4</th>\n",
       "      <td>-26.3</td>\n",
       "      <td>150.7</td>\n",
       "      <td>2013-10-08</td>\n",
       "      <td>551</td>\n",
       "      <td>66</td>\n",
       "      <td>311.2</td>\n",
       "      <td>10181.1</td>\n",
       "      <td>188.4</td>\n",
       "      <td>51</td>\n",
       "      <td>0.589020</td>\n",
       "    </tr>\n",
       "  </tbody>\n",
       "</table>\n",
       "</div>"
      ],
      "text/plain": [
       "   latitude  longitude       time  fire_count  confidence  est_brightness  \\\n",
       "0     -29.5      123.9 2019-02-16         315          79           331.6   \n",
       "1     -31.4      123.7 2019-11-10         680          71           324.5   \n",
       "2     -32.4      123.5 2020-01-02         474          86           335.9   \n",
       "3     -27.6      144.3 2013-01-13         566          68           313.9   \n",
       "4     -26.3      150.7 2013-10-08         551          66           311.2   \n",
       "\n",
       "        frp  est_fire_area  loc_count   ranking  \n",
       "0  358982.2          103.9          4  0.694892  \n",
       "1   24134.6          207.1         11  0.667022  \n",
       "2   11099.8          138.2         12  0.601851  \n",
       "3   13568.5          185.4          2  0.599751  \n",
       "4   10181.1          188.4         51  0.589020  "
      ]
     },
     "execution_count": 2,
     "metadata": {},
     "output_type": "execute_result"
    }
   ],
   "source": [
    "url = 'data/australia_viirs_prepared.csv.gz'\n",
    "aus_fires = pd.read_csv(url,parse_dates=['time'])\n",
    "aus_fires.shape\n",
    "aus_fires.head()"
   ]
  },
  {
   "cell_type": "code",
   "execution_count": 29,
   "id": "8b861f62",
   "metadata": {},
   "outputs": [
    {
     "data": {
      "text/html": [
       "<div>\n",
       "<style scoped>\n",
       "    .dataframe tbody tr th:only-of-type {\n",
       "        vertical-align: middle;\n",
       "    }\n",
       "\n",
       "    .dataframe tbody tr th {\n",
       "        vertical-align: top;\n",
       "    }\n",
       "\n",
       "    .dataframe thead th {\n",
       "        text-align: right;\n",
       "    }\n",
       "</style>\n",
       "<table border=\"1\" class=\"dataframe\">\n",
       "  <thead>\n",
       "    <tr style=\"text-align: right;\">\n",
       "      <th></th>\n",
       "      <th>latitude</th>\n",
       "      <th>longitude</th>\n",
       "      <th>time</th>\n",
       "      <th>fire_count</th>\n",
       "      <th>confidence</th>\n",
       "      <th>est_brightness</th>\n",
       "      <th>frp</th>\n",
       "      <th>est_fire_area</th>\n",
       "      <th>loc_count</th>\n",
       "      <th>ranking</th>\n",
       "    </tr>\n",
       "  </thead>\n",
       "  <tbody>\n",
       "    <tr>\n",
       "      <th>1000</th>\n",
       "      <td>-13.7</td>\n",
       "      <td>129.9</td>\n",
       "      <td>2012-07-24</td>\n",
       "      <td>2</td>\n",
       "      <td>100</td>\n",
       "      <td>331.0</td>\n",
       "      <td>35.5</td>\n",
       "      <td>1.0</td>\n",
       "      <td>219</td>\n",
       "      <td>0.401484</td>\n",
       "    </tr>\n",
       "    <tr>\n",
       "      <th>1001</th>\n",
       "      <td>-25.3</td>\n",
       "      <td>127.5</td>\n",
       "      <td>2021-08-22</td>\n",
       "      <td>2</td>\n",
       "      <td>100</td>\n",
       "      <td>331.7</td>\n",
       "      <td>34.7</td>\n",
       "      <td>1.0</td>\n",
       "      <td>26</td>\n",
       "      <td>0.401484</td>\n",
       "    </tr>\n",
       "    <tr>\n",
       "      <th>1002</th>\n",
       "      <td>-21.2</td>\n",
       "      <td>118.1</td>\n",
       "      <td>2021-12-27</td>\n",
       "      <td>2</td>\n",
       "      <td>100</td>\n",
       "      <td>335.6</td>\n",
       "      <td>34.5</td>\n",
       "      <td>1.0</td>\n",
       "      <td>12</td>\n",
       "      <td>0.401484</td>\n",
       "    </tr>\n",
       "    <tr>\n",
       "      <th>1003</th>\n",
       "      <td>-19.7</td>\n",
       "      <td>147.3</td>\n",
       "      <td>2019-10-14</td>\n",
       "      <td>2</td>\n",
       "      <td>100</td>\n",
       "      <td>331.8</td>\n",
       "      <td>33.9</td>\n",
       "      <td>1.0</td>\n",
       "      <td>29</td>\n",
       "      <td>0.401483</td>\n",
       "    </tr>\n",
       "    <tr>\n",
       "      <th>1004</th>\n",
       "      <td>-33.4</td>\n",
       "      <td>116.9</td>\n",
       "      <td>2017-06-05</td>\n",
       "      <td>2</td>\n",
       "      <td>100</td>\n",
       "      <td>331.1</td>\n",
       "      <td>33.0</td>\n",
       "      <td>1.0</td>\n",
       "      <td>73</td>\n",
       "      <td>0.401483</td>\n",
       "    </tr>\n",
       "    <tr>\n",
       "      <th>...</th>\n",
       "      <td>...</td>\n",
       "      <td>...</td>\n",
       "      <td>...</td>\n",
       "      <td>...</td>\n",
       "      <td>...</td>\n",
       "      <td>...</td>\n",
       "      <td>...</td>\n",
       "      <td>...</td>\n",
       "      <td>...</td>\n",
       "      <td>...</td>\n",
       "    </tr>\n",
       "    <tr>\n",
       "      <th>1995</th>\n",
       "      <td>-14.7</td>\n",
       "      <td>130.1</td>\n",
       "      <td>2013-05-29</td>\n",
       "      <td>2</td>\n",
       "      <td>100</td>\n",
       "      <td>333.4</td>\n",
       "      <td>20.0</td>\n",
       "      <td>0.5</td>\n",
       "      <td>137</td>\n",
       "      <td>0.400993</td>\n",
       "    </tr>\n",
       "    <tr>\n",
       "      <th>1996</th>\n",
       "      <td>-16.2</td>\n",
       "      <td>127.4</td>\n",
       "      <td>2021-05-29</td>\n",
       "      <td>2</td>\n",
       "      <td>100</td>\n",
       "      <td>336.1</td>\n",
       "      <td>20.0</td>\n",
       "      <td>0.5</td>\n",
       "      <td>65</td>\n",
       "      <td>0.400993</td>\n",
       "    </tr>\n",
       "    <tr>\n",
       "      <th>1997</th>\n",
       "      <td>-16.5</td>\n",
       "      <td>127.0</td>\n",
       "      <td>2012-04-18</td>\n",
       "      <td>2</td>\n",
       "      <td>100</td>\n",
       "      <td>334.3</td>\n",
       "      <td>20.0</td>\n",
       "      <td>0.5</td>\n",
       "      <td>61</td>\n",
       "      <td>0.400993</td>\n",
       "    </tr>\n",
       "    <tr>\n",
       "      <th>1998</th>\n",
       "      <td>-36.7</td>\n",
       "      <td>143.9</td>\n",
       "      <td>2013-04-08</td>\n",
       "      <td>2</td>\n",
       "      <td>100</td>\n",
       "      <td>335.1</td>\n",
       "      <td>20.0</td>\n",
       "      <td>0.5</td>\n",
       "      <td>26</td>\n",
       "      <td>0.400993</td>\n",
       "    </tr>\n",
       "    <tr>\n",
       "      <th>1999</th>\n",
       "      <td>-21.3</td>\n",
       "      <td>124.0</td>\n",
       "      <td>2018-10-26</td>\n",
       "      <td>2</td>\n",
       "      <td>100</td>\n",
       "      <td>330.9</td>\n",
       "      <td>19.9</td>\n",
       "      <td>0.5</td>\n",
       "      <td>10</td>\n",
       "      <td>0.400993</td>\n",
       "    </tr>\n",
       "  </tbody>\n",
       "</table>\n",
       "<p>1000 rows × 10 columns</p>\n",
       "</div>"
      ],
      "text/plain": [
       "      latitude  longitude       time  fire_count  confidence  est_brightness  \\\n",
       "1000     -13.7      129.9 2012-07-24           2         100           331.0   \n",
       "1001     -25.3      127.5 2021-08-22           2         100           331.7   \n",
       "1002     -21.2      118.1 2021-12-27           2         100           335.6   \n",
       "1003     -19.7      147.3 2019-10-14           2         100           331.8   \n",
       "1004     -33.4      116.9 2017-06-05           2         100           331.1   \n",
       "...        ...        ...        ...         ...         ...             ...   \n",
       "1995     -14.7      130.1 2013-05-29           2         100           333.4   \n",
       "1996     -16.2      127.4 2021-05-29           2         100           336.1   \n",
       "1997     -16.5      127.0 2012-04-18           2         100           334.3   \n",
       "1998     -36.7      143.9 2013-04-08           2         100           335.1   \n",
       "1999     -21.3      124.0 2018-10-26           2         100           330.9   \n",
       "\n",
       "       frp  est_fire_area  loc_count   ranking  \n",
       "1000  35.5            1.0        219  0.401484  \n",
       "1001  34.7            1.0         26  0.401484  \n",
       "1002  34.5            1.0         12  0.401484  \n",
       "1003  33.9            1.0         29  0.401483  \n",
       "1004  33.0            1.0         73  0.401483  \n",
       "...    ...            ...        ...       ...  \n",
       "1995  20.0            0.5        137  0.400993  \n",
       "1996  20.0            0.5         65  0.400993  \n",
       "1997  20.0            0.5         61  0.400993  \n",
       "1998  20.0            0.5         26  0.400993  \n",
       "1999  19.9            0.5         10  0.400993  \n",
       "\n",
       "[1000 rows x 10 columns]"
      ]
     },
     "execution_count": 29,
     "metadata": {},
     "output_type": "execute_result"
    }
   ],
   "source": [
    "aus_fires.iloc[1000:2000]"
   ]
  },
  {
   "cell_type": "code",
   "execution_count": 3,
   "id": "fc1bf1f3",
   "metadata": {},
   "outputs": [],
   "source": [
    "def filterLocation(aus_fires,latitude,longitude):\n",
    "    filtered = aus_fires[(aus_fires.latitude == latitude)&(aus_fires.longitude == longitude)]\n",
    "    return filtered"
   ]
  },
  {
   "cell_type": "code",
   "execution_count": 44,
   "id": "8a36bf76",
   "metadata": {},
   "outputs": [],
   "source": [
    "lat = -36.7\n",
    "lng = 143.9\n",
    "filtered = filterLocation(aus_fires,lat,lng)"
   ]
  },
  {
   "cell_type": "code",
   "execution_count": 45,
   "id": "fb451694",
   "metadata": {},
   "outputs": [
    {
     "data": {
      "text/html": [
       "<div>\n",
       "<style scoped>\n",
       "    .dataframe tbody tr th:only-of-type {\n",
       "        vertical-align: middle;\n",
       "    }\n",
       "\n",
       "    .dataframe tbody tr th {\n",
       "        vertical-align: top;\n",
       "    }\n",
       "\n",
       "    .dataframe thead th {\n",
       "        text-align: right;\n",
       "    }\n",
       "</style>\n",
       "<table border=\"1\" class=\"dataframe\">\n",
       "  <thead>\n",
       "    <tr style=\"text-align: right;\">\n",
       "      <th></th>\n",
       "      <th>ds</th>\n",
       "      <th>y</th>\n",
       "    </tr>\n",
       "  </thead>\n",
       "  <tbody>\n",
       "    <tr>\n",
       "      <th>1998</th>\n",
       "      <td>2013-04-08</td>\n",
       "      <td>0.400993</td>\n",
       "    </tr>\n",
       "    <tr>\n",
       "      <th>5658</th>\n",
       "      <td>2018-04-08</td>\n",
       "      <td>0.400489</td>\n",
       "    </tr>\n",
       "    <tr>\n",
       "      <th>14754</th>\n",
       "      <td>2012-11-20</td>\n",
       "      <td>0.349426</td>\n",
       "    </tr>\n",
       "    <tr>\n",
       "      <th>65399</th>\n",
       "      <td>2017-04-13</td>\n",
       "      <td>0.295778</td>\n",
       "    </tr>\n",
       "    <tr>\n",
       "      <th>100781</th>\n",
       "      <td>2013-04-07</td>\n",
       "      <td>0.283173</td>\n",
       "    </tr>\n",
       "    <tr>\n",
       "      <th>110397</th>\n",
       "      <td>2014-04-06</td>\n",
       "      <td>0.281703</td>\n",
       "    </tr>\n",
       "    <tr>\n",
       "      <th>339484</th>\n",
       "      <td>2013-04-09</td>\n",
       "      <td>0.243235</td>\n",
       "    </tr>\n",
       "    <tr>\n",
       "      <th>499778</th>\n",
       "      <td>2012-04-17</td>\n",
       "      <td>0.241443</td>\n",
       "    </tr>\n",
       "    <tr>\n",
       "      <th>515389</th>\n",
       "      <td>2021-12-30</td>\n",
       "      <td>0.241353</td>\n",
       "    </tr>\n",
       "    <tr>\n",
       "      <th>534972</th>\n",
       "      <td>2014-05-07</td>\n",
       "      <td>0.241277</td>\n",
       "    </tr>\n",
       "    <tr>\n",
       "      <th>541135</th>\n",
       "      <td>2018-04-09</td>\n",
       "      <td>0.241242</td>\n",
       "    </tr>\n",
       "    <tr>\n",
       "      <th>624710</th>\n",
       "      <td>2021-04-07</td>\n",
       "      <td>0.240896</td>\n",
       "    </tr>\n",
       "    <tr>\n",
       "      <th>628868</th>\n",
       "      <td>2017-05-03</td>\n",
       "      <td>0.240893</td>\n",
       "    </tr>\n",
       "    <tr>\n",
       "      <th>639220</th>\n",
       "      <td>2017-05-09</td>\n",
       "      <td>0.240890</td>\n",
       "    </tr>\n",
       "    <tr>\n",
       "      <th>694798</th>\n",
       "      <td>2020-04-14</td>\n",
       "      <td>0.240793</td>\n",
       "    </tr>\n",
       "    <tr>\n",
       "      <th>723547</th>\n",
       "      <td>2013-05-09</td>\n",
       "      <td>0.240738</td>\n",
       "    </tr>\n",
       "    <tr>\n",
       "      <th>744598</th>\n",
       "      <td>2017-05-05</td>\n",
       "      <td>0.240544</td>\n",
       "    </tr>\n",
       "    <tr>\n",
       "      <th>758187</th>\n",
       "      <td>2017-04-19</td>\n",
       "      <td>0.240542</td>\n",
       "    </tr>\n",
       "    <tr>\n",
       "      <th>775292</th>\n",
       "      <td>2014-10-10</td>\n",
       "      <td>0.240540</td>\n",
       "    </tr>\n",
       "    <tr>\n",
       "      <th>797245</th>\n",
       "      <td>2013-04-01</td>\n",
       "      <td>0.240451</td>\n",
       "    </tr>\n",
       "    <tr>\n",
       "      <th>797614</th>\n",
       "      <td>2020-04-13</td>\n",
       "      <td>0.240451</td>\n",
       "    </tr>\n",
       "    <tr>\n",
       "      <th>873158</th>\n",
       "      <td>2016-04-18</td>\n",
       "      <td>0.240444</td>\n",
       "    </tr>\n",
       "    <tr>\n",
       "      <th>887458</th>\n",
       "      <td>2018-06-05</td>\n",
       "      <td>0.240444</td>\n",
       "    </tr>\n",
       "    <tr>\n",
       "      <th>988836</th>\n",
       "      <td>2012-04-13</td>\n",
       "      <td>0.240350</td>\n",
       "    </tr>\n",
       "    <tr>\n",
       "      <th>989409</th>\n",
       "      <td>2018-04-30</td>\n",
       "      <td>0.240349</td>\n",
       "    </tr>\n",
       "    <tr>\n",
       "      <th>1007630</th>\n",
       "      <td>2014-04-14</td>\n",
       "      <td>0.240348</td>\n",
       "    </tr>\n",
       "  </tbody>\n",
       "</table>\n",
       "</div>"
      ],
      "text/plain": [
       "                ds         y\n",
       "1998    2013-04-08  0.400993\n",
       "5658    2018-04-08  0.400489\n",
       "14754   2012-11-20  0.349426\n",
       "65399   2017-04-13  0.295778\n",
       "100781  2013-04-07  0.283173\n",
       "110397  2014-04-06  0.281703\n",
       "339484  2013-04-09  0.243235\n",
       "499778  2012-04-17  0.241443\n",
       "515389  2021-12-30  0.241353\n",
       "534972  2014-05-07  0.241277\n",
       "541135  2018-04-09  0.241242\n",
       "624710  2021-04-07  0.240896\n",
       "628868  2017-05-03  0.240893\n",
       "639220  2017-05-09  0.240890\n",
       "694798  2020-04-14  0.240793\n",
       "723547  2013-05-09  0.240738\n",
       "744598  2017-05-05  0.240544\n",
       "758187  2017-04-19  0.240542\n",
       "775292  2014-10-10  0.240540\n",
       "797245  2013-04-01  0.240451\n",
       "797614  2020-04-13  0.240451\n",
       "873158  2016-04-18  0.240444\n",
       "887458  2018-06-05  0.240444\n",
       "988836  2012-04-13  0.240350\n",
       "989409  2018-04-30  0.240349\n",
       "1007630 2014-04-14  0.240348"
      ]
     },
     "execution_count": 45,
     "metadata": {},
     "output_type": "execute_result"
    }
   ],
   "source": [
    "df = filtered.filter(['time','ranking'])\n",
    "df.rename({'time': 'ds'}, axis=1, inplace=True)\n",
    "df.rename({'ranking': 'y'}, axis=1, inplace=True)\n",
    "df"
   ]
  },
  {
   "cell_type": "markdown",
   "id": "1c838255",
   "metadata": {},
   "source": [
    "### Prophet with monthly data"
   ]
  },
  {
   "cell_type": "code",
   "execution_count": 46,
   "id": "c7da1207",
   "metadata": {},
   "outputs": [],
   "source": [
    "# RESAMPLE DATA FROM DAILY TO MONTHLY\n",
    "df_m = df.copy()\n",
    "df_m.set_index('ds', inplace=True)\n",
    "df_m.index = pd.to_datetime(df_m.index)\n",
    "df_m = df_m.resample('1M').mean()"
   ]
  },
  {
   "cell_type": "code",
   "execution_count": 47,
   "id": "02c0d4b4",
   "metadata": {},
   "outputs": [],
   "source": [
    "df_m['y'] = df_m['y'].fillna(0)"
   ]
  },
  {
   "cell_type": "code",
   "execution_count": 48,
   "id": "6669ab2f",
   "metadata": {},
   "outputs": [
    {
     "data": {
      "text/html": [
       "<div>\n",
       "<style scoped>\n",
       "    .dataframe tbody tr th:only-of-type {\n",
       "        vertical-align: middle;\n",
       "    }\n",
       "\n",
       "    .dataframe tbody tr th {\n",
       "        vertical-align: top;\n",
       "    }\n",
       "\n",
       "    .dataframe thead th {\n",
       "        text-align: right;\n",
       "    }\n",
       "</style>\n",
       "<table border=\"1\" class=\"dataframe\">\n",
       "  <thead>\n",
       "    <tr style=\"text-align: right;\">\n",
       "      <th></th>\n",
       "      <th>y</th>\n",
       "    </tr>\n",
       "    <tr>\n",
       "      <th>ds</th>\n",
       "      <th></th>\n",
       "    </tr>\n",
       "  </thead>\n",
       "  <tbody>\n",
       "    <tr>\n",
       "      <th>2012-04-30</th>\n",
       "      <td>0.240897</td>\n",
       "    </tr>\n",
       "    <tr>\n",
       "      <th>2012-05-31</th>\n",
       "      <td>0.000000</td>\n",
       "    </tr>\n",
       "    <tr>\n",
       "      <th>2012-06-30</th>\n",
       "      <td>0.000000</td>\n",
       "    </tr>\n",
       "    <tr>\n",
       "      <th>2012-07-31</th>\n",
       "      <td>0.000000</td>\n",
       "    </tr>\n",
       "    <tr>\n",
       "      <th>2012-08-31</th>\n",
       "      <td>0.000000</td>\n",
       "    </tr>\n",
       "    <tr>\n",
       "      <th>...</th>\n",
       "      <td>...</td>\n",
       "    </tr>\n",
       "    <tr>\n",
       "      <th>2021-08-31</th>\n",
       "      <td>0.000000</td>\n",
       "    </tr>\n",
       "    <tr>\n",
       "      <th>2021-09-30</th>\n",
       "      <td>0.000000</td>\n",
       "    </tr>\n",
       "    <tr>\n",
       "      <th>2021-10-31</th>\n",
       "      <td>0.000000</td>\n",
       "    </tr>\n",
       "    <tr>\n",
       "      <th>2021-11-30</th>\n",
       "      <td>0.000000</td>\n",
       "    </tr>\n",
       "    <tr>\n",
       "      <th>2021-12-31</th>\n",
       "      <td>0.241353</td>\n",
       "    </tr>\n",
       "  </tbody>\n",
       "</table>\n",
       "<p>117 rows × 1 columns</p>\n",
       "</div>"
      ],
      "text/plain": [
       "                   y\n",
       "ds                  \n",
       "2012-04-30  0.240897\n",
       "2012-05-31  0.000000\n",
       "2012-06-30  0.000000\n",
       "2012-07-31  0.000000\n",
       "2012-08-31  0.000000\n",
       "...              ...\n",
       "2021-08-31  0.000000\n",
       "2021-09-30  0.000000\n",
       "2021-10-31  0.000000\n",
       "2021-11-30  0.000000\n",
       "2021-12-31  0.241353\n",
       "\n",
       "[117 rows x 1 columns]"
      ]
     },
     "execution_count": 48,
     "metadata": {},
     "output_type": "execute_result"
    }
   ],
   "source": [
    "df_m"
   ]
  },
  {
   "cell_type": "code",
   "execution_count": 49,
   "id": "9b628477",
   "metadata": {},
   "outputs": [],
   "source": [
    "df_m.reset_index('ds', inplace=True)"
   ]
  },
  {
   "cell_type": "code",
   "execution_count": 50,
   "id": "b9a54bbc",
   "metadata": {},
   "outputs": [
    {
     "data": {
      "text/html": [
       "<div>\n",
       "<style scoped>\n",
       "    .dataframe tbody tr th:only-of-type {\n",
       "        vertical-align: middle;\n",
       "    }\n",
       "\n",
       "    .dataframe tbody tr th {\n",
       "        vertical-align: top;\n",
       "    }\n",
       "\n",
       "    .dataframe thead th {\n",
       "        text-align: right;\n",
       "    }\n",
       "</style>\n",
       "<table border=\"1\" class=\"dataframe\">\n",
       "  <thead>\n",
       "    <tr style=\"text-align: right;\">\n",
       "      <th></th>\n",
       "      <th>ds</th>\n",
       "      <th>y</th>\n",
       "    </tr>\n",
       "  </thead>\n",
       "  <tbody>\n",
       "    <tr>\n",
       "      <th>0</th>\n",
       "      <td>2012-04-30</td>\n",
       "      <td>0.240897</td>\n",
       "    </tr>\n",
       "    <tr>\n",
       "      <th>1</th>\n",
       "      <td>2012-05-31</td>\n",
       "      <td>0.000000</td>\n",
       "    </tr>\n",
       "    <tr>\n",
       "      <th>2</th>\n",
       "      <td>2012-06-30</td>\n",
       "      <td>0.000000</td>\n",
       "    </tr>\n",
       "    <tr>\n",
       "      <th>3</th>\n",
       "      <td>2012-07-31</td>\n",
       "      <td>0.000000</td>\n",
       "    </tr>\n",
       "    <tr>\n",
       "      <th>4</th>\n",
       "      <td>2012-08-31</td>\n",
       "      <td>0.000000</td>\n",
       "    </tr>\n",
       "    <tr>\n",
       "      <th>...</th>\n",
       "      <td>...</td>\n",
       "      <td>...</td>\n",
       "    </tr>\n",
       "    <tr>\n",
       "      <th>112</th>\n",
       "      <td>2021-08-31</td>\n",
       "      <td>0.000000</td>\n",
       "    </tr>\n",
       "    <tr>\n",
       "      <th>113</th>\n",
       "      <td>2021-09-30</td>\n",
       "      <td>0.000000</td>\n",
       "    </tr>\n",
       "    <tr>\n",
       "      <th>114</th>\n",
       "      <td>2021-10-31</td>\n",
       "      <td>0.000000</td>\n",
       "    </tr>\n",
       "    <tr>\n",
       "      <th>115</th>\n",
       "      <td>2021-11-30</td>\n",
       "      <td>0.000000</td>\n",
       "    </tr>\n",
       "    <tr>\n",
       "      <th>116</th>\n",
       "      <td>2021-12-31</td>\n",
       "      <td>0.241353</td>\n",
       "    </tr>\n",
       "  </tbody>\n",
       "</table>\n",
       "<p>117 rows × 2 columns</p>\n",
       "</div>"
      ],
      "text/plain": [
       "            ds         y\n",
       "0   2012-04-30  0.240897\n",
       "1   2012-05-31  0.000000\n",
       "2   2012-06-30  0.000000\n",
       "3   2012-07-31  0.000000\n",
       "4   2012-08-31  0.000000\n",
       "..         ...       ...\n",
       "112 2021-08-31  0.000000\n",
       "113 2021-09-30  0.000000\n",
       "114 2021-10-31  0.000000\n",
       "115 2021-11-30  0.000000\n",
       "116 2021-12-31  0.241353\n",
       "\n",
       "[117 rows x 2 columns]"
      ]
     },
     "execution_count": 50,
     "metadata": {},
     "output_type": "execute_result"
    }
   ],
   "source": [
    "df_m"
   ]
  },
  {
   "cell_type": "code",
   "execution_count": 51,
   "id": "02741585",
   "metadata": {},
   "outputs": [
    {
     "name": "stderr",
     "output_type": "stream",
     "text": [
      "INFO:prophet:Disabling weekly seasonality. Run prophet with weekly_seasonality=True to override this.\n",
      "INFO:prophet:Disabling daily seasonality. Run prophet with daily_seasonality=True to override this.\n"
     ]
    },
    {
     "name": "stdout",
     "output_type": "stream",
     "text": [
      "Initial log joint probability = -26.3707\n"
     ]
    },
    {
     "data": {
      "text/plain": [
       "<prophet.forecaster.Prophet at 0x7fb1d8c11670>"
      ]
     },
     "execution_count": 51,
     "metadata": {},
     "output_type": "execute_result"
    },
    {
     "name": "stdout",
     "output_type": "stream",
     "text": [
      "    Iter      log prob        ||dx||      ||grad||       alpha      alpha0  # evals  Notes \n",
      "      99       138.533   5.21606e-07       93.5739      0.9173     0.09173      127   \n",
      "    Iter      log prob        ||dx||      ||grad||       alpha      alpha0  # evals  Notes \n",
      "     122       138.533   9.73934e-09       109.538      0.2309           1      155   \n",
      "Optimization terminated normally: \n",
      "  Convergence detected: absolute parameter change was below tolerance\n"
     ]
    }
   ],
   "source": [
    "m = Prophet()\n",
    "m.fit(df_m)"
   ]
  },
  {
   "cell_type": "code",
   "execution_count": 52,
   "id": "8090bf38",
   "metadata": {},
   "outputs": [
    {
     "data": {
      "text/html": [
       "<div>\n",
       "<style scoped>\n",
       "    .dataframe tbody tr th:only-of-type {\n",
       "        vertical-align: middle;\n",
       "    }\n",
       "\n",
       "    .dataframe tbody tr th {\n",
       "        vertical-align: top;\n",
       "    }\n",
       "\n",
       "    .dataframe thead th {\n",
       "        text-align: right;\n",
       "    }\n",
       "</style>\n",
       "<table border=\"1\" class=\"dataframe\">\n",
       "  <thead>\n",
       "    <tr style=\"text-align: right;\">\n",
       "      <th></th>\n",
       "      <th>ds</th>\n",
       "    </tr>\n",
       "  </thead>\n",
       "  <tbody>\n",
       "    <tr>\n",
       "      <th>136</th>\n",
       "      <td>2023-08-31</td>\n",
       "    </tr>\n",
       "    <tr>\n",
       "      <th>137</th>\n",
       "      <td>2023-09-30</td>\n",
       "    </tr>\n",
       "    <tr>\n",
       "      <th>138</th>\n",
       "      <td>2023-10-31</td>\n",
       "    </tr>\n",
       "    <tr>\n",
       "      <th>139</th>\n",
       "      <td>2023-11-30</td>\n",
       "    </tr>\n",
       "    <tr>\n",
       "      <th>140</th>\n",
       "      <td>2023-12-31</td>\n",
       "    </tr>\n",
       "  </tbody>\n",
       "</table>\n",
       "</div>"
      ],
      "text/plain": [
       "            ds\n",
       "136 2023-08-31\n",
       "137 2023-09-30\n",
       "138 2023-10-31\n",
       "139 2023-11-30\n",
       "140 2023-12-31"
      ]
     },
     "execution_count": 52,
     "metadata": {},
     "output_type": "execute_result"
    }
   ],
   "source": [
    "future = m.make_future_dataframe(periods=24,freq = \"m\")\n",
    "future.tail()"
   ]
  },
  {
   "cell_type": "code",
   "execution_count": 53,
   "id": "0ce45f31",
   "metadata": {},
   "outputs": [
    {
     "data": {
      "text/html": [
       "<div>\n",
       "<style scoped>\n",
       "    .dataframe tbody tr th:only-of-type {\n",
       "        vertical-align: middle;\n",
       "    }\n",
       "\n",
       "    .dataframe tbody tr th {\n",
       "        vertical-align: top;\n",
       "    }\n",
       "\n",
       "    .dataframe thead th {\n",
       "        text-align: right;\n",
       "    }\n",
       "</style>\n",
       "<table border=\"1\" class=\"dataframe\">\n",
       "  <thead>\n",
       "    <tr style=\"text-align: right;\">\n",
       "      <th></th>\n",
       "      <th>ds</th>\n",
       "      <th>yhat</th>\n",
       "      <th>yhat_lower</th>\n",
       "      <th>yhat_upper</th>\n",
       "    </tr>\n",
       "  </thead>\n",
       "  <tbody>\n",
       "    <tr>\n",
       "      <th>136</th>\n",
       "      <td>2023-08-31</td>\n",
       "      <td>-0.021415</td>\n",
       "      <td>-0.100096</td>\n",
       "      <td>0.062025</td>\n",
       "    </tr>\n",
       "    <tr>\n",
       "      <th>137</th>\n",
       "      <td>2023-09-30</td>\n",
       "      <td>-0.021959</td>\n",
       "      <td>-0.103584</td>\n",
       "      <td>0.061372</td>\n",
       "    </tr>\n",
       "    <tr>\n",
       "      <th>138</th>\n",
       "      <td>2023-10-31</td>\n",
       "      <td>0.003242</td>\n",
       "      <td>-0.087056</td>\n",
       "      <td>0.086332</td>\n",
       "    </tr>\n",
       "    <tr>\n",
       "      <th>139</th>\n",
       "      <td>2023-11-30</td>\n",
       "      <td>0.009677</td>\n",
       "      <td>-0.068925</td>\n",
       "      <td>0.099286</td>\n",
       "    </tr>\n",
       "    <tr>\n",
       "      <th>140</th>\n",
       "      <td>2023-12-31</td>\n",
       "      <td>-0.000140</td>\n",
       "      <td>-0.079128</td>\n",
       "      <td>0.079290</td>\n",
       "    </tr>\n",
       "  </tbody>\n",
       "</table>\n",
       "</div>"
      ],
      "text/plain": [
       "            ds      yhat  yhat_lower  yhat_upper\n",
       "136 2023-08-31 -0.021415   -0.100096    0.062025\n",
       "137 2023-09-30 -0.021959   -0.103584    0.061372\n",
       "138 2023-10-31  0.003242   -0.087056    0.086332\n",
       "139 2023-11-30  0.009677   -0.068925    0.099286\n",
       "140 2023-12-31 -0.000140   -0.079128    0.079290"
      ]
     },
     "execution_count": 53,
     "metadata": {},
     "output_type": "execute_result"
    }
   ],
   "source": [
    "forecast = m.predict(future)\n",
    "forecast[['ds', 'yhat', 'yhat_lower', 'yhat_upper']].tail()"
   ]
  },
  {
   "cell_type": "code",
   "execution_count": 54,
   "id": "477b5add",
   "metadata": {},
   "outputs": [
    {
     "data": {
      "application/vnd.plotly.v1+json": {
       "config": {
        "plotlyServerURL": "https://plot.ly"
       },
       "data": [
        {
         "marker": {
          "color": "black",
          "size": 4
         },
         "mode": "markers",
         "name": "Actual",
         "type": "scatter",
         "x": [
          "2012-04-30T00:00:00",
          "2012-05-31T00:00:00",
          "2012-06-30T00:00:00",
          "2012-07-31T00:00:00",
          "2012-08-31T00:00:00",
          "2012-09-30T00:00:00",
          "2012-10-31T00:00:00",
          "2012-11-30T00:00:00",
          "2012-12-31T00:00:00",
          "2013-01-31T00:00:00",
          "2013-02-28T00:00:00",
          "2013-03-31T00:00:00",
          "2013-04-30T00:00:00",
          "2013-05-31T00:00:00",
          "2013-06-30T00:00:00",
          "2013-07-31T00:00:00",
          "2013-08-31T00:00:00",
          "2013-09-30T00:00:00",
          "2013-10-31T00:00:00",
          "2013-11-30T00:00:00",
          "2013-12-31T00:00:00",
          "2014-01-31T00:00:00",
          "2014-02-28T00:00:00",
          "2014-03-31T00:00:00",
          "2014-04-30T00:00:00",
          "2014-05-31T00:00:00",
          "2014-06-30T00:00:00",
          "2014-07-31T00:00:00",
          "2014-08-31T00:00:00",
          "2014-09-30T00:00:00",
          "2014-10-31T00:00:00",
          "2014-11-30T00:00:00",
          "2014-12-31T00:00:00",
          "2015-01-31T00:00:00",
          "2015-02-28T00:00:00",
          "2015-03-31T00:00:00",
          "2015-04-30T00:00:00",
          "2015-05-31T00:00:00",
          "2015-06-30T00:00:00",
          "2015-07-31T00:00:00",
          "2015-08-31T00:00:00",
          "2015-09-30T00:00:00",
          "2015-10-31T00:00:00",
          "2015-11-30T00:00:00",
          "2015-12-31T00:00:00",
          "2016-01-31T00:00:00",
          "2016-02-29T00:00:00",
          "2016-03-31T00:00:00",
          "2016-04-30T00:00:00",
          "2016-05-31T00:00:00",
          "2016-06-30T00:00:00",
          "2016-07-31T00:00:00",
          "2016-08-31T00:00:00",
          "2016-09-30T00:00:00",
          "2016-10-31T00:00:00",
          "2016-11-30T00:00:00",
          "2016-12-31T00:00:00",
          "2017-01-31T00:00:00",
          "2017-02-28T00:00:00",
          "2017-03-31T00:00:00",
          "2017-04-30T00:00:00",
          "2017-05-31T00:00:00",
          "2017-06-30T00:00:00",
          "2017-07-31T00:00:00",
          "2017-08-31T00:00:00",
          "2017-09-30T00:00:00",
          "2017-10-31T00:00:00",
          "2017-11-30T00:00:00",
          "2017-12-31T00:00:00",
          "2018-01-31T00:00:00",
          "2018-02-28T00:00:00",
          "2018-03-31T00:00:00",
          "2018-04-30T00:00:00",
          "2018-05-31T00:00:00",
          "2018-06-30T00:00:00",
          "2018-07-31T00:00:00",
          "2018-08-31T00:00:00",
          "2018-09-30T00:00:00",
          "2018-10-31T00:00:00",
          "2018-11-30T00:00:00",
          "2018-12-31T00:00:00",
          "2019-01-31T00:00:00",
          "2019-02-28T00:00:00",
          "2019-03-31T00:00:00",
          "2019-04-30T00:00:00",
          "2019-05-31T00:00:00",
          "2019-06-30T00:00:00",
          "2019-07-31T00:00:00",
          "2019-08-31T00:00:00",
          "2019-09-30T00:00:00",
          "2019-10-31T00:00:00",
          "2019-11-30T00:00:00",
          "2019-12-31T00:00:00",
          "2020-01-31T00:00:00",
          "2020-02-29T00:00:00",
          "2020-03-31T00:00:00",
          "2020-04-30T00:00:00",
          "2020-05-31T00:00:00",
          "2020-06-30T00:00:00",
          "2020-07-31T00:00:00",
          "2020-08-31T00:00:00",
          "2020-09-30T00:00:00",
          "2020-10-31T00:00:00",
          "2020-11-30T00:00:00",
          "2020-12-31T00:00:00",
          "2021-01-31T00:00:00",
          "2021-02-28T00:00:00",
          "2021-03-31T00:00:00",
          "2021-04-30T00:00:00",
          "2021-05-31T00:00:00",
          "2021-06-30T00:00:00",
          "2021-07-31T00:00:00",
          "2021-08-31T00:00:00",
          "2021-09-30T00:00:00",
          "2021-10-31T00:00:00",
          "2021-11-30T00:00:00",
          "2021-12-31T00:00:00"
         ],
         "y": [
          0.24089651682733831,
          0,
          0,
          0,
          0,
          0,
          0,
          0.3494258934691536,
          0,
          0,
          0,
          0,
          0.29196286919115033,
          0.240737694961797,
          0,
          0,
          0,
          0,
          0,
          0,
          0,
          0,
          0,
          0,
          0.2610252443041267,
          0.2412768980600098,
          0,
          0,
          0,
          0,
          0.2405402616465196,
          0,
          0,
          0,
          0,
          0,
          0,
          0,
          0,
          0,
          0,
          0,
          0,
          0,
          0,
          0,
          0,
          0,
          0.240444469924992,
          0,
          0,
          0,
          0,
          0,
          0,
          0,
          0,
          0,
          0,
          0,
          0.26816000656269534,
          0.240775907998106,
          0,
          0,
          0,
          0,
          0,
          0,
          0,
          0,
          0,
          0,
          0.2940266721782359,
          0,
          0.2404441356465793,
          0,
          0,
          0,
          0,
          0,
          0,
          0,
          0,
          0,
          0,
          0,
          0,
          0,
          0,
          0,
          0,
          0,
          0,
          0,
          0,
          0,
          0.2406217339628352,
          0,
          0,
          0,
          0,
          0,
          0,
          0,
          0,
          0,
          0,
          0,
          0.2408958482705129,
          0,
          0,
          0,
          0,
          0,
          0,
          0,
          0.2413530207751872
         ]
        },
        {
         "hoverinfo": "skip",
         "line": {
          "width": 0
         },
         "mode": "lines",
         "type": "scatter",
         "x": [
          "2012-04-30T00:00:00",
          "2012-05-31T00:00:00",
          "2012-06-30T00:00:00",
          "2012-07-31T00:00:00",
          "2012-08-31T00:00:00",
          "2012-09-30T00:00:00",
          "2012-10-31T00:00:00",
          "2012-11-30T00:00:00",
          "2012-12-31T00:00:00",
          "2013-01-31T00:00:00",
          "2013-02-28T00:00:00",
          "2013-03-31T00:00:00",
          "2013-04-30T00:00:00",
          "2013-05-31T00:00:00",
          "2013-06-30T00:00:00",
          "2013-07-31T00:00:00",
          "2013-08-31T00:00:00",
          "2013-09-30T00:00:00",
          "2013-10-31T00:00:00",
          "2013-11-30T00:00:00",
          "2013-12-31T00:00:00",
          "2014-01-31T00:00:00",
          "2014-02-28T00:00:00",
          "2014-03-31T00:00:00",
          "2014-04-30T00:00:00",
          "2014-05-31T00:00:00",
          "2014-06-30T00:00:00",
          "2014-07-31T00:00:00",
          "2014-08-31T00:00:00",
          "2014-09-30T00:00:00",
          "2014-10-31T00:00:00",
          "2014-11-30T00:00:00",
          "2014-12-31T00:00:00",
          "2015-01-31T00:00:00",
          "2015-02-28T00:00:00",
          "2015-03-31T00:00:00",
          "2015-04-30T00:00:00",
          "2015-05-31T00:00:00",
          "2015-06-30T00:00:00",
          "2015-07-31T00:00:00",
          "2015-08-31T00:00:00",
          "2015-09-30T00:00:00",
          "2015-10-31T00:00:00",
          "2015-11-30T00:00:00",
          "2015-12-31T00:00:00",
          "2016-01-31T00:00:00",
          "2016-02-29T00:00:00",
          "2016-03-31T00:00:00",
          "2016-04-30T00:00:00",
          "2016-05-31T00:00:00",
          "2016-06-30T00:00:00",
          "2016-07-31T00:00:00",
          "2016-08-31T00:00:00",
          "2016-09-30T00:00:00",
          "2016-10-31T00:00:00",
          "2016-11-30T00:00:00",
          "2016-12-31T00:00:00",
          "2017-01-31T00:00:00",
          "2017-02-28T00:00:00",
          "2017-03-31T00:00:00",
          "2017-04-30T00:00:00",
          "2017-05-31T00:00:00",
          "2017-06-30T00:00:00",
          "2017-07-31T00:00:00",
          "2017-08-31T00:00:00",
          "2017-09-30T00:00:00",
          "2017-10-31T00:00:00",
          "2017-11-30T00:00:00",
          "2017-12-31T00:00:00",
          "2018-01-31T00:00:00",
          "2018-02-28T00:00:00",
          "2018-03-31T00:00:00",
          "2018-04-30T00:00:00",
          "2018-05-31T00:00:00",
          "2018-06-30T00:00:00",
          "2018-07-31T00:00:00",
          "2018-08-31T00:00:00",
          "2018-09-30T00:00:00",
          "2018-10-31T00:00:00",
          "2018-11-30T00:00:00",
          "2018-12-31T00:00:00",
          "2019-01-31T00:00:00",
          "2019-02-28T00:00:00",
          "2019-03-31T00:00:00",
          "2019-04-30T00:00:00",
          "2019-05-31T00:00:00",
          "2019-06-30T00:00:00",
          "2019-07-31T00:00:00",
          "2019-08-31T00:00:00",
          "2019-09-30T00:00:00",
          "2019-10-31T00:00:00",
          "2019-11-30T00:00:00",
          "2019-12-31T00:00:00",
          "2020-01-31T00:00:00",
          "2020-02-29T00:00:00",
          "2020-03-31T00:00:00",
          "2020-04-30T00:00:00",
          "2020-05-31T00:00:00",
          "2020-06-30T00:00:00",
          "2020-07-31T00:00:00",
          "2020-08-31T00:00:00",
          "2020-09-30T00:00:00",
          "2020-10-31T00:00:00",
          "2020-11-30T00:00:00",
          "2020-12-31T00:00:00",
          "2021-01-31T00:00:00",
          "2021-02-28T00:00:00",
          "2021-03-31T00:00:00",
          "2021-04-30T00:00:00",
          "2021-05-31T00:00:00",
          "2021-06-30T00:00:00",
          "2021-07-31T00:00:00",
          "2021-08-31T00:00:00",
          "2021-09-30T00:00:00",
          "2021-10-31T00:00:00",
          "2021-11-30T00:00:00",
          "2021-12-31T00:00:00",
          "2022-01-31T00:00:00",
          "2022-02-28T00:00:00",
          "2022-03-31T00:00:00",
          "2022-04-30T00:00:00",
          "2022-05-31T00:00:00",
          "2022-06-30T00:00:00",
          "2022-07-31T00:00:00",
          "2022-08-31T00:00:00",
          "2022-09-30T00:00:00",
          "2022-10-31T00:00:00",
          "2022-11-30T00:00:00",
          "2022-12-31T00:00:00",
          "2023-01-31T00:00:00",
          "2023-02-28T00:00:00",
          "2023-03-31T00:00:00",
          "2023-04-30T00:00:00",
          "2023-05-31T00:00:00",
          "2023-06-30T00:00:00",
          "2023-07-31T00:00:00",
          "2023-08-31T00:00:00",
          "2023-09-30T00:00:00",
          "2023-10-31T00:00:00",
          "2023-11-30T00:00:00",
          "2023-12-31T00:00:00"
         ],
         "y": [
          0.14026357807509995,
          0.009950592210203696,
          -0.04884473389835972,
          -0.07028123335410642,
          -0.06396439959052762,
          -0.06598972601183704,
          -0.03997642323696728,
          -0.03566703295688643,
          -0.043929207094498754,
          -0.07007072192395129,
          -0.06737983356370705,
          -0.06636593629684652,
          0.14402623679451557,
          -0.000769206698165762,
          -0.04466183240081094,
          -0.07299600630961023,
          -0.07137212010696634,
          -0.07277877104258801,
          -0.04686466452150655,
          -0.031657920538349864,
          -0.050539562046713886,
          -0.06668742533910285,
          -0.06710081399198677,
          -0.0777782007835785,
          0.14087329669383547,
          -0.006148327050115346,
          -0.0457138133978012,
          -0.07184863538515736,
          -0.07631672879593225,
          -0.06990834224380654,
          -0.04479446130675431,
          -0.04431298491020189,
          -0.05532631608865455,
          -0.07261812129992429,
          -0.07590103818347683,
          -0.08352530156084428,
          0.12453210297952866,
          -0.008768884715462506,
          -0.05178630477635325,
          -0.07824349524115753,
          -0.07669343705356464,
          -0.07694581683711901,
          -0.04978020027633442,
          -0.047393695885275214,
          -0.05772783566270812,
          -0.0806683871981269,
          -0.07726481032235091,
          -0.07824282020605665,
          0.12920929992915964,
          -0.009080528868558656,
          -0.0593593416187741,
          -0.08042132656819234,
          -0.08165965075073817,
          -0.08114853796121207,
          -0.059123429405289016,
          -0.04722675070104897,
          -0.061507183753587845,
          -0.08855034073431839,
          -0.08610263713777104,
          -0.0908064173512669,
          0.1243090557468069,
          -0.012031569218321134,
          -0.060997032343003695,
          -0.08785084121799012,
          -0.07957703091793779,
          -0.0804187045463063,
          -0.0595016974642973,
          -0.05179815825095231,
          -0.06755478585271542,
          -0.08268753399254297,
          -0.08583344923929734,
          -0.08510441743413874,
          0.11750254203808536,
          -0.01963984397582949,
          -0.06050917610621732,
          -0.0878083079836875,
          -0.07806739653079141,
          -0.08360967306083912,
          -0.061092575351863306,
          -0.05378820266723756,
          -0.06441737817355575,
          -0.09107234559845247,
          -0.09029053217578818,
          -0.08516928768730135,
          0.11007347087532793,
          -0.022267135797308685,
          -0.07062579729860712,
          -0.09065700022797439,
          -0.09175088789777182,
          -0.09427521990119583,
          -0.06592988692315833,
          -0.06095256673297128,
          -0.06221293945769907,
          -0.09306727759545218,
          -0.09228129972299548,
          -0.09460202259169763,
          0.11865245051069905,
          -0.020050505137699185,
          -0.07291530267606304,
          -0.08938528541850452,
          -0.09354560522295224,
          -0.09384578182430887,
          -0.07171068364800663,
          -0.059087805747701685,
          -0.07216236218562004,
          -0.10476140671540035,
          -0.09862374655175256,
          -0.09669879702330446,
          0.10819455296411792,
          -0.024000957070984638,
          -0.07360809947988348,
          -0.10728957212551347,
          -0.10946329233184213,
          -0.09762445026840305,
          -0.0754107099452505,
          -0.06296766857369178,
          -0.07921667129299992,
          -0.10036357101835881,
          -0.10258538069211506,
          -0.09997202521369407,
          0.10944056036006405,
          -0.03458499078547302,
          -0.08066372197253764,
          -0.10427362881201738,
          -0.1074090094057334,
          -0.1006137469513297,
          -0.08407797065959374,
          -0.07164566630748812,
          -0.08203304488667511,
          -0.10197723826364324,
          -0.10951359019643447,
          -0.10371961351870868,
          0.10083666250886272,
          -0.03589236294788137,
          -0.08581135275893427,
          -0.10935619238111353,
          -0.10009595719015581,
          -0.10358388354810698,
          -0.08705566157226387,
          -0.068924810354001,
          -0.07912785377920517
         ]
        },
        {
         "fill": "tonexty",
         "fillcolor": "rgba(0, 114, 178, 0.2)",
         "line": {
          "color": "#0072B2",
          "width": 2
         },
         "mode": "lines",
         "name": "Predicted",
         "type": "scatter",
         "x": [
          "2012-04-30T00:00:00",
          "2012-05-31T00:00:00",
          "2012-06-30T00:00:00",
          "2012-07-31T00:00:00",
          "2012-08-31T00:00:00",
          "2012-09-30T00:00:00",
          "2012-10-31T00:00:00",
          "2012-11-30T00:00:00",
          "2012-12-31T00:00:00",
          "2013-01-31T00:00:00",
          "2013-02-28T00:00:00",
          "2013-03-31T00:00:00",
          "2013-04-30T00:00:00",
          "2013-05-31T00:00:00",
          "2013-06-30T00:00:00",
          "2013-07-31T00:00:00",
          "2013-08-31T00:00:00",
          "2013-09-30T00:00:00",
          "2013-10-31T00:00:00",
          "2013-11-30T00:00:00",
          "2013-12-31T00:00:00",
          "2014-01-31T00:00:00",
          "2014-02-28T00:00:00",
          "2014-03-31T00:00:00",
          "2014-04-30T00:00:00",
          "2014-05-31T00:00:00",
          "2014-06-30T00:00:00",
          "2014-07-31T00:00:00",
          "2014-08-31T00:00:00",
          "2014-09-30T00:00:00",
          "2014-10-31T00:00:00",
          "2014-11-30T00:00:00",
          "2014-12-31T00:00:00",
          "2015-01-31T00:00:00",
          "2015-02-28T00:00:00",
          "2015-03-31T00:00:00",
          "2015-04-30T00:00:00",
          "2015-05-31T00:00:00",
          "2015-06-30T00:00:00",
          "2015-07-31T00:00:00",
          "2015-08-31T00:00:00",
          "2015-09-30T00:00:00",
          "2015-10-31T00:00:00",
          "2015-11-30T00:00:00",
          "2015-12-31T00:00:00",
          "2016-01-31T00:00:00",
          "2016-02-29T00:00:00",
          "2016-03-31T00:00:00",
          "2016-04-30T00:00:00",
          "2016-05-31T00:00:00",
          "2016-06-30T00:00:00",
          "2016-07-31T00:00:00",
          "2016-08-31T00:00:00",
          "2016-09-30T00:00:00",
          "2016-10-31T00:00:00",
          "2016-11-30T00:00:00",
          "2016-12-31T00:00:00",
          "2017-01-31T00:00:00",
          "2017-02-28T00:00:00",
          "2017-03-31T00:00:00",
          "2017-04-30T00:00:00",
          "2017-05-31T00:00:00",
          "2017-06-30T00:00:00",
          "2017-07-31T00:00:00",
          "2017-08-31T00:00:00",
          "2017-09-30T00:00:00",
          "2017-10-31T00:00:00",
          "2017-11-30T00:00:00",
          "2017-12-31T00:00:00",
          "2018-01-31T00:00:00",
          "2018-02-28T00:00:00",
          "2018-03-31T00:00:00",
          "2018-04-30T00:00:00",
          "2018-05-31T00:00:00",
          "2018-06-30T00:00:00",
          "2018-07-31T00:00:00",
          "2018-08-31T00:00:00",
          "2018-09-30T00:00:00",
          "2018-10-31T00:00:00",
          "2018-11-30T00:00:00",
          "2018-12-31T00:00:00",
          "2019-01-31T00:00:00",
          "2019-02-28T00:00:00",
          "2019-03-31T00:00:00",
          "2019-04-30T00:00:00",
          "2019-05-31T00:00:00",
          "2019-06-30T00:00:00",
          "2019-07-31T00:00:00",
          "2019-08-31T00:00:00",
          "2019-09-30T00:00:00",
          "2019-10-31T00:00:00",
          "2019-11-30T00:00:00",
          "2019-12-31T00:00:00",
          "2020-01-31T00:00:00",
          "2020-02-29T00:00:00",
          "2020-03-31T00:00:00",
          "2020-04-30T00:00:00",
          "2020-05-31T00:00:00",
          "2020-06-30T00:00:00",
          "2020-07-31T00:00:00",
          "2020-08-31T00:00:00",
          "2020-09-30T00:00:00",
          "2020-10-31T00:00:00",
          "2020-11-30T00:00:00",
          "2020-12-31T00:00:00",
          "2021-01-31T00:00:00",
          "2021-02-28T00:00:00",
          "2021-03-31T00:00:00",
          "2021-04-30T00:00:00",
          "2021-05-31T00:00:00",
          "2021-06-30T00:00:00",
          "2021-07-31T00:00:00",
          "2021-08-31T00:00:00",
          "2021-09-30T00:00:00",
          "2021-10-31T00:00:00",
          "2021-11-30T00:00:00",
          "2021-12-31T00:00:00",
          "2022-01-31T00:00:00",
          "2022-02-28T00:00:00",
          "2022-03-31T00:00:00",
          "2022-04-30T00:00:00",
          "2022-05-31T00:00:00",
          "2022-06-30T00:00:00",
          "2022-07-31T00:00:00",
          "2022-08-31T00:00:00",
          "2022-09-30T00:00:00",
          "2022-10-31T00:00:00",
          "2022-11-30T00:00:00",
          "2022-12-31T00:00:00",
          "2023-01-31T00:00:00",
          "2023-02-28T00:00:00",
          "2023-03-31T00:00:00",
          "2023-04-30T00:00:00",
          "2023-05-31T00:00:00",
          "2023-06-30T00:00:00",
          "2023-07-31T00:00:00",
          "2023-08-31T00:00:00",
          "2023-09-30T00:00:00",
          "2023-10-31T00:00:00",
          "2023-11-30T00:00:00",
          "2023-12-31T00:00:00"
         ],
         "y": [
          0.22696711385024051,
          0.09027064055473302,
          0.04186781715062758,
          0.01768063472804287,
          0.017057235652815354,
          0.01730145023205329,
          0.04095437131882993,
          0.05474074725536758,
          0.04230845217457565,
          0.015578065383928946,
          0.01631457627449253,
          0.01595472721402618,
          0.22223986339388313,
          0.08589073912013862,
          0.038068759284350176,
          0.014136197096676732,
          0.014031428089020984,
          0.01402769933762571,
          0.038234829835243796,
          0.049563455844062215,
          0.037954153849881433,
          0.011991683673929499,
          0.012475157568825404,
          0.013958758716741914,
          0.21740088906792338,
          0.08151867476040792,
          0.034299976106702115,
          0.010623802665135969,
          0.011020895922430413,
          0.010754074456902088,
          0.03547673849108629,
          0.04435357649742473,
          0.03361577504173612,
          0.008432127638738372,
          0.008666021583216436,
          0.011980903168681698,
          0.21245084515059626,
          0.07715679737506478,
          0.03056232648316897,
          0.007143269126731064,
          0.00802458122903734,
          0.007479390702073159,
          0.03267900146085234,
          0.039112944564953935,
          0.029294807338449157,
          0.004899773663528548,
          0.00542101720838524,
          0.0032080910622311123,
          0.21220325488556827,
          0.07550678159392721,
          0.027103958193555364,
          0.002916775774850229,
          0.0022933767034769015,
          0.0025386296466318944,
          0.026192623709456686,
          0.03998003800991952,
          0.02754881594428847,
          0.0008195021687959492,
          0.0015569822343525427,
          0.001198206189035475,
          0.20748438075121708,
          0.07113632947254944,
          0.02331538801909723,
          -0.0006161011735090621,
          -0.0007197971905283096,
          -0.0007224875638734279,
          0.02348571592440552,
          0.034815380312583896,
          0.02320715131042833,
          -0.002754245873509198,
          -0.002269802824533887,
          -0.000785128688663931,
          0.20265804003798088,
          0.06677689871843137,
          0.019559238440171607,
          -0.0041158620000773145,
          -0.003717695741460053,
          -0.003983478818627956,
          0.02074025821803713,
          0.02961813461385829,
          0.018881406160667413,
          -0.006301168239852863,
          -0.006066305125126639,
          -0.002750350529747231,
          0.19772062984885524,
          0.06242765508323661,
          0.01583422258613105,
          -0.007583761762366539,
          -0.006701376652119163,
          -0.007245528781581547,
          0.01795515498794891,
          0.02439013648956394,
          0.014573072273810434,
          -0.009820888416528614,
          -0.009298641111899535,
          -0.011510494273476172,
          0.19748570792205228,
          0.060790307616916034,
          0.012388522590581598,
          -0.01179758684163602,
          -0.012419912926502949,
          -0.01217465997292215,
          0.011479334100673656,
          0.025266748411546476,
          0.012835526338250918,
          -0.013893787444925448,
          -0.01315630738631143,
          -0.013515083439272803,
          0.19277109111718432,
          0.05642303983260162,
          0.00860209837342711,
          -0.015329390825085672,
          -0.015433086840277409,
          -0.01543577721184555,
          0.008772426278251567,
          0.02010209067343267,
          0.008493861678481436,
          -0.017467535498228142,
          -0.016983092442724522,
          -0.015498418290665115,
          0.18794475045164274,
          0.052063609148272606,
          0.0048459488856741825,
          -0.018829151539052527,
          -0.01843098526493073,
          -0.018696768327077354,
          0.006026968726775293,
          0.014904845139228278,
          0.004168116703195177,
          -0.02101445768014428,
          -0.020779594555775622,
          -0.01746363994970812,
          0.18300734043923242,
          0.04771436568430492,
          0.001120933181898447,
          -0.02229705117206692,
          -0.021414666067280777,
          -0.021958818202874146,
          0.0032418655603134866,
          0.009676847055777477,
          -0.00014021716631010261
         ]
        },
        {
         "fill": "tonexty",
         "fillcolor": "rgba(0, 114, 178, 0.2)",
         "hoverinfo": "skip",
         "line": {
          "width": 0
         },
         "mode": "lines",
         "type": "scatter",
         "x": [
          "2012-04-30T00:00:00",
          "2012-05-31T00:00:00",
          "2012-06-30T00:00:00",
          "2012-07-31T00:00:00",
          "2012-08-31T00:00:00",
          "2012-09-30T00:00:00",
          "2012-10-31T00:00:00",
          "2012-11-30T00:00:00",
          "2012-12-31T00:00:00",
          "2013-01-31T00:00:00",
          "2013-02-28T00:00:00",
          "2013-03-31T00:00:00",
          "2013-04-30T00:00:00",
          "2013-05-31T00:00:00",
          "2013-06-30T00:00:00",
          "2013-07-31T00:00:00",
          "2013-08-31T00:00:00",
          "2013-09-30T00:00:00",
          "2013-10-31T00:00:00",
          "2013-11-30T00:00:00",
          "2013-12-31T00:00:00",
          "2014-01-31T00:00:00",
          "2014-02-28T00:00:00",
          "2014-03-31T00:00:00",
          "2014-04-30T00:00:00",
          "2014-05-31T00:00:00",
          "2014-06-30T00:00:00",
          "2014-07-31T00:00:00",
          "2014-08-31T00:00:00",
          "2014-09-30T00:00:00",
          "2014-10-31T00:00:00",
          "2014-11-30T00:00:00",
          "2014-12-31T00:00:00",
          "2015-01-31T00:00:00",
          "2015-02-28T00:00:00",
          "2015-03-31T00:00:00",
          "2015-04-30T00:00:00",
          "2015-05-31T00:00:00",
          "2015-06-30T00:00:00",
          "2015-07-31T00:00:00",
          "2015-08-31T00:00:00",
          "2015-09-30T00:00:00",
          "2015-10-31T00:00:00",
          "2015-11-30T00:00:00",
          "2015-12-31T00:00:00",
          "2016-01-31T00:00:00",
          "2016-02-29T00:00:00",
          "2016-03-31T00:00:00",
          "2016-04-30T00:00:00",
          "2016-05-31T00:00:00",
          "2016-06-30T00:00:00",
          "2016-07-31T00:00:00",
          "2016-08-31T00:00:00",
          "2016-09-30T00:00:00",
          "2016-10-31T00:00:00",
          "2016-11-30T00:00:00",
          "2016-12-31T00:00:00",
          "2017-01-31T00:00:00",
          "2017-02-28T00:00:00",
          "2017-03-31T00:00:00",
          "2017-04-30T00:00:00",
          "2017-05-31T00:00:00",
          "2017-06-30T00:00:00",
          "2017-07-31T00:00:00",
          "2017-08-31T00:00:00",
          "2017-09-30T00:00:00",
          "2017-10-31T00:00:00",
          "2017-11-30T00:00:00",
          "2017-12-31T00:00:00",
          "2018-01-31T00:00:00",
          "2018-02-28T00:00:00",
          "2018-03-31T00:00:00",
          "2018-04-30T00:00:00",
          "2018-05-31T00:00:00",
          "2018-06-30T00:00:00",
          "2018-07-31T00:00:00",
          "2018-08-31T00:00:00",
          "2018-09-30T00:00:00",
          "2018-10-31T00:00:00",
          "2018-11-30T00:00:00",
          "2018-12-31T00:00:00",
          "2019-01-31T00:00:00",
          "2019-02-28T00:00:00",
          "2019-03-31T00:00:00",
          "2019-04-30T00:00:00",
          "2019-05-31T00:00:00",
          "2019-06-30T00:00:00",
          "2019-07-31T00:00:00",
          "2019-08-31T00:00:00",
          "2019-09-30T00:00:00",
          "2019-10-31T00:00:00",
          "2019-11-30T00:00:00",
          "2019-12-31T00:00:00",
          "2020-01-31T00:00:00",
          "2020-02-29T00:00:00",
          "2020-03-31T00:00:00",
          "2020-04-30T00:00:00",
          "2020-05-31T00:00:00",
          "2020-06-30T00:00:00",
          "2020-07-31T00:00:00",
          "2020-08-31T00:00:00",
          "2020-09-30T00:00:00",
          "2020-10-31T00:00:00",
          "2020-11-30T00:00:00",
          "2020-12-31T00:00:00",
          "2021-01-31T00:00:00",
          "2021-02-28T00:00:00",
          "2021-03-31T00:00:00",
          "2021-04-30T00:00:00",
          "2021-05-31T00:00:00",
          "2021-06-30T00:00:00",
          "2021-07-31T00:00:00",
          "2021-08-31T00:00:00",
          "2021-09-30T00:00:00",
          "2021-10-31T00:00:00",
          "2021-11-30T00:00:00",
          "2021-12-31T00:00:00",
          "2022-01-31T00:00:00",
          "2022-02-28T00:00:00",
          "2022-03-31T00:00:00",
          "2022-04-30T00:00:00",
          "2022-05-31T00:00:00",
          "2022-06-30T00:00:00",
          "2022-07-31T00:00:00",
          "2022-08-31T00:00:00",
          "2022-09-30T00:00:00",
          "2022-10-31T00:00:00",
          "2022-11-30T00:00:00",
          "2022-12-31T00:00:00",
          "2023-01-31T00:00:00",
          "2023-02-28T00:00:00",
          "2023-03-31T00:00:00",
          "2023-04-30T00:00:00",
          "2023-05-31T00:00:00",
          "2023-06-30T00:00:00",
          "2023-07-31T00:00:00",
          "2023-08-31T00:00:00",
          "2023-09-30T00:00:00",
          "2023-10-31T00:00:00",
          "2023-11-30T00:00:00",
          "2023-12-31T00:00:00"
         ],
         "y": [
          0.31789641552977477,
          0.17488637474422325,
          0.12632314295961666,
          0.09774022165227665,
          0.10329274971938711,
          0.10696694235234634,
          0.11921965506533858,
          0.13183357559921005,
          0.12237152468709092,
          0.10266803977404097,
          0.09944514290901367,
          0.10245339102999605,
          0.3044636724520388,
          0.16598380840515597,
          0.13049204328327996,
          0.09017297225904908,
          0.09144948642762482,
          0.0960224897521974,
          0.12096004106507023,
          0.1295319071754955,
          0.12837732146667538,
          0.09652476876636178,
          0.09613379182744969,
          0.10025544439794837,
          0.3049400664628074,
          0.16635185763470905,
          0.12549452814599837,
          0.09940536603705268,
          0.09318549340462058,
          0.09759859335134906,
          0.11925138744815741,
          0.1297356948540127,
          0.11500167613703519,
          0.0911665858640629,
          0.09612896819675669,
          0.093176663489097,
          0.3004293430320743,
          0.16103752572187247,
          0.11546166492830785,
          0.08798381851014692,
          0.09055548207173038,
          0.09397247473159358,
          0.12325752755155346,
          0.11916193857239182,
          0.11848964105566664,
          0.08690797241454049,
          0.08932827793171112,
          0.08842325300770613,
          0.29557400482112434,
          0.16887233710856567,
          0.11374067692685942,
          0.08397242749234815,
          0.09093529222042795,
          0.08768010303605177,
          0.10963034834528838,
          0.12469326255640889,
          0.1129126903483094,
          0.08762228378959212,
          0.08473841564580492,
          0.08138195615392829,
          0.2954056552779997,
          0.15329628406628304,
          0.10624631920234705,
          0.08524998172448556,
          0.08588747755774384,
          0.09017431133426475,
          0.1063976659095149,
          0.12999877290486903,
          0.10460855932998679,
          0.08423294922314516,
          0.07997682649167884,
          0.08047890876227691,
          0.28650283081013667,
          0.14832134374305575,
          0.11100218559447728,
          0.08093877433886743,
          0.08137028059575813,
          0.08026433869184381,
          0.10684493117891534,
          0.11535672766956655,
          0.10325897189165144,
          0.07444215111117541,
          0.08015644909436445,
          0.0845776934473728,
          0.2780675599357627,
          0.14963390465431245,
          0.096895660453764,
          0.07825213447679058,
          0.07874610482879205,
          0.07600190149306213,
          0.10036031081378925,
          0.10918594891063343,
          0.09699582674601341,
          0.0779239220258501,
          0.07283910461411999,
          0.06560453616914008,
          0.2783959634812298,
          0.14962804678331762,
          0.10010868132472116,
          0.07689253077366635,
          0.07282884766064165,
          0.07122184750469433,
          0.10311658342328016,
          0.10533037012998532,
          0.09761641334395033,
          0.07640515528061513,
          0.07127962536613745,
          0.0703237375932726,
          0.27481390003204,
          0.13768265035416768,
          0.09211950454007221,
          0.06655807147185347,
          0.06453392067664088,
          0.06511988189514684,
          0.09063780752209977,
          0.10508664682066426,
          0.08871033654925675,
          0.06880353626811957,
          0.06675448232663915,
          0.06605768299148244,
          0.27709762625220113,
          0.13543927063907532,
          0.09189789310031383,
          0.06386493709713159,
          0.07354939951249641,
          0.06851610320685775,
          0.09123888715857124,
          0.09523757065240321,
          0.09022057486031572,
          0.06027176181355813,
          0.05763360595578802,
          0.07190402704209294,
          0.2636219457048386,
          0.13232888108838425,
          0.08274667878286389,
          0.06420681819372759,
          0.0620245322770932,
          0.06137213789139207,
          0.08633156433930803,
          0.09928555552501613,
          0.07928999744078699
         ]
        }
       ],
       "layout": {
        "height": 600,
        "showlegend": false,
        "template": {
         "data": {
          "bar": [
           {
            "error_x": {
             "color": "#2a3f5f"
            },
            "error_y": {
             "color": "#2a3f5f"
            },
            "marker": {
             "line": {
              "color": "#E5ECF6",
              "width": 0.5
             },
             "pattern": {
              "fillmode": "overlay",
              "size": 10,
              "solidity": 0.2
             }
            },
            "type": "bar"
           }
          ],
          "barpolar": [
           {
            "marker": {
             "line": {
              "color": "#E5ECF6",
              "width": 0.5
             },
             "pattern": {
              "fillmode": "overlay",
              "size": 10,
              "solidity": 0.2
             }
            },
            "type": "barpolar"
           }
          ],
          "carpet": [
           {
            "aaxis": {
             "endlinecolor": "#2a3f5f",
             "gridcolor": "white",
             "linecolor": "white",
             "minorgridcolor": "white",
             "startlinecolor": "#2a3f5f"
            },
            "baxis": {
             "endlinecolor": "#2a3f5f",
             "gridcolor": "white",
             "linecolor": "white",
             "minorgridcolor": "white",
             "startlinecolor": "#2a3f5f"
            },
            "type": "carpet"
           }
          ],
          "choropleth": [
           {
            "colorbar": {
             "outlinewidth": 0,
             "ticks": ""
            },
            "type": "choropleth"
           }
          ],
          "contour": [
           {
            "colorbar": {
             "outlinewidth": 0,
             "ticks": ""
            },
            "colorscale": [
             [
              0,
              "#0d0887"
             ],
             [
              0.1111111111111111,
              "#46039f"
             ],
             [
              0.2222222222222222,
              "#7201a8"
             ],
             [
              0.3333333333333333,
              "#9c179e"
             ],
             [
              0.4444444444444444,
              "#bd3786"
             ],
             [
              0.5555555555555556,
              "#d8576b"
             ],
             [
              0.6666666666666666,
              "#ed7953"
             ],
             [
              0.7777777777777778,
              "#fb9f3a"
             ],
             [
              0.8888888888888888,
              "#fdca26"
             ],
             [
              1,
              "#f0f921"
             ]
            ],
            "type": "contour"
           }
          ],
          "contourcarpet": [
           {
            "colorbar": {
             "outlinewidth": 0,
             "ticks": ""
            },
            "type": "contourcarpet"
           }
          ],
          "heatmap": [
           {
            "colorbar": {
             "outlinewidth": 0,
             "ticks": ""
            },
            "colorscale": [
             [
              0,
              "#0d0887"
             ],
             [
              0.1111111111111111,
              "#46039f"
             ],
             [
              0.2222222222222222,
              "#7201a8"
             ],
             [
              0.3333333333333333,
              "#9c179e"
             ],
             [
              0.4444444444444444,
              "#bd3786"
             ],
             [
              0.5555555555555556,
              "#d8576b"
             ],
             [
              0.6666666666666666,
              "#ed7953"
             ],
             [
              0.7777777777777778,
              "#fb9f3a"
             ],
             [
              0.8888888888888888,
              "#fdca26"
             ],
             [
              1,
              "#f0f921"
             ]
            ],
            "type": "heatmap"
           }
          ],
          "heatmapgl": [
           {
            "colorbar": {
             "outlinewidth": 0,
             "ticks": ""
            },
            "colorscale": [
             [
              0,
              "#0d0887"
             ],
             [
              0.1111111111111111,
              "#46039f"
             ],
             [
              0.2222222222222222,
              "#7201a8"
             ],
             [
              0.3333333333333333,
              "#9c179e"
             ],
             [
              0.4444444444444444,
              "#bd3786"
             ],
             [
              0.5555555555555556,
              "#d8576b"
             ],
             [
              0.6666666666666666,
              "#ed7953"
             ],
             [
              0.7777777777777778,
              "#fb9f3a"
             ],
             [
              0.8888888888888888,
              "#fdca26"
             ],
             [
              1,
              "#f0f921"
             ]
            ],
            "type": "heatmapgl"
           }
          ],
          "histogram": [
           {
            "marker": {
             "pattern": {
              "fillmode": "overlay",
              "size": 10,
              "solidity": 0.2
             }
            },
            "type": "histogram"
           }
          ],
          "histogram2d": [
           {
            "colorbar": {
             "outlinewidth": 0,
             "ticks": ""
            },
            "colorscale": [
             [
              0,
              "#0d0887"
             ],
             [
              0.1111111111111111,
              "#46039f"
             ],
             [
              0.2222222222222222,
              "#7201a8"
             ],
             [
              0.3333333333333333,
              "#9c179e"
             ],
             [
              0.4444444444444444,
              "#bd3786"
             ],
             [
              0.5555555555555556,
              "#d8576b"
             ],
             [
              0.6666666666666666,
              "#ed7953"
             ],
             [
              0.7777777777777778,
              "#fb9f3a"
             ],
             [
              0.8888888888888888,
              "#fdca26"
             ],
             [
              1,
              "#f0f921"
             ]
            ],
            "type": "histogram2d"
           }
          ],
          "histogram2dcontour": [
           {
            "colorbar": {
             "outlinewidth": 0,
             "ticks": ""
            },
            "colorscale": [
             [
              0,
              "#0d0887"
             ],
             [
              0.1111111111111111,
              "#46039f"
             ],
             [
              0.2222222222222222,
              "#7201a8"
             ],
             [
              0.3333333333333333,
              "#9c179e"
             ],
             [
              0.4444444444444444,
              "#bd3786"
             ],
             [
              0.5555555555555556,
              "#d8576b"
             ],
             [
              0.6666666666666666,
              "#ed7953"
             ],
             [
              0.7777777777777778,
              "#fb9f3a"
             ],
             [
              0.8888888888888888,
              "#fdca26"
             ],
             [
              1,
              "#f0f921"
             ]
            ],
            "type": "histogram2dcontour"
           }
          ],
          "mesh3d": [
           {
            "colorbar": {
             "outlinewidth": 0,
             "ticks": ""
            },
            "type": "mesh3d"
           }
          ],
          "parcoords": [
           {
            "line": {
             "colorbar": {
              "outlinewidth": 0,
              "ticks": ""
             }
            },
            "type": "parcoords"
           }
          ],
          "pie": [
           {
            "automargin": true,
            "type": "pie"
           }
          ],
          "scatter": [
           {
            "marker": {
             "colorbar": {
              "outlinewidth": 0,
              "ticks": ""
             }
            },
            "type": "scatter"
           }
          ],
          "scatter3d": [
           {
            "line": {
             "colorbar": {
              "outlinewidth": 0,
              "ticks": ""
             }
            },
            "marker": {
             "colorbar": {
              "outlinewidth": 0,
              "ticks": ""
             }
            },
            "type": "scatter3d"
           }
          ],
          "scattercarpet": [
           {
            "marker": {
             "colorbar": {
              "outlinewidth": 0,
              "ticks": ""
             }
            },
            "type": "scattercarpet"
           }
          ],
          "scattergeo": [
           {
            "marker": {
             "colorbar": {
              "outlinewidth": 0,
              "ticks": ""
             }
            },
            "type": "scattergeo"
           }
          ],
          "scattergl": [
           {
            "marker": {
             "colorbar": {
              "outlinewidth": 0,
              "ticks": ""
             }
            },
            "type": "scattergl"
           }
          ],
          "scattermapbox": [
           {
            "marker": {
             "colorbar": {
              "outlinewidth": 0,
              "ticks": ""
             }
            },
            "type": "scattermapbox"
           }
          ],
          "scatterpolar": [
           {
            "marker": {
             "colorbar": {
              "outlinewidth": 0,
              "ticks": ""
             }
            },
            "type": "scatterpolar"
           }
          ],
          "scatterpolargl": [
           {
            "marker": {
             "colorbar": {
              "outlinewidth": 0,
              "ticks": ""
             }
            },
            "type": "scatterpolargl"
           }
          ],
          "scatterternary": [
           {
            "marker": {
             "colorbar": {
              "outlinewidth": 0,
              "ticks": ""
             }
            },
            "type": "scatterternary"
           }
          ],
          "surface": [
           {
            "colorbar": {
             "outlinewidth": 0,
             "ticks": ""
            },
            "colorscale": [
             [
              0,
              "#0d0887"
             ],
             [
              0.1111111111111111,
              "#46039f"
             ],
             [
              0.2222222222222222,
              "#7201a8"
             ],
             [
              0.3333333333333333,
              "#9c179e"
             ],
             [
              0.4444444444444444,
              "#bd3786"
             ],
             [
              0.5555555555555556,
              "#d8576b"
             ],
             [
              0.6666666666666666,
              "#ed7953"
             ],
             [
              0.7777777777777778,
              "#fb9f3a"
             ],
             [
              0.8888888888888888,
              "#fdca26"
             ],
             [
              1,
              "#f0f921"
             ]
            ],
            "type": "surface"
           }
          ],
          "table": [
           {
            "cells": {
             "fill": {
              "color": "#EBF0F8"
             },
             "line": {
              "color": "white"
             }
            },
            "header": {
             "fill": {
              "color": "#C8D4E3"
             },
             "line": {
              "color": "white"
             }
            },
            "type": "table"
           }
          ]
         },
         "layout": {
          "annotationdefaults": {
           "arrowcolor": "#2a3f5f",
           "arrowhead": 0,
           "arrowwidth": 1
          },
          "autotypenumbers": "strict",
          "coloraxis": {
           "colorbar": {
            "outlinewidth": 0,
            "ticks": ""
           }
          },
          "colorscale": {
           "diverging": [
            [
             0,
             "#8e0152"
            ],
            [
             0.1,
             "#c51b7d"
            ],
            [
             0.2,
             "#de77ae"
            ],
            [
             0.3,
             "#f1b6da"
            ],
            [
             0.4,
             "#fde0ef"
            ],
            [
             0.5,
             "#f7f7f7"
            ],
            [
             0.6,
             "#e6f5d0"
            ],
            [
             0.7,
             "#b8e186"
            ],
            [
             0.8,
             "#7fbc41"
            ],
            [
             0.9,
             "#4d9221"
            ],
            [
             1,
             "#276419"
            ]
           ],
           "sequential": [
            [
             0,
             "#0d0887"
            ],
            [
             0.1111111111111111,
             "#46039f"
            ],
            [
             0.2222222222222222,
             "#7201a8"
            ],
            [
             0.3333333333333333,
             "#9c179e"
            ],
            [
             0.4444444444444444,
             "#bd3786"
            ],
            [
             0.5555555555555556,
             "#d8576b"
            ],
            [
             0.6666666666666666,
             "#ed7953"
            ],
            [
             0.7777777777777778,
             "#fb9f3a"
            ],
            [
             0.8888888888888888,
             "#fdca26"
            ],
            [
             1,
             "#f0f921"
            ]
           ],
           "sequentialminus": [
            [
             0,
             "#0d0887"
            ],
            [
             0.1111111111111111,
             "#46039f"
            ],
            [
             0.2222222222222222,
             "#7201a8"
            ],
            [
             0.3333333333333333,
             "#9c179e"
            ],
            [
             0.4444444444444444,
             "#bd3786"
            ],
            [
             0.5555555555555556,
             "#d8576b"
            ],
            [
             0.6666666666666666,
             "#ed7953"
            ],
            [
             0.7777777777777778,
             "#fb9f3a"
            ],
            [
             0.8888888888888888,
             "#fdca26"
            ],
            [
             1,
             "#f0f921"
            ]
           ]
          },
          "colorway": [
           "#636efa",
           "#EF553B",
           "#00cc96",
           "#ab63fa",
           "#FFA15A",
           "#19d3f3",
           "#FF6692",
           "#B6E880",
           "#FF97FF",
           "#FECB52"
          ],
          "font": {
           "color": "#2a3f5f"
          },
          "geo": {
           "bgcolor": "white",
           "lakecolor": "white",
           "landcolor": "#E5ECF6",
           "showlakes": true,
           "showland": true,
           "subunitcolor": "white"
          },
          "hoverlabel": {
           "align": "left"
          },
          "hovermode": "closest",
          "mapbox": {
           "style": "light"
          },
          "paper_bgcolor": "white",
          "plot_bgcolor": "#E5ECF6",
          "polar": {
           "angularaxis": {
            "gridcolor": "white",
            "linecolor": "white",
            "ticks": ""
           },
           "bgcolor": "#E5ECF6",
           "radialaxis": {
            "gridcolor": "white",
            "linecolor": "white",
            "ticks": ""
           }
          },
          "scene": {
           "xaxis": {
            "backgroundcolor": "#E5ECF6",
            "gridcolor": "white",
            "gridwidth": 2,
            "linecolor": "white",
            "showbackground": true,
            "ticks": "",
            "zerolinecolor": "white"
           },
           "yaxis": {
            "backgroundcolor": "#E5ECF6",
            "gridcolor": "white",
            "gridwidth": 2,
            "linecolor": "white",
            "showbackground": true,
            "ticks": "",
            "zerolinecolor": "white"
           },
           "zaxis": {
            "backgroundcolor": "#E5ECF6",
            "gridcolor": "white",
            "gridwidth": 2,
            "linecolor": "white",
            "showbackground": true,
            "ticks": "",
            "zerolinecolor": "white"
           }
          },
          "shapedefaults": {
           "line": {
            "color": "#2a3f5f"
           }
          },
          "ternary": {
           "aaxis": {
            "gridcolor": "white",
            "linecolor": "white",
            "ticks": ""
           },
           "baxis": {
            "gridcolor": "white",
            "linecolor": "white",
            "ticks": ""
           },
           "bgcolor": "#E5ECF6",
           "caxis": {
            "gridcolor": "white",
            "linecolor": "white",
            "ticks": ""
           }
          },
          "title": {
           "x": 0.05
          },
          "xaxis": {
           "automargin": true,
           "gridcolor": "white",
           "linecolor": "white",
           "ticks": "",
           "title": {
            "standoff": 15
           },
           "zerolinecolor": "white",
           "zerolinewidth": 2
          },
          "yaxis": {
           "automargin": true,
           "gridcolor": "white",
           "linecolor": "white",
           "ticks": "",
           "title": {
            "standoff": 15
           },
           "zerolinecolor": "white",
           "zerolinewidth": 2
          }
         }
        },
        "width": 900,
        "xaxis": {
         "rangeselector": {
          "buttons": [
           {
            "count": 7,
            "label": "1w",
            "step": "day",
            "stepmode": "backward"
           },
           {
            "count": 1,
            "label": "1m",
            "step": "month",
            "stepmode": "backward"
           },
           {
            "count": 6,
            "label": "6m",
            "step": "month",
            "stepmode": "backward"
           },
           {
            "count": 1,
            "label": "1y",
            "step": "year",
            "stepmode": "backward"
           },
           {
            "step": "all"
           }
          ]
         },
         "rangeslider": {
          "visible": true
         },
         "title": {
          "text": "ds"
         },
         "type": "date"
        },
        "yaxis": {
         "title": {
          "text": "y"
         }
        }
       }
      },
      "text/html": [
       "<div>                            <div id=\"42234d9d-5838-42b7-ad2a-aad544ef7a92\" class=\"plotly-graph-div\" style=\"height:600px; width:900px;\"></div>            <script type=\"text/javascript\">                require([\"plotly\"], function(Plotly) {                    window.PLOTLYENV=window.PLOTLYENV || {};                                    if (document.getElementById(\"42234d9d-5838-42b7-ad2a-aad544ef7a92\")) {                    Plotly.newPlot(                        \"42234d9d-5838-42b7-ad2a-aad544ef7a92\",                        [{\"marker\":{\"color\":\"black\",\"size\":4},\"mode\":\"markers\",\"name\":\"Actual\",\"x\":[\"2012-04-30T00:00:00\",\"2012-05-31T00:00:00\",\"2012-06-30T00:00:00\",\"2012-07-31T00:00:00\",\"2012-08-31T00:00:00\",\"2012-09-30T00:00:00\",\"2012-10-31T00:00:00\",\"2012-11-30T00:00:00\",\"2012-12-31T00:00:00\",\"2013-01-31T00:00:00\",\"2013-02-28T00:00:00\",\"2013-03-31T00:00:00\",\"2013-04-30T00:00:00\",\"2013-05-31T00:00:00\",\"2013-06-30T00:00:00\",\"2013-07-31T00:00:00\",\"2013-08-31T00:00:00\",\"2013-09-30T00:00:00\",\"2013-10-31T00:00:00\",\"2013-11-30T00:00:00\",\"2013-12-31T00:00:00\",\"2014-01-31T00:00:00\",\"2014-02-28T00:00:00\",\"2014-03-31T00:00:00\",\"2014-04-30T00:00:00\",\"2014-05-31T00:00:00\",\"2014-06-30T00:00:00\",\"2014-07-31T00:00:00\",\"2014-08-31T00:00:00\",\"2014-09-30T00:00:00\",\"2014-10-31T00:00:00\",\"2014-11-30T00:00:00\",\"2014-12-31T00:00:00\",\"2015-01-31T00:00:00\",\"2015-02-28T00:00:00\",\"2015-03-31T00:00:00\",\"2015-04-30T00:00:00\",\"2015-05-31T00:00:00\",\"2015-06-30T00:00:00\",\"2015-07-31T00:00:00\",\"2015-08-31T00:00:00\",\"2015-09-30T00:00:00\",\"2015-10-31T00:00:00\",\"2015-11-30T00:00:00\",\"2015-12-31T00:00:00\",\"2016-01-31T00:00:00\",\"2016-02-29T00:00:00\",\"2016-03-31T00:00:00\",\"2016-04-30T00:00:00\",\"2016-05-31T00:00:00\",\"2016-06-30T00:00:00\",\"2016-07-31T00:00:00\",\"2016-08-31T00:00:00\",\"2016-09-30T00:00:00\",\"2016-10-31T00:00:00\",\"2016-11-30T00:00:00\",\"2016-12-31T00:00:00\",\"2017-01-31T00:00:00\",\"2017-02-28T00:00:00\",\"2017-03-31T00:00:00\",\"2017-04-30T00:00:00\",\"2017-05-31T00:00:00\",\"2017-06-30T00:00:00\",\"2017-07-31T00:00:00\",\"2017-08-31T00:00:00\",\"2017-09-30T00:00:00\",\"2017-10-31T00:00:00\",\"2017-11-30T00:00:00\",\"2017-12-31T00:00:00\",\"2018-01-31T00:00:00\",\"2018-02-28T00:00:00\",\"2018-03-31T00:00:00\",\"2018-04-30T00:00:00\",\"2018-05-31T00:00:00\",\"2018-06-30T00:00:00\",\"2018-07-31T00:00:00\",\"2018-08-31T00:00:00\",\"2018-09-30T00:00:00\",\"2018-10-31T00:00:00\",\"2018-11-30T00:00:00\",\"2018-12-31T00:00:00\",\"2019-01-31T00:00:00\",\"2019-02-28T00:00:00\",\"2019-03-31T00:00:00\",\"2019-04-30T00:00:00\",\"2019-05-31T00:00:00\",\"2019-06-30T00:00:00\",\"2019-07-31T00:00:00\",\"2019-08-31T00:00:00\",\"2019-09-30T00:00:00\",\"2019-10-31T00:00:00\",\"2019-11-30T00:00:00\",\"2019-12-31T00:00:00\",\"2020-01-31T00:00:00\",\"2020-02-29T00:00:00\",\"2020-03-31T00:00:00\",\"2020-04-30T00:00:00\",\"2020-05-31T00:00:00\",\"2020-06-30T00:00:00\",\"2020-07-31T00:00:00\",\"2020-08-31T00:00:00\",\"2020-09-30T00:00:00\",\"2020-10-31T00:00:00\",\"2020-11-30T00:00:00\",\"2020-12-31T00:00:00\",\"2021-01-31T00:00:00\",\"2021-02-28T00:00:00\",\"2021-03-31T00:00:00\",\"2021-04-30T00:00:00\",\"2021-05-31T00:00:00\",\"2021-06-30T00:00:00\",\"2021-07-31T00:00:00\",\"2021-08-31T00:00:00\",\"2021-09-30T00:00:00\",\"2021-10-31T00:00:00\",\"2021-11-30T00:00:00\",\"2021-12-31T00:00:00\"],\"y\":[0.24089651682733831,0.0,0.0,0.0,0.0,0.0,0.0,0.3494258934691536,0.0,0.0,0.0,0.0,0.29196286919115033,0.240737694961797,0.0,0.0,0.0,0.0,0.0,0.0,0.0,0.0,0.0,0.0,0.2610252443041267,0.2412768980600098,0.0,0.0,0.0,0.0,0.2405402616465196,0.0,0.0,0.0,0.0,0.0,0.0,0.0,0.0,0.0,0.0,0.0,0.0,0.0,0.0,0.0,0.0,0.0,0.240444469924992,0.0,0.0,0.0,0.0,0.0,0.0,0.0,0.0,0.0,0.0,0.0,0.26816000656269534,0.240775907998106,0.0,0.0,0.0,0.0,0.0,0.0,0.0,0.0,0.0,0.0,0.2940266721782359,0.0,0.2404441356465793,0.0,0.0,0.0,0.0,0.0,0.0,0.0,0.0,0.0,0.0,0.0,0.0,0.0,0.0,0.0,0.0,0.0,0.0,0.0,0.0,0.0,0.2406217339628352,0.0,0.0,0.0,0.0,0.0,0.0,0.0,0.0,0.0,0.0,0.0,0.2408958482705129,0.0,0.0,0.0,0.0,0.0,0.0,0.0,0.2413530207751872],\"type\":\"scatter\"},{\"hoverinfo\":\"skip\",\"line\":{\"width\":0},\"mode\":\"lines\",\"x\":[\"2012-04-30T00:00:00\",\"2012-05-31T00:00:00\",\"2012-06-30T00:00:00\",\"2012-07-31T00:00:00\",\"2012-08-31T00:00:00\",\"2012-09-30T00:00:00\",\"2012-10-31T00:00:00\",\"2012-11-30T00:00:00\",\"2012-12-31T00:00:00\",\"2013-01-31T00:00:00\",\"2013-02-28T00:00:00\",\"2013-03-31T00:00:00\",\"2013-04-30T00:00:00\",\"2013-05-31T00:00:00\",\"2013-06-30T00:00:00\",\"2013-07-31T00:00:00\",\"2013-08-31T00:00:00\",\"2013-09-30T00:00:00\",\"2013-10-31T00:00:00\",\"2013-11-30T00:00:00\",\"2013-12-31T00:00:00\",\"2014-01-31T00:00:00\",\"2014-02-28T00:00:00\",\"2014-03-31T00:00:00\",\"2014-04-30T00:00:00\",\"2014-05-31T00:00:00\",\"2014-06-30T00:00:00\",\"2014-07-31T00:00:00\",\"2014-08-31T00:00:00\",\"2014-09-30T00:00:00\",\"2014-10-31T00:00:00\",\"2014-11-30T00:00:00\",\"2014-12-31T00:00:00\",\"2015-01-31T00:00:00\",\"2015-02-28T00:00:00\",\"2015-03-31T00:00:00\",\"2015-04-30T00:00:00\",\"2015-05-31T00:00:00\",\"2015-06-30T00:00:00\",\"2015-07-31T00:00:00\",\"2015-08-31T00:00:00\",\"2015-09-30T00:00:00\",\"2015-10-31T00:00:00\",\"2015-11-30T00:00:00\",\"2015-12-31T00:00:00\",\"2016-01-31T00:00:00\",\"2016-02-29T00:00:00\",\"2016-03-31T00:00:00\",\"2016-04-30T00:00:00\",\"2016-05-31T00:00:00\",\"2016-06-30T00:00:00\",\"2016-07-31T00:00:00\",\"2016-08-31T00:00:00\",\"2016-09-30T00:00:00\",\"2016-10-31T00:00:00\",\"2016-11-30T00:00:00\",\"2016-12-31T00:00:00\",\"2017-01-31T00:00:00\",\"2017-02-28T00:00:00\",\"2017-03-31T00:00:00\",\"2017-04-30T00:00:00\",\"2017-05-31T00:00:00\",\"2017-06-30T00:00:00\",\"2017-07-31T00:00:00\",\"2017-08-31T00:00:00\",\"2017-09-30T00:00:00\",\"2017-10-31T00:00:00\",\"2017-11-30T00:00:00\",\"2017-12-31T00:00:00\",\"2018-01-31T00:00:00\",\"2018-02-28T00:00:00\",\"2018-03-31T00:00:00\",\"2018-04-30T00:00:00\",\"2018-05-31T00:00:00\",\"2018-06-30T00:00:00\",\"2018-07-31T00:00:00\",\"2018-08-31T00:00:00\",\"2018-09-30T00:00:00\",\"2018-10-31T00:00:00\",\"2018-11-30T00:00:00\",\"2018-12-31T00:00:00\",\"2019-01-31T00:00:00\",\"2019-02-28T00:00:00\",\"2019-03-31T00:00:00\",\"2019-04-30T00:00:00\",\"2019-05-31T00:00:00\",\"2019-06-30T00:00:00\",\"2019-07-31T00:00:00\",\"2019-08-31T00:00:00\",\"2019-09-30T00:00:00\",\"2019-10-31T00:00:00\",\"2019-11-30T00:00:00\",\"2019-12-31T00:00:00\",\"2020-01-31T00:00:00\",\"2020-02-29T00:00:00\",\"2020-03-31T00:00:00\",\"2020-04-30T00:00:00\",\"2020-05-31T00:00:00\",\"2020-06-30T00:00:00\",\"2020-07-31T00:00:00\",\"2020-08-31T00:00:00\",\"2020-09-30T00:00:00\",\"2020-10-31T00:00:00\",\"2020-11-30T00:00:00\",\"2020-12-31T00:00:00\",\"2021-01-31T00:00:00\",\"2021-02-28T00:00:00\",\"2021-03-31T00:00:00\",\"2021-04-30T00:00:00\",\"2021-05-31T00:00:00\",\"2021-06-30T00:00:00\",\"2021-07-31T00:00:00\",\"2021-08-31T00:00:00\",\"2021-09-30T00:00:00\",\"2021-10-31T00:00:00\",\"2021-11-30T00:00:00\",\"2021-12-31T00:00:00\",\"2022-01-31T00:00:00\",\"2022-02-28T00:00:00\",\"2022-03-31T00:00:00\",\"2022-04-30T00:00:00\",\"2022-05-31T00:00:00\",\"2022-06-30T00:00:00\",\"2022-07-31T00:00:00\",\"2022-08-31T00:00:00\",\"2022-09-30T00:00:00\",\"2022-10-31T00:00:00\",\"2022-11-30T00:00:00\",\"2022-12-31T00:00:00\",\"2023-01-31T00:00:00\",\"2023-02-28T00:00:00\",\"2023-03-31T00:00:00\",\"2023-04-30T00:00:00\",\"2023-05-31T00:00:00\",\"2023-06-30T00:00:00\",\"2023-07-31T00:00:00\",\"2023-08-31T00:00:00\",\"2023-09-30T00:00:00\",\"2023-10-31T00:00:00\",\"2023-11-30T00:00:00\",\"2023-12-31T00:00:00\"],\"y\":[0.14026357807509995,0.009950592210203696,-0.04884473389835972,-0.07028123335410642,-0.06396439959052762,-0.06598972601183704,-0.03997642323696728,-0.03566703295688643,-0.043929207094498754,-0.07007072192395129,-0.06737983356370705,-0.06636593629684652,0.14402623679451557,-0.000769206698165762,-0.04466183240081094,-0.07299600630961023,-0.07137212010696634,-0.07277877104258801,-0.04686466452150655,-0.031657920538349864,-0.050539562046713886,-0.06668742533910285,-0.06710081399198677,-0.0777782007835785,0.14087329669383547,-0.006148327050115346,-0.0457138133978012,-0.07184863538515736,-0.07631672879593225,-0.06990834224380654,-0.04479446130675431,-0.04431298491020189,-0.05532631608865455,-0.07261812129992429,-0.07590103818347683,-0.08352530156084428,0.12453210297952866,-0.008768884715462506,-0.05178630477635325,-0.07824349524115753,-0.07669343705356464,-0.07694581683711901,-0.04978020027633442,-0.047393695885275214,-0.05772783566270812,-0.0806683871981269,-0.07726481032235091,-0.07824282020605665,0.12920929992915964,-0.009080528868558656,-0.0593593416187741,-0.08042132656819234,-0.08165965075073817,-0.08114853796121207,-0.059123429405289016,-0.04722675070104897,-0.061507183753587845,-0.08855034073431839,-0.08610263713777104,-0.0908064173512669,0.1243090557468069,-0.012031569218321134,-0.060997032343003695,-0.08785084121799012,-0.07957703091793779,-0.0804187045463063,-0.0595016974642973,-0.05179815825095231,-0.06755478585271542,-0.08268753399254297,-0.08583344923929734,-0.08510441743413874,0.11750254203808536,-0.01963984397582949,-0.06050917610621732,-0.0878083079836875,-0.07806739653079141,-0.08360967306083912,-0.061092575351863306,-0.05378820266723756,-0.06441737817355575,-0.09107234559845247,-0.09029053217578818,-0.08516928768730135,0.11007347087532793,-0.022267135797308685,-0.07062579729860712,-0.09065700022797439,-0.09175088789777182,-0.09427521990119583,-0.06592988692315833,-0.06095256673297128,-0.06221293945769907,-0.09306727759545218,-0.09228129972299548,-0.09460202259169763,0.11865245051069905,-0.020050505137699185,-0.07291530267606304,-0.08938528541850452,-0.09354560522295224,-0.09384578182430887,-0.07171068364800663,-0.059087805747701685,-0.07216236218562004,-0.10476140671540035,-0.09862374655175256,-0.09669879702330446,0.10819455296411792,-0.024000957070984638,-0.07360809947988348,-0.10728957212551347,-0.10946329233184213,-0.09762445026840305,-0.0754107099452505,-0.06296766857369178,-0.07921667129299992,-0.10036357101835881,-0.10258538069211506,-0.09997202521369407,0.10944056036006405,-0.03458499078547302,-0.08066372197253764,-0.10427362881201738,-0.1074090094057334,-0.1006137469513297,-0.08407797065959374,-0.07164566630748812,-0.08203304488667511,-0.10197723826364324,-0.10951359019643447,-0.10371961351870868,0.10083666250886272,-0.03589236294788137,-0.08581135275893427,-0.10935619238111353,-0.10009595719015581,-0.10358388354810698,-0.08705566157226387,-0.068924810354001,-0.07912785377920517],\"type\":\"scatter\"},{\"fill\":\"tonexty\",\"fillcolor\":\"rgba(0, 114, 178, 0.2)\",\"line\":{\"color\":\"#0072B2\",\"width\":2},\"mode\":\"lines\",\"name\":\"Predicted\",\"x\":[\"2012-04-30T00:00:00\",\"2012-05-31T00:00:00\",\"2012-06-30T00:00:00\",\"2012-07-31T00:00:00\",\"2012-08-31T00:00:00\",\"2012-09-30T00:00:00\",\"2012-10-31T00:00:00\",\"2012-11-30T00:00:00\",\"2012-12-31T00:00:00\",\"2013-01-31T00:00:00\",\"2013-02-28T00:00:00\",\"2013-03-31T00:00:00\",\"2013-04-30T00:00:00\",\"2013-05-31T00:00:00\",\"2013-06-30T00:00:00\",\"2013-07-31T00:00:00\",\"2013-08-31T00:00:00\",\"2013-09-30T00:00:00\",\"2013-10-31T00:00:00\",\"2013-11-30T00:00:00\",\"2013-12-31T00:00:00\",\"2014-01-31T00:00:00\",\"2014-02-28T00:00:00\",\"2014-03-31T00:00:00\",\"2014-04-30T00:00:00\",\"2014-05-31T00:00:00\",\"2014-06-30T00:00:00\",\"2014-07-31T00:00:00\",\"2014-08-31T00:00:00\",\"2014-09-30T00:00:00\",\"2014-10-31T00:00:00\",\"2014-11-30T00:00:00\",\"2014-12-31T00:00:00\",\"2015-01-31T00:00:00\",\"2015-02-28T00:00:00\",\"2015-03-31T00:00:00\",\"2015-04-30T00:00:00\",\"2015-05-31T00:00:00\",\"2015-06-30T00:00:00\",\"2015-07-31T00:00:00\",\"2015-08-31T00:00:00\",\"2015-09-30T00:00:00\",\"2015-10-31T00:00:00\",\"2015-11-30T00:00:00\",\"2015-12-31T00:00:00\",\"2016-01-31T00:00:00\",\"2016-02-29T00:00:00\",\"2016-03-31T00:00:00\",\"2016-04-30T00:00:00\",\"2016-05-31T00:00:00\",\"2016-06-30T00:00:00\",\"2016-07-31T00:00:00\",\"2016-08-31T00:00:00\",\"2016-09-30T00:00:00\",\"2016-10-31T00:00:00\",\"2016-11-30T00:00:00\",\"2016-12-31T00:00:00\",\"2017-01-31T00:00:00\",\"2017-02-28T00:00:00\",\"2017-03-31T00:00:00\",\"2017-04-30T00:00:00\",\"2017-05-31T00:00:00\",\"2017-06-30T00:00:00\",\"2017-07-31T00:00:00\",\"2017-08-31T00:00:00\",\"2017-09-30T00:00:00\",\"2017-10-31T00:00:00\",\"2017-11-30T00:00:00\",\"2017-12-31T00:00:00\",\"2018-01-31T00:00:00\",\"2018-02-28T00:00:00\",\"2018-03-31T00:00:00\",\"2018-04-30T00:00:00\",\"2018-05-31T00:00:00\",\"2018-06-30T00:00:00\",\"2018-07-31T00:00:00\",\"2018-08-31T00:00:00\",\"2018-09-30T00:00:00\",\"2018-10-31T00:00:00\",\"2018-11-30T00:00:00\",\"2018-12-31T00:00:00\",\"2019-01-31T00:00:00\",\"2019-02-28T00:00:00\",\"2019-03-31T00:00:00\",\"2019-04-30T00:00:00\",\"2019-05-31T00:00:00\",\"2019-06-30T00:00:00\",\"2019-07-31T00:00:00\",\"2019-08-31T00:00:00\",\"2019-09-30T00:00:00\",\"2019-10-31T00:00:00\",\"2019-11-30T00:00:00\",\"2019-12-31T00:00:00\",\"2020-01-31T00:00:00\",\"2020-02-29T00:00:00\",\"2020-03-31T00:00:00\",\"2020-04-30T00:00:00\",\"2020-05-31T00:00:00\",\"2020-06-30T00:00:00\",\"2020-07-31T00:00:00\",\"2020-08-31T00:00:00\",\"2020-09-30T00:00:00\",\"2020-10-31T00:00:00\",\"2020-11-30T00:00:00\",\"2020-12-31T00:00:00\",\"2021-01-31T00:00:00\",\"2021-02-28T00:00:00\",\"2021-03-31T00:00:00\",\"2021-04-30T00:00:00\",\"2021-05-31T00:00:00\",\"2021-06-30T00:00:00\",\"2021-07-31T00:00:00\",\"2021-08-31T00:00:00\",\"2021-09-30T00:00:00\",\"2021-10-31T00:00:00\",\"2021-11-30T00:00:00\",\"2021-12-31T00:00:00\",\"2022-01-31T00:00:00\",\"2022-02-28T00:00:00\",\"2022-03-31T00:00:00\",\"2022-04-30T00:00:00\",\"2022-05-31T00:00:00\",\"2022-06-30T00:00:00\",\"2022-07-31T00:00:00\",\"2022-08-31T00:00:00\",\"2022-09-30T00:00:00\",\"2022-10-31T00:00:00\",\"2022-11-30T00:00:00\",\"2022-12-31T00:00:00\",\"2023-01-31T00:00:00\",\"2023-02-28T00:00:00\",\"2023-03-31T00:00:00\",\"2023-04-30T00:00:00\",\"2023-05-31T00:00:00\",\"2023-06-30T00:00:00\",\"2023-07-31T00:00:00\",\"2023-08-31T00:00:00\",\"2023-09-30T00:00:00\",\"2023-10-31T00:00:00\",\"2023-11-30T00:00:00\",\"2023-12-31T00:00:00\"],\"y\":[0.22696711385024051,0.09027064055473302,0.04186781715062758,0.01768063472804287,0.017057235652815354,0.01730145023205329,0.04095437131882993,0.05474074725536758,0.04230845217457565,0.015578065383928946,0.01631457627449253,0.01595472721402618,0.22223986339388313,0.08589073912013862,0.038068759284350176,0.014136197096676732,0.014031428089020984,0.01402769933762571,0.038234829835243796,0.049563455844062215,0.037954153849881433,0.011991683673929499,0.012475157568825404,0.013958758716741914,0.21740088906792338,0.08151867476040792,0.034299976106702115,0.010623802665135969,0.011020895922430413,0.010754074456902088,0.03547673849108629,0.04435357649742473,0.03361577504173612,0.008432127638738372,0.008666021583216436,0.011980903168681698,0.21245084515059626,0.07715679737506478,0.03056232648316897,0.007143269126731064,0.00802458122903734,0.007479390702073159,0.03267900146085234,0.039112944564953935,0.029294807338449157,0.004899773663528548,0.00542101720838524,0.0032080910622311123,0.21220325488556827,0.07550678159392721,0.027103958193555364,0.002916775774850229,0.0022933767034769015,0.0025386296466318944,0.026192623709456686,0.03998003800991952,0.02754881594428847,0.0008195021687959492,0.0015569822343525427,0.001198206189035475,0.20748438075121708,0.07113632947254944,0.02331538801909723,-0.0006161011735090621,-0.0007197971905283096,-0.0007224875638734279,0.02348571592440552,0.034815380312583896,0.02320715131042833,-0.002754245873509198,-0.002269802824533887,-0.000785128688663931,0.20265804003798088,0.06677689871843137,0.019559238440171607,-0.0041158620000773145,-0.003717695741460053,-0.003983478818627956,0.02074025821803713,0.02961813461385829,0.018881406160667413,-0.006301168239852863,-0.006066305125126639,-0.002750350529747231,0.19772062984885524,0.06242765508323661,0.01583422258613105,-0.007583761762366539,-0.006701376652119163,-0.007245528781581547,0.01795515498794891,0.02439013648956394,0.014573072273810434,-0.009820888416528614,-0.009298641111899535,-0.011510494273476172,0.19748570792205228,0.060790307616916034,0.012388522590581598,-0.01179758684163602,-0.012419912926502949,-0.01217465997292215,0.011479334100673656,0.025266748411546476,0.012835526338250918,-0.013893787444925448,-0.01315630738631143,-0.013515083439272803,0.19277109111718432,0.05642303983260162,0.00860209837342711,-0.015329390825085672,-0.015433086840277409,-0.01543577721184555,0.008772426278251567,0.02010209067343267,0.008493861678481436,-0.017467535498228142,-0.016983092442724522,-0.015498418290665115,0.18794475045164274,0.052063609148272606,0.0048459488856741825,-0.018829151539052527,-0.01843098526493073,-0.018696768327077354,0.006026968726775293,0.014904845139228278,0.004168116703195177,-0.02101445768014428,-0.020779594555775622,-0.01746363994970812,0.18300734043923242,0.04771436568430492,0.001120933181898447,-0.02229705117206692,-0.021414666067280777,-0.021958818202874146,0.0032418655603134866,0.009676847055777477,-0.00014021716631010261],\"type\":\"scatter\"},{\"fill\":\"tonexty\",\"fillcolor\":\"rgba(0, 114, 178, 0.2)\",\"hoverinfo\":\"skip\",\"line\":{\"width\":0},\"mode\":\"lines\",\"x\":[\"2012-04-30T00:00:00\",\"2012-05-31T00:00:00\",\"2012-06-30T00:00:00\",\"2012-07-31T00:00:00\",\"2012-08-31T00:00:00\",\"2012-09-30T00:00:00\",\"2012-10-31T00:00:00\",\"2012-11-30T00:00:00\",\"2012-12-31T00:00:00\",\"2013-01-31T00:00:00\",\"2013-02-28T00:00:00\",\"2013-03-31T00:00:00\",\"2013-04-30T00:00:00\",\"2013-05-31T00:00:00\",\"2013-06-30T00:00:00\",\"2013-07-31T00:00:00\",\"2013-08-31T00:00:00\",\"2013-09-30T00:00:00\",\"2013-10-31T00:00:00\",\"2013-11-30T00:00:00\",\"2013-12-31T00:00:00\",\"2014-01-31T00:00:00\",\"2014-02-28T00:00:00\",\"2014-03-31T00:00:00\",\"2014-04-30T00:00:00\",\"2014-05-31T00:00:00\",\"2014-06-30T00:00:00\",\"2014-07-31T00:00:00\",\"2014-08-31T00:00:00\",\"2014-09-30T00:00:00\",\"2014-10-31T00:00:00\",\"2014-11-30T00:00:00\",\"2014-12-31T00:00:00\",\"2015-01-31T00:00:00\",\"2015-02-28T00:00:00\",\"2015-03-31T00:00:00\",\"2015-04-30T00:00:00\",\"2015-05-31T00:00:00\",\"2015-06-30T00:00:00\",\"2015-07-31T00:00:00\",\"2015-08-31T00:00:00\",\"2015-09-30T00:00:00\",\"2015-10-31T00:00:00\",\"2015-11-30T00:00:00\",\"2015-12-31T00:00:00\",\"2016-01-31T00:00:00\",\"2016-02-29T00:00:00\",\"2016-03-31T00:00:00\",\"2016-04-30T00:00:00\",\"2016-05-31T00:00:00\",\"2016-06-30T00:00:00\",\"2016-07-31T00:00:00\",\"2016-08-31T00:00:00\",\"2016-09-30T00:00:00\",\"2016-10-31T00:00:00\",\"2016-11-30T00:00:00\",\"2016-12-31T00:00:00\",\"2017-01-31T00:00:00\",\"2017-02-28T00:00:00\",\"2017-03-31T00:00:00\",\"2017-04-30T00:00:00\",\"2017-05-31T00:00:00\",\"2017-06-30T00:00:00\",\"2017-07-31T00:00:00\",\"2017-08-31T00:00:00\",\"2017-09-30T00:00:00\",\"2017-10-31T00:00:00\",\"2017-11-30T00:00:00\",\"2017-12-31T00:00:00\",\"2018-01-31T00:00:00\",\"2018-02-28T00:00:00\",\"2018-03-31T00:00:00\",\"2018-04-30T00:00:00\",\"2018-05-31T00:00:00\",\"2018-06-30T00:00:00\",\"2018-07-31T00:00:00\",\"2018-08-31T00:00:00\",\"2018-09-30T00:00:00\",\"2018-10-31T00:00:00\",\"2018-11-30T00:00:00\",\"2018-12-31T00:00:00\",\"2019-01-31T00:00:00\",\"2019-02-28T00:00:00\",\"2019-03-31T00:00:00\",\"2019-04-30T00:00:00\",\"2019-05-31T00:00:00\",\"2019-06-30T00:00:00\",\"2019-07-31T00:00:00\",\"2019-08-31T00:00:00\",\"2019-09-30T00:00:00\",\"2019-10-31T00:00:00\",\"2019-11-30T00:00:00\",\"2019-12-31T00:00:00\",\"2020-01-31T00:00:00\",\"2020-02-29T00:00:00\",\"2020-03-31T00:00:00\",\"2020-04-30T00:00:00\",\"2020-05-31T00:00:00\",\"2020-06-30T00:00:00\",\"2020-07-31T00:00:00\",\"2020-08-31T00:00:00\",\"2020-09-30T00:00:00\",\"2020-10-31T00:00:00\",\"2020-11-30T00:00:00\",\"2020-12-31T00:00:00\",\"2021-01-31T00:00:00\",\"2021-02-28T00:00:00\",\"2021-03-31T00:00:00\",\"2021-04-30T00:00:00\",\"2021-05-31T00:00:00\",\"2021-06-30T00:00:00\",\"2021-07-31T00:00:00\",\"2021-08-31T00:00:00\",\"2021-09-30T00:00:00\",\"2021-10-31T00:00:00\",\"2021-11-30T00:00:00\",\"2021-12-31T00:00:00\",\"2022-01-31T00:00:00\",\"2022-02-28T00:00:00\",\"2022-03-31T00:00:00\",\"2022-04-30T00:00:00\",\"2022-05-31T00:00:00\",\"2022-06-30T00:00:00\",\"2022-07-31T00:00:00\",\"2022-08-31T00:00:00\",\"2022-09-30T00:00:00\",\"2022-10-31T00:00:00\",\"2022-11-30T00:00:00\",\"2022-12-31T00:00:00\",\"2023-01-31T00:00:00\",\"2023-02-28T00:00:00\",\"2023-03-31T00:00:00\",\"2023-04-30T00:00:00\",\"2023-05-31T00:00:00\",\"2023-06-30T00:00:00\",\"2023-07-31T00:00:00\",\"2023-08-31T00:00:00\",\"2023-09-30T00:00:00\",\"2023-10-31T00:00:00\",\"2023-11-30T00:00:00\",\"2023-12-31T00:00:00\"],\"y\":[0.31789641552977477,0.17488637474422325,0.12632314295961666,0.09774022165227665,0.10329274971938711,0.10696694235234634,0.11921965506533858,0.13183357559921005,0.12237152468709092,0.10266803977404097,0.09944514290901367,0.10245339102999605,0.3044636724520388,0.16598380840515597,0.13049204328327996,0.09017297225904908,0.09144948642762482,0.0960224897521974,0.12096004106507023,0.1295319071754955,0.12837732146667538,0.09652476876636178,0.09613379182744969,0.10025544439794837,0.3049400664628074,0.16635185763470905,0.12549452814599837,0.09940536603705268,0.09318549340462058,0.09759859335134906,0.11925138744815741,0.1297356948540127,0.11500167613703519,0.0911665858640629,0.09612896819675669,0.093176663489097,0.3004293430320743,0.16103752572187247,0.11546166492830785,0.08798381851014692,0.09055548207173038,0.09397247473159358,0.12325752755155346,0.11916193857239182,0.11848964105566664,0.08690797241454049,0.08932827793171112,0.08842325300770613,0.29557400482112434,0.16887233710856567,0.11374067692685942,0.08397242749234815,0.09093529222042795,0.08768010303605177,0.10963034834528838,0.12469326255640889,0.1129126903483094,0.08762228378959212,0.08473841564580492,0.08138195615392829,0.2954056552779997,0.15329628406628304,0.10624631920234705,0.08524998172448556,0.08588747755774384,0.09017431133426475,0.1063976659095149,0.12999877290486903,0.10460855932998679,0.08423294922314516,0.07997682649167884,0.08047890876227691,0.28650283081013667,0.14832134374305575,0.11100218559447728,0.08093877433886743,0.08137028059575813,0.08026433869184381,0.10684493117891534,0.11535672766956655,0.10325897189165144,0.07444215111117541,0.08015644909436445,0.0845776934473728,0.2780675599357627,0.14963390465431245,0.096895660453764,0.07825213447679058,0.07874610482879205,0.07600190149306213,0.10036031081378925,0.10918594891063343,0.09699582674601341,0.0779239220258501,0.07283910461411999,0.06560453616914008,0.2783959634812298,0.14962804678331762,0.10010868132472116,0.07689253077366635,0.07282884766064165,0.07122184750469433,0.10311658342328016,0.10533037012998532,0.09761641334395033,0.07640515528061513,0.07127962536613745,0.0703237375932726,0.27481390003204,0.13768265035416768,0.09211950454007221,0.06655807147185347,0.06453392067664088,0.06511988189514684,0.09063780752209977,0.10508664682066426,0.08871033654925675,0.06880353626811957,0.06675448232663915,0.06605768299148244,0.27709762625220113,0.13543927063907532,0.09189789310031383,0.06386493709713159,0.07354939951249641,0.06851610320685775,0.09123888715857124,0.09523757065240321,0.09022057486031572,0.06027176181355813,0.05763360595578802,0.07190402704209294,0.2636219457048386,0.13232888108838425,0.08274667878286389,0.06420681819372759,0.0620245322770932,0.06137213789139207,0.08633156433930803,0.09928555552501613,0.07928999744078699],\"type\":\"scatter\"}],                        {\"height\":600,\"showlegend\":false,\"width\":900,\"xaxis\":{\"rangeselector\":{\"buttons\":[{\"count\":7,\"label\":\"1w\",\"step\":\"day\",\"stepmode\":\"backward\"},{\"count\":1,\"label\":\"1m\",\"step\":\"month\",\"stepmode\":\"backward\"},{\"count\":6,\"label\":\"6m\",\"step\":\"month\",\"stepmode\":\"backward\"},{\"count\":1,\"label\":\"1y\",\"step\":\"year\",\"stepmode\":\"backward\"},{\"step\":\"all\"}]},\"rangeslider\":{\"visible\":true},\"title\":{\"text\":\"ds\"},\"type\":\"date\"},\"yaxis\":{\"title\":{\"text\":\"y\"}},\"template\":{\"data\":{\"bar\":[{\"error_x\":{\"color\":\"#2a3f5f\"},\"error_y\":{\"color\":\"#2a3f5f\"},\"marker\":{\"line\":{\"color\":\"#E5ECF6\",\"width\":0.5},\"pattern\":{\"fillmode\":\"overlay\",\"size\":10,\"solidity\":0.2}},\"type\":\"bar\"}],\"barpolar\":[{\"marker\":{\"line\":{\"color\":\"#E5ECF6\",\"width\":0.5},\"pattern\":{\"fillmode\":\"overlay\",\"size\":10,\"solidity\":0.2}},\"type\":\"barpolar\"}],\"carpet\":[{\"aaxis\":{\"endlinecolor\":\"#2a3f5f\",\"gridcolor\":\"white\",\"linecolor\":\"white\",\"minorgridcolor\":\"white\",\"startlinecolor\":\"#2a3f5f\"},\"baxis\":{\"endlinecolor\":\"#2a3f5f\",\"gridcolor\":\"white\",\"linecolor\":\"white\",\"minorgridcolor\":\"white\",\"startlinecolor\":\"#2a3f5f\"},\"type\":\"carpet\"}],\"choropleth\":[{\"colorbar\":{\"outlinewidth\":0,\"ticks\":\"\"},\"type\":\"choropleth\"}],\"contour\":[{\"colorbar\":{\"outlinewidth\":0,\"ticks\":\"\"},\"colorscale\":[[0.0,\"#0d0887\"],[0.1111111111111111,\"#46039f\"],[0.2222222222222222,\"#7201a8\"],[0.3333333333333333,\"#9c179e\"],[0.4444444444444444,\"#bd3786\"],[0.5555555555555556,\"#d8576b\"],[0.6666666666666666,\"#ed7953\"],[0.7777777777777778,\"#fb9f3a\"],[0.8888888888888888,\"#fdca26\"],[1.0,\"#f0f921\"]],\"type\":\"contour\"}],\"contourcarpet\":[{\"colorbar\":{\"outlinewidth\":0,\"ticks\":\"\"},\"type\":\"contourcarpet\"}],\"heatmap\":[{\"colorbar\":{\"outlinewidth\":0,\"ticks\":\"\"},\"colorscale\":[[0.0,\"#0d0887\"],[0.1111111111111111,\"#46039f\"],[0.2222222222222222,\"#7201a8\"],[0.3333333333333333,\"#9c179e\"],[0.4444444444444444,\"#bd3786\"],[0.5555555555555556,\"#d8576b\"],[0.6666666666666666,\"#ed7953\"],[0.7777777777777778,\"#fb9f3a\"],[0.8888888888888888,\"#fdca26\"],[1.0,\"#f0f921\"]],\"type\":\"heatmap\"}],\"heatmapgl\":[{\"colorbar\":{\"outlinewidth\":0,\"ticks\":\"\"},\"colorscale\":[[0.0,\"#0d0887\"],[0.1111111111111111,\"#46039f\"],[0.2222222222222222,\"#7201a8\"],[0.3333333333333333,\"#9c179e\"],[0.4444444444444444,\"#bd3786\"],[0.5555555555555556,\"#d8576b\"],[0.6666666666666666,\"#ed7953\"],[0.7777777777777778,\"#fb9f3a\"],[0.8888888888888888,\"#fdca26\"],[1.0,\"#f0f921\"]],\"type\":\"heatmapgl\"}],\"histogram\":[{\"marker\":{\"pattern\":{\"fillmode\":\"overlay\",\"size\":10,\"solidity\":0.2}},\"type\":\"histogram\"}],\"histogram2d\":[{\"colorbar\":{\"outlinewidth\":0,\"ticks\":\"\"},\"colorscale\":[[0.0,\"#0d0887\"],[0.1111111111111111,\"#46039f\"],[0.2222222222222222,\"#7201a8\"],[0.3333333333333333,\"#9c179e\"],[0.4444444444444444,\"#bd3786\"],[0.5555555555555556,\"#d8576b\"],[0.6666666666666666,\"#ed7953\"],[0.7777777777777778,\"#fb9f3a\"],[0.8888888888888888,\"#fdca26\"],[1.0,\"#f0f921\"]],\"type\":\"histogram2d\"}],\"histogram2dcontour\":[{\"colorbar\":{\"outlinewidth\":0,\"ticks\":\"\"},\"colorscale\":[[0.0,\"#0d0887\"],[0.1111111111111111,\"#46039f\"],[0.2222222222222222,\"#7201a8\"],[0.3333333333333333,\"#9c179e\"],[0.4444444444444444,\"#bd3786\"],[0.5555555555555556,\"#d8576b\"],[0.6666666666666666,\"#ed7953\"],[0.7777777777777778,\"#fb9f3a\"],[0.8888888888888888,\"#fdca26\"],[1.0,\"#f0f921\"]],\"type\":\"histogram2dcontour\"}],\"mesh3d\":[{\"colorbar\":{\"outlinewidth\":0,\"ticks\":\"\"},\"type\":\"mesh3d\"}],\"parcoords\":[{\"line\":{\"colorbar\":{\"outlinewidth\":0,\"ticks\":\"\"}},\"type\":\"parcoords\"}],\"pie\":[{\"automargin\":true,\"type\":\"pie\"}],\"scatter\":[{\"marker\":{\"colorbar\":{\"outlinewidth\":0,\"ticks\":\"\"}},\"type\":\"scatter\"}],\"scatter3d\":[{\"line\":{\"colorbar\":{\"outlinewidth\":0,\"ticks\":\"\"}},\"marker\":{\"colorbar\":{\"outlinewidth\":0,\"ticks\":\"\"}},\"type\":\"scatter3d\"}],\"scattercarpet\":[{\"marker\":{\"colorbar\":{\"outlinewidth\":0,\"ticks\":\"\"}},\"type\":\"scattercarpet\"}],\"scattergeo\":[{\"marker\":{\"colorbar\":{\"outlinewidth\":0,\"ticks\":\"\"}},\"type\":\"scattergeo\"}],\"scattergl\":[{\"marker\":{\"colorbar\":{\"outlinewidth\":0,\"ticks\":\"\"}},\"type\":\"scattergl\"}],\"scattermapbox\":[{\"marker\":{\"colorbar\":{\"outlinewidth\":0,\"ticks\":\"\"}},\"type\":\"scattermapbox\"}],\"scatterpolar\":[{\"marker\":{\"colorbar\":{\"outlinewidth\":0,\"ticks\":\"\"}},\"type\":\"scatterpolar\"}],\"scatterpolargl\":[{\"marker\":{\"colorbar\":{\"outlinewidth\":0,\"ticks\":\"\"}},\"type\":\"scatterpolargl\"}],\"scatterternary\":[{\"marker\":{\"colorbar\":{\"outlinewidth\":0,\"ticks\":\"\"}},\"type\":\"scatterternary\"}],\"surface\":[{\"colorbar\":{\"outlinewidth\":0,\"ticks\":\"\"},\"colorscale\":[[0.0,\"#0d0887\"],[0.1111111111111111,\"#46039f\"],[0.2222222222222222,\"#7201a8\"],[0.3333333333333333,\"#9c179e\"],[0.4444444444444444,\"#bd3786\"],[0.5555555555555556,\"#d8576b\"],[0.6666666666666666,\"#ed7953\"],[0.7777777777777778,\"#fb9f3a\"],[0.8888888888888888,\"#fdca26\"],[1.0,\"#f0f921\"]],\"type\":\"surface\"}],\"table\":[{\"cells\":{\"fill\":{\"color\":\"#EBF0F8\"},\"line\":{\"color\":\"white\"}},\"header\":{\"fill\":{\"color\":\"#C8D4E3\"},\"line\":{\"color\":\"white\"}},\"type\":\"table\"}]},\"layout\":{\"annotationdefaults\":{\"arrowcolor\":\"#2a3f5f\",\"arrowhead\":0,\"arrowwidth\":1},\"autotypenumbers\":\"strict\",\"coloraxis\":{\"colorbar\":{\"outlinewidth\":0,\"ticks\":\"\"}},\"colorscale\":{\"diverging\":[[0,\"#8e0152\"],[0.1,\"#c51b7d\"],[0.2,\"#de77ae\"],[0.3,\"#f1b6da\"],[0.4,\"#fde0ef\"],[0.5,\"#f7f7f7\"],[0.6,\"#e6f5d0\"],[0.7,\"#b8e186\"],[0.8,\"#7fbc41\"],[0.9,\"#4d9221\"],[1,\"#276419\"]],\"sequential\":[[0.0,\"#0d0887\"],[0.1111111111111111,\"#46039f\"],[0.2222222222222222,\"#7201a8\"],[0.3333333333333333,\"#9c179e\"],[0.4444444444444444,\"#bd3786\"],[0.5555555555555556,\"#d8576b\"],[0.6666666666666666,\"#ed7953\"],[0.7777777777777778,\"#fb9f3a\"],[0.8888888888888888,\"#fdca26\"],[1.0,\"#f0f921\"]],\"sequentialminus\":[[0.0,\"#0d0887\"],[0.1111111111111111,\"#46039f\"],[0.2222222222222222,\"#7201a8\"],[0.3333333333333333,\"#9c179e\"],[0.4444444444444444,\"#bd3786\"],[0.5555555555555556,\"#d8576b\"],[0.6666666666666666,\"#ed7953\"],[0.7777777777777778,\"#fb9f3a\"],[0.8888888888888888,\"#fdca26\"],[1.0,\"#f0f921\"]]},\"colorway\":[\"#636efa\",\"#EF553B\",\"#00cc96\",\"#ab63fa\",\"#FFA15A\",\"#19d3f3\",\"#FF6692\",\"#B6E880\",\"#FF97FF\",\"#FECB52\"],\"font\":{\"color\":\"#2a3f5f\"},\"geo\":{\"bgcolor\":\"white\",\"lakecolor\":\"white\",\"landcolor\":\"#E5ECF6\",\"showlakes\":true,\"showland\":true,\"subunitcolor\":\"white\"},\"hoverlabel\":{\"align\":\"left\"},\"hovermode\":\"closest\",\"mapbox\":{\"style\":\"light\"},\"paper_bgcolor\":\"white\",\"plot_bgcolor\":\"#E5ECF6\",\"polar\":{\"angularaxis\":{\"gridcolor\":\"white\",\"linecolor\":\"white\",\"ticks\":\"\"},\"bgcolor\":\"#E5ECF6\",\"radialaxis\":{\"gridcolor\":\"white\",\"linecolor\":\"white\",\"ticks\":\"\"}},\"scene\":{\"xaxis\":{\"backgroundcolor\":\"#E5ECF6\",\"gridcolor\":\"white\",\"gridwidth\":2,\"linecolor\":\"white\",\"showbackground\":true,\"ticks\":\"\",\"zerolinecolor\":\"white\"},\"yaxis\":{\"backgroundcolor\":\"#E5ECF6\",\"gridcolor\":\"white\",\"gridwidth\":2,\"linecolor\":\"white\",\"showbackground\":true,\"ticks\":\"\",\"zerolinecolor\":\"white\"},\"zaxis\":{\"backgroundcolor\":\"#E5ECF6\",\"gridcolor\":\"white\",\"gridwidth\":2,\"linecolor\":\"white\",\"showbackground\":true,\"ticks\":\"\",\"zerolinecolor\":\"white\"}},\"shapedefaults\":{\"line\":{\"color\":\"#2a3f5f\"}},\"ternary\":{\"aaxis\":{\"gridcolor\":\"white\",\"linecolor\":\"white\",\"ticks\":\"\"},\"baxis\":{\"gridcolor\":\"white\",\"linecolor\":\"white\",\"ticks\":\"\"},\"bgcolor\":\"#E5ECF6\",\"caxis\":{\"gridcolor\":\"white\",\"linecolor\":\"white\",\"ticks\":\"\"}},\"title\":{\"x\":0.05},\"xaxis\":{\"automargin\":true,\"gridcolor\":\"white\",\"linecolor\":\"white\",\"ticks\":\"\",\"title\":{\"standoff\":15},\"zerolinecolor\":\"white\",\"zerolinewidth\":2},\"yaxis\":{\"automargin\":true,\"gridcolor\":\"white\",\"linecolor\":\"white\",\"ticks\":\"\",\"title\":{\"standoff\":15},\"zerolinecolor\":\"white\",\"zerolinewidth\":2}}}},                        {\"responsive\": true}                    ).then(function(){\n",
       "                            \n",
       "var gd = document.getElementById('42234d9d-5838-42b7-ad2a-aad544ef7a92');\n",
       "var x = new MutationObserver(function (mutations, observer) {{\n",
       "        var display = window.getComputedStyle(gd).display;\n",
       "        if (!display || display === 'none') {{\n",
       "            console.log([gd, 'removed!']);\n",
       "            Plotly.purge(gd);\n",
       "            observer.disconnect();\n",
       "        }}\n",
       "}});\n",
       "\n",
       "// Listen for the removal of the full notebook cells\n",
       "var notebookContainer = gd.closest('#notebook-container');\n",
       "if (notebookContainer) {{\n",
       "    x.observe(notebookContainer, {childList: true});\n",
       "}}\n",
       "\n",
       "// Listen for the clearing of the current output cell\n",
       "var outputEl = gd.closest('.output');\n",
       "if (outputEl) {{\n",
       "    x.observe(outputEl, {childList: true});\n",
       "}}\n",
       "\n",
       "                        })                };                });            </script>        </div>"
      ]
     },
     "metadata": {},
     "output_type": "display_data"
    },
    {
     "data": {
      "application/vnd.plotly.v1+json": {
       "config": {
        "plotlyServerURL": "https://plot.ly"
       },
       "data": [
        {
         "line": {
          "color": "#0072B2",
          "width": 2
         },
         "mode": "lines",
         "name": "trend",
         "type": "scatter",
         "x": [
          "2012-04-30T00:00:00",
          "2012-05-31T00:00:00",
          "2012-06-30T00:00:00",
          "2012-07-31T00:00:00",
          "2012-08-31T00:00:00",
          "2012-09-30T00:00:00",
          "2012-10-31T00:00:00",
          "2012-11-30T00:00:00",
          "2012-12-31T00:00:00",
          "2013-01-31T00:00:00",
          "2013-02-28T00:00:00",
          "2013-03-31T00:00:00",
          "2013-04-30T00:00:00",
          "2013-05-31T00:00:00",
          "2013-06-30T00:00:00",
          "2013-07-31T00:00:00",
          "2013-08-31T00:00:00",
          "2013-09-30T00:00:00",
          "2013-10-31T00:00:00",
          "2013-11-30T00:00:00",
          "2013-12-31T00:00:00",
          "2014-01-31T00:00:00",
          "2014-02-28T00:00:00",
          "2014-03-31T00:00:00",
          "2014-04-30T00:00:00",
          "2014-05-31T00:00:00",
          "2014-06-30T00:00:00",
          "2014-07-31T00:00:00",
          "2014-08-31T00:00:00",
          "2014-09-30T00:00:00",
          "2014-10-31T00:00:00",
          "2014-11-30T00:00:00",
          "2014-12-31T00:00:00",
          "2015-01-31T00:00:00",
          "2015-02-28T00:00:00",
          "2015-03-31T00:00:00",
          "2015-04-30T00:00:00",
          "2015-05-31T00:00:00",
          "2015-06-30T00:00:00",
          "2015-07-31T00:00:00",
          "2015-08-31T00:00:00",
          "2015-09-30T00:00:00",
          "2015-10-31T00:00:00",
          "2015-11-30T00:00:00",
          "2015-12-31T00:00:00",
          "2016-01-31T00:00:00",
          "2016-02-29T00:00:00",
          "2016-03-31T00:00:00",
          "2016-04-30T00:00:00",
          "2016-05-31T00:00:00",
          "2016-06-30T00:00:00",
          "2016-07-31T00:00:00",
          "2016-08-31T00:00:00",
          "2016-09-30T00:00:00",
          "2016-10-31T00:00:00",
          "2016-11-30T00:00:00",
          "2016-12-31T00:00:00",
          "2017-01-31T00:00:00",
          "2017-02-28T00:00:00",
          "2017-03-31T00:00:00",
          "2017-04-30T00:00:00",
          "2017-05-31T00:00:00",
          "2017-06-30T00:00:00",
          "2017-07-31T00:00:00",
          "2017-08-31T00:00:00",
          "2017-09-30T00:00:00",
          "2017-10-31T00:00:00",
          "2017-11-30T00:00:00",
          "2017-12-31T00:00:00",
          "2018-01-31T00:00:00",
          "2018-02-28T00:00:00",
          "2018-03-31T00:00:00",
          "2018-04-30T00:00:00",
          "2018-05-31T00:00:00",
          "2018-06-30T00:00:00",
          "2018-07-31T00:00:00",
          "2018-08-31T00:00:00",
          "2018-09-30T00:00:00",
          "2018-10-31T00:00:00",
          "2018-11-30T00:00:00",
          "2018-12-31T00:00:00",
          "2019-01-31T00:00:00",
          "2019-02-28T00:00:00",
          "2019-03-31T00:00:00",
          "2019-04-30T00:00:00",
          "2019-05-31T00:00:00",
          "2019-06-30T00:00:00",
          "2019-07-31T00:00:00",
          "2019-08-31T00:00:00",
          "2019-09-30T00:00:00",
          "2019-10-31T00:00:00",
          "2019-11-30T00:00:00",
          "2019-12-31T00:00:00",
          "2020-01-31T00:00:00",
          "2020-02-29T00:00:00",
          "2020-03-31T00:00:00",
          "2020-04-30T00:00:00",
          "2020-05-31T00:00:00",
          "2020-06-30T00:00:00",
          "2020-07-31T00:00:00",
          "2020-08-31T00:00:00",
          "2020-09-30T00:00:00",
          "2020-10-31T00:00:00",
          "2020-11-30T00:00:00",
          "2020-12-31T00:00:00",
          "2021-01-31T00:00:00",
          "2021-02-28T00:00:00",
          "2021-03-31T00:00:00",
          "2021-04-30T00:00:00",
          "2021-05-31T00:00:00",
          "2021-06-30T00:00:00",
          "2021-07-31T00:00:00",
          "2021-08-31T00:00:00",
          "2021-09-30T00:00:00",
          "2021-10-31T00:00:00",
          "2021-11-30T00:00:00",
          "2021-12-31T00:00:00",
          "2022-01-31T00:00:00",
          "2022-02-28T00:00:00",
          "2022-03-31T00:00:00",
          "2022-04-30T00:00:00",
          "2022-05-31T00:00:00",
          "2022-06-30T00:00:00",
          "2022-07-31T00:00:00",
          "2022-08-31T00:00:00",
          "2022-09-30T00:00:00",
          "2022-10-31T00:00:00",
          "2022-11-30T00:00:00",
          "2022-12-31T00:00:00",
          "2023-01-31T00:00:00",
          "2023-02-28T00:00:00",
          "2023-03-31T00:00:00",
          "2023-04-30T00:00:00",
          "2023-05-31T00:00:00",
          "2023-06-30T00:00:00",
          "2023-07-31T00:00:00",
          "2023-08-31T00:00:00",
          "2023-09-30T00:00:00",
          "2023-10-31T00:00:00",
          "2023-11-30T00:00:00",
          "2023-12-31T00:00:00"
         ],
         "xaxis": "x",
         "y": [
          0.05163655865352041,
          0.05132329403232339,
          0.051020134721487566,
          0.05070687010029054,
          0.05039360547909352,
          0.050090446171690665,
          0.04977718155404104,
          0.04947402224663818,
          0.049160757608322364,
          0.048847492970006574,
          0.048564544264431,
          0.0482512796261152,
          0.04794812031644299,
          0.04763485569644836,
          0.047331696386776145,
          0.047018431766781506,
          0.04670516714347448,
          0.046402007830596705,
          0.046088743207289666,
          0.04578558388786803,
          0.045472319257798995,
          0.04515905462772997,
          0.04487610592960311,
          0.04456284129461972,
          0.04425968197044226,
          0.04394641733545888,
          0.04364325801128141,
          0.04332999336362021,
          0.043016728715959004,
          0.04271356937951267,
          0.04240030472902479,
          0.04209714538984296,
          0.04178388073935508,
          0.04147061608886719,
          0.04118766737144914,
          0.04087440272002201,
          0.040571243379931246,
          0.04025797872850412,
          0.03995481940594943,
          0.03964155477264292,
          0.039328290139336405,
          0.03902513081490646,
          0.03871186617966218,
          0.03840870685523223,
          0.03809544221998796,
          0.03778217760457211,
          0.03748912360950567,
          0.03717585899408982,
          0.036872699688848674,
          0.036559435071517425,
          0.036256275764422675,
          0.035943011147091426,
          0.03562974652976019,
          0.0353276255862735,
          0.0350154339446706,
          0.03471331300118392,
          0.03440112137802825,
          0.03408892975487258,
          0.03380695022428036,
          0.03349475860112469,
          0.03319263767378091,
          0.03288044604885901,
          0.032578325121515234,
          0.032266133496593324,
          0.03195394186393459,
          0.03165182092910356,
          0.03133962929644483,
          0.031037508356393167,
          0.030725316718339793,
          0.03041312508028641,
          0.03013114553623819,
          0.029818953889222018,
          0.029516832940496694,
          0.029204641293480525,
          0.028902520344755194,
          0.028590328698408798,
          0.028278137052062398,
          0.027976016103985236,
          0.027663824455977006,
          0.027361703506291624,
          0.02704951185828339,
          0.02673732021027516,
          0.026455340663102074,
          0.026143149021589016,
          0.025841028078189276,
          0.025528836436676215,
          0.025226715508904256,
          0.024914523883539902,
          0.02460233225817555,
          0.024300211331249887,
          0.02398801970676003,
          0.023685898779834364,
          0.02337370715534451,
          0.023061515524513885,
          0.022769465289220726,
          0.022457273658390103,
          0.022155152725328215,
          0.02184296109449759,
          0.021540840161435704,
          0.02122864853060508,
          0.020916456899774456,
          0.02061433596671257,
          0.020302144335881945,
          0.020000023402820057,
          0.019687831771989434,
          0.019375640141158813,
          0.01909366060363438,
          0.018781468972803764,
          0.01847934803974187,
          0.018167156408911245,
          0.017865035475849358,
          0.017552843845018734,
          0.017240652214188114,
          0.016938531281126223,
          0.016626339650295602,
          0.01632421871723371,
          0.01601202708640309,
          0.015699835455572467,
          0.015417855918048036,
          0.015105664287217413,
          0.014803543354155528,
          0.014491351723324906,
          0.014189230790263008,
          0.01387703915943239,
          0.013564847528601768,
          0.013262726595539879,
          0.012950534964709257,
          0.012648414031647364,
          0.01233622240081674,
          0.012024030769986128,
          0.011742051232461696,
          0.011429859601631074,
          0.011127738668569179,
          0.010815547037738557,
          0.010513426104676673,
          0.010201234473846051,
          0.009889042843015429,
          0.009586921909953534,
          0.009274730279122912,
          0.008972609346061023,
          0.008660417715230401
         ],
         "yaxis": "y"
        },
        {
         "line": {
          "color": "rgba(0, 114, 178, 0.2)",
          "width": 0
         },
         "mode": "lines",
         "name": "trend_upper",
         "type": "scatter",
         "x": [
          "2012-04-30T00:00:00",
          "2012-05-31T00:00:00",
          "2012-06-30T00:00:00",
          "2012-07-31T00:00:00",
          "2012-08-31T00:00:00",
          "2012-09-30T00:00:00",
          "2012-10-31T00:00:00",
          "2012-11-30T00:00:00",
          "2012-12-31T00:00:00",
          "2013-01-31T00:00:00",
          "2013-02-28T00:00:00",
          "2013-03-31T00:00:00",
          "2013-04-30T00:00:00",
          "2013-05-31T00:00:00",
          "2013-06-30T00:00:00",
          "2013-07-31T00:00:00",
          "2013-08-31T00:00:00",
          "2013-09-30T00:00:00",
          "2013-10-31T00:00:00",
          "2013-11-30T00:00:00",
          "2013-12-31T00:00:00",
          "2014-01-31T00:00:00",
          "2014-02-28T00:00:00",
          "2014-03-31T00:00:00",
          "2014-04-30T00:00:00",
          "2014-05-31T00:00:00",
          "2014-06-30T00:00:00",
          "2014-07-31T00:00:00",
          "2014-08-31T00:00:00",
          "2014-09-30T00:00:00",
          "2014-10-31T00:00:00",
          "2014-11-30T00:00:00",
          "2014-12-31T00:00:00",
          "2015-01-31T00:00:00",
          "2015-02-28T00:00:00",
          "2015-03-31T00:00:00",
          "2015-04-30T00:00:00",
          "2015-05-31T00:00:00",
          "2015-06-30T00:00:00",
          "2015-07-31T00:00:00",
          "2015-08-31T00:00:00",
          "2015-09-30T00:00:00",
          "2015-10-31T00:00:00",
          "2015-11-30T00:00:00",
          "2015-12-31T00:00:00",
          "2016-01-31T00:00:00",
          "2016-02-29T00:00:00",
          "2016-03-31T00:00:00",
          "2016-04-30T00:00:00",
          "2016-05-31T00:00:00",
          "2016-06-30T00:00:00",
          "2016-07-31T00:00:00",
          "2016-08-31T00:00:00",
          "2016-09-30T00:00:00",
          "2016-10-31T00:00:00",
          "2016-11-30T00:00:00",
          "2016-12-31T00:00:00",
          "2017-01-31T00:00:00",
          "2017-02-28T00:00:00",
          "2017-03-31T00:00:00",
          "2017-04-30T00:00:00",
          "2017-05-31T00:00:00",
          "2017-06-30T00:00:00",
          "2017-07-31T00:00:00",
          "2017-08-31T00:00:00",
          "2017-09-30T00:00:00",
          "2017-10-31T00:00:00",
          "2017-11-30T00:00:00",
          "2017-12-31T00:00:00",
          "2018-01-31T00:00:00",
          "2018-02-28T00:00:00",
          "2018-03-31T00:00:00",
          "2018-04-30T00:00:00",
          "2018-05-31T00:00:00",
          "2018-06-30T00:00:00",
          "2018-07-31T00:00:00",
          "2018-08-31T00:00:00",
          "2018-09-30T00:00:00",
          "2018-10-31T00:00:00",
          "2018-11-30T00:00:00",
          "2018-12-31T00:00:00",
          "2019-01-31T00:00:00",
          "2019-02-28T00:00:00",
          "2019-03-31T00:00:00",
          "2019-04-30T00:00:00",
          "2019-05-31T00:00:00",
          "2019-06-30T00:00:00",
          "2019-07-31T00:00:00",
          "2019-08-31T00:00:00",
          "2019-09-30T00:00:00",
          "2019-10-31T00:00:00",
          "2019-11-30T00:00:00",
          "2019-12-31T00:00:00",
          "2020-01-31T00:00:00",
          "2020-02-29T00:00:00",
          "2020-03-31T00:00:00",
          "2020-04-30T00:00:00",
          "2020-05-31T00:00:00",
          "2020-06-30T00:00:00",
          "2020-07-31T00:00:00",
          "2020-08-31T00:00:00",
          "2020-09-30T00:00:00",
          "2020-10-31T00:00:00",
          "2020-11-30T00:00:00",
          "2020-12-31T00:00:00",
          "2021-01-31T00:00:00",
          "2021-02-28T00:00:00",
          "2021-03-31T00:00:00",
          "2021-04-30T00:00:00",
          "2021-05-31T00:00:00",
          "2021-06-30T00:00:00",
          "2021-07-31T00:00:00",
          "2021-08-31T00:00:00",
          "2021-09-30T00:00:00",
          "2021-10-31T00:00:00",
          "2021-11-30T00:00:00",
          "2021-12-31T00:00:00",
          "2022-01-31T00:00:00",
          "2022-02-28T00:00:00",
          "2022-03-31T00:00:00",
          "2022-04-30T00:00:00",
          "2022-05-31T00:00:00",
          "2022-06-30T00:00:00",
          "2022-07-31T00:00:00",
          "2022-08-31T00:00:00",
          "2022-09-30T00:00:00",
          "2022-10-31T00:00:00",
          "2022-11-30T00:00:00",
          "2022-12-31T00:00:00",
          "2023-01-31T00:00:00",
          "2023-02-28T00:00:00",
          "2023-03-31T00:00:00",
          "2023-04-30T00:00:00",
          "2023-05-31T00:00:00",
          "2023-06-30T00:00:00",
          "2023-07-31T00:00:00",
          "2023-08-31T00:00:00",
          "2023-09-30T00:00:00",
          "2023-10-31T00:00:00",
          "2023-11-30T00:00:00",
          "2023-12-31T00:00:00"
         ],
         "xaxis": "x",
         "y": [
          0.05163655865352041,
          0.05132329403232339,
          0.051020134721487566,
          0.05070687010029054,
          0.05039360547909352,
          0.050090446171690665,
          0.04977718155404104,
          0.04947402224663818,
          0.049160757608322364,
          0.048847492970006574,
          0.048564544264431,
          0.0482512796261152,
          0.04794812031644299,
          0.04763485569644836,
          0.047331696386776145,
          0.047018431766781506,
          0.04670516714347448,
          0.046402007830596705,
          0.046088743207289666,
          0.04578558388786803,
          0.045472319257798995,
          0.04515905462772997,
          0.04487610592960311,
          0.04456284129461972,
          0.04425968197044226,
          0.04394641733545888,
          0.04364325801128141,
          0.04332999336362021,
          0.043016728715959004,
          0.04271356937951267,
          0.04240030472902479,
          0.04209714538984296,
          0.04178388073935508,
          0.04147061608886719,
          0.04118766737144914,
          0.04087440272002201,
          0.040571243379931246,
          0.04025797872850412,
          0.03995481940594943,
          0.03964155477264292,
          0.039328290139336405,
          0.03902513081490646,
          0.03871186617966218,
          0.03840870685523223,
          0.03809544221998796,
          0.03778217760457211,
          0.03748912360950567,
          0.03717585899408982,
          0.036872699688848674,
          0.036559435071517425,
          0.036256275764422675,
          0.035943011147091426,
          0.03562974652976019,
          0.0353276255862735,
          0.0350154339446706,
          0.03471331300118392,
          0.03440112137802825,
          0.03408892975487258,
          0.03380695022428036,
          0.03349475860112469,
          0.03319263767378091,
          0.03288044604885901,
          0.032578325121515234,
          0.032266133496593324,
          0.03195394186393459,
          0.03165182092910356,
          0.03133962929644483,
          0.031037508356393167,
          0.030725316718339793,
          0.03041312508028641,
          0.03013114553623819,
          0.029818953889222018,
          0.029516832940496694,
          0.029204641293480525,
          0.028902520344755194,
          0.028590328698408798,
          0.028278137052062398,
          0.027976016103985236,
          0.027663824455977006,
          0.027361703506291624,
          0.02704951185828339,
          0.02673732021027516,
          0.026455340663102074,
          0.026143149021589016,
          0.025841028078189276,
          0.025528836436676215,
          0.025226715508904256,
          0.024914523883539902,
          0.02460233225817555,
          0.024300211331249887,
          0.02398801970676003,
          0.023685898779834364,
          0.02337370715534451,
          0.023061515524513885,
          0.022769465289220726,
          0.022457273658390103,
          0.022155152725328215,
          0.02184296109449759,
          0.021540840161435704,
          0.02122864853060508,
          0.020916456899774456,
          0.02061433596671257,
          0.020302144335881945,
          0.020000023402820057,
          0.019687831771989434,
          0.019375640141158813,
          0.01909366060363438,
          0.018781468972803764,
          0.01847934803974187,
          0.018167156408911245,
          0.017865035475849358,
          0.017552843845018734,
          0.017240652214188114,
          0.016938531281126223,
          0.016626339650295602,
          0.01632421871723371,
          0.01601202708640309,
          0.01569983568292275,
          0.015417871022392289,
          0.015105709015385464,
          0.014803636640496613,
          0.014491499210601439,
          0.014189429669765392,
          0.013877305367746456,
          0.013565187371747419,
          0.01326313758511921,
          0.012951033165021041,
          0.012649006544240138,
          0.012336916932060831,
          0.012024823156190032,
          0.011742919615390257,
          0.011430854137091946,
          0.011128829020721393,
          0.010816754356279103,
          0.010514729642313987,
          0.010202642484051698,
          0.009890561985624421,
          0.009588572215900261,
          0.009276500160358556,
          0.008974512113037441,
          0.008662460473596376
         ],
         "yaxis": "y"
        },
        {
         "fill": "tonexty",
         "fillcolor": "rgba(0, 114, 178, 0.2)",
         "line": {
          "color": "rgba(0, 114, 178, 0.2)",
          "width": 0
         },
         "mode": "lines",
         "name": "trend_lower",
         "type": "scatter",
         "x": [
          "2012-04-30T00:00:00",
          "2012-05-31T00:00:00",
          "2012-06-30T00:00:00",
          "2012-07-31T00:00:00",
          "2012-08-31T00:00:00",
          "2012-09-30T00:00:00",
          "2012-10-31T00:00:00",
          "2012-11-30T00:00:00",
          "2012-12-31T00:00:00",
          "2013-01-31T00:00:00",
          "2013-02-28T00:00:00",
          "2013-03-31T00:00:00",
          "2013-04-30T00:00:00",
          "2013-05-31T00:00:00",
          "2013-06-30T00:00:00",
          "2013-07-31T00:00:00",
          "2013-08-31T00:00:00",
          "2013-09-30T00:00:00",
          "2013-10-31T00:00:00",
          "2013-11-30T00:00:00",
          "2013-12-31T00:00:00",
          "2014-01-31T00:00:00",
          "2014-02-28T00:00:00",
          "2014-03-31T00:00:00",
          "2014-04-30T00:00:00",
          "2014-05-31T00:00:00",
          "2014-06-30T00:00:00",
          "2014-07-31T00:00:00",
          "2014-08-31T00:00:00",
          "2014-09-30T00:00:00",
          "2014-10-31T00:00:00",
          "2014-11-30T00:00:00",
          "2014-12-31T00:00:00",
          "2015-01-31T00:00:00",
          "2015-02-28T00:00:00",
          "2015-03-31T00:00:00",
          "2015-04-30T00:00:00",
          "2015-05-31T00:00:00",
          "2015-06-30T00:00:00",
          "2015-07-31T00:00:00",
          "2015-08-31T00:00:00",
          "2015-09-30T00:00:00",
          "2015-10-31T00:00:00",
          "2015-11-30T00:00:00",
          "2015-12-31T00:00:00",
          "2016-01-31T00:00:00",
          "2016-02-29T00:00:00",
          "2016-03-31T00:00:00",
          "2016-04-30T00:00:00",
          "2016-05-31T00:00:00",
          "2016-06-30T00:00:00",
          "2016-07-31T00:00:00",
          "2016-08-31T00:00:00",
          "2016-09-30T00:00:00",
          "2016-10-31T00:00:00",
          "2016-11-30T00:00:00",
          "2016-12-31T00:00:00",
          "2017-01-31T00:00:00",
          "2017-02-28T00:00:00",
          "2017-03-31T00:00:00",
          "2017-04-30T00:00:00",
          "2017-05-31T00:00:00",
          "2017-06-30T00:00:00",
          "2017-07-31T00:00:00",
          "2017-08-31T00:00:00",
          "2017-09-30T00:00:00",
          "2017-10-31T00:00:00",
          "2017-11-30T00:00:00",
          "2017-12-31T00:00:00",
          "2018-01-31T00:00:00",
          "2018-02-28T00:00:00",
          "2018-03-31T00:00:00",
          "2018-04-30T00:00:00",
          "2018-05-31T00:00:00",
          "2018-06-30T00:00:00",
          "2018-07-31T00:00:00",
          "2018-08-31T00:00:00",
          "2018-09-30T00:00:00",
          "2018-10-31T00:00:00",
          "2018-11-30T00:00:00",
          "2018-12-31T00:00:00",
          "2019-01-31T00:00:00",
          "2019-02-28T00:00:00",
          "2019-03-31T00:00:00",
          "2019-04-30T00:00:00",
          "2019-05-31T00:00:00",
          "2019-06-30T00:00:00",
          "2019-07-31T00:00:00",
          "2019-08-31T00:00:00",
          "2019-09-30T00:00:00",
          "2019-10-31T00:00:00",
          "2019-11-30T00:00:00",
          "2019-12-31T00:00:00",
          "2020-01-31T00:00:00",
          "2020-02-29T00:00:00",
          "2020-03-31T00:00:00",
          "2020-04-30T00:00:00",
          "2020-05-31T00:00:00",
          "2020-06-30T00:00:00",
          "2020-07-31T00:00:00",
          "2020-08-31T00:00:00",
          "2020-09-30T00:00:00",
          "2020-10-31T00:00:00",
          "2020-11-30T00:00:00",
          "2020-12-31T00:00:00",
          "2021-01-31T00:00:00",
          "2021-02-28T00:00:00",
          "2021-03-31T00:00:00",
          "2021-04-30T00:00:00",
          "2021-05-31T00:00:00",
          "2021-06-30T00:00:00",
          "2021-07-31T00:00:00",
          "2021-08-31T00:00:00",
          "2021-09-30T00:00:00",
          "2021-10-31T00:00:00",
          "2021-11-30T00:00:00",
          "2021-12-31T00:00:00",
          "2022-01-31T00:00:00",
          "2022-02-28T00:00:00",
          "2022-03-31T00:00:00",
          "2022-04-30T00:00:00",
          "2022-05-31T00:00:00",
          "2022-06-30T00:00:00",
          "2022-07-31T00:00:00",
          "2022-08-31T00:00:00",
          "2022-09-30T00:00:00",
          "2022-10-31T00:00:00",
          "2022-11-30T00:00:00",
          "2022-12-31T00:00:00",
          "2023-01-31T00:00:00",
          "2023-02-28T00:00:00",
          "2023-03-31T00:00:00",
          "2023-04-30T00:00:00",
          "2023-05-31T00:00:00",
          "2023-06-30T00:00:00",
          "2023-07-31T00:00:00",
          "2023-08-31T00:00:00",
          "2023-09-30T00:00:00",
          "2023-10-31T00:00:00",
          "2023-11-30T00:00:00",
          "2023-12-31T00:00:00"
         ],
         "xaxis": "x",
         "y": [
          0.05163655865352041,
          0.05132329403232339,
          0.051020134721487566,
          0.05070687010029054,
          0.05039360547909352,
          0.050090446171690665,
          0.04977718155404104,
          0.04947402224663818,
          0.049160757608322364,
          0.048847492970006574,
          0.048564544264431,
          0.0482512796261152,
          0.04794812031644299,
          0.04763485569644836,
          0.047331696386776145,
          0.047018431766781506,
          0.04670516714347448,
          0.046402007830596705,
          0.046088743207289666,
          0.04578558388786803,
          0.045472319257798995,
          0.04515905462772997,
          0.04487610592960311,
          0.04456284129461972,
          0.04425968197044226,
          0.04394641733545888,
          0.04364325801128141,
          0.04332999336362021,
          0.043016728715959004,
          0.04271356937951267,
          0.04240030472902479,
          0.04209714538984296,
          0.04178388073935508,
          0.04147061608886719,
          0.04118766737144914,
          0.04087440272002201,
          0.040571243379931246,
          0.04025797872850412,
          0.03995481940594943,
          0.03964155477264292,
          0.039328290139336405,
          0.03902513081490646,
          0.03871186617966218,
          0.03840870685523223,
          0.03809544221998796,
          0.03778217760457211,
          0.03748912360950567,
          0.03717585899408982,
          0.036872699688848674,
          0.036559435071517425,
          0.036256275764422675,
          0.035943011147091426,
          0.03562974652976019,
          0.0353276255862735,
          0.0350154339446706,
          0.03471331300118392,
          0.03440112137802825,
          0.03408892975487258,
          0.03380695022428036,
          0.03349475860112469,
          0.03319263767378091,
          0.03288044604885901,
          0.032578325121515234,
          0.032266133496593324,
          0.03195394186393459,
          0.03165182092910356,
          0.03133962929644483,
          0.031037508356393167,
          0.030725316718339793,
          0.03041312508028641,
          0.03013114553623819,
          0.029818953889222018,
          0.029516832940496694,
          0.029204641293480525,
          0.028902520344755194,
          0.028590328698408798,
          0.028278137052062398,
          0.027976016103985236,
          0.027663824455977006,
          0.027361703506291624,
          0.02704951185828339,
          0.02673732021027516,
          0.026455340663102074,
          0.026143149021589016,
          0.025841028078189276,
          0.025528836436676215,
          0.025226715508904256,
          0.024914523883539902,
          0.02460233225817555,
          0.024300211331249887,
          0.02398801970676003,
          0.023685898779834364,
          0.02337370715534451,
          0.023061515524513885,
          0.022769465289220726,
          0.022457273658390103,
          0.022155152725328215,
          0.02184296109449759,
          0.021540840161435704,
          0.02122864853060508,
          0.020916456899774456,
          0.02061433596671257,
          0.020302144335881945,
          0.020000023402820057,
          0.019687831771989434,
          0.019375640141158813,
          0.01909366060363438,
          0.018781468972803764,
          0.01847934803974187,
          0.018167156408911245,
          0.017865035475849358,
          0.017552843845018734,
          0.017240652214188114,
          0.016938531281126223,
          0.016626339650295602,
          0.01632421871723371,
          0.01601202708640309,
          0.015699835455572467,
          0.015417835663157855,
          0.015105609422580555,
          0.014803442686723386,
          0.01449119343500885,
          0.014189020517182788,
          0.013876742903730104,
          0.013564462595713339,
          0.013262242476036822,
          0.0129499534153185,
          0.012647729381729774,
          0.012335440448566024,
          0.012023130866260043,
          0.011741040838494273,
          0.01142873663802186,
          0.011126517707286758,
          0.010814193688549047,
          0.010511949550517636,
          0.010199598559596863,
          0.009887254912045014,
          0.009584971092399426,
          0.009272584616531484,
          0.008970297292528276,
          0.008657955847185412
         ],
         "yaxis": "y"
        },
        {
         "line": {
          "color": "#0072B2",
          "width": 2
         },
         "mode": "lines",
         "name": "yearly",
         "type": "scatter",
         "x": [
          "2017-01-01T00:00:00",
          "2017-01-02T00:00:59.178082",
          "2017-01-03T00:01:58.356164",
          "2017-01-04T00:02:57.534246",
          "2017-01-05T00:03:56.712328",
          "2017-01-06T00:04:55.890411",
          "2017-01-07T00:05:55.068493",
          "2017-01-08T00:06:54.246575",
          "2017-01-09T00:07:53.424657",
          "2017-01-10T00:08:52.602739",
          "2017-01-11T00:09:51.780822",
          "2017-01-12T00:10:50.958904",
          "2017-01-13T00:11:50.136986",
          "2017-01-14T00:12:49.315068",
          "2017-01-15T00:13:48.493150",
          "2017-01-16T00:14:47.671232",
          "2017-01-17T00:15:46.849315",
          "2017-01-18T00:16:46.027397",
          "2017-01-19T00:17:45.205479",
          "2017-01-20T00:18:44.383561",
          "2017-01-21T00:19:43.561643",
          "2017-01-22T00:20:42.739726",
          "2017-01-23T00:21:41.917808",
          "2017-01-24T00:22:41.095890",
          "2017-01-25T00:23:40.273972",
          "2017-01-26T00:24:39.452054",
          "2017-01-27T00:25:38.630137",
          "2017-01-28T00:26:37.808219",
          "2017-01-29T00:27:36.986301",
          "2017-01-30T00:28:36.164383",
          "2017-01-31T00:29:35.342465",
          "2017-02-01T00:30:34.520547",
          "2017-02-02T00:31:33.698630",
          "2017-02-03T00:32:32.876712",
          "2017-02-04T00:33:32.054794",
          "2017-02-05T00:34:31.232876",
          "2017-02-06T00:35:30.410958",
          "2017-02-07T00:36:29.589041",
          "2017-02-08T00:37:28.767123",
          "2017-02-09T00:38:27.945205",
          "2017-02-10T00:39:27.123287",
          "2017-02-11T00:40:26.301369",
          "2017-02-12T00:41:25.479452",
          "2017-02-13T00:42:24.657534",
          "2017-02-14T00:43:23.835616",
          "2017-02-15T00:44:23.013698",
          "2017-02-16T00:45:22.191780",
          "2017-02-17T00:46:21.369862",
          "2017-02-18T00:47:20.547945",
          "2017-02-19T00:48:19.726027",
          "2017-02-20T00:49:18.904109",
          "2017-02-21T00:50:18.082191",
          "2017-02-22T00:51:17.260273",
          "2017-02-23T00:52:16.438356",
          "2017-02-24T00:53:15.616438",
          "2017-02-25T00:54:14.794520",
          "2017-02-26T00:55:13.972602",
          "2017-02-27T00:56:13.150684",
          "2017-02-28T00:57:12.328767",
          "2017-03-01T00:58:11.506849",
          "2017-03-02T00:59:10.684931",
          "2017-03-03T01:00:09.863013",
          "2017-03-04T01:01:09.041095",
          "2017-03-05T01:02:08.219177",
          "2017-03-06T01:03:07.397260",
          "2017-03-07T01:04:06.575342",
          "2017-03-08T01:05:05.753424",
          "2017-03-09T01:06:04.931506",
          "2017-03-10T01:07:04.109588",
          "2017-03-11T01:08:03.287671",
          "2017-03-12T01:09:02.465753",
          "2017-03-13T01:10:01.643835",
          "2017-03-14T01:11:00.821917",
          "2017-03-15T01:12:00",
          "2017-03-16T01:12:59.178082",
          "2017-03-17T01:13:58.356164",
          "2017-03-18T01:14:57.534246",
          "2017-03-19T01:15:56.712328",
          "2017-03-20T01:16:55.890411",
          "2017-03-21T01:17:55.068493",
          "2017-03-22T01:18:54.246575",
          "2017-03-23T01:19:53.424657",
          "2017-03-24T01:20:52.602739",
          "2017-03-25T01:21:51.780822",
          "2017-03-26T01:22:50.958904",
          "2017-03-27T01:23:50.136986",
          "2017-03-28T01:24:49.315068",
          "2017-03-29T01:25:48.493150",
          "2017-03-30T01:26:47.671232",
          "2017-03-31T01:27:46.849315",
          "2017-04-01T01:28:46.027397",
          "2017-04-02T01:29:45.205479",
          "2017-04-03T01:30:44.383561",
          "2017-04-04T01:31:43.561643",
          "2017-04-05T01:32:42.739726",
          "2017-04-06T01:33:41.917808",
          "2017-04-07T01:34:41.095890",
          "2017-04-08T01:35:40.273972",
          "2017-04-09T01:36:39.452054",
          "2017-04-10T01:37:38.630137",
          "2017-04-11T01:38:37.808219",
          "2017-04-12T01:39:36.986301",
          "2017-04-13T01:40:36.164383",
          "2017-04-14T01:41:35.342465",
          "2017-04-15T01:42:34.520547",
          "2017-04-16T01:43:33.698630",
          "2017-04-17T01:44:32.876712",
          "2017-04-18T01:45:32.054794",
          "2017-04-19T01:46:31.232876",
          "2017-04-20T01:47:30.410958",
          "2017-04-21T01:48:29.589041",
          "2017-04-22T01:49:28.767123",
          "2017-04-23T01:50:27.945205",
          "2017-04-24T01:51:27.123287",
          "2017-04-25T01:52:26.301369",
          "2017-04-26T01:53:25.479452",
          "2017-04-27T01:54:24.657534",
          "2017-04-28T01:55:23.835616",
          "2017-04-29T01:56:23.013698",
          "2017-04-30T01:57:22.191780",
          "2017-05-01T01:58:21.369862",
          "2017-05-02T01:59:20.547945",
          "2017-05-03T02:00:19.726027",
          "2017-05-04T02:01:18.904109",
          "2017-05-05T02:02:18.082191",
          "2017-05-06T02:03:17.260273",
          "2017-05-07T02:04:16.438356",
          "2017-05-08T02:05:15.616438",
          "2017-05-09T02:06:14.794520",
          "2017-05-10T02:07:13.972602",
          "2017-05-11T02:08:13.150684",
          "2017-05-12T02:09:12.328767",
          "2017-05-13T02:10:11.506849",
          "2017-05-14T02:11:10.684931",
          "2017-05-15T02:12:09.863013",
          "2017-05-16T02:13:09.041095",
          "2017-05-17T02:14:08.219177",
          "2017-05-18T02:15:07.397260",
          "2017-05-19T02:16:06.575342",
          "2017-05-20T02:17:05.753424",
          "2017-05-21T02:18:04.931506",
          "2017-05-22T02:19:04.109588",
          "2017-05-23T02:20:03.287671",
          "2017-05-24T02:21:02.465753",
          "2017-05-25T02:22:01.643835",
          "2017-05-26T02:23:00.821917",
          "2017-05-27T02:24:00",
          "2017-05-28T02:24:59.178082",
          "2017-05-29T02:25:58.356164",
          "2017-05-30T02:26:57.534246",
          "2017-05-31T02:27:56.712328",
          "2017-06-01T02:28:55.890411",
          "2017-06-02T02:29:55.068493",
          "2017-06-03T02:30:54.246575",
          "2017-06-04T02:31:53.424657",
          "2017-06-05T02:32:52.602739",
          "2017-06-06T02:33:51.780822",
          "2017-06-07T02:34:50.958904",
          "2017-06-08T02:35:50.136986",
          "2017-06-09T02:36:49.315068",
          "2017-06-10T02:37:48.493150",
          "2017-06-11T02:38:47.671232",
          "2017-06-12T02:39:46.849315",
          "2017-06-13T02:40:46.027397",
          "2017-06-14T02:41:45.205479",
          "2017-06-15T02:42:44.383561",
          "2017-06-16T02:43:43.561643",
          "2017-06-17T02:44:42.739726",
          "2017-06-18T02:45:41.917808",
          "2017-06-19T02:46:41.095890",
          "2017-06-20T02:47:40.273972",
          "2017-06-21T02:48:39.452054",
          "2017-06-22T02:49:38.630137",
          "2017-06-23T02:50:37.808219",
          "2017-06-24T02:51:36.986301",
          "2017-06-25T02:52:36.164383",
          "2017-06-26T02:53:35.342465",
          "2017-06-27T02:54:34.520547",
          "2017-06-28T02:55:33.698630",
          "2017-06-29T02:56:32.876712",
          "2017-06-30T02:57:32.054794",
          "2017-07-01T02:58:31.232876",
          "2017-07-02T02:59:30.410958",
          "2017-07-03T03:00:29.589041",
          "2017-07-04T03:01:28.767123",
          "2017-07-05T03:02:27.945205",
          "2017-07-06T03:03:27.123287",
          "2017-07-07T03:04:26.301369",
          "2017-07-08T03:05:25.479452",
          "2017-07-09T03:06:24.657534",
          "2017-07-10T03:07:23.835616",
          "2017-07-11T03:08:23.013698",
          "2017-07-12T03:09:22.191780",
          "2017-07-13T03:10:21.369862",
          "2017-07-14T03:11:20.547945",
          "2017-07-15T03:12:19.726027",
          "2017-07-16T03:13:18.904109",
          "2017-07-17T03:14:18.082191",
          "2017-07-18T03:15:17.260273",
          "2017-07-19T03:16:16.438356",
          "2017-07-20T03:17:15.616438",
          "2017-07-21T03:18:14.794520",
          "2017-07-22T03:19:13.972602",
          "2017-07-23T03:20:13.150684",
          "2017-07-24T03:21:12.328767",
          "2017-07-25T03:22:11.506849",
          "2017-07-26T03:23:10.684931",
          "2017-07-27T03:24:09.863013",
          "2017-07-28T03:25:09.041095",
          "2017-07-29T03:26:08.219177",
          "2017-07-30T03:27:07.397260",
          "2017-07-31T03:28:06.575342",
          "2017-08-01T03:29:05.753424",
          "2017-08-02T03:30:04.931506",
          "2017-08-03T03:31:04.109588",
          "2017-08-04T03:32:03.287671",
          "2017-08-05T03:33:02.465753",
          "2017-08-06T03:34:01.643835",
          "2017-08-07T03:35:00.821917",
          "2017-08-08T03:36:00",
          "2017-08-09T03:36:59.178082",
          "2017-08-10T03:37:58.356164",
          "2017-08-11T03:38:57.534246",
          "2017-08-12T03:39:56.712328",
          "2017-08-13T03:40:55.890411",
          "2017-08-14T03:41:55.068493",
          "2017-08-15T03:42:54.246575",
          "2017-08-16T03:43:53.424657",
          "2017-08-17T03:44:52.602739",
          "2017-08-18T03:45:51.780822",
          "2017-08-19T03:46:50.958904",
          "2017-08-20T03:47:50.136986",
          "2017-08-21T03:48:49.315068",
          "2017-08-22T03:49:48.493150",
          "2017-08-23T03:50:47.671232",
          "2017-08-24T03:51:46.849315",
          "2017-08-25T03:52:46.027397",
          "2017-08-26T03:53:45.205479",
          "2017-08-27T03:54:44.383561",
          "2017-08-28T03:55:43.561643",
          "2017-08-29T03:56:42.739726",
          "2017-08-30T03:57:41.917808",
          "2017-08-31T03:58:41.095890",
          "2017-09-01T03:59:40.273972",
          "2017-09-02T04:00:39.452054",
          "2017-09-03T04:01:38.630137",
          "2017-09-04T04:02:37.808219",
          "2017-09-05T04:03:36.986301",
          "2017-09-06T04:04:36.164383",
          "2017-09-07T04:05:35.342465",
          "2017-09-08T04:06:34.520547",
          "2017-09-09T04:07:33.698630",
          "2017-09-10T04:08:32.876712",
          "2017-09-11T04:09:32.054794",
          "2017-09-12T04:10:31.232876",
          "2017-09-13T04:11:30.410958",
          "2017-09-14T04:12:29.589041",
          "2017-09-15T04:13:28.767123",
          "2017-09-16T04:14:27.945205",
          "2017-09-17T04:15:27.123287",
          "2017-09-18T04:16:26.301369",
          "2017-09-19T04:17:25.479452",
          "2017-09-20T04:18:24.657534",
          "2017-09-21T04:19:23.835616",
          "2017-09-22T04:20:23.013698",
          "2017-09-23T04:21:22.191780",
          "2017-09-24T04:22:21.369862",
          "2017-09-25T04:23:20.547945",
          "2017-09-26T04:24:19.726027",
          "2017-09-27T04:25:18.904109",
          "2017-09-28T04:26:18.082191",
          "2017-09-29T04:27:17.260273",
          "2017-09-30T04:28:16.438356",
          "2017-10-01T04:29:15.616438",
          "2017-10-02T04:30:14.794520",
          "2017-10-03T04:31:13.972602",
          "2017-10-04T04:32:13.150684",
          "2017-10-05T04:33:12.328767",
          "2017-10-06T04:34:11.506849",
          "2017-10-07T04:35:10.684931",
          "2017-10-08T04:36:09.863013",
          "2017-10-09T04:37:09.041095",
          "2017-10-10T04:38:08.219177",
          "2017-10-11T04:39:07.397260",
          "2017-10-12T04:40:06.575342",
          "2017-10-13T04:41:05.753424",
          "2017-10-14T04:42:04.931506",
          "2017-10-15T04:43:04.109588",
          "2017-10-16T04:44:03.287671",
          "2017-10-17T04:45:02.465753",
          "2017-10-18T04:46:01.643835",
          "2017-10-19T04:47:00.821917",
          "2017-10-20T04:48:00",
          "2017-10-21T04:48:59.178082",
          "2017-10-22T04:49:58.356164",
          "2017-10-23T04:50:57.534246",
          "2017-10-24T04:51:56.712328",
          "2017-10-25T04:52:55.890411",
          "2017-10-26T04:53:55.068493",
          "2017-10-27T04:54:54.246575",
          "2017-10-28T04:55:53.424657",
          "2017-10-29T04:56:52.602739",
          "2017-10-30T04:57:51.780822",
          "2017-10-31T04:58:50.958904",
          "2017-11-01T04:59:50.136986",
          "2017-11-02T05:00:49.315068",
          "2017-11-03T05:01:48.493150",
          "2017-11-04T05:02:47.671232",
          "2017-11-05T05:03:46.849315",
          "2017-11-06T05:04:46.027397",
          "2017-11-07T05:05:45.205479",
          "2017-11-08T05:06:44.383561",
          "2017-11-09T05:07:43.561643",
          "2017-11-10T05:08:42.739726",
          "2017-11-11T05:09:41.917808",
          "2017-11-12T05:10:41.095890",
          "2017-11-13T05:11:40.273972",
          "2017-11-14T05:12:39.452054",
          "2017-11-15T05:13:38.630137",
          "2017-11-16T05:14:37.808219",
          "2017-11-17T05:15:36.986301",
          "2017-11-18T05:16:36.164383",
          "2017-11-19T05:17:35.342465",
          "2017-11-20T05:18:34.520547",
          "2017-11-21T05:19:33.698630",
          "2017-11-22T05:20:32.876712",
          "2017-11-23T05:21:32.054794",
          "2017-11-24T05:22:31.232876",
          "2017-11-25T05:23:30.410958",
          "2017-11-26T05:24:29.589041",
          "2017-11-27T05:25:28.767123",
          "2017-11-28T05:26:27.945205",
          "2017-11-29T05:27:27.123287",
          "2017-11-30T05:28:26.301369",
          "2017-12-01T05:29:25.479452",
          "2017-12-02T05:30:24.657534",
          "2017-12-03T05:31:23.835616",
          "2017-12-04T05:32:23.013698",
          "2017-12-05T05:33:22.191780",
          "2017-12-06T05:34:21.369862",
          "2017-12-07T05:35:20.547945",
          "2017-12-08T05:36:19.726027",
          "2017-12-09T05:37:18.904109",
          "2017-12-10T05:38:18.082191",
          "2017-12-11T05:39:17.260273",
          "2017-12-12T05:40:16.438356",
          "2017-12-13T05:41:15.616438",
          "2017-12-14T05:42:14.794520",
          "2017-12-15T05:43:13.972602",
          "2017-12-16T05:44:13.150684",
          "2017-12-17T05:45:12.328767",
          "2017-12-18T05:46:11.506849",
          "2017-12-19T05:47:10.684931",
          "2017-12-20T05:48:09.863013",
          "2017-12-21T05:49:09.041095",
          "2017-12-22T05:50:08.219177",
          "2017-12-23T05:51:07.397260",
          "2017-12-24T05:52:06.575342",
          "2017-12-25T05:53:05.753424",
          "2017-12-26T05:54:04.931506",
          "2017-12-27T05:55:04.109588",
          "2017-12-28T05:56:03.287671",
          "2017-12-29T05:57:02.465753",
          "2017-12-30T05:58:01.643835",
          "2017-12-31T05:59:00.821917"
         ],
         "xaxis": "x2",
         "y": [
          -0.004060378952135838,
          -0.0011367782235649337,
          0.0018131512703702306,
          0.004686079877404097,
          0.007381979612759399,
          0.009807112146268098,
          0.011876786147061683,
          0.013517803529684557,
          0.014670524204939708,
          0.015290491059020701,
          0.015349570690438054,
          0.014836580504211742,
          0.01375738863765015,
          0.012134489386456998,
          0.01000607282535587,
          0.007424622686022544,
          0.004455090803638366,
          0.0011727091412818485,
          -0.0023394888334958975,
          -0.0059933571350066625,
          -0.009698450325246952,
          -0.01336487106200521,
          -0.016906062003100405,
          -0.020241454205621536,
          -0.02329888914223774,
          -0.026016739004213894,
          -0.028345659834121316,
          -0.03024992392612868,
          -0.03170829147822219,
          -0.03271439626109263,
          -0.03327663562463496,
          -0.033417571013468296,
          -0.03317286081779142,
          -0.03258976235744854,
          -0.03172525362147872,
          -0.030643837629862718,
          -0.0294151025643952,
          -0.028111118808282126,
          -0.026803759481521486,
          -0.025562033784681745,
          -0.024449522372210986,
          -0.023522001057030992,
          -0.02282533348065083,
          -0.02239370512912664,
          -0.02224826047637479,
          -0.02239619241098866,
          -0.022830318827313175,
          -0.023529165771247862,
          -0.024457560297384166,
          -0.025567719713434214,
          -0.026800807671590467,
          -0.02808891211671634,
          -0.0293573859036792,
          -0.030527478399400062,
          -0.03151917599247525,
          -0.03225416148290367,
          -0.032658797086774514,
          -0.03266703345516787,
          -0.03222314777384849,
          -0.03128421769467385,
          -0.029822244472351257,
          -0.027825848071383476,
          -0.025301468917866214,
          -0.02227402506612437,
          -0.01878698942990312,
          -0.014901868938766235,
          -0.010697085515428011,
          -0.006266277102452736,
          -0.0017160550475219557,
          0.0028367285559126073,
          0.0072681340070101085,
          0.011450623894596756,
          0.015256794130324713,
          0.018563241232324834,
          0.021254454653643864,
          0.02322661980083319,
          0.02439121754096058,
          0.024678309490521685,
          0.024039405158948486,
          0.022449816926103486,
          0.019910421621235713,
          0.016448762806774913,
          0.0121194453420152,
          0.007003792934755331,
          0.001208759652605085,
          -0.005134892806363142,
          -0.01187511947825302,
          -0.01884176534100223,
          -0.02585031558037442,
          -0.03270613388977017,
          -0.039209084791435936,
          -0.04515842368446303,
          -0.05035782911719173,
          -0.05462044593993727,
          -0.05777380571525698,
          -0.05966449214238948,
          -0.06016242428775717,
          -0.05916463899358747,
          -0.05659846575441631,
          -0.05242400230292788,
          -0.04663581674026316,
          -0.039263821814983065,
          -0.030373288369191388,
          -0.020063987448748922,
          -0.00846847350581501,
          0.004250456121263655,
          0.01790306831039994,
          0.03227669015340132,
          0.04714029758910802,
          0.06224958433418949,
          0.07735238564015978,
          0.09219432157796957,
          0.10652451831861769,
          0.12010126340977247,
          0.13269745242861214,
          0.14410568957690623,
          0.15414291365703783,
          0.16265443316951586,
          0.1695172696859623,
          0.1746427267499087,
          0.17797812184791253,
          0.17950764092631083,
          0.17925229789894304,
          0.1772690049797712,
          0.17364878283663474,
          0.16851416187409002,
          0.16201584680572415,
          0.1543287355081465,
          0.14564739945099997,
          0.13618114634057824,
          0.12614879563837533,
          0.11577330407444672,
          0.1052763809944952,
          0.0948732323222501,
          0.08476756712010036,
          0.07514699235374596,
          0.06617890976511384,
          0.0580070140673113,
          0.05074847443176478,
          0.044491861924990106,
          0.03929586472856557,
          0.03518881121954832,
          0.032168998914607796,
          0.03020580550372657,
          0.029241537316404536,
          0.02919395115145425,
          0.02995936798471305,
          0.0314162821154228,
          0.033429357214311235,
          0.03585369180571802,
          0.03853923116951303,
          0.04133520060834092,
          0.04409443651017083,
          0.046677496568348,
          0.048956438722108475,
          0.05081816958380403,
          0.052167276972525475,
          0.05292827725425405,
          0.05304722601389825,
          0.05249265962458045,
          0.051255854977985175,
          0.0493504144224874,
          0.046811202256719545,
          0.04369267739446767,
          0.04006668353739993,
          0.036019772904096144,
          0.03165015185943681,
          0.02706434634675948,
          0.022373691595150277,
          0.017690754001818534,
          0.013125793314768226,
          0.008783370288428237,
          0.004759198984141828,
          0.0011373340458775477,
          -0.002012228106640411,
          -0.0046354687970312615,
          -0.006695737282961852,
          -0.008174578193540703,
          -0.009071980185309102,
          -0.009406047441483593,
          -0.00921211302286786,
          -0.008541329679134381,
          -0.007458789061016245,
          -0.006041233894941352,
          -0.004374439200661792,
          -0.0025503477307929697,
          -0.0006640512383015349,
          0.0011892872302382645,
          0.0029174741420746587,
          0.004434195743166161,
          0.005661709182343377,
          0.006533233573196606,
          0.006994970130164664,
          0.00700769262498274,
          0.0065478631902102045,
          0.005608243516184799,
          0.004197987280794858,
          0.002342215734663608,
          8.109424764006353e-05,
          -0.0025315571749171617,
          -0.00543007232956184,
          -0.008539106616522846,
          -0.011776094024788016,
          -0.015053914759047798,
          -0.018283689073818974,
          -0.021377609617193646,
          -0.024251724034795814,
          -0.026828581741404758,
          -0.029039663550943107,
          -0.030827520099911243,
          -0.03214755447031111,
          -0.032969395810348225,
          -0.03327782370728733,
          -0.033073217178580354,
          -0.03237151697912038,
          -0.031203705014469146,
          -0.02961481953945869,
          -0.02766253905399248,
          -0.025415380948781263,
          -0.02295057260926784,
          -0.020351662501834025,
          -0.017705946454232523,
          -0.015101789673046956,
          -0.0126259278636443,
          -0.010360831057395742,
          -0.008382211407555242,
          -0.006756751376820584,
          -0.005540121560643296,
          -0.004775348103265128,
          -0.004491578561537464,
          -0.00470328250312223,
          -0.00540990948321687,
          -0.0065960127514042765,
          -0.008231832540544323,
          -0.010274318530860702,
          -0.01266855750326697,
          -0.015349559715090971,
          -0.018244346529657885,
          -0.021274272646939738,
          -0.02435750919358843,
          -0.027411609153413768,
          -0.030356074296259247,
          -0.03311484296152945,
          -0.03561862076321334,
          -0.037806981417646546,
          -0.03963017229111394,
          -0.04105056869202771,
          -0.042043732094483026,
          -0.04259904003290106,
          -0.04271986895803228,
          -0.0424233254739132,
          -0.0417395356442973,
          -0.04071051602245995,
          -0.039388663286833096,
          -0.03783491144491671,
          -0.03611661612391894,
          -0.034305234167951185,
          -0.032473873336796535,
          -0.030694791142394953,
          -0.029036923629808066,
          -0.027563524150034945,
          -0.026329988901177798,
          -0.02538194032484851,
          -0.024753631509880036,
          -0.024466724810467053,
          -0.024529486236782416,
          -0.02493642417428274,
          -0.02566838703365153,
          -0.026693119953158817,
          -0.027966266115498472,
          -0.02943278405186456,
          -0.031028738925845168,
          -0.032683413637664034,
          -0.0343216750441693,
          -0.03586652198588865,
          -0.037241735426070954,
          -0.03837454704421226,
          -0.03919824122640326,
          -0.03965460661465518,
          -0.039696157194191686,
          -0.03928804921491781,
          -0.03840962888030624,
          -0.037055556447615115,
          -0.03523646485597015,
          -0.03297912486303251,
          -0.03032610351875283,
          -0.027334918190223812,
          -0.024076703812671567,
          -0.02063442611263069,
          -0.017100687771023214,
          -0.01357518743092404,
          -0.010161902710155712,
          -0.006966077599249681,
          -0.0040911015223338305,
          -0.0016353716843051903,
          0.0003107680219802056,
          0.0016679193920101961,
          0.0023702652843115156,
          0.002367866236162465,
          0.0016285455751972064,
          0.0001393015268160813,
          -0.00209280202194518,
          -0.005040299741042121,
          -0.008655561880607081,
          -0.01287160544749315,
          -0.01760346423389333,
          -0.022750086059051804,
          -0.028196710041332434,
          -0.03381766242809346,
          -0.0394794969019715,
          -0.04504439473172099,
          -0.05037373196366921,
          -0.055331715307513143,
          -0.05978898563362174,
          -0.06362608815863106,
          -0.06673671146696206,
          -0.06903060341562013,
          -0.07043608054421584,
          -0.07090205862171209,
          -0.0703995450968598,
          -0.06892254910856262,
          -0.066488380930425,
          -0.0631373298056164,
          -0.058931726583641104,
          -0.053954414895482306,
          -0.04830667129826306,
          -0.042105630400435655,
          -0.03548128499456863,
          -0.028573143266178304,
          -0.021526634866039288,
          -0.014489364747479564,
          -0.007607317967574234,
          -0.001021120010859666,
          0.005137544430157042,
          0.010749255840546906,
          0.015709836421629517,
          0.01993289772439033,
          0.023351890577818273,
          0.025921602720330717,
          0.027619065286739953,
          0.0284438461290216,
          0.028417725367122584,
          0.027583766074472753,
          0.02600481009185342,
          0.023761445141487755,
          0.0209495042122025,
          0.017677171181401743,
          0.014061777456129314,
          0.010226382747109155,
          0.006296238698833882,
          0.0023952368314584045,
          -0.0013575579643181827,
          -0.004851190285969876,
          -0.007985821314974125,
          -0.010675376658155399,
          -0.012849762450609079,
          -0.014456590298657843,
          -0.01546236636594151,
          -0.015853115854302116,
          -0.015634430830340603,
          -0.014830946303512492,
          -0.013485266171670535,
          -0.011656376623501512,
          -0.009417599354115454,
          -0.006854150080437249
         ],
         "yaxis": "y2"
        }
       ],
       "layout": {
        "height": 400,
        "showlegend": false,
        "template": {
         "data": {
          "bar": [
           {
            "error_x": {
             "color": "#2a3f5f"
            },
            "error_y": {
             "color": "#2a3f5f"
            },
            "marker": {
             "line": {
              "color": "#E5ECF6",
              "width": 0.5
             },
             "pattern": {
              "fillmode": "overlay",
              "size": 10,
              "solidity": 0.2
             }
            },
            "type": "bar"
           }
          ],
          "barpolar": [
           {
            "marker": {
             "line": {
              "color": "#E5ECF6",
              "width": 0.5
             },
             "pattern": {
              "fillmode": "overlay",
              "size": 10,
              "solidity": 0.2
             }
            },
            "type": "barpolar"
           }
          ],
          "carpet": [
           {
            "aaxis": {
             "endlinecolor": "#2a3f5f",
             "gridcolor": "white",
             "linecolor": "white",
             "minorgridcolor": "white",
             "startlinecolor": "#2a3f5f"
            },
            "baxis": {
             "endlinecolor": "#2a3f5f",
             "gridcolor": "white",
             "linecolor": "white",
             "minorgridcolor": "white",
             "startlinecolor": "#2a3f5f"
            },
            "type": "carpet"
           }
          ],
          "choropleth": [
           {
            "colorbar": {
             "outlinewidth": 0,
             "ticks": ""
            },
            "type": "choropleth"
           }
          ],
          "contour": [
           {
            "colorbar": {
             "outlinewidth": 0,
             "ticks": ""
            },
            "colorscale": [
             [
              0,
              "#0d0887"
             ],
             [
              0.1111111111111111,
              "#46039f"
             ],
             [
              0.2222222222222222,
              "#7201a8"
             ],
             [
              0.3333333333333333,
              "#9c179e"
             ],
             [
              0.4444444444444444,
              "#bd3786"
             ],
             [
              0.5555555555555556,
              "#d8576b"
             ],
             [
              0.6666666666666666,
              "#ed7953"
             ],
             [
              0.7777777777777778,
              "#fb9f3a"
             ],
             [
              0.8888888888888888,
              "#fdca26"
             ],
             [
              1,
              "#f0f921"
             ]
            ],
            "type": "contour"
           }
          ],
          "contourcarpet": [
           {
            "colorbar": {
             "outlinewidth": 0,
             "ticks": ""
            },
            "type": "contourcarpet"
           }
          ],
          "heatmap": [
           {
            "colorbar": {
             "outlinewidth": 0,
             "ticks": ""
            },
            "colorscale": [
             [
              0,
              "#0d0887"
             ],
             [
              0.1111111111111111,
              "#46039f"
             ],
             [
              0.2222222222222222,
              "#7201a8"
             ],
             [
              0.3333333333333333,
              "#9c179e"
             ],
             [
              0.4444444444444444,
              "#bd3786"
             ],
             [
              0.5555555555555556,
              "#d8576b"
             ],
             [
              0.6666666666666666,
              "#ed7953"
             ],
             [
              0.7777777777777778,
              "#fb9f3a"
             ],
             [
              0.8888888888888888,
              "#fdca26"
             ],
             [
              1,
              "#f0f921"
             ]
            ],
            "type": "heatmap"
           }
          ],
          "heatmapgl": [
           {
            "colorbar": {
             "outlinewidth": 0,
             "ticks": ""
            },
            "colorscale": [
             [
              0,
              "#0d0887"
             ],
             [
              0.1111111111111111,
              "#46039f"
             ],
             [
              0.2222222222222222,
              "#7201a8"
             ],
             [
              0.3333333333333333,
              "#9c179e"
             ],
             [
              0.4444444444444444,
              "#bd3786"
             ],
             [
              0.5555555555555556,
              "#d8576b"
             ],
             [
              0.6666666666666666,
              "#ed7953"
             ],
             [
              0.7777777777777778,
              "#fb9f3a"
             ],
             [
              0.8888888888888888,
              "#fdca26"
             ],
             [
              1,
              "#f0f921"
             ]
            ],
            "type": "heatmapgl"
           }
          ],
          "histogram": [
           {
            "marker": {
             "pattern": {
              "fillmode": "overlay",
              "size": 10,
              "solidity": 0.2
             }
            },
            "type": "histogram"
           }
          ],
          "histogram2d": [
           {
            "colorbar": {
             "outlinewidth": 0,
             "ticks": ""
            },
            "colorscale": [
             [
              0,
              "#0d0887"
             ],
             [
              0.1111111111111111,
              "#46039f"
             ],
             [
              0.2222222222222222,
              "#7201a8"
             ],
             [
              0.3333333333333333,
              "#9c179e"
             ],
             [
              0.4444444444444444,
              "#bd3786"
             ],
             [
              0.5555555555555556,
              "#d8576b"
             ],
             [
              0.6666666666666666,
              "#ed7953"
             ],
             [
              0.7777777777777778,
              "#fb9f3a"
             ],
             [
              0.8888888888888888,
              "#fdca26"
             ],
             [
              1,
              "#f0f921"
             ]
            ],
            "type": "histogram2d"
           }
          ],
          "histogram2dcontour": [
           {
            "colorbar": {
             "outlinewidth": 0,
             "ticks": ""
            },
            "colorscale": [
             [
              0,
              "#0d0887"
             ],
             [
              0.1111111111111111,
              "#46039f"
             ],
             [
              0.2222222222222222,
              "#7201a8"
             ],
             [
              0.3333333333333333,
              "#9c179e"
             ],
             [
              0.4444444444444444,
              "#bd3786"
             ],
             [
              0.5555555555555556,
              "#d8576b"
             ],
             [
              0.6666666666666666,
              "#ed7953"
             ],
             [
              0.7777777777777778,
              "#fb9f3a"
             ],
             [
              0.8888888888888888,
              "#fdca26"
             ],
             [
              1,
              "#f0f921"
             ]
            ],
            "type": "histogram2dcontour"
           }
          ],
          "mesh3d": [
           {
            "colorbar": {
             "outlinewidth": 0,
             "ticks": ""
            },
            "type": "mesh3d"
           }
          ],
          "parcoords": [
           {
            "line": {
             "colorbar": {
              "outlinewidth": 0,
              "ticks": ""
             }
            },
            "type": "parcoords"
           }
          ],
          "pie": [
           {
            "automargin": true,
            "type": "pie"
           }
          ],
          "scatter": [
           {
            "marker": {
             "colorbar": {
              "outlinewidth": 0,
              "ticks": ""
             }
            },
            "type": "scatter"
           }
          ],
          "scatter3d": [
           {
            "line": {
             "colorbar": {
              "outlinewidth": 0,
              "ticks": ""
             }
            },
            "marker": {
             "colorbar": {
              "outlinewidth": 0,
              "ticks": ""
             }
            },
            "type": "scatter3d"
           }
          ],
          "scattercarpet": [
           {
            "marker": {
             "colorbar": {
              "outlinewidth": 0,
              "ticks": ""
             }
            },
            "type": "scattercarpet"
           }
          ],
          "scattergeo": [
           {
            "marker": {
             "colorbar": {
              "outlinewidth": 0,
              "ticks": ""
             }
            },
            "type": "scattergeo"
           }
          ],
          "scattergl": [
           {
            "marker": {
             "colorbar": {
              "outlinewidth": 0,
              "ticks": ""
             }
            },
            "type": "scattergl"
           }
          ],
          "scattermapbox": [
           {
            "marker": {
             "colorbar": {
              "outlinewidth": 0,
              "ticks": ""
             }
            },
            "type": "scattermapbox"
           }
          ],
          "scatterpolar": [
           {
            "marker": {
             "colorbar": {
              "outlinewidth": 0,
              "ticks": ""
             }
            },
            "type": "scatterpolar"
           }
          ],
          "scatterpolargl": [
           {
            "marker": {
             "colorbar": {
              "outlinewidth": 0,
              "ticks": ""
             }
            },
            "type": "scatterpolargl"
           }
          ],
          "scatterternary": [
           {
            "marker": {
             "colorbar": {
              "outlinewidth": 0,
              "ticks": ""
             }
            },
            "type": "scatterternary"
           }
          ],
          "surface": [
           {
            "colorbar": {
             "outlinewidth": 0,
             "ticks": ""
            },
            "colorscale": [
             [
              0,
              "#0d0887"
             ],
             [
              0.1111111111111111,
              "#46039f"
             ],
             [
              0.2222222222222222,
              "#7201a8"
             ],
             [
              0.3333333333333333,
              "#9c179e"
             ],
             [
              0.4444444444444444,
              "#bd3786"
             ],
             [
              0.5555555555555556,
              "#d8576b"
             ],
             [
              0.6666666666666666,
              "#ed7953"
             ],
             [
              0.7777777777777778,
              "#fb9f3a"
             ],
             [
              0.8888888888888888,
              "#fdca26"
             ],
             [
              1,
              "#f0f921"
             ]
            ],
            "type": "surface"
           }
          ],
          "table": [
           {
            "cells": {
             "fill": {
              "color": "#EBF0F8"
             },
             "line": {
              "color": "white"
             }
            },
            "header": {
             "fill": {
              "color": "#C8D4E3"
             },
             "line": {
              "color": "white"
             }
            },
            "type": "table"
           }
          ]
         },
         "layout": {
          "annotationdefaults": {
           "arrowcolor": "#2a3f5f",
           "arrowhead": 0,
           "arrowwidth": 1
          },
          "autotypenumbers": "strict",
          "coloraxis": {
           "colorbar": {
            "outlinewidth": 0,
            "ticks": ""
           }
          },
          "colorscale": {
           "diverging": [
            [
             0,
             "#8e0152"
            ],
            [
             0.1,
             "#c51b7d"
            ],
            [
             0.2,
             "#de77ae"
            ],
            [
             0.3,
             "#f1b6da"
            ],
            [
             0.4,
             "#fde0ef"
            ],
            [
             0.5,
             "#f7f7f7"
            ],
            [
             0.6,
             "#e6f5d0"
            ],
            [
             0.7,
             "#b8e186"
            ],
            [
             0.8,
             "#7fbc41"
            ],
            [
             0.9,
             "#4d9221"
            ],
            [
             1,
             "#276419"
            ]
           ],
           "sequential": [
            [
             0,
             "#0d0887"
            ],
            [
             0.1111111111111111,
             "#46039f"
            ],
            [
             0.2222222222222222,
             "#7201a8"
            ],
            [
             0.3333333333333333,
             "#9c179e"
            ],
            [
             0.4444444444444444,
             "#bd3786"
            ],
            [
             0.5555555555555556,
             "#d8576b"
            ],
            [
             0.6666666666666666,
             "#ed7953"
            ],
            [
             0.7777777777777778,
             "#fb9f3a"
            ],
            [
             0.8888888888888888,
             "#fdca26"
            ],
            [
             1,
             "#f0f921"
            ]
           ],
           "sequentialminus": [
            [
             0,
             "#0d0887"
            ],
            [
             0.1111111111111111,
             "#46039f"
            ],
            [
             0.2222222222222222,
             "#7201a8"
            ],
            [
             0.3333333333333333,
             "#9c179e"
            ],
            [
             0.4444444444444444,
             "#bd3786"
            ],
            [
             0.5555555555555556,
             "#d8576b"
            ],
            [
             0.6666666666666666,
             "#ed7953"
            ],
            [
             0.7777777777777778,
             "#fb9f3a"
            ],
            [
             0.8888888888888888,
             "#fdca26"
            ],
            [
             1,
             "#f0f921"
            ]
           ]
          },
          "colorway": [
           "#636efa",
           "#EF553B",
           "#00cc96",
           "#ab63fa",
           "#FFA15A",
           "#19d3f3",
           "#FF6692",
           "#B6E880",
           "#FF97FF",
           "#FECB52"
          ],
          "font": {
           "color": "#2a3f5f"
          },
          "geo": {
           "bgcolor": "white",
           "lakecolor": "white",
           "landcolor": "#E5ECF6",
           "showlakes": true,
           "showland": true,
           "subunitcolor": "white"
          },
          "hoverlabel": {
           "align": "left"
          },
          "hovermode": "closest",
          "mapbox": {
           "style": "light"
          },
          "paper_bgcolor": "white",
          "plot_bgcolor": "#E5ECF6",
          "polar": {
           "angularaxis": {
            "gridcolor": "white",
            "linecolor": "white",
            "ticks": ""
           },
           "bgcolor": "#E5ECF6",
           "radialaxis": {
            "gridcolor": "white",
            "linecolor": "white",
            "ticks": ""
           }
          },
          "scene": {
           "xaxis": {
            "backgroundcolor": "#E5ECF6",
            "gridcolor": "white",
            "gridwidth": 2,
            "linecolor": "white",
            "showbackground": true,
            "ticks": "",
            "zerolinecolor": "white"
           },
           "yaxis": {
            "backgroundcolor": "#E5ECF6",
            "gridcolor": "white",
            "gridwidth": 2,
            "linecolor": "white",
            "showbackground": true,
            "ticks": "",
            "zerolinecolor": "white"
           },
           "zaxis": {
            "backgroundcolor": "#E5ECF6",
            "gridcolor": "white",
            "gridwidth": 2,
            "linecolor": "white",
            "showbackground": true,
            "ticks": "",
            "zerolinecolor": "white"
           }
          },
          "shapedefaults": {
           "line": {
            "color": "#2a3f5f"
           }
          },
          "ternary": {
           "aaxis": {
            "gridcolor": "white",
            "linecolor": "white",
            "ticks": ""
           },
           "baxis": {
            "gridcolor": "white",
            "linecolor": "white",
            "ticks": ""
           },
           "bgcolor": "#E5ECF6",
           "caxis": {
            "gridcolor": "white",
            "linecolor": "white",
            "ticks": ""
           }
          },
          "title": {
           "x": 0.05
          },
          "xaxis": {
           "automargin": true,
           "gridcolor": "white",
           "linecolor": "white",
           "ticks": "",
           "title": {
            "standoff": 15
           },
           "zerolinecolor": "white",
           "zerolinewidth": 2
          },
          "yaxis": {
           "automargin": true,
           "gridcolor": "white",
           "linecolor": "white",
           "ticks": "",
           "title": {
            "standoff": 15
           },
           "zerolinecolor": "white",
           "zerolinewidth": 2
          }
         }
        },
        "width": 900,
        "xaxis": {
         "anchor": "y",
         "domain": [
          0,
          1
         ],
         "range": [
          "2011-09-29T21:36:00",
          "2024-07-31T02:24:00"
         ],
         "type": "date"
        },
        "xaxis2": {
         "anchor": "y2",
         "domain": [
          0,
          1
         ],
         "range": [
          "2016-12-13T18:54:02.958904115",
          "2018-01-18T11:04:57.863013581"
         ],
         "tickformat": "%B %e",
         "type": "date"
        },
        "yaxis": {
         "anchor": "x",
         "domain": [
          0.575,
          1
         ],
         "rangemode": "normal",
         "title": {
          "text": "trend"
         },
         "zerolinecolor": "#AAA"
        },
        "yaxis2": {
         "anchor": "x2",
         "domain": [
          0,
          0.425
         ],
         "title": {
          "text": "yearly"
         },
         "zerolinecolor": "#AAA"
        }
       }
      },
      "text/html": [
       "<div>                            <div id=\"822b777c-4bcd-4f38-8dfb-026baea1f4b9\" class=\"plotly-graph-div\" style=\"height:400px; width:900px;\"></div>            <script type=\"text/javascript\">                require([\"plotly\"], function(Plotly) {                    window.PLOTLYENV=window.PLOTLYENV || {};                                    if (document.getElementById(\"822b777c-4bcd-4f38-8dfb-026baea1f4b9\")) {                    Plotly.newPlot(                        \"822b777c-4bcd-4f38-8dfb-026baea1f4b9\",                        [{\"line\":{\"color\":\"#0072B2\",\"width\":2},\"mode\":\"lines\",\"name\":\"trend\",\"x\":[\"2012-04-30T00:00:00\",\"2012-05-31T00:00:00\",\"2012-06-30T00:00:00\",\"2012-07-31T00:00:00\",\"2012-08-31T00:00:00\",\"2012-09-30T00:00:00\",\"2012-10-31T00:00:00\",\"2012-11-30T00:00:00\",\"2012-12-31T00:00:00\",\"2013-01-31T00:00:00\",\"2013-02-28T00:00:00\",\"2013-03-31T00:00:00\",\"2013-04-30T00:00:00\",\"2013-05-31T00:00:00\",\"2013-06-30T00:00:00\",\"2013-07-31T00:00:00\",\"2013-08-31T00:00:00\",\"2013-09-30T00:00:00\",\"2013-10-31T00:00:00\",\"2013-11-30T00:00:00\",\"2013-12-31T00:00:00\",\"2014-01-31T00:00:00\",\"2014-02-28T00:00:00\",\"2014-03-31T00:00:00\",\"2014-04-30T00:00:00\",\"2014-05-31T00:00:00\",\"2014-06-30T00:00:00\",\"2014-07-31T00:00:00\",\"2014-08-31T00:00:00\",\"2014-09-30T00:00:00\",\"2014-10-31T00:00:00\",\"2014-11-30T00:00:00\",\"2014-12-31T00:00:00\",\"2015-01-31T00:00:00\",\"2015-02-28T00:00:00\",\"2015-03-31T00:00:00\",\"2015-04-30T00:00:00\",\"2015-05-31T00:00:00\",\"2015-06-30T00:00:00\",\"2015-07-31T00:00:00\",\"2015-08-31T00:00:00\",\"2015-09-30T00:00:00\",\"2015-10-31T00:00:00\",\"2015-11-30T00:00:00\",\"2015-12-31T00:00:00\",\"2016-01-31T00:00:00\",\"2016-02-29T00:00:00\",\"2016-03-31T00:00:00\",\"2016-04-30T00:00:00\",\"2016-05-31T00:00:00\",\"2016-06-30T00:00:00\",\"2016-07-31T00:00:00\",\"2016-08-31T00:00:00\",\"2016-09-30T00:00:00\",\"2016-10-31T00:00:00\",\"2016-11-30T00:00:00\",\"2016-12-31T00:00:00\",\"2017-01-31T00:00:00\",\"2017-02-28T00:00:00\",\"2017-03-31T00:00:00\",\"2017-04-30T00:00:00\",\"2017-05-31T00:00:00\",\"2017-06-30T00:00:00\",\"2017-07-31T00:00:00\",\"2017-08-31T00:00:00\",\"2017-09-30T00:00:00\",\"2017-10-31T00:00:00\",\"2017-11-30T00:00:00\",\"2017-12-31T00:00:00\",\"2018-01-31T00:00:00\",\"2018-02-28T00:00:00\",\"2018-03-31T00:00:00\",\"2018-04-30T00:00:00\",\"2018-05-31T00:00:00\",\"2018-06-30T00:00:00\",\"2018-07-31T00:00:00\",\"2018-08-31T00:00:00\",\"2018-09-30T00:00:00\",\"2018-10-31T00:00:00\",\"2018-11-30T00:00:00\",\"2018-12-31T00:00:00\",\"2019-01-31T00:00:00\",\"2019-02-28T00:00:00\",\"2019-03-31T00:00:00\",\"2019-04-30T00:00:00\",\"2019-05-31T00:00:00\",\"2019-06-30T00:00:00\",\"2019-07-31T00:00:00\",\"2019-08-31T00:00:00\",\"2019-09-30T00:00:00\",\"2019-10-31T00:00:00\",\"2019-11-30T00:00:00\",\"2019-12-31T00:00:00\",\"2020-01-31T00:00:00\",\"2020-02-29T00:00:00\",\"2020-03-31T00:00:00\",\"2020-04-30T00:00:00\",\"2020-05-31T00:00:00\",\"2020-06-30T00:00:00\",\"2020-07-31T00:00:00\",\"2020-08-31T00:00:00\",\"2020-09-30T00:00:00\",\"2020-10-31T00:00:00\",\"2020-11-30T00:00:00\",\"2020-12-31T00:00:00\",\"2021-01-31T00:00:00\",\"2021-02-28T00:00:00\",\"2021-03-31T00:00:00\",\"2021-04-30T00:00:00\",\"2021-05-31T00:00:00\",\"2021-06-30T00:00:00\",\"2021-07-31T00:00:00\",\"2021-08-31T00:00:00\",\"2021-09-30T00:00:00\",\"2021-10-31T00:00:00\",\"2021-11-30T00:00:00\",\"2021-12-31T00:00:00\",\"2022-01-31T00:00:00\",\"2022-02-28T00:00:00\",\"2022-03-31T00:00:00\",\"2022-04-30T00:00:00\",\"2022-05-31T00:00:00\",\"2022-06-30T00:00:00\",\"2022-07-31T00:00:00\",\"2022-08-31T00:00:00\",\"2022-09-30T00:00:00\",\"2022-10-31T00:00:00\",\"2022-11-30T00:00:00\",\"2022-12-31T00:00:00\",\"2023-01-31T00:00:00\",\"2023-02-28T00:00:00\",\"2023-03-31T00:00:00\",\"2023-04-30T00:00:00\",\"2023-05-31T00:00:00\",\"2023-06-30T00:00:00\",\"2023-07-31T00:00:00\",\"2023-08-31T00:00:00\",\"2023-09-30T00:00:00\",\"2023-10-31T00:00:00\",\"2023-11-30T00:00:00\",\"2023-12-31T00:00:00\"],\"y\":[0.05163655865352041,0.05132329403232339,0.051020134721487566,0.05070687010029054,0.05039360547909352,0.050090446171690665,0.04977718155404104,0.04947402224663818,0.049160757608322364,0.048847492970006574,0.048564544264431,0.0482512796261152,0.04794812031644299,0.04763485569644836,0.047331696386776145,0.047018431766781506,0.04670516714347448,0.046402007830596705,0.046088743207289666,0.04578558388786803,0.045472319257798995,0.04515905462772997,0.04487610592960311,0.04456284129461972,0.04425968197044226,0.04394641733545888,0.04364325801128141,0.04332999336362021,0.043016728715959004,0.04271356937951267,0.04240030472902479,0.04209714538984296,0.04178388073935508,0.04147061608886719,0.04118766737144914,0.04087440272002201,0.040571243379931246,0.04025797872850412,0.03995481940594943,0.03964155477264292,0.039328290139336405,0.03902513081490646,0.03871186617966218,0.03840870685523223,0.03809544221998796,0.03778217760457211,0.03748912360950567,0.03717585899408982,0.036872699688848674,0.036559435071517425,0.036256275764422675,0.035943011147091426,0.03562974652976019,0.0353276255862735,0.0350154339446706,0.03471331300118392,0.03440112137802825,0.03408892975487258,0.03380695022428036,0.03349475860112469,0.03319263767378091,0.03288044604885901,0.032578325121515234,0.032266133496593324,0.03195394186393459,0.03165182092910356,0.03133962929644483,0.031037508356393167,0.030725316718339793,0.03041312508028641,0.03013114553623819,0.029818953889222018,0.029516832940496694,0.029204641293480525,0.028902520344755194,0.028590328698408798,0.028278137052062398,0.027976016103985236,0.027663824455977006,0.027361703506291624,0.02704951185828339,0.02673732021027516,0.026455340663102074,0.026143149021589016,0.025841028078189276,0.025528836436676215,0.025226715508904256,0.024914523883539902,0.02460233225817555,0.024300211331249887,0.02398801970676003,0.023685898779834364,0.02337370715534451,0.023061515524513885,0.022769465289220726,0.022457273658390103,0.022155152725328215,0.02184296109449759,0.021540840161435704,0.02122864853060508,0.020916456899774456,0.02061433596671257,0.020302144335881945,0.020000023402820057,0.019687831771989434,0.019375640141158813,0.01909366060363438,0.018781468972803764,0.01847934803974187,0.018167156408911245,0.017865035475849358,0.017552843845018734,0.017240652214188114,0.016938531281126223,0.016626339650295602,0.01632421871723371,0.01601202708640309,0.015699835455572467,0.015417855918048036,0.015105664287217413,0.014803543354155528,0.014491351723324906,0.014189230790263008,0.01387703915943239,0.013564847528601768,0.013262726595539879,0.012950534964709257,0.012648414031647364,0.01233622240081674,0.012024030769986128,0.011742051232461696,0.011429859601631074,0.011127738668569179,0.010815547037738557,0.010513426104676673,0.010201234473846051,0.009889042843015429,0.009586921909953534,0.009274730279122912,0.008972609346061023,0.008660417715230401],\"type\":\"scatter\",\"xaxis\":\"x\",\"yaxis\":\"y\"},{\"line\":{\"color\":\"rgba(0, 114, 178, 0.2)\",\"width\":0},\"mode\":\"lines\",\"name\":\"trend_upper\",\"x\":[\"2012-04-30T00:00:00\",\"2012-05-31T00:00:00\",\"2012-06-30T00:00:00\",\"2012-07-31T00:00:00\",\"2012-08-31T00:00:00\",\"2012-09-30T00:00:00\",\"2012-10-31T00:00:00\",\"2012-11-30T00:00:00\",\"2012-12-31T00:00:00\",\"2013-01-31T00:00:00\",\"2013-02-28T00:00:00\",\"2013-03-31T00:00:00\",\"2013-04-30T00:00:00\",\"2013-05-31T00:00:00\",\"2013-06-30T00:00:00\",\"2013-07-31T00:00:00\",\"2013-08-31T00:00:00\",\"2013-09-30T00:00:00\",\"2013-10-31T00:00:00\",\"2013-11-30T00:00:00\",\"2013-12-31T00:00:00\",\"2014-01-31T00:00:00\",\"2014-02-28T00:00:00\",\"2014-03-31T00:00:00\",\"2014-04-30T00:00:00\",\"2014-05-31T00:00:00\",\"2014-06-30T00:00:00\",\"2014-07-31T00:00:00\",\"2014-08-31T00:00:00\",\"2014-09-30T00:00:00\",\"2014-10-31T00:00:00\",\"2014-11-30T00:00:00\",\"2014-12-31T00:00:00\",\"2015-01-31T00:00:00\",\"2015-02-28T00:00:00\",\"2015-03-31T00:00:00\",\"2015-04-30T00:00:00\",\"2015-05-31T00:00:00\",\"2015-06-30T00:00:00\",\"2015-07-31T00:00:00\",\"2015-08-31T00:00:00\",\"2015-09-30T00:00:00\",\"2015-10-31T00:00:00\",\"2015-11-30T00:00:00\",\"2015-12-31T00:00:00\",\"2016-01-31T00:00:00\",\"2016-02-29T00:00:00\",\"2016-03-31T00:00:00\",\"2016-04-30T00:00:00\",\"2016-05-31T00:00:00\",\"2016-06-30T00:00:00\",\"2016-07-31T00:00:00\",\"2016-08-31T00:00:00\",\"2016-09-30T00:00:00\",\"2016-10-31T00:00:00\",\"2016-11-30T00:00:00\",\"2016-12-31T00:00:00\",\"2017-01-31T00:00:00\",\"2017-02-28T00:00:00\",\"2017-03-31T00:00:00\",\"2017-04-30T00:00:00\",\"2017-05-31T00:00:00\",\"2017-06-30T00:00:00\",\"2017-07-31T00:00:00\",\"2017-08-31T00:00:00\",\"2017-09-30T00:00:00\",\"2017-10-31T00:00:00\",\"2017-11-30T00:00:00\",\"2017-12-31T00:00:00\",\"2018-01-31T00:00:00\",\"2018-02-28T00:00:00\",\"2018-03-31T00:00:00\",\"2018-04-30T00:00:00\",\"2018-05-31T00:00:00\",\"2018-06-30T00:00:00\",\"2018-07-31T00:00:00\",\"2018-08-31T00:00:00\",\"2018-09-30T00:00:00\",\"2018-10-31T00:00:00\",\"2018-11-30T00:00:00\",\"2018-12-31T00:00:00\",\"2019-01-31T00:00:00\",\"2019-02-28T00:00:00\",\"2019-03-31T00:00:00\",\"2019-04-30T00:00:00\",\"2019-05-31T00:00:00\",\"2019-06-30T00:00:00\",\"2019-07-31T00:00:00\",\"2019-08-31T00:00:00\",\"2019-09-30T00:00:00\",\"2019-10-31T00:00:00\",\"2019-11-30T00:00:00\",\"2019-12-31T00:00:00\",\"2020-01-31T00:00:00\",\"2020-02-29T00:00:00\",\"2020-03-31T00:00:00\",\"2020-04-30T00:00:00\",\"2020-05-31T00:00:00\",\"2020-06-30T00:00:00\",\"2020-07-31T00:00:00\",\"2020-08-31T00:00:00\",\"2020-09-30T00:00:00\",\"2020-10-31T00:00:00\",\"2020-11-30T00:00:00\",\"2020-12-31T00:00:00\",\"2021-01-31T00:00:00\",\"2021-02-28T00:00:00\",\"2021-03-31T00:00:00\",\"2021-04-30T00:00:00\",\"2021-05-31T00:00:00\",\"2021-06-30T00:00:00\",\"2021-07-31T00:00:00\",\"2021-08-31T00:00:00\",\"2021-09-30T00:00:00\",\"2021-10-31T00:00:00\",\"2021-11-30T00:00:00\",\"2021-12-31T00:00:00\",\"2022-01-31T00:00:00\",\"2022-02-28T00:00:00\",\"2022-03-31T00:00:00\",\"2022-04-30T00:00:00\",\"2022-05-31T00:00:00\",\"2022-06-30T00:00:00\",\"2022-07-31T00:00:00\",\"2022-08-31T00:00:00\",\"2022-09-30T00:00:00\",\"2022-10-31T00:00:00\",\"2022-11-30T00:00:00\",\"2022-12-31T00:00:00\",\"2023-01-31T00:00:00\",\"2023-02-28T00:00:00\",\"2023-03-31T00:00:00\",\"2023-04-30T00:00:00\",\"2023-05-31T00:00:00\",\"2023-06-30T00:00:00\",\"2023-07-31T00:00:00\",\"2023-08-31T00:00:00\",\"2023-09-30T00:00:00\",\"2023-10-31T00:00:00\",\"2023-11-30T00:00:00\",\"2023-12-31T00:00:00\"],\"y\":[0.05163655865352041,0.05132329403232339,0.051020134721487566,0.05070687010029054,0.05039360547909352,0.050090446171690665,0.04977718155404104,0.04947402224663818,0.049160757608322364,0.048847492970006574,0.048564544264431,0.0482512796261152,0.04794812031644299,0.04763485569644836,0.047331696386776145,0.047018431766781506,0.04670516714347448,0.046402007830596705,0.046088743207289666,0.04578558388786803,0.045472319257798995,0.04515905462772997,0.04487610592960311,0.04456284129461972,0.04425968197044226,0.04394641733545888,0.04364325801128141,0.04332999336362021,0.043016728715959004,0.04271356937951267,0.04240030472902479,0.04209714538984296,0.04178388073935508,0.04147061608886719,0.04118766737144914,0.04087440272002201,0.040571243379931246,0.04025797872850412,0.03995481940594943,0.03964155477264292,0.039328290139336405,0.03902513081490646,0.03871186617966218,0.03840870685523223,0.03809544221998796,0.03778217760457211,0.03748912360950567,0.03717585899408982,0.036872699688848674,0.036559435071517425,0.036256275764422675,0.035943011147091426,0.03562974652976019,0.0353276255862735,0.0350154339446706,0.03471331300118392,0.03440112137802825,0.03408892975487258,0.03380695022428036,0.03349475860112469,0.03319263767378091,0.03288044604885901,0.032578325121515234,0.032266133496593324,0.03195394186393459,0.03165182092910356,0.03133962929644483,0.031037508356393167,0.030725316718339793,0.03041312508028641,0.03013114553623819,0.029818953889222018,0.029516832940496694,0.029204641293480525,0.028902520344755194,0.028590328698408798,0.028278137052062398,0.027976016103985236,0.027663824455977006,0.027361703506291624,0.02704951185828339,0.02673732021027516,0.026455340663102074,0.026143149021589016,0.025841028078189276,0.025528836436676215,0.025226715508904256,0.024914523883539902,0.02460233225817555,0.024300211331249887,0.02398801970676003,0.023685898779834364,0.02337370715534451,0.023061515524513885,0.022769465289220726,0.022457273658390103,0.022155152725328215,0.02184296109449759,0.021540840161435704,0.02122864853060508,0.020916456899774456,0.02061433596671257,0.020302144335881945,0.020000023402820057,0.019687831771989434,0.019375640141158813,0.01909366060363438,0.018781468972803764,0.01847934803974187,0.018167156408911245,0.017865035475849358,0.017552843845018734,0.017240652214188114,0.016938531281126223,0.016626339650295602,0.01632421871723371,0.01601202708640309,0.01569983568292275,0.015417871022392289,0.015105709015385464,0.014803636640496613,0.014491499210601439,0.014189429669765392,0.013877305367746456,0.013565187371747419,0.01326313758511921,0.012951033165021041,0.012649006544240138,0.012336916932060831,0.012024823156190032,0.011742919615390257,0.011430854137091946,0.011128829020721393,0.010816754356279103,0.010514729642313987,0.010202642484051698,0.009890561985624421,0.009588572215900261,0.009276500160358556,0.008974512113037441,0.008662460473596376],\"type\":\"scatter\",\"xaxis\":\"x\",\"yaxis\":\"y\"},{\"fill\":\"tonexty\",\"fillcolor\":\"rgba(0, 114, 178, 0.2)\",\"line\":{\"color\":\"rgba(0, 114, 178, 0.2)\",\"width\":0},\"mode\":\"lines\",\"name\":\"trend_lower\",\"x\":[\"2012-04-30T00:00:00\",\"2012-05-31T00:00:00\",\"2012-06-30T00:00:00\",\"2012-07-31T00:00:00\",\"2012-08-31T00:00:00\",\"2012-09-30T00:00:00\",\"2012-10-31T00:00:00\",\"2012-11-30T00:00:00\",\"2012-12-31T00:00:00\",\"2013-01-31T00:00:00\",\"2013-02-28T00:00:00\",\"2013-03-31T00:00:00\",\"2013-04-30T00:00:00\",\"2013-05-31T00:00:00\",\"2013-06-30T00:00:00\",\"2013-07-31T00:00:00\",\"2013-08-31T00:00:00\",\"2013-09-30T00:00:00\",\"2013-10-31T00:00:00\",\"2013-11-30T00:00:00\",\"2013-12-31T00:00:00\",\"2014-01-31T00:00:00\",\"2014-02-28T00:00:00\",\"2014-03-31T00:00:00\",\"2014-04-30T00:00:00\",\"2014-05-31T00:00:00\",\"2014-06-30T00:00:00\",\"2014-07-31T00:00:00\",\"2014-08-31T00:00:00\",\"2014-09-30T00:00:00\",\"2014-10-31T00:00:00\",\"2014-11-30T00:00:00\",\"2014-12-31T00:00:00\",\"2015-01-31T00:00:00\",\"2015-02-28T00:00:00\",\"2015-03-31T00:00:00\",\"2015-04-30T00:00:00\",\"2015-05-31T00:00:00\",\"2015-06-30T00:00:00\",\"2015-07-31T00:00:00\",\"2015-08-31T00:00:00\",\"2015-09-30T00:00:00\",\"2015-10-31T00:00:00\",\"2015-11-30T00:00:00\",\"2015-12-31T00:00:00\",\"2016-01-31T00:00:00\",\"2016-02-29T00:00:00\",\"2016-03-31T00:00:00\",\"2016-04-30T00:00:00\",\"2016-05-31T00:00:00\",\"2016-06-30T00:00:00\",\"2016-07-31T00:00:00\",\"2016-08-31T00:00:00\",\"2016-09-30T00:00:00\",\"2016-10-31T00:00:00\",\"2016-11-30T00:00:00\",\"2016-12-31T00:00:00\",\"2017-01-31T00:00:00\",\"2017-02-28T00:00:00\",\"2017-03-31T00:00:00\",\"2017-04-30T00:00:00\",\"2017-05-31T00:00:00\",\"2017-06-30T00:00:00\",\"2017-07-31T00:00:00\",\"2017-08-31T00:00:00\",\"2017-09-30T00:00:00\",\"2017-10-31T00:00:00\",\"2017-11-30T00:00:00\",\"2017-12-31T00:00:00\",\"2018-01-31T00:00:00\",\"2018-02-28T00:00:00\",\"2018-03-31T00:00:00\",\"2018-04-30T00:00:00\",\"2018-05-31T00:00:00\",\"2018-06-30T00:00:00\",\"2018-07-31T00:00:00\",\"2018-08-31T00:00:00\",\"2018-09-30T00:00:00\",\"2018-10-31T00:00:00\",\"2018-11-30T00:00:00\",\"2018-12-31T00:00:00\",\"2019-01-31T00:00:00\",\"2019-02-28T00:00:00\",\"2019-03-31T00:00:00\",\"2019-04-30T00:00:00\",\"2019-05-31T00:00:00\",\"2019-06-30T00:00:00\",\"2019-07-31T00:00:00\",\"2019-08-31T00:00:00\",\"2019-09-30T00:00:00\",\"2019-10-31T00:00:00\",\"2019-11-30T00:00:00\",\"2019-12-31T00:00:00\",\"2020-01-31T00:00:00\",\"2020-02-29T00:00:00\",\"2020-03-31T00:00:00\",\"2020-04-30T00:00:00\",\"2020-05-31T00:00:00\",\"2020-06-30T00:00:00\",\"2020-07-31T00:00:00\",\"2020-08-31T00:00:00\",\"2020-09-30T00:00:00\",\"2020-10-31T00:00:00\",\"2020-11-30T00:00:00\",\"2020-12-31T00:00:00\",\"2021-01-31T00:00:00\",\"2021-02-28T00:00:00\",\"2021-03-31T00:00:00\",\"2021-04-30T00:00:00\",\"2021-05-31T00:00:00\",\"2021-06-30T00:00:00\",\"2021-07-31T00:00:00\",\"2021-08-31T00:00:00\",\"2021-09-30T00:00:00\",\"2021-10-31T00:00:00\",\"2021-11-30T00:00:00\",\"2021-12-31T00:00:00\",\"2022-01-31T00:00:00\",\"2022-02-28T00:00:00\",\"2022-03-31T00:00:00\",\"2022-04-30T00:00:00\",\"2022-05-31T00:00:00\",\"2022-06-30T00:00:00\",\"2022-07-31T00:00:00\",\"2022-08-31T00:00:00\",\"2022-09-30T00:00:00\",\"2022-10-31T00:00:00\",\"2022-11-30T00:00:00\",\"2022-12-31T00:00:00\",\"2023-01-31T00:00:00\",\"2023-02-28T00:00:00\",\"2023-03-31T00:00:00\",\"2023-04-30T00:00:00\",\"2023-05-31T00:00:00\",\"2023-06-30T00:00:00\",\"2023-07-31T00:00:00\",\"2023-08-31T00:00:00\",\"2023-09-30T00:00:00\",\"2023-10-31T00:00:00\",\"2023-11-30T00:00:00\",\"2023-12-31T00:00:00\"],\"y\":[0.05163655865352041,0.05132329403232339,0.051020134721487566,0.05070687010029054,0.05039360547909352,0.050090446171690665,0.04977718155404104,0.04947402224663818,0.049160757608322364,0.048847492970006574,0.048564544264431,0.0482512796261152,0.04794812031644299,0.04763485569644836,0.047331696386776145,0.047018431766781506,0.04670516714347448,0.046402007830596705,0.046088743207289666,0.04578558388786803,0.045472319257798995,0.04515905462772997,0.04487610592960311,0.04456284129461972,0.04425968197044226,0.04394641733545888,0.04364325801128141,0.04332999336362021,0.043016728715959004,0.04271356937951267,0.04240030472902479,0.04209714538984296,0.04178388073935508,0.04147061608886719,0.04118766737144914,0.04087440272002201,0.040571243379931246,0.04025797872850412,0.03995481940594943,0.03964155477264292,0.039328290139336405,0.03902513081490646,0.03871186617966218,0.03840870685523223,0.03809544221998796,0.03778217760457211,0.03748912360950567,0.03717585899408982,0.036872699688848674,0.036559435071517425,0.036256275764422675,0.035943011147091426,0.03562974652976019,0.0353276255862735,0.0350154339446706,0.03471331300118392,0.03440112137802825,0.03408892975487258,0.03380695022428036,0.03349475860112469,0.03319263767378091,0.03288044604885901,0.032578325121515234,0.032266133496593324,0.03195394186393459,0.03165182092910356,0.03133962929644483,0.031037508356393167,0.030725316718339793,0.03041312508028641,0.03013114553623819,0.029818953889222018,0.029516832940496694,0.029204641293480525,0.028902520344755194,0.028590328698408798,0.028278137052062398,0.027976016103985236,0.027663824455977006,0.027361703506291624,0.02704951185828339,0.02673732021027516,0.026455340663102074,0.026143149021589016,0.025841028078189276,0.025528836436676215,0.025226715508904256,0.024914523883539902,0.02460233225817555,0.024300211331249887,0.02398801970676003,0.023685898779834364,0.02337370715534451,0.023061515524513885,0.022769465289220726,0.022457273658390103,0.022155152725328215,0.02184296109449759,0.021540840161435704,0.02122864853060508,0.020916456899774456,0.02061433596671257,0.020302144335881945,0.020000023402820057,0.019687831771989434,0.019375640141158813,0.01909366060363438,0.018781468972803764,0.01847934803974187,0.018167156408911245,0.017865035475849358,0.017552843845018734,0.017240652214188114,0.016938531281126223,0.016626339650295602,0.01632421871723371,0.01601202708640309,0.015699835455572467,0.015417835663157855,0.015105609422580555,0.014803442686723386,0.01449119343500885,0.014189020517182788,0.013876742903730104,0.013564462595713339,0.013262242476036822,0.0129499534153185,0.012647729381729774,0.012335440448566024,0.012023130866260043,0.011741040838494273,0.01142873663802186,0.011126517707286758,0.010814193688549047,0.010511949550517636,0.010199598559596863,0.009887254912045014,0.009584971092399426,0.009272584616531484,0.008970297292528276,0.008657955847185412],\"type\":\"scatter\",\"xaxis\":\"x\",\"yaxis\":\"y\"},{\"line\":{\"color\":\"#0072B2\",\"width\":2},\"mode\":\"lines\",\"name\":\"yearly\",\"x\":[\"2017-01-01T00:00:00\",\"2017-01-02T00:00:59.178082\",\"2017-01-03T00:01:58.356164\",\"2017-01-04T00:02:57.534246\",\"2017-01-05T00:03:56.712328\",\"2017-01-06T00:04:55.890411\",\"2017-01-07T00:05:55.068493\",\"2017-01-08T00:06:54.246575\",\"2017-01-09T00:07:53.424657\",\"2017-01-10T00:08:52.602739\",\"2017-01-11T00:09:51.780822\",\"2017-01-12T00:10:50.958904\",\"2017-01-13T00:11:50.136986\",\"2017-01-14T00:12:49.315068\",\"2017-01-15T00:13:48.493150\",\"2017-01-16T00:14:47.671232\",\"2017-01-17T00:15:46.849315\",\"2017-01-18T00:16:46.027397\",\"2017-01-19T00:17:45.205479\",\"2017-01-20T00:18:44.383561\",\"2017-01-21T00:19:43.561643\",\"2017-01-22T00:20:42.739726\",\"2017-01-23T00:21:41.917808\",\"2017-01-24T00:22:41.095890\",\"2017-01-25T00:23:40.273972\",\"2017-01-26T00:24:39.452054\",\"2017-01-27T00:25:38.630137\",\"2017-01-28T00:26:37.808219\",\"2017-01-29T00:27:36.986301\",\"2017-01-30T00:28:36.164383\",\"2017-01-31T00:29:35.342465\",\"2017-02-01T00:30:34.520547\",\"2017-02-02T00:31:33.698630\",\"2017-02-03T00:32:32.876712\",\"2017-02-04T00:33:32.054794\",\"2017-02-05T00:34:31.232876\",\"2017-02-06T00:35:30.410958\",\"2017-02-07T00:36:29.589041\",\"2017-02-08T00:37:28.767123\",\"2017-02-09T00:38:27.945205\",\"2017-02-10T00:39:27.123287\",\"2017-02-11T00:40:26.301369\",\"2017-02-12T00:41:25.479452\",\"2017-02-13T00:42:24.657534\",\"2017-02-14T00:43:23.835616\",\"2017-02-15T00:44:23.013698\",\"2017-02-16T00:45:22.191780\",\"2017-02-17T00:46:21.369862\",\"2017-02-18T00:47:20.547945\",\"2017-02-19T00:48:19.726027\",\"2017-02-20T00:49:18.904109\",\"2017-02-21T00:50:18.082191\",\"2017-02-22T00:51:17.260273\",\"2017-02-23T00:52:16.438356\",\"2017-02-24T00:53:15.616438\",\"2017-02-25T00:54:14.794520\",\"2017-02-26T00:55:13.972602\",\"2017-02-27T00:56:13.150684\",\"2017-02-28T00:57:12.328767\",\"2017-03-01T00:58:11.506849\",\"2017-03-02T00:59:10.684931\",\"2017-03-03T01:00:09.863013\",\"2017-03-04T01:01:09.041095\",\"2017-03-05T01:02:08.219177\",\"2017-03-06T01:03:07.397260\",\"2017-03-07T01:04:06.575342\",\"2017-03-08T01:05:05.753424\",\"2017-03-09T01:06:04.931506\",\"2017-03-10T01:07:04.109588\",\"2017-03-11T01:08:03.287671\",\"2017-03-12T01:09:02.465753\",\"2017-03-13T01:10:01.643835\",\"2017-03-14T01:11:00.821917\",\"2017-03-15T01:12:00\",\"2017-03-16T01:12:59.178082\",\"2017-03-17T01:13:58.356164\",\"2017-03-18T01:14:57.534246\",\"2017-03-19T01:15:56.712328\",\"2017-03-20T01:16:55.890411\",\"2017-03-21T01:17:55.068493\",\"2017-03-22T01:18:54.246575\",\"2017-03-23T01:19:53.424657\",\"2017-03-24T01:20:52.602739\",\"2017-03-25T01:21:51.780822\",\"2017-03-26T01:22:50.958904\",\"2017-03-27T01:23:50.136986\",\"2017-03-28T01:24:49.315068\",\"2017-03-29T01:25:48.493150\",\"2017-03-30T01:26:47.671232\",\"2017-03-31T01:27:46.849315\",\"2017-04-01T01:28:46.027397\",\"2017-04-02T01:29:45.205479\",\"2017-04-03T01:30:44.383561\",\"2017-04-04T01:31:43.561643\",\"2017-04-05T01:32:42.739726\",\"2017-04-06T01:33:41.917808\",\"2017-04-07T01:34:41.095890\",\"2017-04-08T01:35:40.273972\",\"2017-04-09T01:36:39.452054\",\"2017-04-10T01:37:38.630137\",\"2017-04-11T01:38:37.808219\",\"2017-04-12T01:39:36.986301\",\"2017-04-13T01:40:36.164383\",\"2017-04-14T01:41:35.342465\",\"2017-04-15T01:42:34.520547\",\"2017-04-16T01:43:33.698630\",\"2017-04-17T01:44:32.876712\",\"2017-04-18T01:45:32.054794\",\"2017-04-19T01:46:31.232876\",\"2017-04-20T01:47:30.410958\",\"2017-04-21T01:48:29.589041\",\"2017-04-22T01:49:28.767123\",\"2017-04-23T01:50:27.945205\",\"2017-04-24T01:51:27.123287\",\"2017-04-25T01:52:26.301369\",\"2017-04-26T01:53:25.479452\",\"2017-04-27T01:54:24.657534\",\"2017-04-28T01:55:23.835616\",\"2017-04-29T01:56:23.013698\",\"2017-04-30T01:57:22.191780\",\"2017-05-01T01:58:21.369862\",\"2017-05-02T01:59:20.547945\",\"2017-05-03T02:00:19.726027\",\"2017-05-04T02:01:18.904109\",\"2017-05-05T02:02:18.082191\",\"2017-05-06T02:03:17.260273\",\"2017-05-07T02:04:16.438356\",\"2017-05-08T02:05:15.616438\",\"2017-05-09T02:06:14.794520\",\"2017-05-10T02:07:13.972602\",\"2017-05-11T02:08:13.150684\",\"2017-05-12T02:09:12.328767\",\"2017-05-13T02:10:11.506849\",\"2017-05-14T02:11:10.684931\",\"2017-05-15T02:12:09.863013\",\"2017-05-16T02:13:09.041095\",\"2017-05-17T02:14:08.219177\",\"2017-05-18T02:15:07.397260\",\"2017-05-19T02:16:06.575342\",\"2017-05-20T02:17:05.753424\",\"2017-05-21T02:18:04.931506\",\"2017-05-22T02:19:04.109588\",\"2017-05-23T02:20:03.287671\",\"2017-05-24T02:21:02.465753\",\"2017-05-25T02:22:01.643835\",\"2017-05-26T02:23:00.821917\",\"2017-05-27T02:24:00\",\"2017-05-28T02:24:59.178082\",\"2017-05-29T02:25:58.356164\",\"2017-05-30T02:26:57.534246\",\"2017-05-31T02:27:56.712328\",\"2017-06-01T02:28:55.890411\",\"2017-06-02T02:29:55.068493\",\"2017-06-03T02:30:54.246575\",\"2017-06-04T02:31:53.424657\",\"2017-06-05T02:32:52.602739\",\"2017-06-06T02:33:51.780822\",\"2017-06-07T02:34:50.958904\",\"2017-06-08T02:35:50.136986\",\"2017-06-09T02:36:49.315068\",\"2017-06-10T02:37:48.493150\",\"2017-06-11T02:38:47.671232\",\"2017-06-12T02:39:46.849315\",\"2017-06-13T02:40:46.027397\",\"2017-06-14T02:41:45.205479\",\"2017-06-15T02:42:44.383561\",\"2017-06-16T02:43:43.561643\",\"2017-06-17T02:44:42.739726\",\"2017-06-18T02:45:41.917808\",\"2017-06-19T02:46:41.095890\",\"2017-06-20T02:47:40.273972\",\"2017-06-21T02:48:39.452054\",\"2017-06-22T02:49:38.630137\",\"2017-06-23T02:50:37.808219\",\"2017-06-24T02:51:36.986301\",\"2017-06-25T02:52:36.164383\",\"2017-06-26T02:53:35.342465\",\"2017-06-27T02:54:34.520547\",\"2017-06-28T02:55:33.698630\",\"2017-06-29T02:56:32.876712\",\"2017-06-30T02:57:32.054794\",\"2017-07-01T02:58:31.232876\",\"2017-07-02T02:59:30.410958\",\"2017-07-03T03:00:29.589041\",\"2017-07-04T03:01:28.767123\",\"2017-07-05T03:02:27.945205\",\"2017-07-06T03:03:27.123287\",\"2017-07-07T03:04:26.301369\",\"2017-07-08T03:05:25.479452\",\"2017-07-09T03:06:24.657534\",\"2017-07-10T03:07:23.835616\",\"2017-07-11T03:08:23.013698\",\"2017-07-12T03:09:22.191780\",\"2017-07-13T03:10:21.369862\",\"2017-07-14T03:11:20.547945\",\"2017-07-15T03:12:19.726027\",\"2017-07-16T03:13:18.904109\",\"2017-07-17T03:14:18.082191\",\"2017-07-18T03:15:17.260273\",\"2017-07-19T03:16:16.438356\",\"2017-07-20T03:17:15.616438\",\"2017-07-21T03:18:14.794520\",\"2017-07-22T03:19:13.972602\",\"2017-07-23T03:20:13.150684\",\"2017-07-24T03:21:12.328767\",\"2017-07-25T03:22:11.506849\",\"2017-07-26T03:23:10.684931\",\"2017-07-27T03:24:09.863013\",\"2017-07-28T03:25:09.041095\",\"2017-07-29T03:26:08.219177\",\"2017-07-30T03:27:07.397260\",\"2017-07-31T03:28:06.575342\",\"2017-08-01T03:29:05.753424\",\"2017-08-02T03:30:04.931506\",\"2017-08-03T03:31:04.109588\",\"2017-08-04T03:32:03.287671\",\"2017-08-05T03:33:02.465753\",\"2017-08-06T03:34:01.643835\",\"2017-08-07T03:35:00.821917\",\"2017-08-08T03:36:00\",\"2017-08-09T03:36:59.178082\",\"2017-08-10T03:37:58.356164\",\"2017-08-11T03:38:57.534246\",\"2017-08-12T03:39:56.712328\",\"2017-08-13T03:40:55.890411\",\"2017-08-14T03:41:55.068493\",\"2017-08-15T03:42:54.246575\",\"2017-08-16T03:43:53.424657\",\"2017-08-17T03:44:52.602739\",\"2017-08-18T03:45:51.780822\",\"2017-08-19T03:46:50.958904\",\"2017-08-20T03:47:50.136986\",\"2017-08-21T03:48:49.315068\",\"2017-08-22T03:49:48.493150\",\"2017-08-23T03:50:47.671232\",\"2017-08-24T03:51:46.849315\",\"2017-08-25T03:52:46.027397\",\"2017-08-26T03:53:45.205479\",\"2017-08-27T03:54:44.383561\",\"2017-08-28T03:55:43.561643\",\"2017-08-29T03:56:42.739726\",\"2017-08-30T03:57:41.917808\",\"2017-08-31T03:58:41.095890\",\"2017-09-01T03:59:40.273972\",\"2017-09-02T04:00:39.452054\",\"2017-09-03T04:01:38.630137\",\"2017-09-04T04:02:37.808219\",\"2017-09-05T04:03:36.986301\",\"2017-09-06T04:04:36.164383\",\"2017-09-07T04:05:35.342465\",\"2017-09-08T04:06:34.520547\",\"2017-09-09T04:07:33.698630\",\"2017-09-10T04:08:32.876712\",\"2017-09-11T04:09:32.054794\",\"2017-09-12T04:10:31.232876\",\"2017-09-13T04:11:30.410958\",\"2017-09-14T04:12:29.589041\",\"2017-09-15T04:13:28.767123\",\"2017-09-16T04:14:27.945205\",\"2017-09-17T04:15:27.123287\",\"2017-09-18T04:16:26.301369\",\"2017-09-19T04:17:25.479452\",\"2017-09-20T04:18:24.657534\",\"2017-09-21T04:19:23.835616\",\"2017-09-22T04:20:23.013698\",\"2017-09-23T04:21:22.191780\",\"2017-09-24T04:22:21.369862\",\"2017-09-25T04:23:20.547945\",\"2017-09-26T04:24:19.726027\",\"2017-09-27T04:25:18.904109\",\"2017-09-28T04:26:18.082191\",\"2017-09-29T04:27:17.260273\",\"2017-09-30T04:28:16.438356\",\"2017-10-01T04:29:15.616438\",\"2017-10-02T04:30:14.794520\",\"2017-10-03T04:31:13.972602\",\"2017-10-04T04:32:13.150684\",\"2017-10-05T04:33:12.328767\",\"2017-10-06T04:34:11.506849\",\"2017-10-07T04:35:10.684931\",\"2017-10-08T04:36:09.863013\",\"2017-10-09T04:37:09.041095\",\"2017-10-10T04:38:08.219177\",\"2017-10-11T04:39:07.397260\",\"2017-10-12T04:40:06.575342\",\"2017-10-13T04:41:05.753424\",\"2017-10-14T04:42:04.931506\",\"2017-10-15T04:43:04.109588\",\"2017-10-16T04:44:03.287671\",\"2017-10-17T04:45:02.465753\",\"2017-10-18T04:46:01.643835\",\"2017-10-19T04:47:00.821917\",\"2017-10-20T04:48:00\",\"2017-10-21T04:48:59.178082\",\"2017-10-22T04:49:58.356164\",\"2017-10-23T04:50:57.534246\",\"2017-10-24T04:51:56.712328\",\"2017-10-25T04:52:55.890411\",\"2017-10-26T04:53:55.068493\",\"2017-10-27T04:54:54.246575\",\"2017-10-28T04:55:53.424657\",\"2017-10-29T04:56:52.602739\",\"2017-10-30T04:57:51.780822\",\"2017-10-31T04:58:50.958904\",\"2017-11-01T04:59:50.136986\",\"2017-11-02T05:00:49.315068\",\"2017-11-03T05:01:48.493150\",\"2017-11-04T05:02:47.671232\",\"2017-11-05T05:03:46.849315\",\"2017-11-06T05:04:46.027397\",\"2017-11-07T05:05:45.205479\",\"2017-11-08T05:06:44.383561\",\"2017-11-09T05:07:43.561643\",\"2017-11-10T05:08:42.739726\",\"2017-11-11T05:09:41.917808\",\"2017-11-12T05:10:41.095890\",\"2017-11-13T05:11:40.273972\",\"2017-11-14T05:12:39.452054\",\"2017-11-15T05:13:38.630137\",\"2017-11-16T05:14:37.808219\",\"2017-11-17T05:15:36.986301\",\"2017-11-18T05:16:36.164383\",\"2017-11-19T05:17:35.342465\",\"2017-11-20T05:18:34.520547\",\"2017-11-21T05:19:33.698630\",\"2017-11-22T05:20:32.876712\",\"2017-11-23T05:21:32.054794\",\"2017-11-24T05:22:31.232876\",\"2017-11-25T05:23:30.410958\",\"2017-11-26T05:24:29.589041\",\"2017-11-27T05:25:28.767123\",\"2017-11-28T05:26:27.945205\",\"2017-11-29T05:27:27.123287\",\"2017-11-30T05:28:26.301369\",\"2017-12-01T05:29:25.479452\",\"2017-12-02T05:30:24.657534\",\"2017-12-03T05:31:23.835616\",\"2017-12-04T05:32:23.013698\",\"2017-12-05T05:33:22.191780\",\"2017-12-06T05:34:21.369862\",\"2017-12-07T05:35:20.547945\",\"2017-12-08T05:36:19.726027\",\"2017-12-09T05:37:18.904109\",\"2017-12-10T05:38:18.082191\",\"2017-12-11T05:39:17.260273\",\"2017-12-12T05:40:16.438356\",\"2017-12-13T05:41:15.616438\",\"2017-12-14T05:42:14.794520\",\"2017-12-15T05:43:13.972602\",\"2017-12-16T05:44:13.150684\",\"2017-12-17T05:45:12.328767\",\"2017-12-18T05:46:11.506849\",\"2017-12-19T05:47:10.684931\",\"2017-12-20T05:48:09.863013\",\"2017-12-21T05:49:09.041095\",\"2017-12-22T05:50:08.219177\",\"2017-12-23T05:51:07.397260\",\"2017-12-24T05:52:06.575342\",\"2017-12-25T05:53:05.753424\",\"2017-12-26T05:54:04.931506\",\"2017-12-27T05:55:04.109588\",\"2017-12-28T05:56:03.287671\",\"2017-12-29T05:57:02.465753\",\"2017-12-30T05:58:01.643835\",\"2017-12-31T05:59:00.821917\"],\"y\":[-0.004060378952135838,-0.0011367782235649337,0.0018131512703702306,0.004686079877404097,0.007381979612759399,0.009807112146268098,0.011876786147061683,0.013517803529684557,0.014670524204939708,0.015290491059020701,0.015349570690438054,0.014836580504211742,0.01375738863765015,0.012134489386456998,0.01000607282535587,0.007424622686022544,0.004455090803638366,0.0011727091412818485,-0.0023394888334958975,-0.0059933571350066625,-0.009698450325246952,-0.01336487106200521,-0.016906062003100405,-0.020241454205621536,-0.02329888914223774,-0.026016739004213894,-0.028345659834121316,-0.03024992392612868,-0.03170829147822219,-0.03271439626109263,-0.03327663562463496,-0.033417571013468296,-0.03317286081779142,-0.03258976235744854,-0.03172525362147872,-0.030643837629862718,-0.0294151025643952,-0.028111118808282126,-0.026803759481521486,-0.025562033784681745,-0.024449522372210986,-0.023522001057030992,-0.02282533348065083,-0.02239370512912664,-0.02224826047637479,-0.02239619241098866,-0.022830318827313175,-0.023529165771247862,-0.024457560297384166,-0.025567719713434214,-0.026800807671590467,-0.02808891211671634,-0.0293573859036792,-0.030527478399400062,-0.03151917599247525,-0.03225416148290367,-0.032658797086774514,-0.03266703345516787,-0.03222314777384849,-0.03128421769467385,-0.029822244472351257,-0.027825848071383476,-0.025301468917866214,-0.02227402506612437,-0.01878698942990312,-0.014901868938766235,-0.010697085515428011,-0.006266277102452736,-0.0017160550475219557,0.0028367285559126073,0.0072681340070101085,0.011450623894596756,0.015256794130324713,0.018563241232324834,0.021254454653643864,0.02322661980083319,0.02439121754096058,0.024678309490521685,0.024039405158948486,0.022449816926103486,0.019910421621235713,0.016448762806774913,0.0121194453420152,0.007003792934755331,0.001208759652605085,-0.005134892806363142,-0.01187511947825302,-0.01884176534100223,-0.02585031558037442,-0.03270613388977017,-0.039209084791435936,-0.04515842368446303,-0.05035782911719173,-0.05462044593993727,-0.05777380571525698,-0.05966449214238948,-0.06016242428775717,-0.05916463899358747,-0.05659846575441631,-0.05242400230292788,-0.04663581674026316,-0.039263821814983065,-0.030373288369191388,-0.020063987448748922,-0.00846847350581501,0.004250456121263655,0.01790306831039994,0.03227669015340132,0.04714029758910802,0.06224958433418949,0.07735238564015978,0.09219432157796957,0.10652451831861769,0.12010126340977247,0.13269745242861214,0.14410568957690623,0.15414291365703783,0.16265443316951586,0.1695172696859623,0.1746427267499087,0.17797812184791253,0.17950764092631083,0.17925229789894304,0.1772690049797712,0.17364878283663474,0.16851416187409002,0.16201584680572415,0.1543287355081465,0.14564739945099997,0.13618114634057824,0.12614879563837533,0.11577330407444672,0.1052763809944952,0.0948732323222501,0.08476756712010036,0.07514699235374596,0.06617890976511384,0.0580070140673113,0.05074847443176478,0.044491861924990106,0.03929586472856557,0.03518881121954832,0.032168998914607796,0.03020580550372657,0.029241537316404536,0.02919395115145425,0.02995936798471305,0.0314162821154228,0.033429357214311235,0.03585369180571802,0.03853923116951303,0.04133520060834092,0.04409443651017083,0.046677496568348,0.048956438722108475,0.05081816958380403,0.052167276972525475,0.05292827725425405,0.05304722601389825,0.05249265962458045,0.051255854977985175,0.0493504144224874,0.046811202256719545,0.04369267739446767,0.04006668353739993,0.036019772904096144,0.03165015185943681,0.02706434634675948,0.022373691595150277,0.017690754001818534,0.013125793314768226,0.008783370288428237,0.004759198984141828,0.0011373340458775477,-0.002012228106640411,-0.0046354687970312615,-0.006695737282961852,-0.008174578193540703,-0.009071980185309102,-0.009406047441483593,-0.00921211302286786,-0.008541329679134381,-0.007458789061016245,-0.006041233894941352,-0.004374439200661792,-0.0025503477307929697,-0.0006640512383015349,0.0011892872302382645,0.0029174741420746587,0.004434195743166161,0.005661709182343377,0.006533233573196606,0.006994970130164664,0.00700769262498274,0.0065478631902102045,0.005608243516184799,0.004197987280794858,0.002342215734663608,8.109424764006353e-05,-0.0025315571749171617,-0.00543007232956184,-0.008539106616522846,-0.011776094024788016,-0.015053914759047798,-0.018283689073818974,-0.021377609617193646,-0.024251724034795814,-0.026828581741404758,-0.029039663550943107,-0.030827520099911243,-0.03214755447031111,-0.032969395810348225,-0.03327782370728733,-0.033073217178580354,-0.03237151697912038,-0.031203705014469146,-0.02961481953945869,-0.02766253905399248,-0.025415380948781263,-0.02295057260926784,-0.020351662501834025,-0.017705946454232523,-0.015101789673046956,-0.0126259278636443,-0.010360831057395742,-0.008382211407555242,-0.006756751376820584,-0.005540121560643296,-0.004775348103265128,-0.004491578561537464,-0.00470328250312223,-0.00540990948321687,-0.0065960127514042765,-0.008231832540544323,-0.010274318530860702,-0.01266855750326697,-0.015349559715090971,-0.018244346529657885,-0.021274272646939738,-0.02435750919358843,-0.027411609153413768,-0.030356074296259247,-0.03311484296152945,-0.03561862076321334,-0.037806981417646546,-0.03963017229111394,-0.04105056869202771,-0.042043732094483026,-0.04259904003290106,-0.04271986895803228,-0.0424233254739132,-0.0417395356442973,-0.04071051602245995,-0.039388663286833096,-0.03783491144491671,-0.03611661612391894,-0.034305234167951185,-0.032473873336796535,-0.030694791142394953,-0.029036923629808066,-0.027563524150034945,-0.026329988901177798,-0.02538194032484851,-0.024753631509880036,-0.024466724810467053,-0.024529486236782416,-0.02493642417428274,-0.02566838703365153,-0.026693119953158817,-0.027966266115498472,-0.02943278405186456,-0.031028738925845168,-0.032683413637664034,-0.0343216750441693,-0.03586652198588865,-0.037241735426070954,-0.03837454704421226,-0.03919824122640326,-0.03965460661465518,-0.039696157194191686,-0.03928804921491781,-0.03840962888030624,-0.037055556447615115,-0.03523646485597015,-0.03297912486303251,-0.03032610351875283,-0.027334918190223812,-0.024076703812671567,-0.02063442611263069,-0.017100687771023214,-0.01357518743092404,-0.010161902710155712,-0.006966077599249681,-0.0040911015223338305,-0.0016353716843051903,0.0003107680219802056,0.0016679193920101961,0.0023702652843115156,0.002367866236162465,0.0016285455751972064,0.0001393015268160813,-0.00209280202194518,-0.005040299741042121,-0.008655561880607081,-0.01287160544749315,-0.01760346423389333,-0.022750086059051804,-0.028196710041332434,-0.03381766242809346,-0.0394794969019715,-0.04504439473172099,-0.05037373196366921,-0.055331715307513143,-0.05978898563362174,-0.06362608815863106,-0.06673671146696206,-0.06903060341562013,-0.07043608054421584,-0.07090205862171209,-0.0703995450968598,-0.06892254910856262,-0.066488380930425,-0.0631373298056164,-0.058931726583641104,-0.053954414895482306,-0.04830667129826306,-0.042105630400435655,-0.03548128499456863,-0.028573143266178304,-0.021526634866039288,-0.014489364747479564,-0.007607317967574234,-0.001021120010859666,0.005137544430157042,0.010749255840546906,0.015709836421629517,0.01993289772439033,0.023351890577818273,0.025921602720330717,0.027619065286739953,0.0284438461290216,0.028417725367122584,0.027583766074472753,0.02600481009185342,0.023761445141487755,0.0209495042122025,0.017677171181401743,0.014061777456129314,0.010226382747109155,0.006296238698833882,0.0023952368314584045,-0.0013575579643181827,-0.004851190285969876,-0.007985821314974125,-0.010675376658155399,-0.012849762450609079,-0.014456590298657843,-0.01546236636594151,-0.015853115854302116,-0.015634430830340603,-0.014830946303512492,-0.013485266171670535,-0.011656376623501512,-0.009417599354115454,-0.006854150080437249],\"type\":\"scatter\",\"xaxis\":\"x2\",\"yaxis\":\"y2\"}],                        {\"template\":{\"data\":{\"bar\":[{\"error_x\":{\"color\":\"#2a3f5f\"},\"error_y\":{\"color\":\"#2a3f5f\"},\"marker\":{\"line\":{\"color\":\"#E5ECF6\",\"width\":0.5},\"pattern\":{\"fillmode\":\"overlay\",\"size\":10,\"solidity\":0.2}},\"type\":\"bar\"}],\"barpolar\":[{\"marker\":{\"line\":{\"color\":\"#E5ECF6\",\"width\":0.5},\"pattern\":{\"fillmode\":\"overlay\",\"size\":10,\"solidity\":0.2}},\"type\":\"barpolar\"}],\"carpet\":[{\"aaxis\":{\"endlinecolor\":\"#2a3f5f\",\"gridcolor\":\"white\",\"linecolor\":\"white\",\"minorgridcolor\":\"white\",\"startlinecolor\":\"#2a3f5f\"},\"baxis\":{\"endlinecolor\":\"#2a3f5f\",\"gridcolor\":\"white\",\"linecolor\":\"white\",\"minorgridcolor\":\"white\",\"startlinecolor\":\"#2a3f5f\"},\"type\":\"carpet\"}],\"choropleth\":[{\"colorbar\":{\"outlinewidth\":0,\"ticks\":\"\"},\"type\":\"choropleth\"}],\"contour\":[{\"colorbar\":{\"outlinewidth\":0,\"ticks\":\"\"},\"colorscale\":[[0.0,\"#0d0887\"],[0.1111111111111111,\"#46039f\"],[0.2222222222222222,\"#7201a8\"],[0.3333333333333333,\"#9c179e\"],[0.4444444444444444,\"#bd3786\"],[0.5555555555555556,\"#d8576b\"],[0.6666666666666666,\"#ed7953\"],[0.7777777777777778,\"#fb9f3a\"],[0.8888888888888888,\"#fdca26\"],[1.0,\"#f0f921\"]],\"type\":\"contour\"}],\"contourcarpet\":[{\"colorbar\":{\"outlinewidth\":0,\"ticks\":\"\"},\"type\":\"contourcarpet\"}],\"heatmap\":[{\"colorbar\":{\"outlinewidth\":0,\"ticks\":\"\"},\"colorscale\":[[0.0,\"#0d0887\"],[0.1111111111111111,\"#46039f\"],[0.2222222222222222,\"#7201a8\"],[0.3333333333333333,\"#9c179e\"],[0.4444444444444444,\"#bd3786\"],[0.5555555555555556,\"#d8576b\"],[0.6666666666666666,\"#ed7953\"],[0.7777777777777778,\"#fb9f3a\"],[0.8888888888888888,\"#fdca26\"],[1.0,\"#f0f921\"]],\"type\":\"heatmap\"}],\"heatmapgl\":[{\"colorbar\":{\"outlinewidth\":0,\"ticks\":\"\"},\"colorscale\":[[0.0,\"#0d0887\"],[0.1111111111111111,\"#46039f\"],[0.2222222222222222,\"#7201a8\"],[0.3333333333333333,\"#9c179e\"],[0.4444444444444444,\"#bd3786\"],[0.5555555555555556,\"#d8576b\"],[0.6666666666666666,\"#ed7953\"],[0.7777777777777778,\"#fb9f3a\"],[0.8888888888888888,\"#fdca26\"],[1.0,\"#f0f921\"]],\"type\":\"heatmapgl\"}],\"histogram\":[{\"marker\":{\"pattern\":{\"fillmode\":\"overlay\",\"size\":10,\"solidity\":0.2}},\"type\":\"histogram\"}],\"histogram2d\":[{\"colorbar\":{\"outlinewidth\":0,\"ticks\":\"\"},\"colorscale\":[[0.0,\"#0d0887\"],[0.1111111111111111,\"#46039f\"],[0.2222222222222222,\"#7201a8\"],[0.3333333333333333,\"#9c179e\"],[0.4444444444444444,\"#bd3786\"],[0.5555555555555556,\"#d8576b\"],[0.6666666666666666,\"#ed7953\"],[0.7777777777777778,\"#fb9f3a\"],[0.8888888888888888,\"#fdca26\"],[1.0,\"#f0f921\"]],\"type\":\"histogram2d\"}],\"histogram2dcontour\":[{\"colorbar\":{\"outlinewidth\":0,\"ticks\":\"\"},\"colorscale\":[[0.0,\"#0d0887\"],[0.1111111111111111,\"#46039f\"],[0.2222222222222222,\"#7201a8\"],[0.3333333333333333,\"#9c179e\"],[0.4444444444444444,\"#bd3786\"],[0.5555555555555556,\"#d8576b\"],[0.6666666666666666,\"#ed7953\"],[0.7777777777777778,\"#fb9f3a\"],[0.8888888888888888,\"#fdca26\"],[1.0,\"#f0f921\"]],\"type\":\"histogram2dcontour\"}],\"mesh3d\":[{\"colorbar\":{\"outlinewidth\":0,\"ticks\":\"\"},\"type\":\"mesh3d\"}],\"parcoords\":[{\"line\":{\"colorbar\":{\"outlinewidth\":0,\"ticks\":\"\"}},\"type\":\"parcoords\"}],\"pie\":[{\"automargin\":true,\"type\":\"pie\"}],\"scatter\":[{\"marker\":{\"colorbar\":{\"outlinewidth\":0,\"ticks\":\"\"}},\"type\":\"scatter\"}],\"scatter3d\":[{\"line\":{\"colorbar\":{\"outlinewidth\":0,\"ticks\":\"\"}},\"marker\":{\"colorbar\":{\"outlinewidth\":0,\"ticks\":\"\"}},\"type\":\"scatter3d\"}],\"scattercarpet\":[{\"marker\":{\"colorbar\":{\"outlinewidth\":0,\"ticks\":\"\"}},\"type\":\"scattercarpet\"}],\"scattergeo\":[{\"marker\":{\"colorbar\":{\"outlinewidth\":0,\"ticks\":\"\"}},\"type\":\"scattergeo\"}],\"scattergl\":[{\"marker\":{\"colorbar\":{\"outlinewidth\":0,\"ticks\":\"\"}},\"type\":\"scattergl\"}],\"scattermapbox\":[{\"marker\":{\"colorbar\":{\"outlinewidth\":0,\"ticks\":\"\"}},\"type\":\"scattermapbox\"}],\"scatterpolar\":[{\"marker\":{\"colorbar\":{\"outlinewidth\":0,\"ticks\":\"\"}},\"type\":\"scatterpolar\"}],\"scatterpolargl\":[{\"marker\":{\"colorbar\":{\"outlinewidth\":0,\"ticks\":\"\"}},\"type\":\"scatterpolargl\"}],\"scatterternary\":[{\"marker\":{\"colorbar\":{\"outlinewidth\":0,\"ticks\":\"\"}},\"type\":\"scatterternary\"}],\"surface\":[{\"colorbar\":{\"outlinewidth\":0,\"ticks\":\"\"},\"colorscale\":[[0.0,\"#0d0887\"],[0.1111111111111111,\"#46039f\"],[0.2222222222222222,\"#7201a8\"],[0.3333333333333333,\"#9c179e\"],[0.4444444444444444,\"#bd3786\"],[0.5555555555555556,\"#d8576b\"],[0.6666666666666666,\"#ed7953\"],[0.7777777777777778,\"#fb9f3a\"],[0.8888888888888888,\"#fdca26\"],[1.0,\"#f0f921\"]],\"type\":\"surface\"}],\"table\":[{\"cells\":{\"fill\":{\"color\":\"#EBF0F8\"},\"line\":{\"color\":\"white\"}},\"header\":{\"fill\":{\"color\":\"#C8D4E3\"},\"line\":{\"color\":\"white\"}},\"type\":\"table\"}]},\"layout\":{\"annotationdefaults\":{\"arrowcolor\":\"#2a3f5f\",\"arrowhead\":0,\"arrowwidth\":1},\"autotypenumbers\":\"strict\",\"coloraxis\":{\"colorbar\":{\"outlinewidth\":0,\"ticks\":\"\"}},\"colorscale\":{\"diverging\":[[0,\"#8e0152\"],[0.1,\"#c51b7d\"],[0.2,\"#de77ae\"],[0.3,\"#f1b6da\"],[0.4,\"#fde0ef\"],[0.5,\"#f7f7f7\"],[0.6,\"#e6f5d0\"],[0.7,\"#b8e186\"],[0.8,\"#7fbc41\"],[0.9,\"#4d9221\"],[1,\"#276419\"]],\"sequential\":[[0.0,\"#0d0887\"],[0.1111111111111111,\"#46039f\"],[0.2222222222222222,\"#7201a8\"],[0.3333333333333333,\"#9c179e\"],[0.4444444444444444,\"#bd3786\"],[0.5555555555555556,\"#d8576b\"],[0.6666666666666666,\"#ed7953\"],[0.7777777777777778,\"#fb9f3a\"],[0.8888888888888888,\"#fdca26\"],[1.0,\"#f0f921\"]],\"sequentialminus\":[[0.0,\"#0d0887\"],[0.1111111111111111,\"#46039f\"],[0.2222222222222222,\"#7201a8\"],[0.3333333333333333,\"#9c179e\"],[0.4444444444444444,\"#bd3786\"],[0.5555555555555556,\"#d8576b\"],[0.6666666666666666,\"#ed7953\"],[0.7777777777777778,\"#fb9f3a\"],[0.8888888888888888,\"#fdca26\"],[1.0,\"#f0f921\"]]},\"colorway\":[\"#636efa\",\"#EF553B\",\"#00cc96\",\"#ab63fa\",\"#FFA15A\",\"#19d3f3\",\"#FF6692\",\"#B6E880\",\"#FF97FF\",\"#FECB52\"],\"font\":{\"color\":\"#2a3f5f\"},\"geo\":{\"bgcolor\":\"white\",\"lakecolor\":\"white\",\"landcolor\":\"#E5ECF6\",\"showlakes\":true,\"showland\":true,\"subunitcolor\":\"white\"},\"hoverlabel\":{\"align\":\"left\"},\"hovermode\":\"closest\",\"mapbox\":{\"style\":\"light\"},\"paper_bgcolor\":\"white\",\"plot_bgcolor\":\"#E5ECF6\",\"polar\":{\"angularaxis\":{\"gridcolor\":\"white\",\"linecolor\":\"white\",\"ticks\":\"\"},\"bgcolor\":\"#E5ECF6\",\"radialaxis\":{\"gridcolor\":\"white\",\"linecolor\":\"white\",\"ticks\":\"\"}},\"scene\":{\"xaxis\":{\"backgroundcolor\":\"#E5ECF6\",\"gridcolor\":\"white\",\"gridwidth\":2,\"linecolor\":\"white\",\"showbackground\":true,\"ticks\":\"\",\"zerolinecolor\":\"white\"},\"yaxis\":{\"backgroundcolor\":\"#E5ECF6\",\"gridcolor\":\"white\",\"gridwidth\":2,\"linecolor\":\"white\",\"showbackground\":true,\"ticks\":\"\",\"zerolinecolor\":\"white\"},\"zaxis\":{\"backgroundcolor\":\"#E5ECF6\",\"gridcolor\":\"white\",\"gridwidth\":2,\"linecolor\":\"white\",\"showbackground\":true,\"ticks\":\"\",\"zerolinecolor\":\"white\"}},\"shapedefaults\":{\"line\":{\"color\":\"#2a3f5f\"}},\"ternary\":{\"aaxis\":{\"gridcolor\":\"white\",\"linecolor\":\"white\",\"ticks\":\"\"},\"baxis\":{\"gridcolor\":\"white\",\"linecolor\":\"white\",\"ticks\":\"\"},\"bgcolor\":\"#E5ECF6\",\"caxis\":{\"gridcolor\":\"white\",\"linecolor\":\"white\",\"ticks\":\"\"}},\"title\":{\"x\":0.05},\"xaxis\":{\"automargin\":true,\"gridcolor\":\"white\",\"linecolor\":\"white\",\"ticks\":\"\",\"title\":{\"standoff\":15},\"zerolinecolor\":\"white\",\"zerolinewidth\":2},\"yaxis\":{\"automargin\":true,\"gridcolor\":\"white\",\"linecolor\":\"white\",\"ticks\":\"\",\"title\":{\"standoff\":15},\"zerolinecolor\":\"white\",\"zerolinewidth\":2}}},\"xaxis\":{\"anchor\":\"y\",\"domain\":[0.0,1.0],\"range\":[\"2011-09-29T21:36:00\",\"2024-07-31T02:24:00\"],\"type\":\"date\"},\"yaxis\":{\"anchor\":\"x\",\"domain\":[0.575,1.0],\"title\":{\"text\":\"trend\"},\"rangemode\":\"normal\",\"zerolinecolor\":\"#AAA\"},\"xaxis2\":{\"anchor\":\"y2\",\"domain\":[0.0,1.0],\"range\":[\"2016-12-13T18:54:02.958904115\",\"2018-01-18T11:04:57.863013581\"],\"tickformat\":\"%B %e\",\"type\":\"date\"},\"yaxis2\":{\"anchor\":\"x2\",\"domain\":[0.0,0.425],\"title\":{\"text\":\"yearly\"},\"zerolinecolor\":\"#AAA\"},\"height\":400,\"showlegend\":false,\"width\":900},                        {\"responsive\": true}                    ).then(function(){\n",
       "                            \n",
       "var gd = document.getElementById('822b777c-4bcd-4f38-8dfb-026baea1f4b9');\n",
       "var x = new MutationObserver(function (mutations, observer) {{\n",
       "        var display = window.getComputedStyle(gd).display;\n",
       "        if (!display || display === 'none') {{\n",
       "            console.log([gd, 'removed!']);\n",
       "            Plotly.purge(gd);\n",
       "            observer.disconnect();\n",
       "        }}\n",
       "}});\n",
       "\n",
       "// Listen for the removal of the full notebook cells\n",
       "var notebookContainer = gd.closest('#notebook-container');\n",
       "if (notebookContainer) {{\n",
       "    x.observe(notebookContainer, {childList: true});\n",
       "}}\n",
       "\n",
       "// Listen for the clearing of the current output cell\n",
       "var outputEl = gd.closest('.output');\n",
       "if (outputEl) {{\n",
       "    x.observe(outputEl, {childList: true});\n",
       "}}\n",
       "\n",
       "                        })                };                });            </script>        </div>"
      ]
     },
     "metadata": {},
     "output_type": "display_data"
    }
   ],
   "source": [
    "plot_plotly(m, forecast)\n",
    "plot_components_plotly(m, forecast)"
   ]
  },
  {
   "cell_type": "code",
   "execution_count": null,
   "id": "9b448483",
   "metadata": {},
   "outputs": [],
   "source": []
  },
  {
   "cell_type": "markdown",
   "id": "e7effe82",
   "metadata": {},
   "source": [
    " ### Prophet with weekly data"
   ]
  },
  {
   "cell_type": "code",
   "execution_count": 17,
   "id": "6371b5f1",
   "metadata": {},
   "outputs": [],
   "source": [
    "# RESAMPLE DATA FROM DAILY TO WEEKLY\n",
    "df_w = df.copy()\n",
    "df_w.set_index('ds', inplace=True)\n",
    "df_w.index = pd.to_datetime(df_w.index)\n",
    "df_w = df_w.resample('1W').mean()"
   ]
  },
  {
   "cell_type": "code",
   "execution_count": 18,
   "id": "7a92debe",
   "metadata": {},
   "outputs": [
    {
     "data": {
      "text/html": [
       "<div>\n",
       "<style scoped>\n",
       "    .dataframe tbody tr th:only-of-type {\n",
       "        vertical-align: middle;\n",
       "    }\n",
       "\n",
       "    .dataframe tbody tr th {\n",
       "        vertical-align: top;\n",
       "    }\n",
       "\n",
       "    .dataframe thead th {\n",
       "        text-align: right;\n",
       "    }\n",
       "</style>\n",
       "<table border=\"1\" class=\"dataframe\">\n",
       "  <thead>\n",
       "    <tr style=\"text-align: right;\">\n",
       "      <th></th>\n",
       "      <th>y</th>\n",
       "    </tr>\n",
       "    <tr>\n",
       "      <th>ds</th>\n",
       "      <th></th>\n",
       "    </tr>\n",
       "  </thead>\n",
       "  <tbody>\n",
       "    <tr>\n",
       "      <th>2012-05-06</th>\n",
       "      <td>0.261288</td>\n",
       "    </tr>\n",
       "    <tr>\n",
       "      <th>2012-05-13</th>\n",
       "      <td>NaN</td>\n",
       "    </tr>\n",
       "    <tr>\n",
       "      <th>2012-05-20</th>\n",
       "      <td>0.240987</td>\n",
       "    </tr>\n",
       "    <tr>\n",
       "      <th>2012-05-27</th>\n",
       "      <td>NaN</td>\n",
       "    </tr>\n",
       "    <tr>\n",
       "      <th>2012-06-03</th>\n",
       "      <td>NaN</td>\n",
       "    </tr>\n",
       "    <tr>\n",
       "      <th>...</th>\n",
       "      <td>...</td>\n",
       "    </tr>\n",
       "    <tr>\n",
       "      <th>2021-04-18</th>\n",
       "      <td>0.240618</td>\n",
       "    </tr>\n",
       "    <tr>\n",
       "      <th>2021-04-25</th>\n",
       "      <td>NaN</td>\n",
       "    </tr>\n",
       "    <tr>\n",
       "      <th>2021-05-02</th>\n",
       "      <td>NaN</td>\n",
       "    </tr>\n",
       "    <tr>\n",
       "      <th>2021-05-09</th>\n",
       "      <td>NaN</td>\n",
       "    </tr>\n",
       "    <tr>\n",
       "      <th>2021-05-16</th>\n",
       "      <td>0.243283</td>\n",
       "    </tr>\n",
       "  </tbody>\n",
       "</table>\n",
       "<p>472 rows × 1 columns</p>\n",
       "</div>"
      ],
      "text/plain": [
       "                   y\n",
       "ds                  \n",
       "2012-05-06  0.261288\n",
       "2012-05-13       NaN\n",
       "2012-05-20  0.240987\n",
       "2012-05-27       NaN\n",
       "2012-06-03       NaN\n",
       "...              ...\n",
       "2021-04-18  0.240618\n",
       "2021-04-25       NaN\n",
       "2021-05-02       NaN\n",
       "2021-05-09       NaN\n",
       "2021-05-16  0.243283\n",
       "\n",
       "[472 rows x 1 columns]"
      ]
     },
     "execution_count": 18,
     "metadata": {},
     "output_type": "execute_result"
    }
   ],
   "source": [
    "df_w"
   ]
  },
  {
   "cell_type": "code",
   "execution_count": 19,
   "id": "53783f50",
   "metadata": {},
   "outputs": [],
   "source": [
    "df_w['y'] = df_w['y'].fillna(0)"
   ]
  },
  {
   "cell_type": "code",
   "execution_count": 20,
   "id": "10bc1998",
   "metadata": {},
   "outputs": [],
   "source": [
    "df_w.reset_index('ds', inplace=True)"
   ]
  },
  {
   "cell_type": "code",
   "execution_count": 21,
   "id": "8cee50bc",
   "metadata": {},
   "outputs": [
    {
     "data": {
      "text/html": [
       "<div>\n",
       "<style scoped>\n",
       "    .dataframe tbody tr th:only-of-type {\n",
       "        vertical-align: middle;\n",
       "    }\n",
       "\n",
       "    .dataframe tbody tr th {\n",
       "        vertical-align: top;\n",
       "    }\n",
       "\n",
       "    .dataframe thead th {\n",
       "        text-align: right;\n",
       "    }\n",
       "</style>\n",
       "<table border=\"1\" class=\"dataframe\">\n",
       "  <thead>\n",
       "    <tr style=\"text-align: right;\">\n",
       "      <th></th>\n",
       "      <th>ds</th>\n",
       "      <th>y</th>\n",
       "    </tr>\n",
       "  </thead>\n",
       "  <tbody>\n",
       "    <tr>\n",
       "      <th>0</th>\n",
       "      <td>2012-05-06</td>\n",
       "      <td>0.261288</td>\n",
       "    </tr>\n",
       "    <tr>\n",
       "      <th>1</th>\n",
       "      <td>2012-05-13</td>\n",
       "      <td>0.000000</td>\n",
       "    </tr>\n",
       "    <tr>\n",
       "      <th>2</th>\n",
       "      <td>2012-05-20</td>\n",
       "      <td>0.240987</td>\n",
       "    </tr>\n",
       "    <tr>\n",
       "      <th>3</th>\n",
       "      <td>2012-05-27</td>\n",
       "      <td>0.000000</td>\n",
       "    </tr>\n",
       "    <tr>\n",
       "      <th>4</th>\n",
       "      <td>2012-06-03</td>\n",
       "      <td>0.000000</td>\n",
       "    </tr>\n",
       "    <tr>\n",
       "      <th>...</th>\n",
       "      <td>...</td>\n",
       "      <td>...</td>\n",
       "    </tr>\n",
       "    <tr>\n",
       "      <th>467</th>\n",
       "      <td>2021-04-18</td>\n",
       "      <td>0.240618</td>\n",
       "    </tr>\n",
       "    <tr>\n",
       "      <th>468</th>\n",
       "      <td>2021-04-25</td>\n",
       "      <td>0.000000</td>\n",
       "    </tr>\n",
       "    <tr>\n",
       "      <th>469</th>\n",
       "      <td>2021-05-02</td>\n",
       "      <td>0.000000</td>\n",
       "    </tr>\n",
       "    <tr>\n",
       "      <th>470</th>\n",
       "      <td>2021-05-09</td>\n",
       "      <td>0.000000</td>\n",
       "    </tr>\n",
       "    <tr>\n",
       "      <th>471</th>\n",
       "      <td>2021-05-16</td>\n",
       "      <td>0.243283</td>\n",
       "    </tr>\n",
       "  </tbody>\n",
       "</table>\n",
       "<p>472 rows × 2 columns</p>\n",
       "</div>"
      ],
      "text/plain": [
       "            ds         y\n",
       "0   2012-05-06  0.261288\n",
       "1   2012-05-13  0.000000\n",
       "2   2012-05-20  0.240987\n",
       "3   2012-05-27  0.000000\n",
       "4   2012-06-03  0.000000\n",
       "..         ...       ...\n",
       "467 2021-04-18  0.240618\n",
       "468 2021-04-25  0.000000\n",
       "469 2021-05-02  0.000000\n",
       "470 2021-05-09  0.000000\n",
       "471 2021-05-16  0.243283\n",
       "\n",
       "[472 rows x 2 columns]"
      ]
     },
     "execution_count": 21,
     "metadata": {},
     "output_type": "execute_result"
    }
   ],
   "source": [
    "df_w"
   ]
  },
  {
   "cell_type": "code",
   "execution_count": 22,
   "id": "2297a213",
   "metadata": {},
   "outputs": [
    {
     "name": "stderr",
     "output_type": "stream",
     "text": [
      "INFO:prophet:Disabling weekly seasonality. Run prophet with weekly_seasonality=True to override this.\n",
      "INFO:prophet:Disabling daily seasonality. Run prophet with daily_seasonality=True to override this.\n"
     ]
    },
    {
     "name": "stdout",
     "output_type": "stream",
     "text": [
      "Initial log joint probability = -133.058\n"
     ]
    },
    {
     "data": {
      "text/plain": [
       "<prophet.forecaster.Prophet at 0x7fb1d8cc8040>"
      ]
     },
     "execution_count": 22,
     "metadata": {},
     "output_type": "execute_result"
    },
    {
     "name": "stdout",
     "output_type": "stream",
     "text": [
      "    Iter      log prob        ||dx||      ||grad||       alpha      alpha0  # evals  Notes \n",
      "      99        563.17   1.06981e-05       94.5599      0.7093      0.7093      128   \n",
      "    Iter      log prob        ||dx||      ||grad||       alpha      alpha0  # evals  Notes \n",
      "     159       563.173   2.13814e-08       99.9772      0.2766           1      218   \n",
      "Optimization terminated normally: \n",
      "  Convergence detected: relative gradient magnitude is below tolerance\n"
     ]
    }
   ],
   "source": [
    "w = Prophet()\n",
    "w.fit(df_w)"
   ]
  },
  {
   "cell_type": "code",
   "execution_count": 23,
   "id": "57692711",
   "metadata": {},
   "outputs": [
    {
     "data": {
      "text/html": [
       "<div>\n",
       "<style scoped>\n",
       "    .dataframe tbody tr th:only-of-type {\n",
       "        vertical-align: middle;\n",
       "    }\n",
       "\n",
       "    .dataframe tbody tr th {\n",
       "        vertical-align: top;\n",
       "    }\n",
       "\n",
       "    .dataframe thead th {\n",
       "        text-align: right;\n",
       "    }\n",
       "</style>\n",
       "<table border=\"1\" class=\"dataframe\">\n",
       "  <thead>\n",
       "    <tr style=\"text-align: right;\">\n",
       "      <th></th>\n",
       "      <th>ds</th>\n",
       "    </tr>\n",
       "  </thead>\n",
       "  <tbody>\n",
       "    <tr>\n",
       "      <th>114</th>\n",
       "      <td>2021-07-11</td>\n",
       "    </tr>\n",
       "    <tr>\n",
       "      <th>115</th>\n",
       "      <td>2021-07-18</td>\n",
       "    </tr>\n",
       "    <tr>\n",
       "      <th>116</th>\n",
       "      <td>2021-07-25</td>\n",
       "    </tr>\n",
       "    <tr>\n",
       "      <th>117</th>\n",
       "      <td>2021-08-01</td>\n",
       "    </tr>\n",
       "    <tr>\n",
       "      <th>118</th>\n",
       "      <td>2021-08-08</td>\n",
       "    </tr>\n",
       "  </tbody>\n",
       "</table>\n",
       "</div>"
      ],
      "text/plain": [
       "            ds\n",
       "114 2021-07-11\n",
       "115 2021-07-18\n",
       "116 2021-07-25\n",
       "117 2021-08-01\n",
       "118 2021-08-08"
      ]
     },
     "execution_count": 23,
     "metadata": {},
     "output_type": "execute_result"
    }
   ],
   "source": [
    "future = m.make_future_dataframe(periods=10,freq = \"w\")\n",
    "future.tail()"
   ]
  },
  {
   "cell_type": "code",
   "execution_count": 24,
   "id": "72472cfc",
   "metadata": {},
   "outputs": [
    {
     "data": {
      "text/html": [
       "<div>\n",
       "<style scoped>\n",
       "    .dataframe tbody tr th:only-of-type {\n",
       "        vertical-align: middle;\n",
       "    }\n",
       "\n",
       "    .dataframe tbody tr th {\n",
       "        vertical-align: top;\n",
       "    }\n",
       "\n",
       "    .dataframe thead th {\n",
       "        text-align: right;\n",
       "    }\n",
       "</style>\n",
       "<table border=\"1\" class=\"dataframe\">\n",
       "  <thead>\n",
       "    <tr style=\"text-align: right;\">\n",
       "      <th></th>\n",
       "      <th>ds</th>\n",
       "      <th>yhat</th>\n",
       "      <th>yhat_lower</th>\n",
       "      <th>yhat_upper</th>\n",
       "    </tr>\n",
       "  </thead>\n",
       "  <tbody>\n",
       "    <tr>\n",
       "      <th>114</th>\n",
       "      <td>2021-07-11</td>\n",
       "      <td>0.014626</td>\n",
       "      <td>-0.058432</td>\n",
       "      <td>0.090039</td>\n",
       "    </tr>\n",
       "    <tr>\n",
       "      <th>115</th>\n",
       "      <td>2021-07-18</td>\n",
       "      <td>0.009699</td>\n",
       "      <td>-0.066886</td>\n",
       "      <td>0.081598</td>\n",
       "    </tr>\n",
       "    <tr>\n",
       "      <th>116</th>\n",
       "      <td>2021-07-25</td>\n",
       "      <td>0.005349</td>\n",
       "      <td>-0.073113</td>\n",
       "      <td>0.084355</td>\n",
       "    </tr>\n",
       "    <tr>\n",
       "      <th>117</th>\n",
       "      <td>2021-08-01</td>\n",
       "      <td>0.004875</td>\n",
       "      <td>-0.070848</td>\n",
       "      <td>0.079235</td>\n",
       "    </tr>\n",
       "    <tr>\n",
       "      <th>118</th>\n",
       "      <td>2021-08-08</td>\n",
       "      <td>0.005576</td>\n",
       "      <td>-0.073496</td>\n",
       "      <td>0.079893</td>\n",
       "    </tr>\n",
       "  </tbody>\n",
       "</table>\n",
       "</div>"
      ],
      "text/plain": [
       "            ds      yhat  yhat_lower  yhat_upper\n",
       "114 2021-07-11  0.014626   -0.058432    0.090039\n",
       "115 2021-07-18  0.009699   -0.066886    0.081598\n",
       "116 2021-07-25  0.005349   -0.073113    0.084355\n",
       "117 2021-08-01  0.004875   -0.070848    0.079235\n",
       "118 2021-08-08  0.005576   -0.073496    0.079893"
      ]
     },
     "execution_count": 24,
     "metadata": {},
     "output_type": "execute_result"
    }
   ],
   "source": [
    "forecast = w.predict(future)\n",
    "forecast[['ds', 'yhat', 'yhat_lower', 'yhat_upper']].tail()"
   ]
  },
  {
   "cell_type": "code",
   "execution_count": 25,
   "id": "ec4b359a",
   "metadata": {},
   "outputs": [
    {
     "data": {
      "application/vnd.plotly.v1+json": {
       "config": {
        "plotlyServerURL": "https://plot.ly"
       },
       "data": [
        {
         "marker": {
          "color": "black",
          "size": 4
         },
         "mode": "markers",
         "name": "Actual",
         "type": "scatter",
         "x": [
          "2012-05-06T00:00:00",
          "2012-05-13T00:00:00",
          "2012-05-20T00:00:00",
          "2012-05-27T00:00:00",
          "2012-06-03T00:00:00",
          "2012-06-10T00:00:00",
          "2012-06-17T00:00:00",
          "2012-06-24T00:00:00",
          "2012-07-01T00:00:00",
          "2012-07-08T00:00:00",
          "2012-07-15T00:00:00",
          "2012-07-22T00:00:00",
          "2012-07-29T00:00:00",
          "2012-08-05T00:00:00",
          "2012-08-12T00:00:00",
          "2012-08-19T00:00:00",
          "2012-08-26T00:00:00",
          "2012-09-02T00:00:00",
          "2012-09-09T00:00:00",
          "2012-09-16T00:00:00",
          "2012-09-23T00:00:00",
          "2012-09-30T00:00:00",
          "2012-10-07T00:00:00",
          "2012-10-14T00:00:00",
          "2012-10-21T00:00:00",
          "2012-10-28T00:00:00",
          "2012-11-04T00:00:00",
          "2012-11-11T00:00:00",
          "2012-11-18T00:00:00",
          "2012-11-25T00:00:00",
          "2012-12-02T00:00:00",
          "2012-12-09T00:00:00",
          "2012-12-16T00:00:00",
          "2012-12-23T00:00:00",
          "2012-12-30T00:00:00",
          "2013-01-06T00:00:00",
          "2013-01-13T00:00:00",
          "2013-01-20T00:00:00",
          "2013-01-27T00:00:00",
          "2013-02-03T00:00:00",
          "2013-02-10T00:00:00",
          "2013-02-17T00:00:00",
          "2013-02-24T00:00:00",
          "2013-03-03T00:00:00",
          "2013-03-10T00:00:00",
          "2013-03-17T00:00:00",
          "2013-03-24T00:00:00",
          "2013-03-31T00:00:00",
          "2013-04-07T00:00:00",
          "2013-04-14T00:00:00",
          "2013-04-21T00:00:00",
          "2013-04-28T00:00:00",
          "2013-05-05T00:00:00",
          "2013-05-12T00:00:00",
          "2013-05-19T00:00:00",
          "2013-05-26T00:00:00",
          "2013-06-02T00:00:00",
          "2013-06-09T00:00:00",
          "2013-06-16T00:00:00",
          "2013-06-23T00:00:00",
          "2013-06-30T00:00:00",
          "2013-07-07T00:00:00",
          "2013-07-14T00:00:00",
          "2013-07-21T00:00:00",
          "2013-07-28T00:00:00",
          "2013-08-04T00:00:00",
          "2013-08-11T00:00:00",
          "2013-08-18T00:00:00",
          "2013-08-25T00:00:00",
          "2013-09-01T00:00:00",
          "2013-09-08T00:00:00",
          "2013-09-15T00:00:00",
          "2013-09-22T00:00:00",
          "2013-09-29T00:00:00",
          "2013-10-06T00:00:00",
          "2013-10-13T00:00:00",
          "2013-10-20T00:00:00",
          "2013-10-27T00:00:00",
          "2013-11-03T00:00:00",
          "2013-11-10T00:00:00",
          "2013-11-17T00:00:00",
          "2013-11-24T00:00:00",
          "2013-12-01T00:00:00",
          "2013-12-08T00:00:00",
          "2013-12-15T00:00:00",
          "2013-12-22T00:00:00",
          "2013-12-29T00:00:00",
          "2014-01-05T00:00:00",
          "2014-01-12T00:00:00",
          "2014-01-19T00:00:00",
          "2014-01-26T00:00:00",
          "2014-02-02T00:00:00",
          "2014-02-09T00:00:00",
          "2014-02-16T00:00:00",
          "2014-02-23T00:00:00",
          "2014-03-02T00:00:00",
          "2014-03-09T00:00:00",
          "2014-03-16T00:00:00",
          "2014-03-23T00:00:00",
          "2014-03-30T00:00:00",
          "2014-04-06T00:00:00",
          "2014-04-13T00:00:00",
          "2014-04-20T00:00:00",
          "2014-04-27T00:00:00",
          "2014-05-04T00:00:00",
          "2014-05-11T00:00:00",
          "2014-05-18T00:00:00",
          "2014-05-25T00:00:00",
          "2014-06-01T00:00:00",
          "2014-06-08T00:00:00",
          "2014-06-15T00:00:00",
          "2014-06-22T00:00:00",
          "2014-06-29T00:00:00",
          "2014-07-06T00:00:00",
          "2014-07-13T00:00:00",
          "2014-07-20T00:00:00",
          "2014-07-27T00:00:00",
          "2014-08-03T00:00:00",
          "2014-08-10T00:00:00",
          "2014-08-17T00:00:00",
          "2014-08-24T00:00:00",
          "2014-08-31T00:00:00",
          "2014-09-07T00:00:00",
          "2014-09-14T00:00:00",
          "2014-09-21T00:00:00",
          "2014-09-28T00:00:00",
          "2014-10-05T00:00:00",
          "2014-10-12T00:00:00",
          "2014-10-19T00:00:00",
          "2014-10-26T00:00:00",
          "2014-11-02T00:00:00",
          "2014-11-09T00:00:00",
          "2014-11-16T00:00:00",
          "2014-11-23T00:00:00",
          "2014-11-30T00:00:00",
          "2014-12-07T00:00:00",
          "2014-12-14T00:00:00",
          "2014-12-21T00:00:00",
          "2014-12-28T00:00:00",
          "2015-01-04T00:00:00",
          "2015-01-11T00:00:00",
          "2015-01-18T00:00:00",
          "2015-01-25T00:00:00",
          "2015-02-01T00:00:00",
          "2015-02-08T00:00:00",
          "2015-02-15T00:00:00",
          "2015-02-22T00:00:00",
          "2015-03-01T00:00:00",
          "2015-03-08T00:00:00",
          "2015-03-15T00:00:00",
          "2015-03-22T00:00:00",
          "2015-03-29T00:00:00",
          "2015-04-05T00:00:00",
          "2015-04-12T00:00:00",
          "2015-04-19T00:00:00",
          "2015-04-26T00:00:00",
          "2015-05-03T00:00:00",
          "2015-05-10T00:00:00",
          "2015-05-17T00:00:00",
          "2015-05-24T00:00:00",
          "2015-05-31T00:00:00",
          "2015-06-07T00:00:00",
          "2015-06-14T00:00:00",
          "2015-06-21T00:00:00",
          "2015-06-28T00:00:00",
          "2015-07-05T00:00:00",
          "2015-07-12T00:00:00",
          "2015-07-19T00:00:00",
          "2015-07-26T00:00:00",
          "2015-08-02T00:00:00",
          "2015-08-09T00:00:00",
          "2015-08-16T00:00:00",
          "2015-08-23T00:00:00",
          "2015-08-30T00:00:00",
          "2015-09-06T00:00:00",
          "2015-09-13T00:00:00",
          "2015-09-20T00:00:00",
          "2015-09-27T00:00:00",
          "2015-10-04T00:00:00",
          "2015-10-11T00:00:00",
          "2015-10-18T00:00:00",
          "2015-10-25T00:00:00",
          "2015-11-01T00:00:00",
          "2015-11-08T00:00:00",
          "2015-11-15T00:00:00",
          "2015-11-22T00:00:00",
          "2015-11-29T00:00:00",
          "2015-12-06T00:00:00",
          "2015-12-13T00:00:00",
          "2015-12-20T00:00:00",
          "2015-12-27T00:00:00",
          "2016-01-03T00:00:00",
          "2016-01-10T00:00:00",
          "2016-01-17T00:00:00",
          "2016-01-24T00:00:00",
          "2016-01-31T00:00:00",
          "2016-02-07T00:00:00",
          "2016-02-14T00:00:00",
          "2016-02-21T00:00:00",
          "2016-02-28T00:00:00",
          "2016-03-06T00:00:00",
          "2016-03-13T00:00:00",
          "2016-03-20T00:00:00",
          "2016-03-27T00:00:00",
          "2016-04-03T00:00:00",
          "2016-04-10T00:00:00",
          "2016-04-17T00:00:00",
          "2016-04-24T00:00:00",
          "2016-05-01T00:00:00",
          "2016-05-08T00:00:00",
          "2016-05-15T00:00:00",
          "2016-05-22T00:00:00",
          "2016-05-29T00:00:00",
          "2016-06-05T00:00:00",
          "2016-06-12T00:00:00",
          "2016-06-19T00:00:00",
          "2016-06-26T00:00:00",
          "2016-07-03T00:00:00",
          "2016-07-10T00:00:00",
          "2016-07-17T00:00:00",
          "2016-07-24T00:00:00",
          "2016-07-31T00:00:00",
          "2016-08-07T00:00:00",
          "2016-08-14T00:00:00",
          "2016-08-21T00:00:00",
          "2016-08-28T00:00:00",
          "2016-09-04T00:00:00",
          "2016-09-11T00:00:00",
          "2016-09-18T00:00:00",
          "2016-09-25T00:00:00",
          "2016-10-02T00:00:00",
          "2016-10-09T00:00:00",
          "2016-10-16T00:00:00",
          "2016-10-23T00:00:00",
          "2016-10-30T00:00:00",
          "2016-11-06T00:00:00",
          "2016-11-13T00:00:00",
          "2016-11-20T00:00:00",
          "2016-11-27T00:00:00",
          "2016-12-04T00:00:00",
          "2016-12-11T00:00:00",
          "2016-12-18T00:00:00",
          "2016-12-25T00:00:00",
          "2017-01-01T00:00:00",
          "2017-01-08T00:00:00",
          "2017-01-15T00:00:00",
          "2017-01-22T00:00:00",
          "2017-01-29T00:00:00",
          "2017-02-05T00:00:00",
          "2017-02-12T00:00:00",
          "2017-02-19T00:00:00",
          "2017-02-26T00:00:00",
          "2017-03-05T00:00:00",
          "2017-03-12T00:00:00",
          "2017-03-19T00:00:00",
          "2017-03-26T00:00:00",
          "2017-04-02T00:00:00",
          "2017-04-09T00:00:00",
          "2017-04-16T00:00:00",
          "2017-04-23T00:00:00",
          "2017-04-30T00:00:00",
          "2017-05-07T00:00:00",
          "2017-05-14T00:00:00",
          "2017-05-21T00:00:00",
          "2017-05-28T00:00:00",
          "2017-06-04T00:00:00",
          "2017-06-11T00:00:00",
          "2017-06-18T00:00:00",
          "2017-06-25T00:00:00",
          "2017-07-02T00:00:00",
          "2017-07-09T00:00:00",
          "2017-07-16T00:00:00",
          "2017-07-23T00:00:00",
          "2017-07-30T00:00:00",
          "2017-08-06T00:00:00",
          "2017-08-13T00:00:00",
          "2017-08-20T00:00:00",
          "2017-08-27T00:00:00",
          "2017-09-03T00:00:00",
          "2017-09-10T00:00:00",
          "2017-09-17T00:00:00",
          "2017-09-24T00:00:00",
          "2017-10-01T00:00:00",
          "2017-10-08T00:00:00",
          "2017-10-15T00:00:00",
          "2017-10-22T00:00:00",
          "2017-10-29T00:00:00",
          "2017-11-05T00:00:00",
          "2017-11-12T00:00:00",
          "2017-11-19T00:00:00",
          "2017-11-26T00:00:00",
          "2017-12-03T00:00:00",
          "2017-12-10T00:00:00",
          "2017-12-17T00:00:00",
          "2017-12-24T00:00:00",
          "2017-12-31T00:00:00",
          "2018-01-07T00:00:00",
          "2018-01-14T00:00:00",
          "2018-01-21T00:00:00",
          "2018-01-28T00:00:00",
          "2018-02-04T00:00:00",
          "2018-02-11T00:00:00",
          "2018-02-18T00:00:00",
          "2018-02-25T00:00:00",
          "2018-03-04T00:00:00",
          "2018-03-11T00:00:00",
          "2018-03-18T00:00:00",
          "2018-03-25T00:00:00",
          "2018-04-01T00:00:00",
          "2018-04-08T00:00:00",
          "2018-04-15T00:00:00",
          "2018-04-22T00:00:00",
          "2018-04-29T00:00:00",
          "2018-05-06T00:00:00",
          "2018-05-13T00:00:00",
          "2018-05-20T00:00:00",
          "2018-05-27T00:00:00",
          "2018-06-03T00:00:00",
          "2018-06-10T00:00:00",
          "2018-06-17T00:00:00",
          "2018-06-24T00:00:00",
          "2018-07-01T00:00:00",
          "2018-07-08T00:00:00",
          "2018-07-15T00:00:00",
          "2018-07-22T00:00:00",
          "2018-07-29T00:00:00",
          "2018-08-05T00:00:00",
          "2018-08-12T00:00:00",
          "2018-08-19T00:00:00",
          "2018-08-26T00:00:00",
          "2018-09-02T00:00:00",
          "2018-09-09T00:00:00",
          "2018-09-16T00:00:00",
          "2018-09-23T00:00:00",
          "2018-09-30T00:00:00",
          "2018-10-07T00:00:00",
          "2018-10-14T00:00:00",
          "2018-10-21T00:00:00",
          "2018-10-28T00:00:00",
          "2018-11-04T00:00:00",
          "2018-11-11T00:00:00",
          "2018-11-18T00:00:00",
          "2018-11-25T00:00:00",
          "2018-12-02T00:00:00",
          "2018-12-09T00:00:00",
          "2018-12-16T00:00:00",
          "2018-12-23T00:00:00",
          "2018-12-30T00:00:00",
          "2019-01-06T00:00:00",
          "2019-01-13T00:00:00",
          "2019-01-20T00:00:00",
          "2019-01-27T00:00:00",
          "2019-02-03T00:00:00",
          "2019-02-10T00:00:00",
          "2019-02-17T00:00:00",
          "2019-02-24T00:00:00",
          "2019-03-03T00:00:00",
          "2019-03-10T00:00:00",
          "2019-03-17T00:00:00",
          "2019-03-24T00:00:00",
          "2019-03-31T00:00:00",
          "2019-04-07T00:00:00",
          "2019-04-14T00:00:00",
          "2019-04-21T00:00:00",
          "2019-04-28T00:00:00",
          "2019-05-05T00:00:00",
          "2019-05-12T00:00:00",
          "2019-05-19T00:00:00",
          "2019-05-26T00:00:00",
          "2019-06-02T00:00:00",
          "2019-06-09T00:00:00",
          "2019-06-16T00:00:00",
          "2019-06-23T00:00:00",
          "2019-06-30T00:00:00",
          "2019-07-07T00:00:00",
          "2019-07-14T00:00:00",
          "2019-07-21T00:00:00",
          "2019-07-28T00:00:00",
          "2019-08-04T00:00:00",
          "2019-08-11T00:00:00",
          "2019-08-18T00:00:00",
          "2019-08-25T00:00:00",
          "2019-09-01T00:00:00",
          "2019-09-08T00:00:00",
          "2019-09-15T00:00:00",
          "2019-09-22T00:00:00",
          "2019-09-29T00:00:00",
          "2019-10-06T00:00:00",
          "2019-10-13T00:00:00",
          "2019-10-20T00:00:00",
          "2019-10-27T00:00:00",
          "2019-11-03T00:00:00",
          "2019-11-10T00:00:00",
          "2019-11-17T00:00:00",
          "2019-11-24T00:00:00",
          "2019-12-01T00:00:00",
          "2019-12-08T00:00:00",
          "2019-12-15T00:00:00",
          "2019-12-22T00:00:00",
          "2019-12-29T00:00:00",
          "2020-01-05T00:00:00",
          "2020-01-12T00:00:00",
          "2020-01-19T00:00:00",
          "2020-01-26T00:00:00",
          "2020-02-02T00:00:00",
          "2020-02-09T00:00:00",
          "2020-02-16T00:00:00",
          "2020-02-23T00:00:00",
          "2020-03-01T00:00:00",
          "2020-03-08T00:00:00",
          "2020-03-15T00:00:00",
          "2020-03-22T00:00:00",
          "2020-03-29T00:00:00",
          "2020-04-05T00:00:00",
          "2020-04-12T00:00:00",
          "2020-04-19T00:00:00",
          "2020-04-26T00:00:00",
          "2020-05-03T00:00:00",
          "2020-05-10T00:00:00",
          "2020-05-17T00:00:00",
          "2020-05-24T00:00:00",
          "2020-05-31T00:00:00",
          "2020-06-07T00:00:00",
          "2020-06-14T00:00:00",
          "2020-06-21T00:00:00",
          "2020-06-28T00:00:00",
          "2020-07-05T00:00:00",
          "2020-07-12T00:00:00",
          "2020-07-19T00:00:00",
          "2020-07-26T00:00:00",
          "2020-08-02T00:00:00",
          "2020-08-09T00:00:00",
          "2020-08-16T00:00:00",
          "2020-08-23T00:00:00",
          "2020-08-30T00:00:00",
          "2020-09-06T00:00:00",
          "2020-09-13T00:00:00",
          "2020-09-20T00:00:00",
          "2020-09-27T00:00:00",
          "2020-10-04T00:00:00",
          "2020-10-11T00:00:00",
          "2020-10-18T00:00:00",
          "2020-10-25T00:00:00",
          "2020-11-01T00:00:00",
          "2020-11-08T00:00:00",
          "2020-11-15T00:00:00",
          "2020-11-22T00:00:00",
          "2020-11-29T00:00:00",
          "2020-12-06T00:00:00",
          "2020-12-13T00:00:00",
          "2020-12-20T00:00:00",
          "2020-12-27T00:00:00",
          "2021-01-03T00:00:00",
          "2021-01-10T00:00:00",
          "2021-01-17T00:00:00",
          "2021-01-24T00:00:00",
          "2021-01-31T00:00:00",
          "2021-02-07T00:00:00",
          "2021-02-14T00:00:00",
          "2021-02-21T00:00:00",
          "2021-02-28T00:00:00",
          "2021-03-07T00:00:00",
          "2021-03-14T00:00:00",
          "2021-03-21T00:00:00",
          "2021-03-28T00:00:00",
          "2021-04-04T00:00:00",
          "2021-04-11T00:00:00",
          "2021-04-18T00:00:00",
          "2021-04-25T00:00:00",
          "2021-05-02T00:00:00",
          "2021-05-09T00:00:00",
          "2021-05-16T00:00:00"
         ],
         "y": [
          0.2612881881415138,
          0,
          0.2409873500857444,
          0,
          0,
          0,
          0,
          0,
          0,
          0,
          0,
          0,
          0,
          0,
          0,
          0,
          0,
          0,
          0,
          0,
          0,
          0,
          0,
          0,
          0,
          0,
          0,
          0,
          0,
          0,
          0,
          0,
          0,
          0,
          0,
          0,
          0,
          0,
          0,
          0,
          0,
          0,
          0,
          0,
          0,
          0,
          0,
          0,
          0,
          0.2404504869364204,
          0,
          0.2404428542459973,
          0,
          0,
          0,
          0,
          0,
          0,
          0,
          0,
          0,
          0,
          0,
          0,
          0,
          0,
          0,
          0,
          0,
          0,
          0,
          0,
          0,
          0,
          0,
          0,
          0,
          0,
          0,
          0,
          0,
          0,
          0,
          0,
          0,
          0,
          0,
          0,
          0,
          0,
          0,
          0,
          0,
          0,
          0,
          0,
          0,
          0,
          0,
          0,
          0.22178420313327474,
          0,
          0.2405405402118635,
          0.2405452201096412,
          0.2801404084615805,
          0,
          0,
          0,
          0,
          0,
          0,
          0,
          0,
          0,
          0,
          0,
          0,
          0,
          0,
          0,
          0,
          0,
          0,
          0,
          0,
          0,
          0,
          0,
          0,
          0,
          0,
          0,
          0,
          0,
          0,
          0,
          0,
          0,
          0,
          0,
          0,
          0,
          0,
          0,
          0,
          0,
          0,
          0,
          0,
          0,
          0,
          0.2408956532747722,
          0.2407973823216838,
          0,
          0.2628140184008073,
          0.2006296730751366,
          0.2142819255587093,
          0.24079069675343,
          0.2409001938898779,
          0,
          0,
          0,
          0,
          0,
          0,
          0.2408860984834761,
          0,
          0,
          0,
          0,
          0,
          0,
          0,
          0,
          0,
          0,
          0,
          0,
          0,
          0,
          0,
          0,
          0,
          0,
          0,
          0,
          0,
          0,
          0,
          0,
          0,
          0,
          0,
          0,
          0,
          0,
          0,
          0,
          0,
          0,
          0,
          0,
          0,
          0.2935412057210468,
          0.2404426313937222,
          0.2404445256380608,
          0,
          0,
          0,
          0,
          0,
          0,
          0,
          0,
          0,
          0,
          0,
          0,
          0,
          0,
          0,
          0,
          0,
          0,
          0,
          0,
          0,
          0,
          0,
          0,
          0,
          0,
          0,
          0,
          0,
          0,
          0,
          0,
          0,
          0,
          0,
          0,
          0,
          0,
          0,
          0,
          0,
          0,
          0,
          0,
          0,
          0,
          0,
          0,
          0,
          0,
          0,
          0.2418436048892772,
          0.2586660592384479,
          0.2769807637530596,
          0,
          0,
          0.2414425726330112,
          0,
          0.2408946782960685,
          0.2443276458158138,
          0.32193602482360834,
          0,
          0,
          0,
          0,
          0,
          0,
          0,
          0,
          0,
          0,
          0,
          0,
          0,
          0,
          0,
          0,
          0,
          0,
          0,
          0,
          0,
          0,
          0,
          0,
          0,
          0,
          0,
          0,
          0,
          0,
          0,
          0,
          0,
          0,
          0,
          0,
          0,
          0,
          0,
          0,
          0,
          0,
          0,
          0.2425946501695879,
          0.2405394816635567,
          0,
          0,
          0,
          0.2404206891338164,
          0,
          0.2405429915868899,
          0,
          0,
          0,
          0,
          0,
          0,
          0,
          0,
          0,
          0,
          0,
          0,
          0,
          0,
          0,
          0,
          0,
          0,
          0,
          0,
          0,
          0,
          0,
          0,
          0,
          0,
          0,
          0,
          0,
          0,
          0,
          0,
          0,
          0,
          0,
          0,
          0,
          0,
          0,
          0,
          0,
          0,
          0,
          0,
          0,
          0.2422915639196085,
          0,
          0.2403473968028824,
          0.2410223820204158,
          0.2407947080943822,
          0.2412060751249071,
          0.24142421403031256,
          0.240888438432365,
          0,
          0,
          0,
          0,
          0,
          0,
          0,
          0,
          0,
          0,
          0,
          0,
          0.2407896382051231,
          0,
          0,
          0,
          0,
          0,
          0,
          0,
          0,
          0,
          0,
          0,
          0,
          0,
          0,
          0,
          0,
          0,
          0,
          0,
          0,
          0,
          0,
          0,
          0,
          0,
          0,
          0,
          0,
          0,
          0,
          0,
          0.2422903869066236,
          0.2404433556636163,
          0,
          0,
          0.24123731163157003,
          0.24132279176956772,
          0,
          0.2413296769993677,
          0,
          0,
          0,
          0,
          0,
          0,
          0,
          0,
          0,
          0,
          0,
          0,
          0,
          0.241331125539156,
          0,
          0,
          0,
          0,
          0,
          0,
          0,
          0,
          0,
          0,
          0,
          0,
          0,
          0,
          0,
          0,
          0,
          0,
          0,
          0,
          0,
          0,
          0,
          0,
          0,
          0,
          0,
          0,
          0,
          0,
          0.2406177226218829,
          0,
          0,
          0,
          0.2432825212777428
         ]
        },
        {
         "hoverinfo": "skip",
         "line": {
          "width": 0
         },
         "mode": "lines",
         "type": "scatter",
         "x": [
          "2012-05-31T00:00:00",
          "2012-06-30T00:00:00",
          "2012-07-31T00:00:00",
          "2012-08-31T00:00:00",
          "2012-09-30T00:00:00",
          "2012-10-31T00:00:00",
          "2012-11-30T00:00:00",
          "2012-12-31T00:00:00",
          "2013-01-31T00:00:00",
          "2013-02-28T00:00:00",
          "2013-03-31T00:00:00",
          "2013-04-30T00:00:00",
          "2013-05-31T00:00:00",
          "2013-06-30T00:00:00",
          "2013-07-31T00:00:00",
          "2013-08-31T00:00:00",
          "2013-09-30T00:00:00",
          "2013-10-31T00:00:00",
          "2013-11-30T00:00:00",
          "2013-12-31T00:00:00",
          "2014-01-31T00:00:00",
          "2014-02-28T00:00:00",
          "2014-03-31T00:00:00",
          "2014-04-30T00:00:00",
          "2014-05-31T00:00:00",
          "2014-06-30T00:00:00",
          "2014-07-31T00:00:00",
          "2014-08-31T00:00:00",
          "2014-09-30T00:00:00",
          "2014-10-31T00:00:00",
          "2014-11-30T00:00:00",
          "2014-12-31T00:00:00",
          "2015-01-31T00:00:00",
          "2015-02-28T00:00:00",
          "2015-03-31T00:00:00",
          "2015-04-30T00:00:00",
          "2015-05-31T00:00:00",
          "2015-06-30T00:00:00",
          "2015-07-31T00:00:00",
          "2015-08-31T00:00:00",
          "2015-09-30T00:00:00",
          "2015-10-31T00:00:00",
          "2015-11-30T00:00:00",
          "2015-12-31T00:00:00",
          "2016-01-31T00:00:00",
          "2016-02-29T00:00:00",
          "2016-03-31T00:00:00",
          "2016-04-30T00:00:00",
          "2016-05-31T00:00:00",
          "2016-06-30T00:00:00",
          "2016-07-31T00:00:00",
          "2016-08-31T00:00:00",
          "2016-09-30T00:00:00",
          "2016-10-31T00:00:00",
          "2016-11-30T00:00:00",
          "2016-12-31T00:00:00",
          "2017-01-31T00:00:00",
          "2017-02-28T00:00:00",
          "2017-03-31T00:00:00",
          "2017-04-30T00:00:00",
          "2017-05-31T00:00:00",
          "2017-06-30T00:00:00",
          "2017-07-31T00:00:00",
          "2017-08-31T00:00:00",
          "2017-09-30T00:00:00",
          "2017-10-31T00:00:00",
          "2017-11-30T00:00:00",
          "2017-12-31T00:00:00",
          "2018-01-31T00:00:00",
          "2018-02-28T00:00:00",
          "2018-03-31T00:00:00",
          "2018-04-30T00:00:00",
          "2018-05-31T00:00:00",
          "2018-06-30T00:00:00",
          "2018-07-31T00:00:00",
          "2018-08-31T00:00:00",
          "2018-09-30T00:00:00",
          "2018-10-31T00:00:00",
          "2018-11-30T00:00:00",
          "2018-12-31T00:00:00",
          "2019-01-31T00:00:00",
          "2019-02-28T00:00:00",
          "2019-03-31T00:00:00",
          "2019-04-30T00:00:00",
          "2019-05-31T00:00:00",
          "2019-06-30T00:00:00",
          "2019-07-31T00:00:00",
          "2019-08-31T00:00:00",
          "2019-09-30T00:00:00",
          "2019-10-31T00:00:00",
          "2019-11-30T00:00:00",
          "2019-12-31T00:00:00",
          "2020-01-31T00:00:00",
          "2020-02-29T00:00:00",
          "2020-03-31T00:00:00",
          "2020-04-30T00:00:00",
          "2020-05-31T00:00:00",
          "2020-06-30T00:00:00",
          "2020-07-31T00:00:00",
          "2020-08-31T00:00:00",
          "2020-09-30T00:00:00",
          "2020-10-31T00:00:00",
          "2020-11-30T00:00:00",
          "2020-12-31T00:00:00",
          "2021-01-31T00:00:00",
          "2021-02-28T00:00:00",
          "2021-03-31T00:00:00",
          "2021-04-30T00:00:00",
          "2021-05-31T00:00:00",
          "2021-06-06T00:00:00",
          "2021-06-13T00:00:00",
          "2021-06-20T00:00:00",
          "2021-06-27T00:00:00",
          "2021-07-04T00:00:00",
          "2021-07-11T00:00:00",
          "2021-07-18T00:00:00",
          "2021-07-25T00:00:00",
          "2021-08-01T00:00:00",
          "2021-08-08T00:00:00"
         ],
         "y": [
          0.01237871538736394,
          -0.07481466763707464,
          -0.08190610335845992,
          -0.07331851774952684,
          -0.08229683430853733,
          -0.08204344755504585,
          -0.07792894484556878,
          -0.08100883741633697,
          -0.07897858082990965,
          -0.08205752970873728,
          -0.03357749068875699,
          0.04101523502643039,
          0.01956380396605066,
          -0.06977650832686369,
          -0.07845185513818438,
          -0.06531998585827653,
          -0.07644063987260119,
          -0.08128441761283517,
          -0.07787333086833785,
          -0.07388029110021038,
          -0.07748718771333318,
          -0.07038569441148686,
          -0.029573498337840932,
          0.035884215331663506,
          0.022738030003069364,
          -0.07108186547894844,
          -0.07866389036065896,
          -0.06680477823301381,
          -0.07804402842824183,
          -0.07475941094017785,
          -0.07504432985980194,
          -0.07386825050451544,
          -0.06939962232254863,
          -0.07741736880569963,
          -0.03206110635028578,
          0.04118257467821169,
          0.028787333806613132,
          -0.06516537089076875,
          -0.07535396712820189,
          -0.06645220659934631,
          -0.08164888828193713,
          -0.0775425610259685,
          -0.07360942687865424,
          -0.07649197146621625,
          -0.07827479952776836,
          -0.0732319795307973,
          -0.020593461354937167,
          0.03880457777233795,
          0.01900241700578518,
          -0.06587616112239635,
          -0.07817107626851051,
          -0.06203521559454385,
          -0.07841418326074764,
          -0.07085818162947045,
          -0.07611693560197319,
          -0.06966698491218719,
          -0.07324532296246938,
          -0.07243872158704565,
          -0.024091292739587787,
          0.042096167591574044,
          0.026332867882644443,
          -0.06788954615081215,
          -0.07998156743154006,
          -0.06999455237642074,
          -0.07792801044713663,
          -0.07910248326376462,
          -0.06758917617861458,
          -0.07375938750607827,
          -0.06620302081137495,
          -0.07532276425204636,
          -0.017733866232953515,
          0.03800525275200489,
          0.02045658433288501,
          -0.0666609183751477,
          -0.07078462039291389,
          -0.06754516496046967,
          -0.07926623487026967,
          -0.07157083315581417,
          -0.06829161113500426,
          -0.06945132227659134,
          -0.06982580836560134,
          -0.07813962115068769,
          -0.030916979867756388,
          0.04668755415621965,
          0.031219269936051272,
          -0.07097989225674096,
          -0.07363262278138726,
          -0.06234062481099877,
          -0.06545891208586122,
          -0.06658914163317033,
          -0.07033798495440272,
          -0.062047478689489406,
          -0.07110917011507854,
          -0.07143487455274741,
          -0.0166856077329851,
          0.04682666039168845,
          0.02804857666590546,
          -0.07012517976724986,
          -0.07336386884543233,
          -0.06367552820613841,
          -0.0741907585958322,
          -0.07326922089235184,
          -0.0683338034585712,
          -0.06673197931257857,
          -0.07167497528465762,
          -0.06971897765024142,
          -0.019002813316277078,
          0.05023489157124056,
          0.021255037201728562,
          0.002291661118499463,
          -0.03494261626341955,
          -0.05513126305914041,
          -0.06693407771552046,
          -0.062094465619427164,
          -0.058431854164231356,
          -0.06688635333159011,
          -0.07311250348657748,
          -0.07084759950539886,
          -0.07349566688513139
         ]
        },
        {
         "fill": "tonexty",
         "fillcolor": "rgba(0, 114, 178, 0.2)",
         "line": {
          "color": "#0072B2",
          "width": 2
         },
         "mode": "lines",
         "name": "Predicted",
         "type": "scatter",
         "x": [
          "2012-05-31T00:00:00",
          "2012-06-30T00:00:00",
          "2012-07-31T00:00:00",
          "2012-08-31T00:00:00",
          "2012-09-30T00:00:00",
          "2012-10-31T00:00:00",
          "2012-11-30T00:00:00",
          "2012-12-31T00:00:00",
          "2013-01-31T00:00:00",
          "2013-02-28T00:00:00",
          "2013-03-31T00:00:00",
          "2013-04-30T00:00:00",
          "2013-05-31T00:00:00",
          "2013-06-30T00:00:00",
          "2013-07-31T00:00:00",
          "2013-08-31T00:00:00",
          "2013-09-30T00:00:00",
          "2013-10-31T00:00:00",
          "2013-11-30T00:00:00",
          "2013-12-31T00:00:00",
          "2014-01-31T00:00:00",
          "2014-02-28T00:00:00",
          "2014-03-31T00:00:00",
          "2014-04-30T00:00:00",
          "2014-05-31T00:00:00",
          "2014-06-30T00:00:00",
          "2014-07-31T00:00:00",
          "2014-08-31T00:00:00",
          "2014-09-30T00:00:00",
          "2014-10-31T00:00:00",
          "2014-11-30T00:00:00",
          "2014-12-31T00:00:00",
          "2015-01-31T00:00:00",
          "2015-02-28T00:00:00",
          "2015-03-31T00:00:00",
          "2015-04-30T00:00:00",
          "2015-05-31T00:00:00",
          "2015-06-30T00:00:00",
          "2015-07-31T00:00:00",
          "2015-08-31T00:00:00",
          "2015-09-30T00:00:00",
          "2015-10-31T00:00:00",
          "2015-11-30T00:00:00",
          "2015-12-31T00:00:00",
          "2016-01-31T00:00:00",
          "2016-02-29T00:00:00",
          "2016-03-31T00:00:00",
          "2016-04-30T00:00:00",
          "2016-05-31T00:00:00",
          "2016-06-30T00:00:00",
          "2016-07-31T00:00:00",
          "2016-08-31T00:00:00",
          "2016-09-30T00:00:00",
          "2016-10-31T00:00:00",
          "2016-11-30T00:00:00",
          "2016-12-31T00:00:00",
          "2017-01-31T00:00:00",
          "2017-02-28T00:00:00",
          "2017-03-31T00:00:00",
          "2017-04-30T00:00:00",
          "2017-05-31T00:00:00",
          "2017-06-30T00:00:00",
          "2017-07-31T00:00:00",
          "2017-08-31T00:00:00",
          "2017-09-30T00:00:00",
          "2017-10-31T00:00:00",
          "2017-11-30T00:00:00",
          "2017-12-31T00:00:00",
          "2018-01-31T00:00:00",
          "2018-02-28T00:00:00",
          "2018-03-31T00:00:00",
          "2018-04-30T00:00:00",
          "2018-05-31T00:00:00",
          "2018-06-30T00:00:00",
          "2018-07-31T00:00:00",
          "2018-08-31T00:00:00",
          "2018-09-30T00:00:00",
          "2018-10-31T00:00:00",
          "2018-11-30T00:00:00",
          "2018-12-31T00:00:00",
          "2019-01-31T00:00:00",
          "2019-02-28T00:00:00",
          "2019-03-31T00:00:00",
          "2019-04-30T00:00:00",
          "2019-05-31T00:00:00",
          "2019-06-30T00:00:00",
          "2019-07-31T00:00:00",
          "2019-08-31T00:00:00",
          "2019-09-30T00:00:00",
          "2019-10-31T00:00:00",
          "2019-11-30T00:00:00",
          "2019-12-31T00:00:00",
          "2020-01-31T00:00:00",
          "2020-02-29T00:00:00",
          "2020-03-31T00:00:00",
          "2020-04-30T00:00:00",
          "2020-05-31T00:00:00",
          "2020-06-30T00:00:00",
          "2020-07-31T00:00:00",
          "2020-08-31T00:00:00",
          "2020-09-30T00:00:00",
          "2020-10-31T00:00:00",
          "2020-11-30T00:00:00",
          "2020-12-31T00:00:00",
          "2021-01-31T00:00:00",
          "2021-02-28T00:00:00",
          "2021-03-31T00:00:00",
          "2021-04-30T00:00:00",
          "2021-05-31T00:00:00",
          "2021-06-06T00:00:00",
          "2021-06-13T00:00:00",
          "2021-06-20T00:00:00",
          "2021-06-27T00:00:00",
          "2021-07-04T00:00:00",
          "2021-07-11T00:00:00",
          "2021-07-18T00:00:00",
          "2021-07-25T00:00:00",
          "2021-08-01T00:00:00",
          "2021-08-08T00:00:00"
         ],
         "y": [
          0.09106381691982388,
          0.0009026289239348825,
          -0.00659295527928358,
          0.0038380072686992617,
          -0.008227618976225811,
          -0.00479961072214331,
          -0.0029483840426656957,
          -0.0025257991739197315,
          -0.002834236612670654,
          -0.00577244561266748,
          0.046749093706738826,
          0.11208677805605517,
          0.093113689963905,
          0.0020262218569988867,
          -0.005351473815861735,
          0.004734207096063616,
          -0.006685244902793663,
          -0.003365358548270681,
          -0.0015981631702362137,
          -0.0012519936268757144,
          -0.0016332526193940239,
          -0.004612349273730672,
          0.0464298203685129,
          0.114393310921106,
          0.09513243818629508,
          0.0031528937732301088,
          -0.004107636678338394,
          0.005633037757996916,
          -0.005131021617590912,
          -0.0019313592863398586,
          -0.000252678704901671,
          1.6163862732447576e-05,
          -0.00043706644835003056,
          -0.0034520161315052256,
          0.04613149245883607,
          0.11670364703168115,
          0.09711963423108397,
          0.00428330600050009,
          -0.0028612253732205536,
          0.006534903302104676,
          -0.0035652071305336715,
          -0.0004979631696027768,
          0.0010878906998325819,
          0.0012786642891456056,
          0.0007544674147870536,
          -0.0018723034611144752,
          0.052148736235881496,
          0.11484564875508846,
          0.0961240584526323,
          0.005962870515560232,
          -0.0015327136268783285,
          0.008898248983079617,
          -0.003167377201689789,
          0.0002606311142975132,
          0.002111857853669831,
          0.002534442756811719,
          0.0022260053317514766,
          -0.000712203655875026,
          0.051809335668924004,
          0.11714701928957841,
          0.09817393039101908,
          0.007086461503714711,
          -0.00029123543925778025,
          0.009794443721098708,
          -0.0016250099728351737,
          0.0016948746272095958,
          0.0034620682969790165,
          0.0038082360751299227,
          0.0034269753185160075,
          0.00044787707780486255,
          0.05149004496497672,
          0.11945353381909944,
          0.10019265932802586,
          0.008213113196199624,
          0.0009525809685727339,
          0.010693253628500047,
          -7.08074558648103e-05,
          0.0031288531147426434,
          0.0048075319923406995,
          0.0050763728019225345,
          0.004623140740461471,
          0.0016081894763257942,
          0.05119169631433943,
          0.12176384918739713,
          0.10217983463057087,
          0.009343504700413719,
          0.0021989715684011604,
          0.011595098469123174,
          0.0014949863191357805,
          0.004562228484083657,
          0.006148080586832843,
          0.006338852350571234,
          0.005814653650631638,
          0.0031878810725570056,
          0.05720891895188821,
          0.11990582971205871,
          0.10118423759748538,
          0.011023047919861619,
          0.003527461978846083,
          0.013958422790231921,
          0.001892794866563935,
          0.0053208013859398495,
          0.0071720263866631336,
          0.007594609507494632,
          0.007286170319919332,
          0.004347959740342161,
          0.05686949730263163,
          0.12220717994177138,
          0.10323409008244602,
          0.07734329072931082,
          0.04050844133575439,
          0.016244557933875775,
          0.010884218612021972,
          0.01437060535669239,
          0.014626298782227869,
          0.009699258194211482,
          0.005349206338870333,
          0.004875156011851511,
          0.00557584334062115
         ]
        },
        {
         "fill": "tonexty",
         "fillcolor": "rgba(0, 114, 178, 0.2)",
         "hoverinfo": "skip",
         "line": {
          "width": 0
         },
         "mode": "lines",
         "type": "scatter",
         "x": [
          "2012-05-31T00:00:00",
          "2012-06-30T00:00:00",
          "2012-07-31T00:00:00",
          "2012-08-31T00:00:00",
          "2012-09-30T00:00:00",
          "2012-10-31T00:00:00",
          "2012-11-30T00:00:00",
          "2012-12-31T00:00:00",
          "2013-01-31T00:00:00",
          "2013-02-28T00:00:00",
          "2013-03-31T00:00:00",
          "2013-04-30T00:00:00",
          "2013-05-31T00:00:00",
          "2013-06-30T00:00:00",
          "2013-07-31T00:00:00",
          "2013-08-31T00:00:00",
          "2013-09-30T00:00:00",
          "2013-10-31T00:00:00",
          "2013-11-30T00:00:00",
          "2013-12-31T00:00:00",
          "2014-01-31T00:00:00",
          "2014-02-28T00:00:00",
          "2014-03-31T00:00:00",
          "2014-04-30T00:00:00",
          "2014-05-31T00:00:00",
          "2014-06-30T00:00:00",
          "2014-07-31T00:00:00",
          "2014-08-31T00:00:00",
          "2014-09-30T00:00:00",
          "2014-10-31T00:00:00",
          "2014-11-30T00:00:00",
          "2014-12-31T00:00:00",
          "2015-01-31T00:00:00",
          "2015-02-28T00:00:00",
          "2015-03-31T00:00:00",
          "2015-04-30T00:00:00",
          "2015-05-31T00:00:00",
          "2015-06-30T00:00:00",
          "2015-07-31T00:00:00",
          "2015-08-31T00:00:00",
          "2015-09-30T00:00:00",
          "2015-10-31T00:00:00",
          "2015-11-30T00:00:00",
          "2015-12-31T00:00:00",
          "2016-01-31T00:00:00",
          "2016-02-29T00:00:00",
          "2016-03-31T00:00:00",
          "2016-04-30T00:00:00",
          "2016-05-31T00:00:00",
          "2016-06-30T00:00:00",
          "2016-07-31T00:00:00",
          "2016-08-31T00:00:00",
          "2016-09-30T00:00:00",
          "2016-10-31T00:00:00",
          "2016-11-30T00:00:00",
          "2016-12-31T00:00:00",
          "2017-01-31T00:00:00",
          "2017-02-28T00:00:00",
          "2017-03-31T00:00:00",
          "2017-04-30T00:00:00",
          "2017-05-31T00:00:00",
          "2017-06-30T00:00:00",
          "2017-07-31T00:00:00",
          "2017-08-31T00:00:00",
          "2017-09-30T00:00:00",
          "2017-10-31T00:00:00",
          "2017-11-30T00:00:00",
          "2017-12-31T00:00:00",
          "2018-01-31T00:00:00",
          "2018-02-28T00:00:00",
          "2018-03-31T00:00:00",
          "2018-04-30T00:00:00",
          "2018-05-31T00:00:00",
          "2018-06-30T00:00:00",
          "2018-07-31T00:00:00",
          "2018-08-31T00:00:00",
          "2018-09-30T00:00:00",
          "2018-10-31T00:00:00",
          "2018-11-30T00:00:00",
          "2018-12-31T00:00:00",
          "2019-01-31T00:00:00",
          "2019-02-28T00:00:00",
          "2019-03-31T00:00:00",
          "2019-04-30T00:00:00",
          "2019-05-31T00:00:00",
          "2019-06-30T00:00:00",
          "2019-07-31T00:00:00",
          "2019-08-31T00:00:00",
          "2019-09-30T00:00:00",
          "2019-10-31T00:00:00",
          "2019-11-30T00:00:00",
          "2019-12-31T00:00:00",
          "2020-01-31T00:00:00",
          "2020-02-29T00:00:00",
          "2020-03-31T00:00:00",
          "2020-04-30T00:00:00",
          "2020-05-31T00:00:00",
          "2020-06-30T00:00:00",
          "2020-07-31T00:00:00",
          "2020-08-31T00:00:00",
          "2020-09-30T00:00:00",
          "2020-10-31T00:00:00",
          "2020-11-30T00:00:00",
          "2020-12-31T00:00:00",
          "2021-01-31T00:00:00",
          "2021-02-28T00:00:00",
          "2021-03-31T00:00:00",
          "2021-04-30T00:00:00",
          "2021-05-31T00:00:00",
          "2021-06-06T00:00:00",
          "2021-06-13T00:00:00",
          "2021-06-20T00:00:00",
          "2021-06-27T00:00:00",
          "2021-07-04T00:00:00",
          "2021-07-11T00:00:00",
          "2021-07-18T00:00:00",
          "2021-07-25T00:00:00",
          "2021-08-01T00:00:00",
          "2021-08-08T00:00:00"
         ],
         "y": [
          0.165540433888273,
          0.07544371002615145,
          0.07116600392801688,
          0.08325552038430856,
          0.06747012962940506,
          0.07631641712768555,
          0.07577860698498579,
          0.07616591946403878,
          0.07486235151323944,
          0.06861394222312037,
          0.12402967339260818,
          0.1876227473923943,
          0.1721921950846794,
          0.0740108483800743,
          0.06367714815390277,
          0.07562216638317237,
          0.06851523134751754,
          0.07591700122788046,
          0.07576331279953155,
          0.07482412897514291,
          0.06858859852948018,
          0.0654633561096002,
          0.12106097047139465,
          0.19468232202734448,
          0.1723216352747612,
          0.07642549731385984,
          0.06899511150170234,
          0.083915098044454,
          0.0738840315926827,
          0.07192033648931945,
          0.07451667183348071,
          0.07432716165779213,
          0.06961106484181258,
          0.07179265587545614,
          0.11424505947501584,
          0.19024912936189556,
          0.17690109554054143,
          0.0755789637984037,
          0.06887725614669954,
          0.08249325690740368,
          0.07446533282303594,
          0.06876670105458473,
          0.07441541089223447,
          0.07528995414801619,
          0.07048780014232697,
          0.07272109724788563,
          0.12727423372779745,
          0.19237530802457747,
          0.16940123459348067,
          0.07894039077180641,
          0.07045128061007769,
          0.08200535129137622,
          0.07183106457754114,
          0.07498439054736636,
          0.07540195135099848,
          0.0799508123201267,
          0.08010519687457496,
          0.07561540256250565,
          0.12367381280450654,
          0.19607542795494864,
          0.17301870577709105,
          0.08617898055660168,
          0.07496961038172321,
          0.08542455845892649,
          0.0825053959227811,
          0.08007365537893076,
          0.07721697777482549,
          0.07551693128144776,
          0.08556646219196187,
          0.0750487545423937,
          0.12885362888987534,
          0.1947435107485267,
          0.18208147170582908,
          0.08342024216502805,
          0.07107875510051141,
          0.08649786604052392,
          0.07660768797130385,
          0.07719628969530257,
          0.07588729631421871,
          0.08050768745896597,
          0.08452384108950708,
          0.07948666852613301,
          0.12428154348452256,
          0.1956549669292337,
          0.1773708735815537,
          0.0817663229100157,
          0.08121220689202943,
          0.08769133989695373,
          0.08320074485526487,
          0.08125471812068089,
          0.07865111581434057,
          0.0832579299808252,
          0.08278322253040002,
          0.08239774168319534,
          0.13482070748829378,
          0.19162488861953608,
          0.17908647319524387,
          0.08435730466855353,
          0.08262542663187226,
          0.08955219147737792,
          0.07462510885140439,
          0.08154284238705166,
          0.07783458727634224,
          0.0807585781346397,
          0.08836925113775845,
          0.08109575381083228,
          0.12999341887778326,
          0.1979558292669505,
          0.18219983779459126,
          0.1536040336570846,
          0.11860647342570728,
          0.0887069854710781,
          0.08764812307792882,
          0.09682333519690445,
          0.09003869778695398,
          0.08159805401695579,
          0.08435546723379861,
          0.07923501081083385,
          0.07989318645699359
         ]
        }
       ],
       "layout": {
        "height": 600,
        "showlegend": false,
        "template": {
         "data": {
          "bar": [
           {
            "error_x": {
             "color": "#2a3f5f"
            },
            "error_y": {
             "color": "#2a3f5f"
            },
            "marker": {
             "line": {
              "color": "#E5ECF6",
              "width": 0.5
             },
             "pattern": {
              "fillmode": "overlay",
              "size": 10,
              "solidity": 0.2
             }
            },
            "type": "bar"
           }
          ],
          "barpolar": [
           {
            "marker": {
             "line": {
              "color": "#E5ECF6",
              "width": 0.5
             },
             "pattern": {
              "fillmode": "overlay",
              "size": 10,
              "solidity": 0.2
             }
            },
            "type": "barpolar"
           }
          ],
          "carpet": [
           {
            "aaxis": {
             "endlinecolor": "#2a3f5f",
             "gridcolor": "white",
             "linecolor": "white",
             "minorgridcolor": "white",
             "startlinecolor": "#2a3f5f"
            },
            "baxis": {
             "endlinecolor": "#2a3f5f",
             "gridcolor": "white",
             "linecolor": "white",
             "minorgridcolor": "white",
             "startlinecolor": "#2a3f5f"
            },
            "type": "carpet"
           }
          ],
          "choropleth": [
           {
            "colorbar": {
             "outlinewidth": 0,
             "ticks": ""
            },
            "type": "choropleth"
           }
          ],
          "contour": [
           {
            "colorbar": {
             "outlinewidth": 0,
             "ticks": ""
            },
            "colorscale": [
             [
              0,
              "#0d0887"
             ],
             [
              0.1111111111111111,
              "#46039f"
             ],
             [
              0.2222222222222222,
              "#7201a8"
             ],
             [
              0.3333333333333333,
              "#9c179e"
             ],
             [
              0.4444444444444444,
              "#bd3786"
             ],
             [
              0.5555555555555556,
              "#d8576b"
             ],
             [
              0.6666666666666666,
              "#ed7953"
             ],
             [
              0.7777777777777778,
              "#fb9f3a"
             ],
             [
              0.8888888888888888,
              "#fdca26"
             ],
             [
              1,
              "#f0f921"
             ]
            ],
            "type": "contour"
           }
          ],
          "contourcarpet": [
           {
            "colorbar": {
             "outlinewidth": 0,
             "ticks": ""
            },
            "type": "contourcarpet"
           }
          ],
          "heatmap": [
           {
            "colorbar": {
             "outlinewidth": 0,
             "ticks": ""
            },
            "colorscale": [
             [
              0,
              "#0d0887"
             ],
             [
              0.1111111111111111,
              "#46039f"
             ],
             [
              0.2222222222222222,
              "#7201a8"
             ],
             [
              0.3333333333333333,
              "#9c179e"
             ],
             [
              0.4444444444444444,
              "#bd3786"
             ],
             [
              0.5555555555555556,
              "#d8576b"
             ],
             [
              0.6666666666666666,
              "#ed7953"
             ],
             [
              0.7777777777777778,
              "#fb9f3a"
             ],
             [
              0.8888888888888888,
              "#fdca26"
             ],
             [
              1,
              "#f0f921"
             ]
            ],
            "type": "heatmap"
           }
          ],
          "heatmapgl": [
           {
            "colorbar": {
             "outlinewidth": 0,
             "ticks": ""
            },
            "colorscale": [
             [
              0,
              "#0d0887"
             ],
             [
              0.1111111111111111,
              "#46039f"
             ],
             [
              0.2222222222222222,
              "#7201a8"
             ],
             [
              0.3333333333333333,
              "#9c179e"
             ],
             [
              0.4444444444444444,
              "#bd3786"
             ],
             [
              0.5555555555555556,
              "#d8576b"
             ],
             [
              0.6666666666666666,
              "#ed7953"
             ],
             [
              0.7777777777777778,
              "#fb9f3a"
             ],
             [
              0.8888888888888888,
              "#fdca26"
             ],
             [
              1,
              "#f0f921"
             ]
            ],
            "type": "heatmapgl"
           }
          ],
          "histogram": [
           {
            "marker": {
             "pattern": {
              "fillmode": "overlay",
              "size": 10,
              "solidity": 0.2
             }
            },
            "type": "histogram"
           }
          ],
          "histogram2d": [
           {
            "colorbar": {
             "outlinewidth": 0,
             "ticks": ""
            },
            "colorscale": [
             [
              0,
              "#0d0887"
             ],
             [
              0.1111111111111111,
              "#46039f"
             ],
             [
              0.2222222222222222,
              "#7201a8"
             ],
             [
              0.3333333333333333,
              "#9c179e"
             ],
             [
              0.4444444444444444,
              "#bd3786"
             ],
             [
              0.5555555555555556,
              "#d8576b"
             ],
             [
              0.6666666666666666,
              "#ed7953"
             ],
             [
              0.7777777777777778,
              "#fb9f3a"
             ],
             [
              0.8888888888888888,
              "#fdca26"
             ],
             [
              1,
              "#f0f921"
             ]
            ],
            "type": "histogram2d"
           }
          ],
          "histogram2dcontour": [
           {
            "colorbar": {
             "outlinewidth": 0,
             "ticks": ""
            },
            "colorscale": [
             [
              0,
              "#0d0887"
             ],
             [
              0.1111111111111111,
              "#46039f"
             ],
             [
              0.2222222222222222,
              "#7201a8"
             ],
             [
              0.3333333333333333,
              "#9c179e"
             ],
             [
              0.4444444444444444,
              "#bd3786"
             ],
             [
              0.5555555555555556,
              "#d8576b"
             ],
             [
              0.6666666666666666,
              "#ed7953"
             ],
             [
              0.7777777777777778,
              "#fb9f3a"
             ],
             [
              0.8888888888888888,
              "#fdca26"
             ],
             [
              1,
              "#f0f921"
             ]
            ],
            "type": "histogram2dcontour"
           }
          ],
          "mesh3d": [
           {
            "colorbar": {
             "outlinewidth": 0,
             "ticks": ""
            },
            "type": "mesh3d"
           }
          ],
          "parcoords": [
           {
            "line": {
             "colorbar": {
              "outlinewidth": 0,
              "ticks": ""
             }
            },
            "type": "parcoords"
           }
          ],
          "pie": [
           {
            "automargin": true,
            "type": "pie"
           }
          ],
          "scatter": [
           {
            "marker": {
             "colorbar": {
              "outlinewidth": 0,
              "ticks": ""
             }
            },
            "type": "scatter"
           }
          ],
          "scatter3d": [
           {
            "line": {
             "colorbar": {
              "outlinewidth": 0,
              "ticks": ""
             }
            },
            "marker": {
             "colorbar": {
              "outlinewidth": 0,
              "ticks": ""
             }
            },
            "type": "scatter3d"
           }
          ],
          "scattercarpet": [
           {
            "marker": {
             "colorbar": {
              "outlinewidth": 0,
              "ticks": ""
             }
            },
            "type": "scattercarpet"
           }
          ],
          "scattergeo": [
           {
            "marker": {
             "colorbar": {
              "outlinewidth": 0,
              "ticks": ""
             }
            },
            "type": "scattergeo"
           }
          ],
          "scattergl": [
           {
            "marker": {
             "colorbar": {
              "outlinewidth": 0,
              "ticks": ""
             }
            },
            "type": "scattergl"
           }
          ],
          "scattermapbox": [
           {
            "marker": {
             "colorbar": {
              "outlinewidth": 0,
              "ticks": ""
             }
            },
            "type": "scattermapbox"
           }
          ],
          "scatterpolar": [
           {
            "marker": {
             "colorbar": {
              "outlinewidth": 0,
              "ticks": ""
             }
            },
            "type": "scatterpolar"
           }
          ],
          "scatterpolargl": [
           {
            "marker": {
             "colorbar": {
              "outlinewidth": 0,
              "ticks": ""
             }
            },
            "type": "scatterpolargl"
           }
          ],
          "scatterternary": [
           {
            "marker": {
             "colorbar": {
              "outlinewidth": 0,
              "ticks": ""
             }
            },
            "type": "scatterternary"
           }
          ],
          "surface": [
           {
            "colorbar": {
             "outlinewidth": 0,
             "ticks": ""
            },
            "colorscale": [
             [
              0,
              "#0d0887"
             ],
             [
              0.1111111111111111,
              "#46039f"
             ],
             [
              0.2222222222222222,
              "#7201a8"
             ],
             [
              0.3333333333333333,
              "#9c179e"
             ],
             [
              0.4444444444444444,
              "#bd3786"
             ],
             [
              0.5555555555555556,
              "#d8576b"
             ],
             [
              0.6666666666666666,
              "#ed7953"
             ],
             [
              0.7777777777777778,
              "#fb9f3a"
             ],
             [
              0.8888888888888888,
              "#fdca26"
             ],
             [
              1,
              "#f0f921"
             ]
            ],
            "type": "surface"
           }
          ],
          "table": [
           {
            "cells": {
             "fill": {
              "color": "#EBF0F8"
             },
             "line": {
              "color": "white"
             }
            },
            "header": {
             "fill": {
              "color": "#C8D4E3"
             },
             "line": {
              "color": "white"
             }
            },
            "type": "table"
           }
          ]
         },
         "layout": {
          "annotationdefaults": {
           "arrowcolor": "#2a3f5f",
           "arrowhead": 0,
           "arrowwidth": 1
          },
          "autotypenumbers": "strict",
          "coloraxis": {
           "colorbar": {
            "outlinewidth": 0,
            "ticks": ""
           }
          },
          "colorscale": {
           "diverging": [
            [
             0,
             "#8e0152"
            ],
            [
             0.1,
             "#c51b7d"
            ],
            [
             0.2,
             "#de77ae"
            ],
            [
             0.3,
             "#f1b6da"
            ],
            [
             0.4,
             "#fde0ef"
            ],
            [
             0.5,
             "#f7f7f7"
            ],
            [
             0.6,
             "#e6f5d0"
            ],
            [
             0.7,
             "#b8e186"
            ],
            [
             0.8,
             "#7fbc41"
            ],
            [
             0.9,
             "#4d9221"
            ],
            [
             1,
             "#276419"
            ]
           ],
           "sequential": [
            [
             0,
             "#0d0887"
            ],
            [
             0.1111111111111111,
             "#46039f"
            ],
            [
             0.2222222222222222,
             "#7201a8"
            ],
            [
             0.3333333333333333,
             "#9c179e"
            ],
            [
             0.4444444444444444,
             "#bd3786"
            ],
            [
             0.5555555555555556,
             "#d8576b"
            ],
            [
             0.6666666666666666,
             "#ed7953"
            ],
            [
             0.7777777777777778,
             "#fb9f3a"
            ],
            [
             0.8888888888888888,
             "#fdca26"
            ],
            [
             1,
             "#f0f921"
            ]
           ],
           "sequentialminus": [
            [
             0,
             "#0d0887"
            ],
            [
             0.1111111111111111,
             "#46039f"
            ],
            [
             0.2222222222222222,
             "#7201a8"
            ],
            [
             0.3333333333333333,
             "#9c179e"
            ],
            [
             0.4444444444444444,
             "#bd3786"
            ],
            [
             0.5555555555555556,
             "#d8576b"
            ],
            [
             0.6666666666666666,
             "#ed7953"
            ],
            [
             0.7777777777777778,
             "#fb9f3a"
            ],
            [
             0.8888888888888888,
             "#fdca26"
            ],
            [
             1,
             "#f0f921"
            ]
           ]
          },
          "colorway": [
           "#636efa",
           "#EF553B",
           "#00cc96",
           "#ab63fa",
           "#FFA15A",
           "#19d3f3",
           "#FF6692",
           "#B6E880",
           "#FF97FF",
           "#FECB52"
          ],
          "font": {
           "color": "#2a3f5f"
          },
          "geo": {
           "bgcolor": "white",
           "lakecolor": "white",
           "landcolor": "#E5ECF6",
           "showlakes": true,
           "showland": true,
           "subunitcolor": "white"
          },
          "hoverlabel": {
           "align": "left"
          },
          "hovermode": "closest",
          "mapbox": {
           "style": "light"
          },
          "paper_bgcolor": "white",
          "plot_bgcolor": "#E5ECF6",
          "polar": {
           "angularaxis": {
            "gridcolor": "white",
            "linecolor": "white",
            "ticks": ""
           },
           "bgcolor": "#E5ECF6",
           "radialaxis": {
            "gridcolor": "white",
            "linecolor": "white",
            "ticks": ""
           }
          },
          "scene": {
           "xaxis": {
            "backgroundcolor": "#E5ECF6",
            "gridcolor": "white",
            "gridwidth": 2,
            "linecolor": "white",
            "showbackground": true,
            "ticks": "",
            "zerolinecolor": "white"
           },
           "yaxis": {
            "backgroundcolor": "#E5ECF6",
            "gridcolor": "white",
            "gridwidth": 2,
            "linecolor": "white",
            "showbackground": true,
            "ticks": "",
            "zerolinecolor": "white"
           },
           "zaxis": {
            "backgroundcolor": "#E5ECF6",
            "gridcolor": "white",
            "gridwidth": 2,
            "linecolor": "white",
            "showbackground": true,
            "ticks": "",
            "zerolinecolor": "white"
           }
          },
          "shapedefaults": {
           "line": {
            "color": "#2a3f5f"
           }
          },
          "ternary": {
           "aaxis": {
            "gridcolor": "white",
            "linecolor": "white",
            "ticks": ""
           },
           "baxis": {
            "gridcolor": "white",
            "linecolor": "white",
            "ticks": ""
           },
           "bgcolor": "#E5ECF6",
           "caxis": {
            "gridcolor": "white",
            "linecolor": "white",
            "ticks": ""
           }
          },
          "title": {
           "x": 0.05
          },
          "xaxis": {
           "automargin": true,
           "gridcolor": "white",
           "linecolor": "white",
           "ticks": "",
           "title": {
            "standoff": 15
           },
           "zerolinecolor": "white",
           "zerolinewidth": 2
          },
          "yaxis": {
           "automargin": true,
           "gridcolor": "white",
           "linecolor": "white",
           "ticks": "",
           "title": {
            "standoff": 15
           },
           "zerolinecolor": "white",
           "zerolinewidth": 2
          }
         }
        },
        "width": 900,
        "xaxis": {
         "rangeselector": {
          "buttons": [
           {
            "count": 7,
            "label": "1w",
            "step": "day",
            "stepmode": "backward"
           },
           {
            "count": 1,
            "label": "1m",
            "step": "month",
            "stepmode": "backward"
           },
           {
            "count": 6,
            "label": "6m",
            "step": "month",
            "stepmode": "backward"
           },
           {
            "count": 1,
            "label": "1y",
            "step": "year",
            "stepmode": "backward"
           },
           {
            "step": "all"
           }
          ]
         },
         "rangeslider": {
          "visible": true
         },
         "title": {
          "text": "ds"
         },
         "type": "date"
        },
        "yaxis": {
         "title": {
          "text": "y"
         }
        }
       }
      },
      "text/html": [
       "<div>                            <div id=\"4ae963be-27bb-4f4d-8aa3-b0b666ea5848\" class=\"plotly-graph-div\" style=\"height:600px; width:900px;\"></div>            <script type=\"text/javascript\">                require([\"plotly\"], function(Plotly) {                    window.PLOTLYENV=window.PLOTLYENV || {};                                    if (document.getElementById(\"4ae963be-27bb-4f4d-8aa3-b0b666ea5848\")) {                    Plotly.newPlot(                        \"4ae963be-27bb-4f4d-8aa3-b0b666ea5848\",                        [{\"marker\":{\"color\":\"black\",\"size\":4},\"mode\":\"markers\",\"name\":\"Actual\",\"x\":[\"2012-05-06T00:00:00\",\"2012-05-13T00:00:00\",\"2012-05-20T00:00:00\",\"2012-05-27T00:00:00\",\"2012-06-03T00:00:00\",\"2012-06-10T00:00:00\",\"2012-06-17T00:00:00\",\"2012-06-24T00:00:00\",\"2012-07-01T00:00:00\",\"2012-07-08T00:00:00\",\"2012-07-15T00:00:00\",\"2012-07-22T00:00:00\",\"2012-07-29T00:00:00\",\"2012-08-05T00:00:00\",\"2012-08-12T00:00:00\",\"2012-08-19T00:00:00\",\"2012-08-26T00:00:00\",\"2012-09-02T00:00:00\",\"2012-09-09T00:00:00\",\"2012-09-16T00:00:00\",\"2012-09-23T00:00:00\",\"2012-09-30T00:00:00\",\"2012-10-07T00:00:00\",\"2012-10-14T00:00:00\",\"2012-10-21T00:00:00\",\"2012-10-28T00:00:00\",\"2012-11-04T00:00:00\",\"2012-11-11T00:00:00\",\"2012-11-18T00:00:00\",\"2012-11-25T00:00:00\",\"2012-12-02T00:00:00\",\"2012-12-09T00:00:00\",\"2012-12-16T00:00:00\",\"2012-12-23T00:00:00\",\"2012-12-30T00:00:00\",\"2013-01-06T00:00:00\",\"2013-01-13T00:00:00\",\"2013-01-20T00:00:00\",\"2013-01-27T00:00:00\",\"2013-02-03T00:00:00\",\"2013-02-10T00:00:00\",\"2013-02-17T00:00:00\",\"2013-02-24T00:00:00\",\"2013-03-03T00:00:00\",\"2013-03-10T00:00:00\",\"2013-03-17T00:00:00\",\"2013-03-24T00:00:00\",\"2013-03-31T00:00:00\",\"2013-04-07T00:00:00\",\"2013-04-14T00:00:00\",\"2013-04-21T00:00:00\",\"2013-04-28T00:00:00\",\"2013-05-05T00:00:00\",\"2013-05-12T00:00:00\",\"2013-05-19T00:00:00\",\"2013-05-26T00:00:00\",\"2013-06-02T00:00:00\",\"2013-06-09T00:00:00\",\"2013-06-16T00:00:00\",\"2013-06-23T00:00:00\",\"2013-06-30T00:00:00\",\"2013-07-07T00:00:00\",\"2013-07-14T00:00:00\",\"2013-07-21T00:00:00\",\"2013-07-28T00:00:00\",\"2013-08-04T00:00:00\",\"2013-08-11T00:00:00\",\"2013-08-18T00:00:00\",\"2013-08-25T00:00:00\",\"2013-09-01T00:00:00\",\"2013-09-08T00:00:00\",\"2013-09-15T00:00:00\",\"2013-09-22T00:00:00\",\"2013-09-29T00:00:00\",\"2013-10-06T00:00:00\",\"2013-10-13T00:00:00\",\"2013-10-20T00:00:00\",\"2013-10-27T00:00:00\",\"2013-11-03T00:00:00\",\"2013-11-10T00:00:00\",\"2013-11-17T00:00:00\",\"2013-11-24T00:00:00\",\"2013-12-01T00:00:00\",\"2013-12-08T00:00:00\",\"2013-12-15T00:00:00\",\"2013-12-22T00:00:00\",\"2013-12-29T00:00:00\",\"2014-01-05T00:00:00\",\"2014-01-12T00:00:00\",\"2014-01-19T00:00:00\",\"2014-01-26T00:00:00\",\"2014-02-02T00:00:00\",\"2014-02-09T00:00:00\",\"2014-02-16T00:00:00\",\"2014-02-23T00:00:00\",\"2014-03-02T00:00:00\",\"2014-03-09T00:00:00\",\"2014-03-16T00:00:00\",\"2014-03-23T00:00:00\",\"2014-03-30T00:00:00\",\"2014-04-06T00:00:00\",\"2014-04-13T00:00:00\",\"2014-04-20T00:00:00\",\"2014-04-27T00:00:00\",\"2014-05-04T00:00:00\",\"2014-05-11T00:00:00\",\"2014-05-18T00:00:00\",\"2014-05-25T00:00:00\",\"2014-06-01T00:00:00\",\"2014-06-08T00:00:00\",\"2014-06-15T00:00:00\",\"2014-06-22T00:00:00\",\"2014-06-29T00:00:00\",\"2014-07-06T00:00:00\",\"2014-07-13T00:00:00\",\"2014-07-20T00:00:00\",\"2014-07-27T00:00:00\",\"2014-08-03T00:00:00\",\"2014-08-10T00:00:00\",\"2014-08-17T00:00:00\",\"2014-08-24T00:00:00\",\"2014-08-31T00:00:00\",\"2014-09-07T00:00:00\",\"2014-09-14T00:00:00\",\"2014-09-21T00:00:00\",\"2014-09-28T00:00:00\",\"2014-10-05T00:00:00\",\"2014-10-12T00:00:00\",\"2014-10-19T00:00:00\",\"2014-10-26T00:00:00\",\"2014-11-02T00:00:00\",\"2014-11-09T00:00:00\",\"2014-11-16T00:00:00\",\"2014-11-23T00:00:00\",\"2014-11-30T00:00:00\",\"2014-12-07T00:00:00\",\"2014-12-14T00:00:00\",\"2014-12-21T00:00:00\",\"2014-12-28T00:00:00\",\"2015-01-04T00:00:00\",\"2015-01-11T00:00:00\",\"2015-01-18T00:00:00\",\"2015-01-25T00:00:00\",\"2015-02-01T00:00:00\",\"2015-02-08T00:00:00\",\"2015-02-15T00:00:00\",\"2015-02-22T00:00:00\",\"2015-03-01T00:00:00\",\"2015-03-08T00:00:00\",\"2015-03-15T00:00:00\",\"2015-03-22T00:00:00\",\"2015-03-29T00:00:00\",\"2015-04-05T00:00:00\",\"2015-04-12T00:00:00\",\"2015-04-19T00:00:00\",\"2015-04-26T00:00:00\",\"2015-05-03T00:00:00\",\"2015-05-10T00:00:00\",\"2015-05-17T00:00:00\",\"2015-05-24T00:00:00\",\"2015-05-31T00:00:00\",\"2015-06-07T00:00:00\",\"2015-06-14T00:00:00\",\"2015-06-21T00:00:00\",\"2015-06-28T00:00:00\",\"2015-07-05T00:00:00\",\"2015-07-12T00:00:00\",\"2015-07-19T00:00:00\",\"2015-07-26T00:00:00\",\"2015-08-02T00:00:00\",\"2015-08-09T00:00:00\",\"2015-08-16T00:00:00\",\"2015-08-23T00:00:00\",\"2015-08-30T00:00:00\",\"2015-09-06T00:00:00\",\"2015-09-13T00:00:00\",\"2015-09-20T00:00:00\",\"2015-09-27T00:00:00\",\"2015-10-04T00:00:00\",\"2015-10-11T00:00:00\",\"2015-10-18T00:00:00\",\"2015-10-25T00:00:00\",\"2015-11-01T00:00:00\",\"2015-11-08T00:00:00\",\"2015-11-15T00:00:00\",\"2015-11-22T00:00:00\",\"2015-11-29T00:00:00\",\"2015-12-06T00:00:00\",\"2015-12-13T00:00:00\",\"2015-12-20T00:00:00\",\"2015-12-27T00:00:00\",\"2016-01-03T00:00:00\",\"2016-01-10T00:00:00\",\"2016-01-17T00:00:00\",\"2016-01-24T00:00:00\",\"2016-01-31T00:00:00\",\"2016-02-07T00:00:00\",\"2016-02-14T00:00:00\",\"2016-02-21T00:00:00\",\"2016-02-28T00:00:00\",\"2016-03-06T00:00:00\",\"2016-03-13T00:00:00\",\"2016-03-20T00:00:00\",\"2016-03-27T00:00:00\",\"2016-04-03T00:00:00\",\"2016-04-10T00:00:00\",\"2016-04-17T00:00:00\",\"2016-04-24T00:00:00\",\"2016-05-01T00:00:00\",\"2016-05-08T00:00:00\",\"2016-05-15T00:00:00\",\"2016-05-22T00:00:00\",\"2016-05-29T00:00:00\",\"2016-06-05T00:00:00\",\"2016-06-12T00:00:00\",\"2016-06-19T00:00:00\",\"2016-06-26T00:00:00\",\"2016-07-03T00:00:00\",\"2016-07-10T00:00:00\",\"2016-07-17T00:00:00\",\"2016-07-24T00:00:00\",\"2016-07-31T00:00:00\",\"2016-08-07T00:00:00\",\"2016-08-14T00:00:00\",\"2016-08-21T00:00:00\",\"2016-08-28T00:00:00\",\"2016-09-04T00:00:00\",\"2016-09-11T00:00:00\",\"2016-09-18T00:00:00\",\"2016-09-25T00:00:00\",\"2016-10-02T00:00:00\",\"2016-10-09T00:00:00\",\"2016-10-16T00:00:00\",\"2016-10-23T00:00:00\",\"2016-10-30T00:00:00\",\"2016-11-06T00:00:00\",\"2016-11-13T00:00:00\",\"2016-11-20T00:00:00\",\"2016-11-27T00:00:00\",\"2016-12-04T00:00:00\",\"2016-12-11T00:00:00\",\"2016-12-18T00:00:00\",\"2016-12-25T00:00:00\",\"2017-01-01T00:00:00\",\"2017-01-08T00:00:00\",\"2017-01-15T00:00:00\",\"2017-01-22T00:00:00\",\"2017-01-29T00:00:00\",\"2017-02-05T00:00:00\",\"2017-02-12T00:00:00\",\"2017-02-19T00:00:00\",\"2017-02-26T00:00:00\",\"2017-03-05T00:00:00\",\"2017-03-12T00:00:00\",\"2017-03-19T00:00:00\",\"2017-03-26T00:00:00\",\"2017-04-02T00:00:00\",\"2017-04-09T00:00:00\",\"2017-04-16T00:00:00\",\"2017-04-23T00:00:00\",\"2017-04-30T00:00:00\",\"2017-05-07T00:00:00\",\"2017-05-14T00:00:00\",\"2017-05-21T00:00:00\",\"2017-05-28T00:00:00\",\"2017-06-04T00:00:00\",\"2017-06-11T00:00:00\",\"2017-06-18T00:00:00\",\"2017-06-25T00:00:00\",\"2017-07-02T00:00:00\",\"2017-07-09T00:00:00\",\"2017-07-16T00:00:00\",\"2017-07-23T00:00:00\",\"2017-07-30T00:00:00\",\"2017-08-06T00:00:00\",\"2017-08-13T00:00:00\",\"2017-08-20T00:00:00\",\"2017-08-27T00:00:00\",\"2017-09-03T00:00:00\",\"2017-09-10T00:00:00\",\"2017-09-17T00:00:00\",\"2017-09-24T00:00:00\",\"2017-10-01T00:00:00\",\"2017-10-08T00:00:00\",\"2017-10-15T00:00:00\",\"2017-10-22T00:00:00\",\"2017-10-29T00:00:00\",\"2017-11-05T00:00:00\",\"2017-11-12T00:00:00\",\"2017-11-19T00:00:00\",\"2017-11-26T00:00:00\",\"2017-12-03T00:00:00\",\"2017-12-10T00:00:00\",\"2017-12-17T00:00:00\",\"2017-12-24T00:00:00\",\"2017-12-31T00:00:00\",\"2018-01-07T00:00:00\",\"2018-01-14T00:00:00\",\"2018-01-21T00:00:00\",\"2018-01-28T00:00:00\",\"2018-02-04T00:00:00\",\"2018-02-11T00:00:00\",\"2018-02-18T00:00:00\",\"2018-02-25T00:00:00\",\"2018-03-04T00:00:00\",\"2018-03-11T00:00:00\",\"2018-03-18T00:00:00\",\"2018-03-25T00:00:00\",\"2018-04-01T00:00:00\",\"2018-04-08T00:00:00\",\"2018-04-15T00:00:00\",\"2018-04-22T00:00:00\",\"2018-04-29T00:00:00\",\"2018-05-06T00:00:00\",\"2018-05-13T00:00:00\",\"2018-05-20T00:00:00\",\"2018-05-27T00:00:00\",\"2018-06-03T00:00:00\",\"2018-06-10T00:00:00\",\"2018-06-17T00:00:00\",\"2018-06-24T00:00:00\",\"2018-07-01T00:00:00\",\"2018-07-08T00:00:00\",\"2018-07-15T00:00:00\",\"2018-07-22T00:00:00\",\"2018-07-29T00:00:00\",\"2018-08-05T00:00:00\",\"2018-08-12T00:00:00\",\"2018-08-19T00:00:00\",\"2018-08-26T00:00:00\",\"2018-09-02T00:00:00\",\"2018-09-09T00:00:00\",\"2018-09-16T00:00:00\",\"2018-09-23T00:00:00\",\"2018-09-30T00:00:00\",\"2018-10-07T00:00:00\",\"2018-10-14T00:00:00\",\"2018-10-21T00:00:00\",\"2018-10-28T00:00:00\",\"2018-11-04T00:00:00\",\"2018-11-11T00:00:00\",\"2018-11-18T00:00:00\",\"2018-11-25T00:00:00\",\"2018-12-02T00:00:00\",\"2018-12-09T00:00:00\",\"2018-12-16T00:00:00\",\"2018-12-23T00:00:00\",\"2018-12-30T00:00:00\",\"2019-01-06T00:00:00\",\"2019-01-13T00:00:00\",\"2019-01-20T00:00:00\",\"2019-01-27T00:00:00\",\"2019-02-03T00:00:00\",\"2019-02-10T00:00:00\",\"2019-02-17T00:00:00\",\"2019-02-24T00:00:00\",\"2019-03-03T00:00:00\",\"2019-03-10T00:00:00\",\"2019-03-17T00:00:00\",\"2019-03-24T00:00:00\",\"2019-03-31T00:00:00\",\"2019-04-07T00:00:00\",\"2019-04-14T00:00:00\",\"2019-04-21T00:00:00\",\"2019-04-28T00:00:00\",\"2019-05-05T00:00:00\",\"2019-05-12T00:00:00\",\"2019-05-19T00:00:00\",\"2019-05-26T00:00:00\",\"2019-06-02T00:00:00\",\"2019-06-09T00:00:00\",\"2019-06-16T00:00:00\",\"2019-06-23T00:00:00\",\"2019-06-30T00:00:00\",\"2019-07-07T00:00:00\",\"2019-07-14T00:00:00\",\"2019-07-21T00:00:00\",\"2019-07-28T00:00:00\",\"2019-08-04T00:00:00\",\"2019-08-11T00:00:00\",\"2019-08-18T00:00:00\",\"2019-08-25T00:00:00\",\"2019-09-01T00:00:00\",\"2019-09-08T00:00:00\",\"2019-09-15T00:00:00\",\"2019-09-22T00:00:00\",\"2019-09-29T00:00:00\",\"2019-10-06T00:00:00\",\"2019-10-13T00:00:00\",\"2019-10-20T00:00:00\",\"2019-10-27T00:00:00\",\"2019-11-03T00:00:00\",\"2019-11-10T00:00:00\",\"2019-11-17T00:00:00\",\"2019-11-24T00:00:00\",\"2019-12-01T00:00:00\",\"2019-12-08T00:00:00\",\"2019-12-15T00:00:00\",\"2019-12-22T00:00:00\",\"2019-12-29T00:00:00\",\"2020-01-05T00:00:00\",\"2020-01-12T00:00:00\",\"2020-01-19T00:00:00\",\"2020-01-26T00:00:00\",\"2020-02-02T00:00:00\",\"2020-02-09T00:00:00\",\"2020-02-16T00:00:00\",\"2020-02-23T00:00:00\",\"2020-03-01T00:00:00\",\"2020-03-08T00:00:00\",\"2020-03-15T00:00:00\",\"2020-03-22T00:00:00\",\"2020-03-29T00:00:00\",\"2020-04-05T00:00:00\",\"2020-04-12T00:00:00\",\"2020-04-19T00:00:00\",\"2020-04-26T00:00:00\",\"2020-05-03T00:00:00\",\"2020-05-10T00:00:00\",\"2020-05-17T00:00:00\",\"2020-05-24T00:00:00\",\"2020-05-31T00:00:00\",\"2020-06-07T00:00:00\",\"2020-06-14T00:00:00\",\"2020-06-21T00:00:00\",\"2020-06-28T00:00:00\",\"2020-07-05T00:00:00\",\"2020-07-12T00:00:00\",\"2020-07-19T00:00:00\",\"2020-07-26T00:00:00\",\"2020-08-02T00:00:00\",\"2020-08-09T00:00:00\",\"2020-08-16T00:00:00\",\"2020-08-23T00:00:00\",\"2020-08-30T00:00:00\",\"2020-09-06T00:00:00\",\"2020-09-13T00:00:00\",\"2020-09-20T00:00:00\",\"2020-09-27T00:00:00\",\"2020-10-04T00:00:00\",\"2020-10-11T00:00:00\",\"2020-10-18T00:00:00\",\"2020-10-25T00:00:00\",\"2020-11-01T00:00:00\",\"2020-11-08T00:00:00\",\"2020-11-15T00:00:00\",\"2020-11-22T00:00:00\",\"2020-11-29T00:00:00\",\"2020-12-06T00:00:00\",\"2020-12-13T00:00:00\",\"2020-12-20T00:00:00\",\"2020-12-27T00:00:00\",\"2021-01-03T00:00:00\",\"2021-01-10T00:00:00\",\"2021-01-17T00:00:00\",\"2021-01-24T00:00:00\",\"2021-01-31T00:00:00\",\"2021-02-07T00:00:00\",\"2021-02-14T00:00:00\",\"2021-02-21T00:00:00\",\"2021-02-28T00:00:00\",\"2021-03-07T00:00:00\",\"2021-03-14T00:00:00\",\"2021-03-21T00:00:00\",\"2021-03-28T00:00:00\",\"2021-04-04T00:00:00\",\"2021-04-11T00:00:00\",\"2021-04-18T00:00:00\",\"2021-04-25T00:00:00\",\"2021-05-02T00:00:00\",\"2021-05-09T00:00:00\",\"2021-05-16T00:00:00\"],\"y\":[0.2612881881415138,0.0,0.2409873500857444,0.0,0.0,0.0,0.0,0.0,0.0,0.0,0.0,0.0,0.0,0.0,0.0,0.0,0.0,0.0,0.0,0.0,0.0,0.0,0.0,0.0,0.0,0.0,0.0,0.0,0.0,0.0,0.0,0.0,0.0,0.0,0.0,0.0,0.0,0.0,0.0,0.0,0.0,0.0,0.0,0.0,0.0,0.0,0.0,0.0,0.0,0.2404504869364204,0.0,0.2404428542459973,0.0,0.0,0.0,0.0,0.0,0.0,0.0,0.0,0.0,0.0,0.0,0.0,0.0,0.0,0.0,0.0,0.0,0.0,0.0,0.0,0.0,0.0,0.0,0.0,0.0,0.0,0.0,0.0,0.0,0.0,0.0,0.0,0.0,0.0,0.0,0.0,0.0,0.0,0.0,0.0,0.0,0.0,0.0,0.0,0.0,0.0,0.0,0.0,0.22178420313327474,0.0,0.2405405402118635,0.2405452201096412,0.2801404084615805,0.0,0.0,0.0,0.0,0.0,0.0,0.0,0.0,0.0,0.0,0.0,0.0,0.0,0.0,0.0,0.0,0.0,0.0,0.0,0.0,0.0,0.0,0.0,0.0,0.0,0.0,0.0,0.0,0.0,0.0,0.0,0.0,0.0,0.0,0.0,0.0,0.0,0.0,0.0,0.0,0.0,0.0,0.0,0.0,0.0,0.0,0.2408956532747722,0.2407973823216838,0.0,0.2628140184008073,0.2006296730751366,0.2142819255587093,0.24079069675343,0.2409001938898779,0.0,0.0,0.0,0.0,0.0,0.0,0.2408860984834761,0.0,0.0,0.0,0.0,0.0,0.0,0.0,0.0,0.0,0.0,0.0,0.0,0.0,0.0,0.0,0.0,0.0,0.0,0.0,0.0,0.0,0.0,0.0,0.0,0.0,0.0,0.0,0.0,0.0,0.0,0.0,0.0,0.0,0.0,0.0,0.0,0.0,0.2935412057210468,0.2404426313937222,0.2404445256380608,0.0,0.0,0.0,0.0,0.0,0.0,0.0,0.0,0.0,0.0,0.0,0.0,0.0,0.0,0.0,0.0,0.0,0.0,0.0,0.0,0.0,0.0,0.0,0.0,0.0,0.0,0.0,0.0,0.0,0.0,0.0,0.0,0.0,0.0,0.0,0.0,0.0,0.0,0.0,0.0,0.0,0.0,0.0,0.0,0.0,0.0,0.0,0.0,0.0,0.0,0.0,0.2418436048892772,0.2586660592384479,0.2769807637530596,0.0,0.0,0.2414425726330112,0.0,0.2408946782960685,0.2443276458158138,0.32193602482360834,0.0,0.0,0.0,0.0,0.0,0.0,0.0,0.0,0.0,0.0,0.0,0.0,0.0,0.0,0.0,0.0,0.0,0.0,0.0,0.0,0.0,0.0,0.0,0.0,0.0,0.0,0.0,0.0,0.0,0.0,0.0,0.0,0.0,0.0,0.0,0.0,0.0,0.0,0.0,0.0,0.0,0.0,0.0,0.2425946501695879,0.2405394816635567,0.0,0.0,0.0,0.2404206891338164,0.0,0.2405429915868899,0.0,0.0,0.0,0.0,0.0,0.0,0.0,0.0,0.0,0.0,0.0,0.0,0.0,0.0,0.0,0.0,0.0,0.0,0.0,0.0,0.0,0.0,0.0,0.0,0.0,0.0,0.0,0.0,0.0,0.0,0.0,0.0,0.0,0.0,0.0,0.0,0.0,0.0,0.0,0.0,0.0,0.0,0.0,0.0,0.0,0.2422915639196085,0.0,0.2403473968028824,0.2410223820204158,0.2407947080943822,0.2412060751249071,0.24142421403031256,0.240888438432365,0.0,0.0,0.0,0.0,0.0,0.0,0.0,0.0,0.0,0.0,0.0,0.0,0.2407896382051231,0.0,0.0,0.0,0.0,0.0,0.0,0.0,0.0,0.0,0.0,0.0,0.0,0.0,0.0,0.0,0.0,0.0,0.0,0.0,0.0,0.0,0.0,0.0,0.0,0.0,0.0,0.0,0.0,0.0,0.0,0.0,0.2422903869066236,0.2404433556636163,0.0,0.0,0.24123731163157003,0.24132279176956772,0.0,0.2413296769993677,0.0,0.0,0.0,0.0,0.0,0.0,0.0,0.0,0.0,0.0,0.0,0.0,0.0,0.241331125539156,0.0,0.0,0.0,0.0,0.0,0.0,0.0,0.0,0.0,0.0,0.0,0.0,0.0,0.0,0.0,0.0,0.0,0.0,0.0,0.0,0.0,0.0,0.0,0.0,0.0,0.0,0.0,0.0,0.0,0.0,0.2406177226218829,0.0,0.0,0.0,0.2432825212777428],\"type\":\"scatter\"},{\"hoverinfo\":\"skip\",\"line\":{\"width\":0},\"mode\":\"lines\",\"x\":[\"2012-05-31T00:00:00\",\"2012-06-30T00:00:00\",\"2012-07-31T00:00:00\",\"2012-08-31T00:00:00\",\"2012-09-30T00:00:00\",\"2012-10-31T00:00:00\",\"2012-11-30T00:00:00\",\"2012-12-31T00:00:00\",\"2013-01-31T00:00:00\",\"2013-02-28T00:00:00\",\"2013-03-31T00:00:00\",\"2013-04-30T00:00:00\",\"2013-05-31T00:00:00\",\"2013-06-30T00:00:00\",\"2013-07-31T00:00:00\",\"2013-08-31T00:00:00\",\"2013-09-30T00:00:00\",\"2013-10-31T00:00:00\",\"2013-11-30T00:00:00\",\"2013-12-31T00:00:00\",\"2014-01-31T00:00:00\",\"2014-02-28T00:00:00\",\"2014-03-31T00:00:00\",\"2014-04-30T00:00:00\",\"2014-05-31T00:00:00\",\"2014-06-30T00:00:00\",\"2014-07-31T00:00:00\",\"2014-08-31T00:00:00\",\"2014-09-30T00:00:00\",\"2014-10-31T00:00:00\",\"2014-11-30T00:00:00\",\"2014-12-31T00:00:00\",\"2015-01-31T00:00:00\",\"2015-02-28T00:00:00\",\"2015-03-31T00:00:00\",\"2015-04-30T00:00:00\",\"2015-05-31T00:00:00\",\"2015-06-30T00:00:00\",\"2015-07-31T00:00:00\",\"2015-08-31T00:00:00\",\"2015-09-30T00:00:00\",\"2015-10-31T00:00:00\",\"2015-11-30T00:00:00\",\"2015-12-31T00:00:00\",\"2016-01-31T00:00:00\",\"2016-02-29T00:00:00\",\"2016-03-31T00:00:00\",\"2016-04-30T00:00:00\",\"2016-05-31T00:00:00\",\"2016-06-30T00:00:00\",\"2016-07-31T00:00:00\",\"2016-08-31T00:00:00\",\"2016-09-30T00:00:00\",\"2016-10-31T00:00:00\",\"2016-11-30T00:00:00\",\"2016-12-31T00:00:00\",\"2017-01-31T00:00:00\",\"2017-02-28T00:00:00\",\"2017-03-31T00:00:00\",\"2017-04-30T00:00:00\",\"2017-05-31T00:00:00\",\"2017-06-30T00:00:00\",\"2017-07-31T00:00:00\",\"2017-08-31T00:00:00\",\"2017-09-30T00:00:00\",\"2017-10-31T00:00:00\",\"2017-11-30T00:00:00\",\"2017-12-31T00:00:00\",\"2018-01-31T00:00:00\",\"2018-02-28T00:00:00\",\"2018-03-31T00:00:00\",\"2018-04-30T00:00:00\",\"2018-05-31T00:00:00\",\"2018-06-30T00:00:00\",\"2018-07-31T00:00:00\",\"2018-08-31T00:00:00\",\"2018-09-30T00:00:00\",\"2018-10-31T00:00:00\",\"2018-11-30T00:00:00\",\"2018-12-31T00:00:00\",\"2019-01-31T00:00:00\",\"2019-02-28T00:00:00\",\"2019-03-31T00:00:00\",\"2019-04-30T00:00:00\",\"2019-05-31T00:00:00\",\"2019-06-30T00:00:00\",\"2019-07-31T00:00:00\",\"2019-08-31T00:00:00\",\"2019-09-30T00:00:00\",\"2019-10-31T00:00:00\",\"2019-11-30T00:00:00\",\"2019-12-31T00:00:00\",\"2020-01-31T00:00:00\",\"2020-02-29T00:00:00\",\"2020-03-31T00:00:00\",\"2020-04-30T00:00:00\",\"2020-05-31T00:00:00\",\"2020-06-30T00:00:00\",\"2020-07-31T00:00:00\",\"2020-08-31T00:00:00\",\"2020-09-30T00:00:00\",\"2020-10-31T00:00:00\",\"2020-11-30T00:00:00\",\"2020-12-31T00:00:00\",\"2021-01-31T00:00:00\",\"2021-02-28T00:00:00\",\"2021-03-31T00:00:00\",\"2021-04-30T00:00:00\",\"2021-05-31T00:00:00\",\"2021-06-06T00:00:00\",\"2021-06-13T00:00:00\",\"2021-06-20T00:00:00\",\"2021-06-27T00:00:00\",\"2021-07-04T00:00:00\",\"2021-07-11T00:00:00\",\"2021-07-18T00:00:00\",\"2021-07-25T00:00:00\",\"2021-08-01T00:00:00\",\"2021-08-08T00:00:00\"],\"y\":[0.01237871538736394,-0.07481466763707464,-0.08190610335845992,-0.07331851774952684,-0.08229683430853733,-0.08204344755504585,-0.07792894484556878,-0.08100883741633697,-0.07897858082990965,-0.08205752970873728,-0.03357749068875699,0.04101523502643039,0.01956380396605066,-0.06977650832686369,-0.07845185513818438,-0.06531998585827653,-0.07644063987260119,-0.08128441761283517,-0.07787333086833785,-0.07388029110021038,-0.07748718771333318,-0.07038569441148686,-0.029573498337840932,0.035884215331663506,0.022738030003069364,-0.07108186547894844,-0.07866389036065896,-0.06680477823301381,-0.07804402842824183,-0.07475941094017785,-0.07504432985980194,-0.07386825050451544,-0.06939962232254863,-0.07741736880569963,-0.03206110635028578,0.04118257467821169,0.028787333806613132,-0.06516537089076875,-0.07535396712820189,-0.06645220659934631,-0.08164888828193713,-0.0775425610259685,-0.07360942687865424,-0.07649197146621625,-0.07827479952776836,-0.0732319795307973,-0.020593461354937167,0.03880457777233795,0.01900241700578518,-0.06587616112239635,-0.07817107626851051,-0.06203521559454385,-0.07841418326074764,-0.07085818162947045,-0.07611693560197319,-0.06966698491218719,-0.07324532296246938,-0.07243872158704565,-0.024091292739587787,0.042096167591574044,0.026332867882644443,-0.06788954615081215,-0.07998156743154006,-0.06999455237642074,-0.07792801044713663,-0.07910248326376462,-0.06758917617861458,-0.07375938750607827,-0.06620302081137495,-0.07532276425204636,-0.017733866232953515,0.03800525275200489,0.02045658433288501,-0.0666609183751477,-0.07078462039291389,-0.06754516496046967,-0.07926623487026967,-0.07157083315581417,-0.06829161113500426,-0.06945132227659134,-0.06982580836560134,-0.07813962115068769,-0.030916979867756388,0.04668755415621965,0.031219269936051272,-0.07097989225674096,-0.07363262278138726,-0.06234062481099877,-0.06545891208586122,-0.06658914163317033,-0.07033798495440272,-0.062047478689489406,-0.07110917011507854,-0.07143487455274741,-0.0166856077329851,0.04682666039168845,0.02804857666590546,-0.07012517976724986,-0.07336386884543233,-0.06367552820613841,-0.0741907585958322,-0.07326922089235184,-0.0683338034585712,-0.06673197931257857,-0.07167497528465762,-0.06971897765024142,-0.019002813316277078,0.05023489157124056,0.021255037201728562,0.002291661118499463,-0.03494261626341955,-0.05513126305914041,-0.06693407771552046,-0.062094465619427164,-0.058431854164231356,-0.06688635333159011,-0.07311250348657748,-0.07084759950539886,-0.07349566688513139],\"type\":\"scatter\"},{\"fill\":\"tonexty\",\"fillcolor\":\"rgba(0, 114, 178, 0.2)\",\"line\":{\"color\":\"#0072B2\",\"width\":2},\"mode\":\"lines\",\"name\":\"Predicted\",\"x\":[\"2012-05-31T00:00:00\",\"2012-06-30T00:00:00\",\"2012-07-31T00:00:00\",\"2012-08-31T00:00:00\",\"2012-09-30T00:00:00\",\"2012-10-31T00:00:00\",\"2012-11-30T00:00:00\",\"2012-12-31T00:00:00\",\"2013-01-31T00:00:00\",\"2013-02-28T00:00:00\",\"2013-03-31T00:00:00\",\"2013-04-30T00:00:00\",\"2013-05-31T00:00:00\",\"2013-06-30T00:00:00\",\"2013-07-31T00:00:00\",\"2013-08-31T00:00:00\",\"2013-09-30T00:00:00\",\"2013-10-31T00:00:00\",\"2013-11-30T00:00:00\",\"2013-12-31T00:00:00\",\"2014-01-31T00:00:00\",\"2014-02-28T00:00:00\",\"2014-03-31T00:00:00\",\"2014-04-30T00:00:00\",\"2014-05-31T00:00:00\",\"2014-06-30T00:00:00\",\"2014-07-31T00:00:00\",\"2014-08-31T00:00:00\",\"2014-09-30T00:00:00\",\"2014-10-31T00:00:00\",\"2014-11-30T00:00:00\",\"2014-12-31T00:00:00\",\"2015-01-31T00:00:00\",\"2015-02-28T00:00:00\",\"2015-03-31T00:00:00\",\"2015-04-30T00:00:00\",\"2015-05-31T00:00:00\",\"2015-06-30T00:00:00\",\"2015-07-31T00:00:00\",\"2015-08-31T00:00:00\",\"2015-09-30T00:00:00\",\"2015-10-31T00:00:00\",\"2015-11-30T00:00:00\",\"2015-12-31T00:00:00\",\"2016-01-31T00:00:00\",\"2016-02-29T00:00:00\",\"2016-03-31T00:00:00\",\"2016-04-30T00:00:00\",\"2016-05-31T00:00:00\",\"2016-06-30T00:00:00\",\"2016-07-31T00:00:00\",\"2016-08-31T00:00:00\",\"2016-09-30T00:00:00\",\"2016-10-31T00:00:00\",\"2016-11-30T00:00:00\",\"2016-12-31T00:00:00\",\"2017-01-31T00:00:00\",\"2017-02-28T00:00:00\",\"2017-03-31T00:00:00\",\"2017-04-30T00:00:00\",\"2017-05-31T00:00:00\",\"2017-06-30T00:00:00\",\"2017-07-31T00:00:00\",\"2017-08-31T00:00:00\",\"2017-09-30T00:00:00\",\"2017-10-31T00:00:00\",\"2017-11-30T00:00:00\",\"2017-12-31T00:00:00\",\"2018-01-31T00:00:00\",\"2018-02-28T00:00:00\",\"2018-03-31T00:00:00\",\"2018-04-30T00:00:00\",\"2018-05-31T00:00:00\",\"2018-06-30T00:00:00\",\"2018-07-31T00:00:00\",\"2018-08-31T00:00:00\",\"2018-09-30T00:00:00\",\"2018-10-31T00:00:00\",\"2018-11-30T00:00:00\",\"2018-12-31T00:00:00\",\"2019-01-31T00:00:00\",\"2019-02-28T00:00:00\",\"2019-03-31T00:00:00\",\"2019-04-30T00:00:00\",\"2019-05-31T00:00:00\",\"2019-06-30T00:00:00\",\"2019-07-31T00:00:00\",\"2019-08-31T00:00:00\",\"2019-09-30T00:00:00\",\"2019-10-31T00:00:00\",\"2019-11-30T00:00:00\",\"2019-12-31T00:00:00\",\"2020-01-31T00:00:00\",\"2020-02-29T00:00:00\",\"2020-03-31T00:00:00\",\"2020-04-30T00:00:00\",\"2020-05-31T00:00:00\",\"2020-06-30T00:00:00\",\"2020-07-31T00:00:00\",\"2020-08-31T00:00:00\",\"2020-09-30T00:00:00\",\"2020-10-31T00:00:00\",\"2020-11-30T00:00:00\",\"2020-12-31T00:00:00\",\"2021-01-31T00:00:00\",\"2021-02-28T00:00:00\",\"2021-03-31T00:00:00\",\"2021-04-30T00:00:00\",\"2021-05-31T00:00:00\",\"2021-06-06T00:00:00\",\"2021-06-13T00:00:00\",\"2021-06-20T00:00:00\",\"2021-06-27T00:00:00\",\"2021-07-04T00:00:00\",\"2021-07-11T00:00:00\",\"2021-07-18T00:00:00\",\"2021-07-25T00:00:00\",\"2021-08-01T00:00:00\",\"2021-08-08T00:00:00\"],\"y\":[0.09106381691982388,0.0009026289239348825,-0.00659295527928358,0.0038380072686992617,-0.008227618976225811,-0.00479961072214331,-0.0029483840426656957,-0.0025257991739197315,-0.002834236612670654,-0.00577244561266748,0.046749093706738826,0.11208677805605517,0.093113689963905,0.0020262218569988867,-0.005351473815861735,0.004734207096063616,-0.006685244902793663,-0.003365358548270681,-0.0015981631702362137,-0.0012519936268757144,-0.0016332526193940239,-0.004612349273730672,0.0464298203685129,0.114393310921106,0.09513243818629508,0.0031528937732301088,-0.004107636678338394,0.005633037757996916,-0.005131021617590912,-0.0019313592863398586,-0.000252678704901671,1.6163862732447576e-05,-0.00043706644835003056,-0.0034520161315052256,0.04613149245883607,0.11670364703168115,0.09711963423108397,0.00428330600050009,-0.0028612253732205536,0.006534903302104676,-0.0035652071305336715,-0.0004979631696027768,0.0010878906998325819,0.0012786642891456056,0.0007544674147870536,-0.0018723034611144752,0.052148736235881496,0.11484564875508846,0.0961240584526323,0.005962870515560232,-0.0015327136268783285,0.008898248983079617,-0.003167377201689789,0.0002606311142975132,0.002111857853669831,0.002534442756811719,0.0022260053317514766,-0.000712203655875026,0.051809335668924004,0.11714701928957841,0.09817393039101908,0.007086461503714711,-0.00029123543925778025,0.009794443721098708,-0.0016250099728351737,0.0016948746272095958,0.0034620682969790165,0.0038082360751299227,0.0034269753185160075,0.00044787707780486255,0.05149004496497672,0.11945353381909944,0.10019265932802586,0.008213113196199624,0.0009525809685727339,0.010693253628500047,-7.08074558648103e-05,0.0031288531147426434,0.0048075319923406995,0.0050763728019225345,0.004623140740461471,0.0016081894763257942,0.05119169631433943,0.12176384918739713,0.10217983463057087,0.009343504700413719,0.0021989715684011604,0.011595098469123174,0.0014949863191357805,0.004562228484083657,0.006148080586832843,0.006338852350571234,0.005814653650631638,0.0031878810725570056,0.05720891895188821,0.11990582971205871,0.10118423759748538,0.011023047919861619,0.003527461978846083,0.013958422790231921,0.001892794866563935,0.0053208013859398495,0.0071720263866631336,0.007594609507494632,0.007286170319919332,0.004347959740342161,0.05686949730263163,0.12220717994177138,0.10323409008244602,0.07734329072931082,0.04050844133575439,0.016244557933875775,0.010884218612021972,0.01437060535669239,0.014626298782227869,0.009699258194211482,0.005349206338870333,0.004875156011851511,0.00557584334062115],\"type\":\"scatter\"},{\"fill\":\"tonexty\",\"fillcolor\":\"rgba(0, 114, 178, 0.2)\",\"hoverinfo\":\"skip\",\"line\":{\"width\":0},\"mode\":\"lines\",\"x\":[\"2012-05-31T00:00:00\",\"2012-06-30T00:00:00\",\"2012-07-31T00:00:00\",\"2012-08-31T00:00:00\",\"2012-09-30T00:00:00\",\"2012-10-31T00:00:00\",\"2012-11-30T00:00:00\",\"2012-12-31T00:00:00\",\"2013-01-31T00:00:00\",\"2013-02-28T00:00:00\",\"2013-03-31T00:00:00\",\"2013-04-30T00:00:00\",\"2013-05-31T00:00:00\",\"2013-06-30T00:00:00\",\"2013-07-31T00:00:00\",\"2013-08-31T00:00:00\",\"2013-09-30T00:00:00\",\"2013-10-31T00:00:00\",\"2013-11-30T00:00:00\",\"2013-12-31T00:00:00\",\"2014-01-31T00:00:00\",\"2014-02-28T00:00:00\",\"2014-03-31T00:00:00\",\"2014-04-30T00:00:00\",\"2014-05-31T00:00:00\",\"2014-06-30T00:00:00\",\"2014-07-31T00:00:00\",\"2014-08-31T00:00:00\",\"2014-09-30T00:00:00\",\"2014-10-31T00:00:00\",\"2014-11-30T00:00:00\",\"2014-12-31T00:00:00\",\"2015-01-31T00:00:00\",\"2015-02-28T00:00:00\",\"2015-03-31T00:00:00\",\"2015-04-30T00:00:00\",\"2015-05-31T00:00:00\",\"2015-06-30T00:00:00\",\"2015-07-31T00:00:00\",\"2015-08-31T00:00:00\",\"2015-09-30T00:00:00\",\"2015-10-31T00:00:00\",\"2015-11-30T00:00:00\",\"2015-12-31T00:00:00\",\"2016-01-31T00:00:00\",\"2016-02-29T00:00:00\",\"2016-03-31T00:00:00\",\"2016-04-30T00:00:00\",\"2016-05-31T00:00:00\",\"2016-06-30T00:00:00\",\"2016-07-31T00:00:00\",\"2016-08-31T00:00:00\",\"2016-09-30T00:00:00\",\"2016-10-31T00:00:00\",\"2016-11-30T00:00:00\",\"2016-12-31T00:00:00\",\"2017-01-31T00:00:00\",\"2017-02-28T00:00:00\",\"2017-03-31T00:00:00\",\"2017-04-30T00:00:00\",\"2017-05-31T00:00:00\",\"2017-06-30T00:00:00\",\"2017-07-31T00:00:00\",\"2017-08-31T00:00:00\",\"2017-09-30T00:00:00\",\"2017-10-31T00:00:00\",\"2017-11-30T00:00:00\",\"2017-12-31T00:00:00\",\"2018-01-31T00:00:00\",\"2018-02-28T00:00:00\",\"2018-03-31T00:00:00\",\"2018-04-30T00:00:00\",\"2018-05-31T00:00:00\",\"2018-06-30T00:00:00\",\"2018-07-31T00:00:00\",\"2018-08-31T00:00:00\",\"2018-09-30T00:00:00\",\"2018-10-31T00:00:00\",\"2018-11-30T00:00:00\",\"2018-12-31T00:00:00\",\"2019-01-31T00:00:00\",\"2019-02-28T00:00:00\",\"2019-03-31T00:00:00\",\"2019-04-30T00:00:00\",\"2019-05-31T00:00:00\",\"2019-06-30T00:00:00\",\"2019-07-31T00:00:00\",\"2019-08-31T00:00:00\",\"2019-09-30T00:00:00\",\"2019-10-31T00:00:00\",\"2019-11-30T00:00:00\",\"2019-12-31T00:00:00\",\"2020-01-31T00:00:00\",\"2020-02-29T00:00:00\",\"2020-03-31T00:00:00\",\"2020-04-30T00:00:00\",\"2020-05-31T00:00:00\",\"2020-06-30T00:00:00\",\"2020-07-31T00:00:00\",\"2020-08-31T00:00:00\",\"2020-09-30T00:00:00\",\"2020-10-31T00:00:00\",\"2020-11-30T00:00:00\",\"2020-12-31T00:00:00\",\"2021-01-31T00:00:00\",\"2021-02-28T00:00:00\",\"2021-03-31T00:00:00\",\"2021-04-30T00:00:00\",\"2021-05-31T00:00:00\",\"2021-06-06T00:00:00\",\"2021-06-13T00:00:00\",\"2021-06-20T00:00:00\",\"2021-06-27T00:00:00\",\"2021-07-04T00:00:00\",\"2021-07-11T00:00:00\",\"2021-07-18T00:00:00\",\"2021-07-25T00:00:00\",\"2021-08-01T00:00:00\",\"2021-08-08T00:00:00\"],\"y\":[0.165540433888273,0.07544371002615145,0.07116600392801688,0.08325552038430856,0.06747012962940506,0.07631641712768555,0.07577860698498579,0.07616591946403878,0.07486235151323944,0.06861394222312037,0.12402967339260818,0.1876227473923943,0.1721921950846794,0.0740108483800743,0.06367714815390277,0.07562216638317237,0.06851523134751754,0.07591700122788046,0.07576331279953155,0.07482412897514291,0.06858859852948018,0.0654633561096002,0.12106097047139465,0.19468232202734448,0.1723216352747612,0.07642549731385984,0.06899511150170234,0.083915098044454,0.0738840315926827,0.07192033648931945,0.07451667183348071,0.07432716165779213,0.06961106484181258,0.07179265587545614,0.11424505947501584,0.19024912936189556,0.17690109554054143,0.0755789637984037,0.06887725614669954,0.08249325690740368,0.07446533282303594,0.06876670105458473,0.07441541089223447,0.07528995414801619,0.07048780014232697,0.07272109724788563,0.12727423372779745,0.19237530802457747,0.16940123459348067,0.07894039077180641,0.07045128061007769,0.08200535129137622,0.07183106457754114,0.07498439054736636,0.07540195135099848,0.0799508123201267,0.08010519687457496,0.07561540256250565,0.12367381280450654,0.19607542795494864,0.17301870577709105,0.08617898055660168,0.07496961038172321,0.08542455845892649,0.0825053959227811,0.08007365537893076,0.07721697777482549,0.07551693128144776,0.08556646219196187,0.0750487545423937,0.12885362888987534,0.1947435107485267,0.18208147170582908,0.08342024216502805,0.07107875510051141,0.08649786604052392,0.07660768797130385,0.07719628969530257,0.07588729631421871,0.08050768745896597,0.08452384108950708,0.07948666852613301,0.12428154348452256,0.1956549669292337,0.1773708735815537,0.0817663229100157,0.08121220689202943,0.08769133989695373,0.08320074485526487,0.08125471812068089,0.07865111581434057,0.0832579299808252,0.08278322253040002,0.08239774168319534,0.13482070748829378,0.19162488861953608,0.17908647319524387,0.08435730466855353,0.08262542663187226,0.08955219147737792,0.07462510885140439,0.08154284238705166,0.07783458727634224,0.0807585781346397,0.08836925113775845,0.08109575381083228,0.12999341887778326,0.1979558292669505,0.18219983779459126,0.1536040336570846,0.11860647342570728,0.0887069854710781,0.08764812307792882,0.09682333519690445,0.09003869778695398,0.08159805401695579,0.08435546723379861,0.07923501081083385,0.07989318645699359],\"type\":\"scatter\"}],                        {\"height\":600,\"showlegend\":false,\"width\":900,\"xaxis\":{\"rangeselector\":{\"buttons\":[{\"count\":7,\"label\":\"1w\",\"step\":\"day\",\"stepmode\":\"backward\"},{\"count\":1,\"label\":\"1m\",\"step\":\"month\",\"stepmode\":\"backward\"},{\"count\":6,\"label\":\"6m\",\"step\":\"month\",\"stepmode\":\"backward\"},{\"count\":1,\"label\":\"1y\",\"step\":\"year\",\"stepmode\":\"backward\"},{\"step\":\"all\"}]},\"rangeslider\":{\"visible\":true},\"title\":{\"text\":\"ds\"},\"type\":\"date\"},\"yaxis\":{\"title\":{\"text\":\"y\"}},\"template\":{\"data\":{\"bar\":[{\"error_x\":{\"color\":\"#2a3f5f\"},\"error_y\":{\"color\":\"#2a3f5f\"},\"marker\":{\"line\":{\"color\":\"#E5ECF6\",\"width\":0.5},\"pattern\":{\"fillmode\":\"overlay\",\"size\":10,\"solidity\":0.2}},\"type\":\"bar\"}],\"barpolar\":[{\"marker\":{\"line\":{\"color\":\"#E5ECF6\",\"width\":0.5},\"pattern\":{\"fillmode\":\"overlay\",\"size\":10,\"solidity\":0.2}},\"type\":\"barpolar\"}],\"carpet\":[{\"aaxis\":{\"endlinecolor\":\"#2a3f5f\",\"gridcolor\":\"white\",\"linecolor\":\"white\",\"minorgridcolor\":\"white\",\"startlinecolor\":\"#2a3f5f\"},\"baxis\":{\"endlinecolor\":\"#2a3f5f\",\"gridcolor\":\"white\",\"linecolor\":\"white\",\"minorgridcolor\":\"white\",\"startlinecolor\":\"#2a3f5f\"},\"type\":\"carpet\"}],\"choropleth\":[{\"colorbar\":{\"outlinewidth\":0,\"ticks\":\"\"},\"type\":\"choropleth\"}],\"contour\":[{\"colorbar\":{\"outlinewidth\":0,\"ticks\":\"\"},\"colorscale\":[[0.0,\"#0d0887\"],[0.1111111111111111,\"#46039f\"],[0.2222222222222222,\"#7201a8\"],[0.3333333333333333,\"#9c179e\"],[0.4444444444444444,\"#bd3786\"],[0.5555555555555556,\"#d8576b\"],[0.6666666666666666,\"#ed7953\"],[0.7777777777777778,\"#fb9f3a\"],[0.8888888888888888,\"#fdca26\"],[1.0,\"#f0f921\"]],\"type\":\"contour\"}],\"contourcarpet\":[{\"colorbar\":{\"outlinewidth\":0,\"ticks\":\"\"},\"type\":\"contourcarpet\"}],\"heatmap\":[{\"colorbar\":{\"outlinewidth\":0,\"ticks\":\"\"},\"colorscale\":[[0.0,\"#0d0887\"],[0.1111111111111111,\"#46039f\"],[0.2222222222222222,\"#7201a8\"],[0.3333333333333333,\"#9c179e\"],[0.4444444444444444,\"#bd3786\"],[0.5555555555555556,\"#d8576b\"],[0.6666666666666666,\"#ed7953\"],[0.7777777777777778,\"#fb9f3a\"],[0.8888888888888888,\"#fdca26\"],[1.0,\"#f0f921\"]],\"type\":\"heatmap\"}],\"heatmapgl\":[{\"colorbar\":{\"outlinewidth\":0,\"ticks\":\"\"},\"colorscale\":[[0.0,\"#0d0887\"],[0.1111111111111111,\"#46039f\"],[0.2222222222222222,\"#7201a8\"],[0.3333333333333333,\"#9c179e\"],[0.4444444444444444,\"#bd3786\"],[0.5555555555555556,\"#d8576b\"],[0.6666666666666666,\"#ed7953\"],[0.7777777777777778,\"#fb9f3a\"],[0.8888888888888888,\"#fdca26\"],[1.0,\"#f0f921\"]],\"type\":\"heatmapgl\"}],\"histogram\":[{\"marker\":{\"pattern\":{\"fillmode\":\"overlay\",\"size\":10,\"solidity\":0.2}},\"type\":\"histogram\"}],\"histogram2d\":[{\"colorbar\":{\"outlinewidth\":0,\"ticks\":\"\"},\"colorscale\":[[0.0,\"#0d0887\"],[0.1111111111111111,\"#46039f\"],[0.2222222222222222,\"#7201a8\"],[0.3333333333333333,\"#9c179e\"],[0.4444444444444444,\"#bd3786\"],[0.5555555555555556,\"#d8576b\"],[0.6666666666666666,\"#ed7953\"],[0.7777777777777778,\"#fb9f3a\"],[0.8888888888888888,\"#fdca26\"],[1.0,\"#f0f921\"]],\"type\":\"histogram2d\"}],\"histogram2dcontour\":[{\"colorbar\":{\"outlinewidth\":0,\"ticks\":\"\"},\"colorscale\":[[0.0,\"#0d0887\"],[0.1111111111111111,\"#46039f\"],[0.2222222222222222,\"#7201a8\"],[0.3333333333333333,\"#9c179e\"],[0.4444444444444444,\"#bd3786\"],[0.5555555555555556,\"#d8576b\"],[0.6666666666666666,\"#ed7953\"],[0.7777777777777778,\"#fb9f3a\"],[0.8888888888888888,\"#fdca26\"],[1.0,\"#f0f921\"]],\"type\":\"histogram2dcontour\"}],\"mesh3d\":[{\"colorbar\":{\"outlinewidth\":0,\"ticks\":\"\"},\"type\":\"mesh3d\"}],\"parcoords\":[{\"line\":{\"colorbar\":{\"outlinewidth\":0,\"ticks\":\"\"}},\"type\":\"parcoords\"}],\"pie\":[{\"automargin\":true,\"type\":\"pie\"}],\"scatter\":[{\"marker\":{\"colorbar\":{\"outlinewidth\":0,\"ticks\":\"\"}},\"type\":\"scatter\"}],\"scatter3d\":[{\"line\":{\"colorbar\":{\"outlinewidth\":0,\"ticks\":\"\"}},\"marker\":{\"colorbar\":{\"outlinewidth\":0,\"ticks\":\"\"}},\"type\":\"scatter3d\"}],\"scattercarpet\":[{\"marker\":{\"colorbar\":{\"outlinewidth\":0,\"ticks\":\"\"}},\"type\":\"scattercarpet\"}],\"scattergeo\":[{\"marker\":{\"colorbar\":{\"outlinewidth\":0,\"ticks\":\"\"}},\"type\":\"scattergeo\"}],\"scattergl\":[{\"marker\":{\"colorbar\":{\"outlinewidth\":0,\"ticks\":\"\"}},\"type\":\"scattergl\"}],\"scattermapbox\":[{\"marker\":{\"colorbar\":{\"outlinewidth\":0,\"ticks\":\"\"}},\"type\":\"scattermapbox\"}],\"scatterpolar\":[{\"marker\":{\"colorbar\":{\"outlinewidth\":0,\"ticks\":\"\"}},\"type\":\"scatterpolar\"}],\"scatterpolargl\":[{\"marker\":{\"colorbar\":{\"outlinewidth\":0,\"ticks\":\"\"}},\"type\":\"scatterpolargl\"}],\"scatterternary\":[{\"marker\":{\"colorbar\":{\"outlinewidth\":0,\"ticks\":\"\"}},\"type\":\"scatterternary\"}],\"surface\":[{\"colorbar\":{\"outlinewidth\":0,\"ticks\":\"\"},\"colorscale\":[[0.0,\"#0d0887\"],[0.1111111111111111,\"#46039f\"],[0.2222222222222222,\"#7201a8\"],[0.3333333333333333,\"#9c179e\"],[0.4444444444444444,\"#bd3786\"],[0.5555555555555556,\"#d8576b\"],[0.6666666666666666,\"#ed7953\"],[0.7777777777777778,\"#fb9f3a\"],[0.8888888888888888,\"#fdca26\"],[1.0,\"#f0f921\"]],\"type\":\"surface\"}],\"table\":[{\"cells\":{\"fill\":{\"color\":\"#EBF0F8\"},\"line\":{\"color\":\"white\"}},\"header\":{\"fill\":{\"color\":\"#C8D4E3\"},\"line\":{\"color\":\"white\"}},\"type\":\"table\"}]},\"layout\":{\"annotationdefaults\":{\"arrowcolor\":\"#2a3f5f\",\"arrowhead\":0,\"arrowwidth\":1},\"autotypenumbers\":\"strict\",\"coloraxis\":{\"colorbar\":{\"outlinewidth\":0,\"ticks\":\"\"}},\"colorscale\":{\"diverging\":[[0,\"#8e0152\"],[0.1,\"#c51b7d\"],[0.2,\"#de77ae\"],[0.3,\"#f1b6da\"],[0.4,\"#fde0ef\"],[0.5,\"#f7f7f7\"],[0.6,\"#e6f5d0\"],[0.7,\"#b8e186\"],[0.8,\"#7fbc41\"],[0.9,\"#4d9221\"],[1,\"#276419\"]],\"sequential\":[[0.0,\"#0d0887\"],[0.1111111111111111,\"#46039f\"],[0.2222222222222222,\"#7201a8\"],[0.3333333333333333,\"#9c179e\"],[0.4444444444444444,\"#bd3786\"],[0.5555555555555556,\"#d8576b\"],[0.6666666666666666,\"#ed7953\"],[0.7777777777777778,\"#fb9f3a\"],[0.8888888888888888,\"#fdca26\"],[1.0,\"#f0f921\"]],\"sequentialminus\":[[0.0,\"#0d0887\"],[0.1111111111111111,\"#46039f\"],[0.2222222222222222,\"#7201a8\"],[0.3333333333333333,\"#9c179e\"],[0.4444444444444444,\"#bd3786\"],[0.5555555555555556,\"#d8576b\"],[0.6666666666666666,\"#ed7953\"],[0.7777777777777778,\"#fb9f3a\"],[0.8888888888888888,\"#fdca26\"],[1.0,\"#f0f921\"]]},\"colorway\":[\"#636efa\",\"#EF553B\",\"#00cc96\",\"#ab63fa\",\"#FFA15A\",\"#19d3f3\",\"#FF6692\",\"#B6E880\",\"#FF97FF\",\"#FECB52\"],\"font\":{\"color\":\"#2a3f5f\"},\"geo\":{\"bgcolor\":\"white\",\"lakecolor\":\"white\",\"landcolor\":\"#E5ECF6\",\"showlakes\":true,\"showland\":true,\"subunitcolor\":\"white\"},\"hoverlabel\":{\"align\":\"left\"},\"hovermode\":\"closest\",\"mapbox\":{\"style\":\"light\"},\"paper_bgcolor\":\"white\",\"plot_bgcolor\":\"#E5ECF6\",\"polar\":{\"angularaxis\":{\"gridcolor\":\"white\",\"linecolor\":\"white\",\"ticks\":\"\"},\"bgcolor\":\"#E5ECF6\",\"radialaxis\":{\"gridcolor\":\"white\",\"linecolor\":\"white\",\"ticks\":\"\"}},\"scene\":{\"xaxis\":{\"backgroundcolor\":\"#E5ECF6\",\"gridcolor\":\"white\",\"gridwidth\":2,\"linecolor\":\"white\",\"showbackground\":true,\"ticks\":\"\",\"zerolinecolor\":\"white\"},\"yaxis\":{\"backgroundcolor\":\"#E5ECF6\",\"gridcolor\":\"white\",\"gridwidth\":2,\"linecolor\":\"white\",\"showbackground\":true,\"ticks\":\"\",\"zerolinecolor\":\"white\"},\"zaxis\":{\"backgroundcolor\":\"#E5ECF6\",\"gridcolor\":\"white\",\"gridwidth\":2,\"linecolor\":\"white\",\"showbackground\":true,\"ticks\":\"\",\"zerolinecolor\":\"white\"}},\"shapedefaults\":{\"line\":{\"color\":\"#2a3f5f\"}},\"ternary\":{\"aaxis\":{\"gridcolor\":\"white\",\"linecolor\":\"white\",\"ticks\":\"\"},\"baxis\":{\"gridcolor\":\"white\",\"linecolor\":\"white\",\"ticks\":\"\"},\"bgcolor\":\"#E5ECF6\",\"caxis\":{\"gridcolor\":\"white\",\"linecolor\":\"white\",\"ticks\":\"\"}},\"title\":{\"x\":0.05},\"xaxis\":{\"automargin\":true,\"gridcolor\":\"white\",\"linecolor\":\"white\",\"ticks\":\"\",\"title\":{\"standoff\":15},\"zerolinecolor\":\"white\",\"zerolinewidth\":2},\"yaxis\":{\"automargin\":true,\"gridcolor\":\"white\",\"linecolor\":\"white\",\"ticks\":\"\",\"title\":{\"standoff\":15},\"zerolinecolor\":\"white\",\"zerolinewidth\":2}}}},                        {\"responsive\": true}                    ).then(function(){\n",
       "                            \n",
       "var gd = document.getElementById('4ae963be-27bb-4f4d-8aa3-b0b666ea5848');\n",
       "var x = new MutationObserver(function (mutations, observer) {{\n",
       "        var display = window.getComputedStyle(gd).display;\n",
       "        if (!display || display === 'none') {{\n",
       "            console.log([gd, 'removed!']);\n",
       "            Plotly.purge(gd);\n",
       "            observer.disconnect();\n",
       "        }}\n",
       "}});\n",
       "\n",
       "// Listen for the removal of the full notebook cells\n",
       "var notebookContainer = gd.closest('#notebook-container');\n",
       "if (notebookContainer) {{\n",
       "    x.observe(notebookContainer, {childList: true});\n",
       "}}\n",
       "\n",
       "// Listen for the clearing of the current output cell\n",
       "var outputEl = gd.closest('.output');\n",
       "if (outputEl) {{\n",
       "    x.observe(outputEl, {childList: true});\n",
       "}}\n",
       "\n",
       "                        })                };                });            </script>        </div>"
      ]
     },
     "metadata": {},
     "output_type": "display_data"
    },
    {
     "data": {
      "application/vnd.plotly.v1+json": {
       "config": {
        "plotlyServerURL": "https://plot.ly"
       },
       "data": [
        {
         "line": {
          "color": "#0072B2",
          "width": 2
         },
         "mode": "lines",
         "name": "trend",
         "type": "scatter",
         "x": [
          "2012-05-31T00:00:00",
          "2012-06-30T00:00:00",
          "2012-07-31T00:00:00",
          "2012-08-31T00:00:00",
          "2012-09-30T00:00:00",
          "2012-10-31T00:00:00",
          "2012-11-30T00:00:00",
          "2012-12-31T00:00:00",
          "2013-01-31T00:00:00",
          "2013-02-28T00:00:00",
          "2013-03-31T00:00:00",
          "2013-04-30T00:00:00",
          "2013-05-31T00:00:00",
          "2013-06-30T00:00:00",
          "2013-07-31T00:00:00",
          "2013-08-31T00:00:00",
          "2013-09-30T00:00:00",
          "2013-10-31T00:00:00",
          "2013-11-30T00:00:00",
          "2013-12-31T00:00:00",
          "2014-01-31T00:00:00",
          "2014-02-28T00:00:00",
          "2014-03-31T00:00:00",
          "2014-04-30T00:00:00",
          "2014-05-31T00:00:00",
          "2014-06-30T00:00:00",
          "2014-07-31T00:00:00",
          "2014-08-31T00:00:00",
          "2014-09-30T00:00:00",
          "2014-10-31T00:00:00",
          "2014-11-30T00:00:00",
          "2014-12-31T00:00:00",
          "2015-01-31T00:00:00",
          "2015-02-28T00:00:00",
          "2015-03-31T00:00:00",
          "2015-04-30T00:00:00",
          "2015-05-31T00:00:00",
          "2015-06-30T00:00:00",
          "2015-07-31T00:00:00",
          "2015-08-31T00:00:00",
          "2015-09-30T00:00:00",
          "2015-10-31T00:00:00",
          "2015-11-30T00:00:00",
          "2015-12-31T00:00:00",
          "2016-01-31T00:00:00",
          "2016-02-29T00:00:00",
          "2016-03-31T00:00:00",
          "2016-04-30T00:00:00",
          "2016-05-31T00:00:00",
          "2016-06-30T00:00:00",
          "2016-07-31T00:00:00",
          "2016-08-31T00:00:00",
          "2016-09-30T00:00:00",
          "2016-10-31T00:00:00",
          "2016-11-30T00:00:00",
          "2016-12-31T00:00:00",
          "2017-01-31T00:00:00",
          "2017-02-28T00:00:00",
          "2017-03-31T00:00:00",
          "2017-04-30T00:00:00",
          "2017-05-31T00:00:00",
          "2017-06-30T00:00:00",
          "2017-07-31T00:00:00",
          "2017-08-31T00:00:00",
          "2017-09-30T00:00:00",
          "2017-10-31T00:00:00",
          "2017-11-30T00:00:00",
          "2017-12-31T00:00:00",
          "2018-01-31T00:00:00",
          "2018-02-28T00:00:00",
          "2018-03-31T00:00:00",
          "2018-04-30T00:00:00",
          "2018-05-31T00:00:00",
          "2018-06-30T00:00:00",
          "2018-07-31T00:00:00",
          "2018-08-31T00:00:00",
          "2018-09-30T00:00:00",
          "2018-10-31T00:00:00",
          "2018-11-30T00:00:00",
          "2018-12-31T00:00:00",
          "2019-01-31T00:00:00",
          "2019-02-28T00:00:00",
          "2019-03-31T00:00:00",
          "2019-04-30T00:00:00",
          "2019-05-31T00:00:00",
          "2019-06-30T00:00:00",
          "2019-07-31T00:00:00",
          "2019-08-31T00:00:00",
          "2019-09-30T00:00:00",
          "2019-10-31T00:00:00",
          "2019-11-30T00:00:00",
          "2019-12-31T00:00:00",
          "2020-01-31T00:00:00",
          "2020-02-29T00:00:00",
          "2020-03-31T00:00:00",
          "2020-04-30T00:00:00",
          "2020-05-31T00:00:00",
          "2020-06-30T00:00:00",
          "2020-07-31T00:00:00",
          "2020-08-31T00:00:00",
          "2020-09-30T00:00:00",
          "2020-10-31T00:00:00",
          "2020-11-30T00:00:00",
          "2020-12-31T00:00:00",
          "2021-01-31T00:00:00",
          "2021-02-28T00:00:00",
          "2021-03-31T00:00:00",
          "2021-04-30T00:00:00",
          "2021-05-31T00:00:00",
          "2021-06-06T00:00:00",
          "2021-06-13T00:00:00",
          "2021-06-20T00:00:00",
          "2021-06-27T00:00:00",
          "2021-07-04T00:00:00",
          "2021-07-11T00:00:00",
          "2021-07-18T00:00:00",
          "2021-07-25T00:00:00",
          "2021-08-01T00:00:00",
          "2021-08-08T00:00:00"
         ],
         "xaxis": "x",
         "y": [
          0.017764999550564396,
          0.017868905910390594,
          0.017976275815544333,
          0.018083645719503282,
          0.0181875520763425,
          0.018294921978409696,
          0.018398828335248918,
          0.018506198250524398,
          0.01861356816671079,
          0.01871054744584689,
          0.018817917370322516,
          0.018921823758588117,
          0.019029193693129234,
          0.019133100081394832,
          0.019240470028274913,
          0.019347839975154994,
          0.01945174637536152,
          0.019559116324533592,
          0.019663022728560107,
          0.01977039267938751,
          0.019877762629103447,
          0.01997474193330401,
          0.02008211187724035,
          0.020186018274598098,
          0.020293388216638304,
          0.020397294611151848,
          0.02050466455214918,
          0.020612034493507254,
          0.02071594088956685,
          0.020823310832161764,
          0.02092721722822136,
          0.02103458717090077,
          0.02114195711360483,
          0.02123893641669236,
          0.021346306361353706,
          0.021450212764043214,
          0.02155758271348904,
          0.02166148911617855,
          0.02176885905934721,
          0.021876229001308724,
          0.02198013539675535,
          0.022087505360093657,
          0.022191411804871348,
          0.02229878179780829,
          0.022406151790745232,
          0.022506594681747264,
          0.022613964666770184,
          0.02271787110388914,
          0.022825241083369995,
          0.022929147502015378,
          0.023036517467948943,
          0.023143887433882508,
          0.023247793850878825,
          0.023355163814846196,
          0.023459070231588806,
          0.023566440181259925,
          0.023673810111136232,
          0.023770789402637417,
          0.023878159332513728,
          0.023982064992108688,
          0.024089434120240515,
          0.024193339728110032,
          0.024300708404876595,
          0.024408076600186887,
          0.024511981305325874,
          0.024619349500011118,
          0.024723254195774414,
          0.024830622381396484,
          0.024937990567018557,
          0.02503496828483926,
          0.025142336473698023,
          0.025246241172593598,
          0.02535360935836677,
          0.025457514034120426,
          0.025564882199065875,
          0.02567225036401132,
          0.025776155051288486,
          0.02588352323324484,
          0.025987427925460653,
          0.02609479611009316,
          0.026202164302419634,
          0.02629914202452096,
          0.026406510216847427,
          0.026510414919760014,
          0.026617783112977623,
          0.026721687816091428,
          0.02682905600096811,
          0.026936424168328844,
          0.027040328846419874,
          0.027147697013780614,
          0.027251601691871647,
          0.02735896985923238,
          0.027466338026593113,
          0.027566779215414446,
          0.02767414738277518,
          0.027778052060866205,
          0.02788542022822694,
          0.02798932490631797,
          0.02809669307367871,
          0.028204061241039444,
          0.02830796591913047,
          0.028415334086491204,
          0.028519238764582244,
          0.028626606931942977,
          0.02873397509930371,
          0.02883095279885534,
          0.028938320966216072,
          0.029042225644307106,
          0.02914959381166784,
          0.02917037474728604,
          0.029194619172173954,
          0.02921886359706186,
          0.029243108021949765,
          0.029267352446837674,
          0.02929159687172558,
          0.02931584129661349,
          0.029340085721501395,
          0.029364330146389304,
          0.02938857457127721
         ],
         "yaxis": "y"
        },
        {
         "line": {
          "color": "rgba(0, 114, 178, 0.2)",
          "width": 0
         },
         "mode": "lines",
         "name": "trend_upper",
         "type": "scatter",
         "x": [
          "2012-05-31T00:00:00",
          "2012-06-30T00:00:00",
          "2012-07-31T00:00:00",
          "2012-08-31T00:00:00",
          "2012-09-30T00:00:00",
          "2012-10-31T00:00:00",
          "2012-11-30T00:00:00",
          "2012-12-31T00:00:00",
          "2013-01-31T00:00:00",
          "2013-02-28T00:00:00",
          "2013-03-31T00:00:00",
          "2013-04-30T00:00:00",
          "2013-05-31T00:00:00",
          "2013-06-30T00:00:00",
          "2013-07-31T00:00:00",
          "2013-08-31T00:00:00",
          "2013-09-30T00:00:00",
          "2013-10-31T00:00:00",
          "2013-11-30T00:00:00",
          "2013-12-31T00:00:00",
          "2014-01-31T00:00:00",
          "2014-02-28T00:00:00",
          "2014-03-31T00:00:00",
          "2014-04-30T00:00:00",
          "2014-05-31T00:00:00",
          "2014-06-30T00:00:00",
          "2014-07-31T00:00:00",
          "2014-08-31T00:00:00",
          "2014-09-30T00:00:00",
          "2014-10-31T00:00:00",
          "2014-11-30T00:00:00",
          "2014-12-31T00:00:00",
          "2015-01-31T00:00:00",
          "2015-02-28T00:00:00",
          "2015-03-31T00:00:00",
          "2015-04-30T00:00:00",
          "2015-05-31T00:00:00",
          "2015-06-30T00:00:00",
          "2015-07-31T00:00:00",
          "2015-08-31T00:00:00",
          "2015-09-30T00:00:00",
          "2015-10-31T00:00:00",
          "2015-11-30T00:00:00",
          "2015-12-31T00:00:00",
          "2016-01-31T00:00:00",
          "2016-02-29T00:00:00",
          "2016-03-31T00:00:00",
          "2016-04-30T00:00:00",
          "2016-05-31T00:00:00",
          "2016-06-30T00:00:00",
          "2016-07-31T00:00:00",
          "2016-08-31T00:00:00",
          "2016-09-30T00:00:00",
          "2016-10-31T00:00:00",
          "2016-11-30T00:00:00",
          "2016-12-31T00:00:00",
          "2017-01-31T00:00:00",
          "2017-02-28T00:00:00",
          "2017-03-31T00:00:00",
          "2017-04-30T00:00:00",
          "2017-05-31T00:00:00",
          "2017-06-30T00:00:00",
          "2017-07-31T00:00:00",
          "2017-08-31T00:00:00",
          "2017-09-30T00:00:00",
          "2017-10-31T00:00:00",
          "2017-11-30T00:00:00",
          "2017-12-31T00:00:00",
          "2018-01-31T00:00:00",
          "2018-02-28T00:00:00",
          "2018-03-31T00:00:00",
          "2018-04-30T00:00:00",
          "2018-05-31T00:00:00",
          "2018-06-30T00:00:00",
          "2018-07-31T00:00:00",
          "2018-08-31T00:00:00",
          "2018-09-30T00:00:00",
          "2018-10-31T00:00:00",
          "2018-11-30T00:00:00",
          "2018-12-31T00:00:00",
          "2019-01-31T00:00:00",
          "2019-02-28T00:00:00",
          "2019-03-31T00:00:00",
          "2019-04-30T00:00:00",
          "2019-05-31T00:00:00",
          "2019-06-30T00:00:00",
          "2019-07-31T00:00:00",
          "2019-08-31T00:00:00",
          "2019-09-30T00:00:00",
          "2019-10-31T00:00:00",
          "2019-11-30T00:00:00",
          "2019-12-31T00:00:00",
          "2020-01-31T00:00:00",
          "2020-02-29T00:00:00",
          "2020-03-31T00:00:00",
          "2020-04-30T00:00:00",
          "2020-05-31T00:00:00",
          "2020-06-30T00:00:00",
          "2020-07-31T00:00:00",
          "2020-08-31T00:00:00",
          "2020-09-30T00:00:00",
          "2020-10-31T00:00:00",
          "2020-11-30T00:00:00",
          "2020-12-31T00:00:00",
          "2021-01-31T00:00:00",
          "2021-02-28T00:00:00",
          "2021-03-31T00:00:00",
          "2021-04-30T00:00:00",
          "2021-05-31T00:00:00",
          "2021-06-06T00:00:00",
          "2021-06-13T00:00:00",
          "2021-06-20T00:00:00",
          "2021-06-27T00:00:00",
          "2021-07-04T00:00:00",
          "2021-07-11T00:00:00",
          "2021-07-18T00:00:00",
          "2021-07-25T00:00:00",
          "2021-08-01T00:00:00",
          "2021-08-08T00:00:00"
         ],
         "xaxis": "x",
         "y": [
          0.017764999550564396,
          0.017868905910390594,
          0.017976275815544333,
          0.018083645719503282,
          0.0181875520763425,
          0.018294921978409696,
          0.018398828335248918,
          0.018506198250524398,
          0.01861356816671079,
          0.01871054744584689,
          0.018817917370322516,
          0.018921823758588117,
          0.019029193693129234,
          0.019133100081394832,
          0.019240470028274913,
          0.019347839975154994,
          0.01945174637536152,
          0.019559116324533592,
          0.019663022728560107,
          0.01977039267938751,
          0.019877762629103447,
          0.01997474193330401,
          0.02008211187724035,
          0.020186018274598098,
          0.020293388216638304,
          0.020397294611151848,
          0.02050466455214918,
          0.020612034493507254,
          0.02071594088956685,
          0.020823310832161764,
          0.02092721722822136,
          0.02103458717090077,
          0.02114195711360483,
          0.02123893641669236,
          0.021346306361353706,
          0.021450212764043214,
          0.02155758271348904,
          0.02166148911617855,
          0.02176885905934721,
          0.021876229001308724,
          0.02198013539675535,
          0.022087505360093657,
          0.022191411804871348,
          0.02229878179780829,
          0.022406151790745232,
          0.022506594681747264,
          0.022613964666770184,
          0.02271787110388914,
          0.022825241083369995,
          0.022929147502015378,
          0.023036517467948943,
          0.023143887433882508,
          0.023247793850878825,
          0.023355163814846196,
          0.023459070231588806,
          0.023566440181259925,
          0.023673810111136232,
          0.023770789402637417,
          0.023878159332513728,
          0.023982064992108688,
          0.024089434120240515,
          0.024193339728110032,
          0.024300708404876595,
          0.024408076600186887,
          0.024511981305325874,
          0.024619349500011118,
          0.024723254195774414,
          0.024830622381396484,
          0.024937990567018557,
          0.02503496828483926,
          0.025142336473698023,
          0.025246241172593598,
          0.02535360935836677,
          0.025457514034120426,
          0.025564882199065875,
          0.02567225036401132,
          0.025776155051288486,
          0.02588352323324484,
          0.025987427925460653,
          0.02609479611009316,
          0.026202164302419634,
          0.02629914202452096,
          0.026406510216847427,
          0.026510414919760014,
          0.026617783112977623,
          0.026721687816091428,
          0.02682905600096811,
          0.026936424168328844,
          0.027040328846419874,
          0.027147697013780614,
          0.027251601691871647,
          0.02735896985923238,
          0.027466338026593113,
          0.027566779215414446,
          0.02767414738277518,
          0.027778052060866205,
          0.02788542022822694,
          0.02798932490631797,
          0.02809669307367871,
          0.028204061241039444,
          0.02830796591913047,
          0.028415334086491204,
          0.028519238764582244,
          0.028626606931942977,
          0.02873397509930371,
          0.02883095279885534,
          0.028938320966216072,
          0.029042225644307106,
          0.02914959381166784,
          0.02917037474728604,
          0.029194619172173954,
          0.02921886360393324,
          0.029243108043887946,
          0.029267352483668557,
          0.02929159692108452,
          0.029315841368549894,
          0.02934008581023211,
          0.029364330255103016,
          0.029388574708138993
         ],
         "yaxis": "y"
        },
        {
         "fill": "tonexty",
         "fillcolor": "rgba(0, 114, 178, 0.2)",
         "line": {
          "color": "rgba(0, 114, 178, 0.2)",
          "width": 0
         },
         "mode": "lines",
         "name": "trend_lower",
         "type": "scatter",
         "x": [
          "2012-05-31T00:00:00",
          "2012-06-30T00:00:00",
          "2012-07-31T00:00:00",
          "2012-08-31T00:00:00",
          "2012-09-30T00:00:00",
          "2012-10-31T00:00:00",
          "2012-11-30T00:00:00",
          "2012-12-31T00:00:00",
          "2013-01-31T00:00:00",
          "2013-02-28T00:00:00",
          "2013-03-31T00:00:00",
          "2013-04-30T00:00:00",
          "2013-05-31T00:00:00",
          "2013-06-30T00:00:00",
          "2013-07-31T00:00:00",
          "2013-08-31T00:00:00",
          "2013-09-30T00:00:00",
          "2013-10-31T00:00:00",
          "2013-11-30T00:00:00",
          "2013-12-31T00:00:00",
          "2014-01-31T00:00:00",
          "2014-02-28T00:00:00",
          "2014-03-31T00:00:00",
          "2014-04-30T00:00:00",
          "2014-05-31T00:00:00",
          "2014-06-30T00:00:00",
          "2014-07-31T00:00:00",
          "2014-08-31T00:00:00",
          "2014-09-30T00:00:00",
          "2014-10-31T00:00:00",
          "2014-11-30T00:00:00",
          "2014-12-31T00:00:00",
          "2015-01-31T00:00:00",
          "2015-02-28T00:00:00",
          "2015-03-31T00:00:00",
          "2015-04-30T00:00:00",
          "2015-05-31T00:00:00",
          "2015-06-30T00:00:00",
          "2015-07-31T00:00:00",
          "2015-08-31T00:00:00",
          "2015-09-30T00:00:00",
          "2015-10-31T00:00:00",
          "2015-11-30T00:00:00",
          "2015-12-31T00:00:00",
          "2016-01-31T00:00:00",
          "2016-02-29T00:00:00",
          "2016-03-31T00:00:00",
          "2016-04-30T00:00:00",
          "2016-05-31T00:00:00",
          "2016-06-30T00:00:00",
          "2016-07-31T00:00:00",
          "2016-08-31T00:00:00",
          "2016-09-30T00:00:00",
          "2016-10-31T00:00:00",
          "2016-11-30T00:00:00",
          "2016-12-31T00:00:00",
          "2017-01-31T00:00:00",
          "2017-02-28T00:00:00",
          "2017-03-31T00:00:00",
          "2017-04-30T00:00:00",
          "2017-05-31T00:00:00",
          "2017-06-30T00:00:00",
          "2017-07-31T00:00:00",
          "2017-08-31T00:00:00",
          "2017-09-30T00:00:00",
          "2017-10-31T00:00:00",
          "2017-11-30T00:00:00",
          "2017-12-31T00:00:00",
          "2018-01-31T00:00:00",
          "2018-02-28T00:00:00",
          "2018-03-31T00:00:00",
          "2018-04-30T00:00:00",
          "2018-05-31T00:00:00",
          "2018-06-30T00:00:00",
          "2018-07-31T00:00:00",
          "2018-08-31T00:00:00",
          "2018-09-30T00:00:00",
          "2018-10-31T00:00:00",
          "2018-11-30T00:00:00",
          "2018-12-31T00:00:00",
          "2019-01-31T00:00:00",
          "2019-02-28T00:00:00",
          "2019-03-31T00:00:00",
          "2019-04-30T00:00:00",
          "2019-05-31T00:00:00",
          "2019-06-30T00:00:00",
          "2019-07-31T00:00:00",
          "2019-08-31T00:00:00",
          "2019-09-30T00:00:00",
          "2019-10-31T00:00:00",
          "2019-11-30T00:00:00",
          "2019-12-31T00:00:00",
          "2020-01-31T00:00:00",
          "2020-02-29T00:00:00",
          "2020-03-31T00:00:00",
          "2020-04-30T00:00:00",
          "2020-05-31T00:00:00",
          "2020-06-30T00:00:00",
          "2020-07-31T00:00:00",
          "2020-08-31T00:00:00",
          "2020-09-30T00:00:00",
          "2020-10-31T00:00:00",
          "2020-11-30T00:00:00",
          "2020-12-31T00:00:00",
          "2021-01-31T00:00:00",
          "2021-02-28T00:00:00",
          "2021-03-31T00:00:00",
          "2021-04-30T00:00:00",
          "2021-05-31T00:00:00",
          "2021-06-06T00:00:00",
          "2021-06-13T00:00:00",
          "2021-06-20T00:00:00",
          "2021-06-27T00:00:00",
          "2021-07-04T00:00:00",
          "2021-07-11T00:00:00",
          "2021-07-18T00:00:00",
          "2021-07-25T00:00:00",
          "2021-08-01T00:00:00",
          "2021-08-08T00:00:00"
         ],
         "xaxis": "x",
         "y": [
          0.017764999550564396,
          0.017868905910390594,
          0.017976275815544333,
          0.018083645719503282,
          0.0181875520763425,
          0.018294921978409696,
          0.018398828335248918,
          0.018506198250524398,
          0.01861356816671079,
          0.01871054744584689,
          0.018817917370322516,
          0.018921823758588117,
          0.019029193693129234,
          0.019133100081394832,
          0.019240470028274913,
          0.019347839975154994,
          0.01945174637536152,
          0.019559116324533592,
          0.019663022728560107,
          0.01977039267938751,
          0.019877762629103447,
          0.01997474193330401,
          0.02008211187724035,
          0.020186018274598098,
          0.020293388216638304,
          0.020397294611151848,
          0.02050466455214918,
          0.020612034493507254,
          0.02071594088956685,
          0.020823310832161764,
          0.02092721722822136,
          0.02103458717090077,
          0.02114195711360483,
          0.02123893641669236,
          0.021346306361353706,
          0.021450212764043214,
          0.02155758271348904,
          0.02166148911617855,
          0.02176885905934721,
          0.021876229001308724,
          0.02198013539675535,
          0.022087505360093657,
          0.022191411804871348,
          0.02229878179780829,
          0.022406151790745232,
          0.022506594681747264,
          0.022613964666770184,
          0.02271787110388914,
          0.022825241083369995,
          0.022929147502015378,
          0.023036517467948943,
          0.023143887433882508,
          0.023247793850878825,
          0.023355163814846196,
          0.023459070231588806,
          0.023566440181259925,
          0.023673810111136232,
          0.023770789402637417,
          0.023878159332513728,
          0.023982064992108688,
          0.024089434120240515,
          0.024193339728110032,
          0.024300708404876595,
          0.024408076600186887,
          0.024511981305325874,
          0.024619349500011118,
          0.024723254195774414,
          0.024830622381396484,
          0.024937990567018557,
          0.02503496828483926,
          0.025142336473698023,
          0.025246241172593598,
          0.02535360935836677,
          0.025457514034120426,
          0.025564882199065875,
          0.02567225036401132,
          0.025776155051288486,
          0.02588352323324484,
          0.025987427925460653,
          0.02609479611009316,
          0.026202164302419634,
          0.02629914202452096,
          0.026406510216847427,
          0.026510414919760014,
          0.026617783112977623,
          0.026721687816091428,
          0.02682905600096811,
          0.026936424168328844,
          0.027040328846419874,
          0.027147697013780614,
          0.027251601691871647,
          0.02735896985923238,
          0.027466338026593113,
          0.027566779215414446,
          0.02767414738277518,
          0.027778052060866205,
          0.02788542022822694,
          0.02798932490631797,
          0.02809669307367871,
          0.028204061241039444,
          0.02830796591913047,
          0.028415334086491204,
          0.028519238764582244,
          0.028626606931942977,
          0.02873397509930371,
          0.02883095279885534,
          0.028938320966216072,
          0.029042225644307106,
          0.02914959381166784,
          0.02917037474728604,
          0.029194619172173954,
          0.02921886359455719,
          0.029243108012663697,
          0.029267352424677807,
          0.029291596828112033,
          0.02931584123346036,
          0.02934008563637946,
          0.029364330034990917,
          0.029388574446169036
         ],
         "yaxis": "y"
        },
        {
         "line": {
          "color": "#0072B2",
          "width": 2
         },
         "mode": "lines",
         "name": "yearly",
         "type": "scatter",
         "x": [
          "2017-01-01T00:00:00",
          "2017-01-02T00:00:59.178082",
          "2017-01-03T00:01:58.356164",
          "2017-01-04T00:02:57.534246",
          "2017-01-05T00:03:56.712328",
          "2017-01-06T00:04:55.890411",
          "2017-01-07T00:05:55.068493",
          "2017-01-08T00:06:54.246575",
          "2017-01-09T00:07:53.424657",
          "2017-01-10T00:08:52.602739",
          "2017-01-11T00:09:51.780822",
          "2017-01-12T00:10:50.958904",
          "2017-01-13T00:11:50.136986",
          "2017-01-14T00:12:49.315068",
          "2017-01-15T00:13:48.493150",
          "2017-01-16T00:14:47.671232",
          "2017-01-17T00:15:46.849315",
          "2017-01-18T00:16:46.027397",
          "2017-01-19T00:17:45.205479",
          "2017-01-20T00:18:44.383561",
          "2017-01-21T00:19:43.561643",
          "2017-01-22T00:20:42.739726",
          "2017-01-23T00:21:41.917808",
          "2017-01-24T00:22:41.095890",
          "2017-01-25T00:23:40.273972",
          "2017-01-26T00:24:39.452054",
          "2017-01-27T00:25:38.630137",
          "2017-01-28T00:26:37.808219",
          "2017-01-29T00:27:36.986301",
          "2017-01-30T00:28:36.164383",
          "2017-01-31T00:29:35.342465",
          "2017-02-01T00:30:34.520547",
          "2017-02-02T00:31:33.698630",
          "2017-02-03T00:32:32.876712",
          "2017-02-04T00:33:32.054794",
          "2017-02-05T00:34:31.232876",
          "2017-02-06T00:35:30.410958",
          "2017-02-07T00:36:29.589041",
          "2017-02-08T00:37:28.767123",
          "2017-02-09T00:38:27.945205",
          "2017-02-10T00:39:27.123287",
          "2017-02-11T00:40:26.301369",
          "2017-02-12T00:41:25.479452",
          "2017-02-13T00:42:24.657534",
          "2017-02-14T00:43:23.835616",
          "2017-02-15T00:44:23.013698",
          "2017-02-16T00:45:22.191780",
          "2017-02-17T00:46:21.369862",
          "2017-02-18T00:47:20.547945",
          "2017-02-19T00:48:19.726027",
          "2017-02-20T00:49:18.904109",
          "2017-02-21T00:50:18.082191",
          "2017-02-22T00:51:17.260273",
          "2017-02-23T00:52:16.438356",
          "2017-02-24T00:53:15.616438",
          "2017-02-25T00:54:14.794520",
          "2017-02-26T00:55:13.972602",
          "2017-02-27T00:56:13.150684",
          "2017-02-28T00:57:12.328767",
          "2017-03-01T00:58:11.506849",
          "2017-03-02T00:59:10.684931",
          "2017-03-03T01:00:09.863013",
          "2017-03-04T01:01:09.041095",
          "2017-03-05T01:02:08.219177",
          "2017-03-06T01:03:07.397260",
          "2017-03-07T01:04:06.575342",
          "2017-03-08T01:05:05.753424",
          "2017-03-09T01:06:04.931506",
          "2017-03-10T01:07:04.109588",
          "2017-03-11T01:08:03.287671",
          "2017-03-12T01:09:02.465753",
          "2017-03-13T01:10:01.643835",
          "2017-03-14T01:11:00.821917",
          "2017-03-15T01:12:00",
          "2017-03-16T01:12:59.178082",
          "2017-03-17T01:13:58.356164",
          "2017-03-18T01:14:57.534246",
          "2017-03-19T01:15:56.712328",
          "2017-03-20T01:16:55.890411",
          "2017-03-21T01:17:55.068493",
          "2017-03-22T01:18:54.246575",
          "2017-03-23T01:19:53.424657",
          "2017-03-24T01:20:52.602739",
          "2017-03-25T01:21:51.780822",
          "2017-03-26T01:22:50.958904",
          "2017-03-27T01:23:50.136986",
          "2017-03-28T01:24:49.315068",
          "2017-03-29T01:25:48.493150",
          "2017-03-30T01:26:47.671232",
          "2017-03-31T01:27:46.849315",
          "2017-04-01T01:28:46.027397",
          "2017-04-02T01:29:45.205479",
          "2017-04-03T01:30:44.383561",
          "2017-04-04T01:31:43.561643",
          "2017-04-05T01:32:42.739726",
          "2017-04-06T01:33:41.917808",
          "2017-04-07T01:34:41.095890",
          "2017-04-08T01:35:40.273972",
          "2017-04-09T01:36:39.452054",
          "2017-04-10T01:37:38.630137",
          "2017-04-11T01:38:37.808219",
          "2017-04-12T01:39:36.986301",
          "2017-04-13T01:40:36.164383",
          "2017-04-14T01:41:35.342465",
          "2017-04-15T01:42:34.520547",
          "2017-04-16T01:43:33.698630",
          "2017-04-17T01:44:32.876712",
          "2017-04-18T01:45:32.054794",
          "2017-04-19T01:46:31.232876",
          "2017-04-20T01:47:30.410958",
          "2017-04-21T01:48:29.589041",
          "2017-04-22T01:49:28.767123",
          "2017-04-23T01:50:27.945205",
          "2017-04-24T01:51:27.123287",
          "2017-04-25T01:52:26.301369",
          "2017-04-26T01:53:25.479452",
          "2017-04-27T01:54:24.657534",
          "2017-04-28T01:55:23.835616",
          "2017-04-29T01:56:23.013698",
          "2017-04-30T01:57:22.191780",
          "2017-05-01T01:58:21.369862",
          "2017-05-02T01:59:20.547945",
          "2017-05-03T02:00:19.726027",
          "2017-05-04T02:01:18.904109",
          "2017-05-05T02:02:18.082191",
          "2017-05-06T02:03:17.260273",
          "2017-05-07T02:04:16.438356",
          "2017-05-08T02:05:15.616438",
          "2017-05-09T02:06:14.794520",
          "2017-05-10T02:07:13.972602",
          "2017-05-11T02:08:13.150684",
          "2017-05-12T02:09:12.328767",
          "2017-05-13T02:10:11.506849",
          "2017-05-14T02:11:10.684931",
          "2017-05-15T02:12:09.863013",
          "2017-05-16T02:13:09.041095",
          "2017-05-17T02:14:08.219177",
          "2017-05-18T02:15:07.397260",
          "2017-05-19T02:16:06.575342",
          "2017-05-20T02:17:05.753424",
          "2017-05-21T02:18:04.931506",
          "2017-05-22T02:19:04.109588",
          "2017-05-23T02:20:03.287671",
          "2017-05-24T02:21:02.465753",
          "2017-05-25T02:22:01.643835",
          "2017-05-26T02:23:00.821917",
          "2017-05-27T02:24:00",
          "2017-05-28T02:24:59.178082",
          "2017-05-29T02:25:58.356164",
          "2017-05-30T02:26:57.534246",
          "2017-05-31T02:27:56.712328",
          "2017-06-01T02:28:55.890411",
          "2017-06-02T02:29:55.068493",
          "2017-06-03T02:30:54.246575",
          "2017-06-04T02:31:53.424657",
          "2017-06-05T02:32:52.602739",
          "2017-06-06T02:33:51.780822",
          "2017-06-07T02:34:50.958904",
          "2017-06-08T02:35:50.136986",
          "2017-06-09T02:36:49.315068",
          "2017-06-10T02:37:48.493150",
          "2017-06-11T02:38:47.671232",
          "2017-06-12T02:39:46.849315",
          "2017-06-13T02:40:46.027397",
          "2017-06-14T02:41:45.205479",
          "2017-06-15T02:42:44.383561",
          "2017-06-16T02:43:43.561643",
          "2017-06-17T02:44:42.739726",
          "2017-06-18T02:45:41.917808",
          "2017-06-19T02:46:41.095890",
          "2017-06-20T02:47:40.273972",
          "2017-06-21T02:48:39.452054",
          "2017-06-22T02:49:38.630137",
          "2017-06-23T02:50:37.808219",
          "2017-06-24T02:51:36.986301",
          "2017-06-25T02:52:36.164383",
          "2017-06-26T02:53:35.342465",
          "2017-06-27T02:54:34.520547",
          "2017-06-28T02:55:33.698630",
          "2017-06-29T02:56:32.876712",
          "2017-06-30T02:57:32.054794",
          "2017-07-01T02:58:31.232876",
          "2017-07-02T02:59:30.410958",
          "2017-07-03T03:00:29.589041",
          "2017-07-04T03:01:28.767123",
          "2017-07-05T03:02:27.945205",
          "2017-07-06T03:03:27.123287",
          "2017-07-07T03:04:26.301369",
          "2017-07-08T03:05:25.479452",
          "2017-07-09T03:06:24.657534",
          "2017-07-10T03:07:23.835616",
          "2017-07-11T03:08:23.013698",
          "2017-07-12T03:09:22.191780",
          "2017-07-13T03:10:21.369862",
          "2017-07-14T03:11:20.547945",
          "2017-07-15T03:12:19.726027",
          "2017-07-16T03:13:18.904109",
          "2017-07-17T03:14:18.082191",
          "2017-07-18T03:15:17.260273",
          "2017-07-19T03:16:16.438356",
          "2017-07-20T03:17:15.616438",
          "2017-07-21T03:18:14.794520",
          "2017-07-22T03:19:13.972602",
          "2017-07-23T03:20:13.150684",
          "2017-07-24T03:21:12.328767",
          "2017-07-25T03:22:11.506849",
          "2017-07-26T03:23:10.684931",
          "2017-07-27T03:24:09.863013",
          "2017-07-28T03:25:09.041095",
          "2017-07-29T03:26:08.219177",
          "2017-07-30T03:27:07.397260",
          "2017-07-31T03:28:06.575342",
          "2017-08-01T03:29:05.753424",
          "2017-08-02T03:30:04.931506",
          "2017-08-03T03:31:04.109588",
          "2017-08-04T03:32:03.287671",
          "2017-08-05T03:33:02.465753",
          "2017-08-06T03:34:01.643835",
          "2017-08-07T03:35:00.821917",
          "2017-08-08T03:36:00",
          "2017-08-09T03:36:59.178082",
          "2017-08-10T03:37:58.356164",
          "2017-08-11T03:38:57.534246",
          "2017-08-12T03:39:56.712328",
          "2017-08-13T03:40:55.890411",
          "2017-08-14T03:41:55.068493",
          "2017-08-15T03:42:54.246575",
          "2017-08-16T03:43:53.424657",
          "2017-08-17T03:44:52.602739",
          "2017-08-18T03:45:51.780822",
          "2017-08-19T03:46:50.958904",
          "2017-08-20T03:47:50.136986",
          "2017-08-21T03:48:49.315068",
          "2017-08-22T03:49:48.493150",
          "2017-08-23T03:50:47.671232",
          "2017-08-24T03:51:46.849315",
          "2017-08-25T03:52:46.027397",
          "2017-08-26T03:53:45.205479",
          "2017-08-27T03:54:44.383561",
          "2017-08-28T03:55:43.561643",
          "2017-08-29T03:56:42.739726",
          "2017-08-30T03:57:41.917808",
          "2017-08-31T03:58:41.095890",
          "2017-09-01T03:59:40.273972",
          "2017-09-02T04:00:39.452054",
          "2017-09-03T04:01:38.630137",
          "2017-09-04T04:02:37.808219",
          "2017-09-05T04:03:36.986301",
          "2017-09-06T04:04:36.164383",
          "2017-09-07T04:05:35.342465",
          "2017-09-08T04:06:34.520547",
          "2017-09-09T04:07:33.698630",
          "2017-09-10T04:08:32.876712",
          "2017-09-11T04:09:32.054794",
          "2017-09-12T04:10:31.232876",
          "2017-09-13T04:11:30.410958",
          "2017-09-14T04:12:29.589041",
          "2017-09-15T04:13:28.767123",
          "2017-09-16T04:14:27.945205",
          "2017-09-17T04:15:27.123287",
          "2017-09-18T04:16:26.301369",
          "2017-09-19T04:17:25.479452",
          "2017-09-20T04:18:24.657534",
          "2017-09-21T04:19:23.835616",
          "2017-09-22T04:20:23.013698",
          "2017-09-23T04:21:22.191780",
          "2017-09-24T04:22:21.369862",
          "2017-09-25T04:23:20.547945",
          "2017-09-26T04:24:19.726027",
          "2017-09-27T04:25:18.904109",
          "2017-09-28T04:26:18.082191",
          "2017-09-29T04:27:17.260273",
          "2017-09-30T04:28:16.438356",
          "2017-10-01T04:29:15.616438",
          "2017-10-02T04:30:14.794520",
          "2017-10-03T04:31:13.972602",
          "2017-10-04T04:32:13.150684",
          "2017-10-05T04:33:12.328767",
          "2017-10-06T04:34:11.506849",
          "2017-10-07T04:35:10.684931",
          "2017-10-08T04:36:09.863013",
          "2017-10-09T04:37:09.041095",
          "2017-10-10T04:38:08.219177",
          "2017-10-11T04:39:07.397260",
          "2017-10-12T04:40:06.575342",
          "2017-10-13T04:41:05.753424",
          "2017-10-14T04:42:04.931506",
          "2017-10-15T04:43:04.109588",
          "2017-10-16T04:44:03.287671",
          "2017-10-17T04:45:02.465753",
          "2017-10-18T04:46:01.643835",
          "2017-10-19T04:47:00.821917",
          "2017-10-20T04:48:00",
          "2017-10-21T04:48:59.178082",
          "2017-10-22T04:49:58.356164",
          "2017-10-23T04:50:57.534246",
          "2017-10-24T04:51:56.712328",
          "2017-10-25T04:52:55.890411",
          "2017-10-26T04:53:55.068493",
          "2017-10-27T04:54:54.246575",
          "2017-10-28T04:55:53.424657",
          "2017-10-29T04:56:52.602739",
          "2017-10-30T04:57:51.780822",
          "2017-10-31T04:58:50.958904",
          "2017-11-01T04:59:50.136986",
          "2017-11-02T05:00:49.315068",
          "2017-11-03T05:01:48.493150",
          "2017-11-04T05:02:47.671232",
          "2017-11-05T05:03:46.849315",
          "2017-11-06T05:04:46.027397",
          "2017-11-07T05:05:45.205479",
          "2017-11-08T05:06:44.383561",
          "2017-11-09T05:07:43.561643",
          "2017-11-10T05:08:42.739726",
          "2017-11-11T05:09:41.917808",
          "2017-11-12T05:10:41.095890",
          "2017-11-13T05:11:40.273972",
          "2017-11-14T05:12:39.452054",
          "2017-11-15T05:13:38.630137",
          "2017-11-16T05:14:37.808219",
          "2017-11-17T05:15:36.986301",
          "2017-11-18T05:16:36.164383",
          "2017-11-19T05:17:35.342465",
          "2017-11-20T05:18:34.520547",
          "2017-11-21T05:19:33.698630",
          "2017-11-22T05:20:32.876712",
          "2017-11-23T05:21:32.054794",
          "2017-11-24T05:22:31.232876",
          "2017-11-25T05:23:30.410958",
          "2017-11-26T05:24:29.589041",
          "2017-11-27T05:25:28.767123",
          "2017-11-28T05:26:27.945205",
          "2017-11-29T05:27:27.123287",
          "2017-11-30T05:28:26.301369",
          "2017-12-01T05:29:25.479452",
          "2017-12-02T05:30:24.657534",
          "2017-12-03T05:31:23.835616",
          "2017-12-04T05:32:23.013698",
          "2017-12-05T05:33:22.191780",
          "2017-12-06T05:34:21.369862",
          "2017-12-07T05:35:20.547945",
          "2017-12-08T05:36:19.726027",
          "2017-12-09T05:37:18.904109",
          "2017-12-10T05:38:18.082191",
          "2017-12-11T05:39:17.260273",
          "2017-12-12T05:40:16.438356",
          "2017-12-13T05:41:15.616438",
          "2017-12-14T05:42:14.794520",
          "2017-12-15T05:43:13.972602",
          "2017-12-16T05:44:13.150684",
          "2017-12-17T05:45:12.328767",
          "2017-12-18T05:46:11.506849",
          "2017-12-19T05:47:10.684931",
          "2017-12-20T05:48:09.863013",
          "2017-12-21T05:49:09.041095",
          "2017-12-22T05:50:08.219177",
          "2017-12-23T05:51:07.397260",
          "2017-12-24T05:52:06.575342",
          "2017-12-25T05:53:05.753424",
          "2017-12-26T05:54:04.931506",
          "2017-12-27T05:55:04.109588",
          "2017-12-28T05:56:03.287671",
          "2017-12-29T05:57:02.465753",
          "2017-12-30T05:58:01.643835",
          "2017-12-31T05:59:00.821917"
         ],
         "xaxis": "x2",
         "y": [
          -0.02112633314752983,
          -0.021307453050048986,
          -0.021569277016183323,
          -0.021903093524927517,
          -0.02229781513881481,
          -0.02274034574985722,
          -0.023216013583190812,
          -0.023709055850924924,
          -0.024203139260411465,
          -0.024681899399839658,
          -0.025129481387915393,
          -0.02553106410533341,
          -0.0258733508282755,
          -0.02614501014233976,
          -0.026337052598951687,
          -0.026443130634548832,
          -0.026459751742703534,
          -0.0263863976925379,
          -0.026225545634437446,
          -0.025982590130006762,
          -0.025665668384130664,
          -0.025285394139900417,
          -0.02485450871825322,
          -0.02438746044527056,
          -0.023899926120854224,
          -0.02340829016207784,
          -0.02292909853647859,
          -0.02247850553302484,
          -0.02207173176717803,
          -0.021722551565276332,
          -0.021442827024978305,
          -0.021242104625543694,
          -0.021127288304012257,
          -0.021102400479497893,
          -0.02116843967126287,
          -0.021323340204821614,
          -0.02156203613200216,
          -0.021876628012337432,
          -0.022256647725462035,
          -0.022689413119733517,
          -0.023160461161487966,
          -0.023654045436194357,
          -0.02415368146370483,
          -0.024642721406994497,
          -0.025104938446775346,
          -0.02552510041325035,
          -0.025889512244554443,
          -0.026186507489637356,
          -0.02640687038307993,
          -0.0265441719607607,
          -0.02659500620763485,
          -0.026559115262513006,
          -0.026439396164306066,
          -0.026241785406592975,
          -0.025975021561200993,
          -0.025650290313685577,
          -0.025280760298149057,
          -0.024881021997906164,
          -0.024466445566616476,
          -0.024052476603718224,
          -0.023653891579553117,
          -0.023284036655939193,
          -0.022954075008320966,
          -0.022672268369540026,
          -0.022443318344897403,
          -0.022267792080756296,
          -0.022141655114770772,
          -0.02205593172881072,
          -0.021996509923885806,
          -0.021944104318650078,
          -0.02187438593961572,
          -0.021758283138121812,
          -0.021562452868027986,
          -0.02124991643005889,
          -0.02078084868259561,
          -0.020113504784084697,
          -0.019205263918557716,
          -0.018013765304615122,
          -0.016498108230803193,
          -0.014620085014512289,
          -0.012345413744255618,
          -0.009644936515622,
          -0.006495748660137711,
          -0.0028822252234684165,
          0.001203087326964916,
          0.00575874352139184,
          0.010773861240784461,
          0.01622779545713743,
          0.02209003975929162,
          0.028320366435419096,
          0.03486920982415047,
          0.041678291318954196,
          0.04868147797852575,
          0.0558058603395502,
          0.06297302891826481,
          0.07010052319721428,
          0.07710342178580816,
          0.0838960380648148,
          0.09039368210821687,
          0.09651444712760796,
          0.10218097719207424,
          0.10732217259125505,
          0.11187478996248643,
          0.11578489618840328,
          0.11900913805415447,
          0.12151579366969867,
          0.12328557661850892,
          0.12431216956966955,
          0.1246024705420031,
          0.12417654197460894,
          0.12306726005903117,
          0.12131966923579215,
          0.11899005415731635,
          0.11614474857654365,
          0.11285870734438265,
          0.1092138738123756,
          0.10529738027183441,
          0.10119962347555313,
          0.09701226065957864,
          0.09282617371652513,
          0.08872945020562402,
          0.08480542968196206,
          0.08113086239320737,
          0.07777422475188257,
          0.07479423221738737,
          0.07223858540250011,
          0.07014297948123706,
          0.06853040046403214,
          0.06741072479048144,
          0.06678063115500711,
          0.066623825719913,
          0.0669115740879733,
          0.06760352580251172,
          0.06864880991640578,
          0.06998737350830546,
          0.07155152909815184,
          0.07326767187573001,
          0.07505812363532272,
          0.07684305740690377,
          0.0785424550616058,
          0.08007804968523283,
          0.08137520526601447,
          0.08236468820508352,
          0.08298428827165767,
          0.08318025080238398,
          0.08290848706834618,
          0.08213553566373864,
          0.08083925434496625,
          0.0790092287914276,
          0.07664689207890668,
          0.07376535606020689,
          0.07038896313786357,
          0.06655257390042113,
          0.06230061259490615,
          0.057685898256791816,
          0.052768294367035645,
          0.04761321402848153,
          0.042290020753279825,
          0.03687036695666535,
          0.03142651312235321,
          0.026029670331554816,
          0.02074840745348007,
          0.015647161831647806,
          0.010784888851062834,
          0.006213881440047272,
          0.0019787854787686253,
          -0.0018841685966431703,
          -0.005347703828906582,
          -0.008393796635320402,
          -0.011013737263168084,
          -0.013207955887414646,
          -0.014985625554535868,
          -0.01636405886857759,
          -0.017367920431573567,
          -0.018028281456078155,
          -0.01838154655738065,
          -0.01846828541721345,
          -0.018332003734744938,
          -0.018017888611467726,
          -0.01757156325291017,
          -0.017037884637613375,
          -0.016459815655765507,
          -0.01587740023372816,
          -0.015326866238045786,
          -0.014839876612658167,
          -0.014442944382623599,
          -0.01415702200392486,
          -0.013997270206305307,
          -0.013973006123350878,
          -0.01408782528477237,
          -0.014339887111565858,
          -0.014722349041884169,
          -0.01522393044986879,
          -0.015829584206291374,
          -0.01652125115449052,
          -0.017278671000176184,
          -0.018080222176384397,
          -0.01890376315823205,
          -0.019727448452525328,
          -0.020530494037403844,
          -0.02129386931562104,
          -0.022000895590267935,
          -0.022637734571961433,
          -0.02319375436705475,
          -0.023661764648609297,
          -0.02403811714141587,
          -0.024322672019346053,
          -0.02451863518054756,
          -0.024632275499814782,
          -0.02467253493257939,
          -0.024650547650177542,
          -0.02457908712382111,
          -0.024471962167644926,
          -0.024343384340932913,
          -0.024207329761626147,
          -0.024076918284282767,
          -0.02396383215717832,
          -0.02387779472843461,
          -0.023826127574789118,
          -0.023813401653896473,
          -0.023841194822854708,
          -0.023907964429174935,
          -0.024009039781407657,
          -0.024136735270574805,
          -0.024280580867354684,
          -0.024427662791771436,
          -0.024563063464173446,
          -0.024670386514356015,
          -0.02473234975257997,
          -0.024731426681238438,
          -0.024650515420450523,
          -0.02447361288709825,
          -0.024186471736233082,
          -0.023777217956026234,
          -0.023236908089789846,
          -0.02256000680788958,
          -0.02174476791365199,
          -0.020793504768168023,
          -0.01971273946983653,
          -0.018513223822307825,
          -0.017209829056195988,
          -0.015821305314409256,
          -0.014369915945174939,
          -0.012880955546589619,
          -0.011382164352944087,
          -0.009903054835026607,
          -0.008474169202287912,
          -0.007126288760046525,
          -0.0058896177178215485,
          -0.004792965016343923,
          -0.0038629480095395494,
          -0.0031232413941549818,
          -0.002593893636360048,
          -0.0022907313339317107,
          -0.002224869528168675,
          -0.002402343012267708,
          -0.002823870260647514,
          -0.003484757827508646,
          -0.004374949044606717,
          -0.00547921670639928,
          -0.006777495288578773,
          -0.008245344224707253,
          -0.00985452998538809,
          -0.011573711275525726,
          -0.013369208688792017,
          -0.01520583772293241,
          -0.01704778223418519,
          -0.018859484249336637,
          -0.020606525591163646,
          -0.02225647702108261,
          -0.02377969155306467,
          -0.025150020215869064,
          -0.026345430787901365,
          -0.027348512833942108,
          -0.028146855650173552,
          -0.028733289379169306,
          -0.02910598347900213,
          -0.029268400806576757,
          -0.029229109684613137,
          -0.029001460343485833,
          -0.02860313594728983,
          -0.028055591915965142,
          -0.027383400342100416,
          -0.026613518883167764,
          -0.025774505514440344,
          -0.024895701898914,
          -0.024006408831844274,
          -0.023135077231481074,
          -0.022308537478415363,
          -0.021551288577318164,
          -0.020884866669676375,
          -0.02032730992571824,
          -0.019892733865777102,
          -0.019591027796152367,
          -0.01942767939494565,
          -0.019403730658535186,
          -0.019515864534422115,
          -0.0197566177361194,
          -0.020114711574262714,
          -0.02057548925216949,
          -0.02112144506306201,
          -0.021732828376005153,
          -0.022388303281362654,
          -0.023065643340310475,
          -0.023742440084127202,
          -0.024396803757242135,
          -0.02500803529218484,
          -0.025557249625134684,
          -0.026027932168407434,
          -0.02640641249564214,
          -0.026682241993810814,
          -0.026848465309349024,
          -0.026901778766921593,
          -0.026842572465449112,
          -0.02667485634834791,
          -0.02640607409399993,
          -0.02604681207074058,
          -0.02561041374565123,
          -0.02511251273418244,
          -0.024570500045813123,
          -0.02400294294952816,
          -0.023428974199306736,
          -0.022867671087296204,
          -0.022337443912730556,
          -0.021855452969196068,
          -0.02143707208012532,
          -0.021095415089863134,
          -0.02084093959942977,
          -0.020681139690009783,
          -0.020620336486106405,
          -0.0206595722646404,
          -0.020796610516105284,
          -0.021026041011955675,
          -0.021339485633638557,
          -0.021725897574707578,
          -0.022171943635959264,
          -0.022662456782681525,
          -0.02318094400082147,
          -0.023710132839484168,
          -0.024232538910006596,
          -0.024731036058825918,
          -0.0251894109574204,
          -0.025592884454563487,
          -0.025928583191716526,
          -0.02618594665436332,
          -0.02635705696447065,
          -0.026436881244353894,
          -0.026423419218752225,
          -0.02631775177893245,
          -0.02612398941480063,
          -0.02584912262513472,
          -0.02550277954341991,
          -0.02509689896705391,
          -0.02464532965915398,
          -0.02416336912016421,
          -0.023667256928019527,
          -0.023173639161850987,
          -0.022699021310323593,
          -0.02225922739498311,
          -0.021868882801552886,
          -0.021540937515862474,
          -0.02128624513222811,
          -0.021113211182787837,
          -0.02102752208504514,
          -0.021031963392899207
         ],
         "yaxis": "y2"
        }
       ],
       "layout": {
        "height": 400,
        "showlegend": false,
        "template": {
         "data": {
          "bar": [
           {
            "error_x": {
             "color": "#2a3f5f"
            },
            "error_y": {
             "color": "#2a3f5f"
            },
            "marker": {
             "line": {
              "color": "#E5ECF6",
              "width": 0.5
             },
             "pattern": {
              "fillmode": "overlay",
              "size": 10,
              "solidity": 0.2
             }
            },
            "type": "bar"
           }
          ],
          "barpolar": [
           {
            "marker": {
             "line": {
              "color": "#E5ECF6",
              "width": 0.5
             },
             "pattern": {
              "fillmode": "overlay",
              "size": 10,
              "solidity": 0.2
             }
            },
            "type": "barpolar"
           }
          ],
          "carpet": [
           {
            "aaxis": {
             "endlinecolor": "#2a3f5f",
             "gridcolor": "white",
             "linecolor": "white",
             "minorgridcolor": "white",
             "startlinecolor": "#2a3f5f"
            },
            "baxis": {
             "endlinecolor": "#2a3f5f",
             "gridcolor": "white",
             "linecolor": "white",
             "minorgridcolor": "white",
             "startlinecolor": "#2a3f5f"
            },
            "type": "carpet"
           }
          ],
          "choropleth": [
           {
            "colorbar": {
             "outlinewidth": 0,
             "ticks": ""
            },
            "type": "choropleth"
           }
          ],
          "contour": [
           {
            "colorbar": {
             "outlinewidth": 0,
             "ticks": ""
            },
            "colorscale": [
             [
              0,
              "#0d0887"
             ],
             [
              0.1111111111111111,
              "#46039f"
             ],
             [
              0.2222222222222222,
              "#7201a8"
             ],
             [
              0.3333333333333333,
              "#9c179e"
             ],
             [
              0.4444444444444444,
              "#bd3786"
             ],
             [
              0.5555555555555556,
              "#d8576b"
             ],
             [
              0.6666666666666666,
              "#ed7953"
             ],
             [
              0.7777777777777778,
              "#fb9f3a"
             ],
             [
              0.8888888888888888,
              "#fdca26"
             ],
             [
              1,
              "#f0f921"
             ]
            ],
            "type": "contour"
           }
          ],
          "contourcarpet": [
           {
            "colorbar": {
             "outlinewidth": 0,
             "ticks": ""
            },
            "type": "contourcarpet"
           }
          ],
          "heatmap": [
           {
            "colorbar": {
             "outlinewidth": 0,
             "ticks": ""
            },
            "colorscale": [
             [
              0,
              "#0d0887"
             ],
             [
              0.1111111111111111,
              "#46039f"
             ],
             [
              0.2222222222222222,
              "#7201a8"
             ],
             [
              0.3333333333333333,
              "#9c179e"
             ],
             [
              0.4444444444444444,
              "#bd3786"
             ],
             [
              0.5555555555555556,
              "#d8576b"
             ],
             [
              0.6666666666666666,
              "#ed7953"
             ],
             [
              0.7777777777777778,
              "#fb9f3a"
             ],
             [
              0.8888888888888888,
              "#fdca26"
             ],
             [
              1,
              "#f0f921"
             ]
            ],
            "type": "heatmap"
           }
          ],
          "heatmapgl": [
           {
            "colorbar": {
             "outlinewidth": 0,
             "ticks": ""
            },
            "colorscale": [
             [
              0,
              "#0d0887"
             ],
             [
              0.1111111111111111,
              "#46039f"
             ],
             [
              0.2222222222222222,
              "#7201a8"
             ],
             [
              0.3333333333333333,
              "#9c179e"
             ],
             [
              0.4444444444444444,
              "#bd3786"
             ],
             [
              0.5555555555555556,
              "#d8576b"
             ],
             [
              0.6666666666666666,
              "#ed7953"
             ],
             [
              0.7777777777777778,
              "#fb9f3a"
             ],
             [
              0.8888888888888888,
              "#fdca26"
             ],
             [
              1,
              "#f0f921"
             ]
            ],
            "type": "heatmapgl"
           }
          ],
          "histogram": [
           {
            "marker": {
             "pattern": {
              "fillmode": "overlay",
              "size": 10,
              "solidity": 0.2
             }
            },
            "type": "histogram"
           }
          ],
          "histogram2d": [
           {
            "colorbar": {
             "outlinewidth": 0,
             "ticks": ""
            },
            "colorscale": [
             [
              0,
              "#0d0887"
             ],
             [
              0.1111111111111111,
              "#46039f"
             ],
             [
              0.2222222222222222,
              "#7201a8"
             ],
             [
              0.3333333333333333,
              "#9c179e"
             ],
             [
              0.4444444444444444,
              "#bd3786"
             ],
             [
              0.5555555555555556,
              "#d8576b"
             ],
             [
              0.6666666666666666,
              "#ed7953"
             ],
             [
              0.7777777777777778,
              "#fb9f3a"
             ],
             [
              0.8888888888888888,
              "#fdca26"
             ],
             [
              1,
              "#f0f921"
             ]
            ],
            "type": "histogram2d"
           }
          ],
          "histogram2dcontour": [
           {
            "colorbar": {
             "outlinewidth": 0,
             "ticks": ""
            },
            "colorscale": [
             [
              0,
              "#0d0887"
             ],
             [
              0.1111111111111111,
              "#46039f"
             ],
             [
              0.2222222222222222,
              "#7201a8"
             ],
             [
              0.3333333333333333,
              "#9c179e"
             ],
             [
              0.4444444444444444,
              "#bd3786"
             ],
             [
              0.5555555555555556,
              "#d8576b"
             ],
             [
              0.6666666666666666,
              "#ed7953"
             ],
             [
              0.7777777777777778,
              "#fb9f3a"
             ],
             [
              0.8888888888888888,
              "#fdca26"
             ],
             [
              1,
              "#f0f921"
             ]
            ],
            "type": "histogram2dcontour"
           }
          ],
          "mesh3d": [
           {
            "colorbar": {
             "outlinewidth": 0,
             "ticks": ""
            },
            "type": "mesh3d"
           }
          ],
          "parcoords": [
           {
            "line": {
             "colorbar": {
              "outlinewidth": 0,
              "ticks": ""
             }
            },
            "type": "parcoords"
           }
          ],
          "pie": [
           {
            "automargin": true,
            "type": "pie"
           }
          ],
          "scatter": [
           {
            "marker": {
             "colorbar": {
              "outlinewidth": 0,
              "ticks": ""
             }
            },
            "type": "scatter"
           }
          ],
          "scatter3d": [
           {
            "line": {
             "colorbar": {
              "outlinewidth": 0,
              "ticks": ""
             }
            },
            "marker": {
             "colorbar": {
              "outlinewidth": 0,
              "ticks": ""
             }
            },
            "type": "scatter3d"
           }
          ],
          "scattercarpet": [
           {
            "marker": {
             "colorbar": {
              "outlinewidth": 0,
              "ticks": ""
             }
            },
            "type": "scattercarpet"
           }
          ],
          "scattergeo": [
           {
            "marker": {
             "colorbar": {
              "outlinewidth": 0,
              "ticks": ""
             }
            },
            "type": "scattergeo"
           }
          ],
          "scattergl": [
           {
            "marker": {
             "colorbar": {
              "outlinewidth": 0,
              "ticks": ""
             }
            },
            "type": "scattergl"
           }
          ],
          "scattermapbox": [
           {
            "marker": {
             "colorbar": {
              "outlinewidth": 0,
              "ticks": ""
             }
            },
            "type": "scattermapbox"
           }
          ],
          "scatterpolar": [
           {
            "marker": {
             "colorbar": {
              "outlinewidth": 0,
              "ticks": ""
             }
            },
            "type": "scatterpolar"
           }
          ],
          "scatterpolargl": [
           {
            "marker": {
             "colorbar": {
              "outlinewidth": 0,
              "ticks": ""
             }
            },
            "type": "scatterpolargl"
           }
          ],
          "scatterternary": [
           {
            "marker": {
             "colorbar": {
              "outlinewidth": 0,
              "ticks": ""
             }
            },
            "type": "scatterternary"
           }
          ],
          "surface": [
           {
            "colorbar": {
             "outlinewidth": 0,
             "ticks": ""
            },
            "colorscale": [
             [
              0,
              "#0d0887"
             ],
             [
              0.1111111111111111,
              "#46039f"
             ],
             [
              0.2222222222222222,
              "#7201a8"
             ],
             [
              0.3333333333333333,
              "#9c179e"
             ],
             [
              0.4444444444444444,
              "#bd3786"
             ],
             [
              0.5555555555555556,
              "#d8576b"
             ],
             [
              0.6666666666666666,
              "#ed7953"
             ],
             [
              0.7777777777777778,
              "#fb9f3a"
             ],
             [
              0.8888888888888888,
              "#fdca26"
             ],
             [
              1,
              "#f0f921"
             ]
            ],
            "type": "surface"
           }
          ],
          "table": [
           {
            "cells": {
             "fill": {
              "color": "#EBF0F8"
             },
             "line": {
              "color": "white"
             }
            },
            "header": {
             "fill": {
              "color": "#C8D4E3"
             },
             "line": {
              "color": "white"
             }
            },
            "type": "table"
           }
          ]
         },
         "layout": {
          "annotationdefaults": {
           "arrowcolor": "#2a3f5f",
           "arrowhead": 0,
           "arrowwidth": 1
          },
          "autotypenumbers": "strict",
          "coloraxis": {
           "colorbar": {
            "outlinewidth": 0,
            "ticks": ""
           }
          },
          "colorscale": {
           "diverging": [
            [
             0,
             "#8e0152"
            ],
            [
             0.1,
             "#c51b7d"
            ],
            [
             0.2,
             "#de77ae"
            ],
            [
             0.3,
             "#f1b6da"
            ],
            [
             0.4,
             "#fde0ef"
            ],
            [
             0.5,
             "#f7f7f7"
            ],
            [
             0.6,
             "#e6f5d0"
            ],
            [
             0.7,
             "#b8e186"
            ],
            [
             0.8,
             "#7fbc41"
            ],
            [
             0.9,
             "#4d9221"
            ],
            [
             1,
             "#276419"
            ]
           ],
           "sequential": [
            [
             0,
             "#0d0887"
            ],
            [
             0.1111111111111111,
             "#46039f"
            ],
            [
             0.2222222222222222,
             "#7201a8"
            ],
            [
             0.3333333333333333,
             "#9c179e"
            ],
            [
             0.4444444444444444,
             "#bd3786"
            ],
            [
             0.5555555555555556,
             "#d8576b"
            ],
            [
             0.6666666666666666,
             "#ed7953"
            ],
            [
             0.7777777777777778,
             "#fb9f3a"
            ],
            [
             0.8888888888888888,
             "#fdca26"
            ],
            [
             1,
             "#f0f921"
            ]
           ],
           "sequentialminus": [
            [
             0,
             "#0d0887"
            ],
            [
             0.1111111111111111,
             "#46039f"
            ],
            [
             0.2222222222222222,
             "#7201a8"
            ],
            [
             0.3333333333333333,
             "#9c179e"
            ],
            [
             0.4444444444444444,
             "#bd3786"
            ],
            [
             0.5555555555555556,
             "#d8576b"
            ],
            [
             0.6666666666666666,
             "#ed7953"
            ],
            [
             0.7777777777777778,
             "#fb9f3a"
            ],
            [
             0.8888888888888888,
             "#fdca26"
            ],
            [
             1,
             "#f0f921"
            ]
           ]
          },
          "colorway": [
           "#636efa",
           "#EF553B",
           "#00cc96",
           "#ab63fa",
           "#FFA15A",
           "#19d3f3",
           "#FF6692",
           "#B6E880",
           "#FF97FF",
           "#FECB52"
          ],
          "font": {
           "color": "#2a3f5f"
          },
          "geo": {
           "bgcolor": "white",
           "lakecolor": "white",
           "landcolor": "#E5ECF6",
           "showlakes": true,
           "showland": true,
           "subunitcolor": "white"
          },
          "hoverlabel": {
           "align": "left"
          },
          "hovermode": "closest",
          "mapbox": {
           "style": "light"
          },
          "paper_bgcolor": "white",
          "plot_bgcolor": "#E5ECF6",
          "polar": {
           "angularaxis": {
            "gridcolor": "white",
            "linecolor": "white",
            "ticks": ""
           },
           "bgcolor": "#E5ECF6",
           "radialaxis": {
            "gridcolor": "white",
            "linecolor": "white",
            "ticks": ""
           }
          },
          "scene": {
           "xaxis": {
            "backgroundcolor": "#E5ECF6",
            "gridcolor": "white",
            "gridwidth": 2,
            "linecolor": "white",
            "showbackground": true,
            "ticks": "",
            "zerolinecolor": "white"
           },
           "yaxis": {
            "backgroundcolor": "#E5ECF6",
            "gridcolor": "white",
            "gridwidth": 2,
            "linecolor": "white",
            "showbackground": true,
            "ticks": "",
            "zerolinecolor": "white"
           },
           "zaxis": {
            "backgroundcolor": "#E5ECF6",
            "gridcolor": "white",
            "gridwidth": 2,
            "linecolor": "white",
            "showbackground": true,
            "ticks": "",
            "zerolinecolor": "white"
           }
          },
          "shapedefaults": {
           "line": {
            "color": "#2a3f5f"
           }
          },
          "ternary": {
           "aaxis": {
            "gridcolor": "white",
            "linecolor": "white",
            "ticks": ""
           },
           "baxis": {
            "gridcolor": "white",
            "linecolor": "white",
            "ticks": ""
           },
           "bgcolor": "#E5ECF6",
           "caxis": {
            "gridcolor": "white",
            "linecolor": "white",
            "ticks": ""
           }
          },
          "title": {
           "x": 0.05
          },
          "xaxis": {
           "automargin": true,
           "gridcolor": "white",
           "linecolor": "white",
           "ticks": "",
           "title": {
            "standoff": 15
           },
           "zerolinecolor": "white",
           "zerolinewidth": 2
          },
          "yaxis": {
           "automargin": true,
           "gridcolor": "white",
           "linecolor": "white",
           "ticks": "",
           "title": {
            "standoff": 15
           },
           "zerolinecolor": "white",
           "zerolinewidth": 2
          }
         }
        },
        "width": 900,
        "xaxis": {
         "anchor": "y",
         "domain": [
          0,
          1
         ],
         "range": [
          "2011-12-15T04:48:00",
          "2022-01-22T19:12:00"
         ],
         "type": "date"
        },
        "xaxis2": {
         "anchor": "y2",
         "domain": [
          0,
          1
         ],
         "range": [
          "2016-12-13T18:54:02.958904115",
          "2018-01-18T11:04:57.863013581"
         ],
         "tickformat": "%B %e",
         "type": "date"
        },
        "yaxis": {
         "anchor": "x",
         "domain": [
          0.575,
          1
         ],
         "rangemode": "normal",
         "title": {
          "text": "trend"
         },
         "zerolinecolor": "#AAA"
        },
        "yaxis2": {
         "anchor": "x2",
         "domain": [
          0,
          0.425
         ],
         "title": {
          "text": "yearly"
         },
         "zerolinecolor": "#AAA"
        }
       }
      },
      "text/html": [
       "<div>                            <div id=\"aba33db5-df48-43b4-be5c-5ed1ee74ae1a\" class=\"plotly-graph-div\" style=\"height:400px; width:900px;\"></div>            <script type=\"text/javascript\">                require([\"plotly\"], function(Plotly) {                    window.PLOTLYENV=window.PLOTLYENV || {};                                    if (document.getElementById(\"aba33db5-df48-43b4-be5c-5ed1ee74ae1a\")) {                    Plotly.newPlot(                        \"aba33db5-df48-43b4-be5c-5ed1ee74ae1a\",                        [{\"line\":{\"color\":\"#0072B2\",\"width\":2},\"mode\":\"lines\",\"name\":\"trend\",\"x\":[\"2012-05-31T00:00:00\",\"2012-06-30T00:00:00\",\"2012-07-31T00:00:00\",\"2012-08-31T00:00:00\",\"2012-09-30T00:00:00\",\"2012-10-31T00:00:00\",\"2012-11-30T00:00:00\",\"2012-12-31T00:00:00\",\"2013-01-31T00:00:00\",\"2013-02-28T00:00:00\",\"2013-03-31T00:00:00\",\"2013-04-30T00:00:00\",\"2013-05-31T00:00:00\",\"2013-06-30T00:00:00\",\"2013-07-31T00:00:00\",\"2013-08-31T00:00:00\",\"2013-09-30T00:00:00\",\"2013-10-31T00:00:00\",\"2013-11-30T00:00:00\",\"2013-12-31T00:00:00\",\"2014-01-31T00:00:00\",\"2014-02-28T00:00:00\",\"2014-03-31T00:00:00\",\"2014-04-30T00:00:00\",\"2014-05-31T00:00:00\",\"2014-06-30T00:00:00\",\"2014-07-31T00:00:00\",\"2014-08-31T00:00:00\",\"2014-09-30T00:00:00\",\"2014-10-31T00:00:00\",\"2014-11-30T00:00:00\",\"2014-12-31T00:00:00\",\"2015-01-31T00:00:00\",\"2015-02-28T00:00:00\",\"2015-03-31T00:00:00\",\"2015-04-30T00:00:00\",\"2015-05-31T00:00:00\",\"2015-06-30T00:00:00\",\"2015-07-31T00:00:00\",\"2015-08-31T00:00:00\",\"2015-09-30T00:00:00\",\"2015-10-31T00:00:00\",\"2015-11-30T00:00:00\",\"2015-12-31T00:00:00\",\"2016-01-31T00:00:00\",\"2016-02-29T00:00:00\",\"2016-03-31T00:00:00\",\"2016-04-30T00:00:00\",\"2016-05-31T00:00:00\",\"2016-06-30T00:00:00\",\"2016-07-31T00:00:00\",\"2016-08-31T00:00:00\",\"2016-09-30T00:00:00\",\"2016-10-31T00:00:00\",\"2016-11-30T00:00:00\",\"2016-12-31T00:00:00\",\"2017-01-31T00:00:00\",\"2017-02-28T00:00:00\",\"2017-03-31T00:00:00\",\"2017-04-30T00:00:00\",\"2017-05-31T00:00:00\",\"2017-06-30T00:00:00\",\"2017-07-31T00:00:00\",\"2017-08-31T00:00:00\",\"2017-09-30T00:00:00\",\"2017-10-31T00:00:00\",\"2017-11-30T00:00:00\",\"2017-12-31T00:00:00\",\"2018-01-31T00:00:00\",\"2018-02-28T00:00:00\",\"2018-03-31T00:00:00\",\"2018-04-30T00:00:00\",\"2018-05-31T00:00:00\",\"2018-06-30T00:00:00\",\"2018-07-31T00:00:00\",\"2018-08-31T00:00:00\",\"2018-09-30T00:00:00\",\"2018-10-31T00:00:00\",\"2018-11-30T00:00:00\",\"2018-12-31T00:00:00\",\"2019-01-31T00:00:00\",\"2019-02-28T00:00:00\",\"2019-03-31T00:00:00\",\"2019-04-30T00:00:00\",\"2019-05-31T00:00:00\",\"2019-06-30T00:00:00\",\"2019-07-31T00:00:00\",\"2019-08-31T00:00:00\",\"2019-09-30T00:00:00\",\"2019-10-31T00:00:00\",\"2019-11-30T00:00:00\",\"2019-12-31T00:00:00\",\"2020-01-31T00:00:00\",\"2020-02-29T00:00:00\",\"2020-03-31T00:00:00\",\"2020-04-30T00:00:00\",\"2020-05-31T00:00:00\",\"2020-06-30T00:00:00\",\"2020-07-31T00:00:00\",\"2020-08-31T00:00:00\",\"2020-09-30T00:00:00\",\"2020-10-31T00:00:00\",\"2020-11-30T00:00:00\",\"2020-12-31T00:00:00\",\"2021-01-31T00:00:00\",\"2021-02-28T00:00:00\",\"2021-03-31T00:00:00\",\"2021-04-30T00:00:00\",\"2021-05-31T00:00:00\",\"2021-06-06T00:00:00\",\"2021-06-13T00:00:00\",\"2021-06-20T00:00:00\",\"2021-06-27T00:00:00\",\"2021-07-04T00:00:00\",\"2021-07-11T00:00:00\",\"2021-07-18T00:00:00\",\"2021-07-25T00:00:00\",\"2021-08-01T00:00:00\",\"2021-08-08T00:00:00\"],\"y\":[0.017764999550564396,0.017868905910390594,0.017976275815544333,0.018083645719503282,0.0181875520763425,0.018294921978409696,0.018398828335248918,0.018506198250524398,0.01861356816671079,0.01871054744584689,0.018817917370322516,0.018921823758588117,0.019029193693129234,0.019133100081394832,0.019240470028274913,0.019347839975154994,0.01945174637536152,0.019559116324533592,0.019663022728560107,0.01977039267938751,0.019877762629103447,0.01997474193330401,0.02008211187724035,0.020186018274598098,0.020293388216638304,0.020397294611151848,0.02050466455214918,0.020612034493507254,0.02071594088956685,0.020823310832161764,0.02092721722822136,0.02103458717090077,0.02114195711360483,0.02123893641669236,0.021346306361353706,0.021450212764043214,0.02155758271348904,0.02166148911617855,0.02176885905934721,0.021876229001308724,0.02198013539675535,0.022087505360093657,0.022191411804871348,0.02229878179780829,0.022406151790745232,0.022506594681747264,0.022613964666770184,0.02271787110388914,0.022825241083369995,0.022929147502015378,0.023036517467948943,0.023143887433882508,0.023247793850878825,0.023355163814846196,0.023459070231588806,0.023566440181259925,0.023673810111136232,0.023770789402637417,0.023878159332513728,0.023982064992108688,0.024089434120240515,0.024193339728110032,0.024300708404876595,0.024408076600186887,0.024511981305325874,0.024619349500011118,0.024723254195774414,0.024830622381396484,0.024937990567018557,0.02503496828483926,0.025142336473698023,0.025246241172593598,0.02535360935836677,0.025457514034120426,0.025564882199065875,0.02567225036401132,0.025776155051288486,0.02588352323324484,0.025987427925460653,0.02609479611009316,0.026202164302419634,0.02629914202452096,0.026406510216847427,0.026510414919760014,0.026617783112977623,0.026721687816091428,0.02682905600096811,0.026936424168328844,0.027040328846419874,0.027147697013780614,0.027251601691871647,0.02735896985923238,0.027466338026593113,0.027566779215414446,0.02767414738277518,0.027778052060866205,0.02788542022822694,0.02798932490631797,0.02809669307367871,0.028204061241039444,0.02830796591913047,0.028415334086491204,0.028519238764582244,0.028626606931942977,0.02873397509930371,0.02883095279885534,0.028938320966216072,0.029042225644307106,0.02914959381166784,0.02917037474728604,0.029194619172173954,0.02921886359706186,0.029243108021949765,0.029267352446837674,0.02929159687172558,0.02931584129661349,0.029340085721501395,0.029364330146389304,0.02938857457127721],\"type\":\"scatter\",\"xaxis\":\"x\",\"yaxis\":\"y\"},{\"line\":{\"color\":\"rgba(0, 114, 178, 0.2)\",\"width\":0},\"mode\":\"lines\",\"name\":\"trend_upper\",\"x\":[\"2012-05-31T00:00:00\",\"2012-06-30T00:00:00\",\"2012-07-31T00:00:00\",\"2012-08-31T00:00:00\",\"2012-09-30T00:00:00\",\"2012-10-31T00:00:00\",\"2012-11-30T00:00:00\",\"2012-12-31T00:00:00\",\"2013-01-31T00:00:00\",\"2013-02-28T00:00:00\",\"2013-03-31T00:00:00\",\"2013-04-30T00:00:00\",\"2013-05-31T00:00:00\",\"2013-06-30T00:00:00\",\"2013-07-31T00:00:00\",\"2013-08-31T00:00:00\",\"2013-09-30T00:00:00\",\"2013-10-31T00:00:00\",\"2013-11-30T00:00:00\",\"2013-12-31T00:00:00\",\"2014-01-31T00:00:00\",\"2014-02-28T00:00:00\",\"2014-03-31T00:00:00\",\"2014-04-30T00:00:00\",\"2014-05-31T00:00:00\",\"2014-06-30T00:00:00\",\"2014-07-31T00:00:00\",\"2014-08-31T00:00:00\",\"2014-09-30T00:00:00\",\"2014-10-31T00:00:00\",\"2014-11-30T00:00:00\",\"2014-12-31T00:00:00\",\"2015-01-31T00:00:00\",\"2015-02-28T00:00:00\",\"2015-03-31T00:00:00\",\"2015-04-30T00:00:00\",\"2015-05-31T00:00:00\",\"2015-06-30T00:00:00\",\"2015-07-31T00:00:00\",\"2015-08-31T00:00:00\",\"2015-09-30T00:00:00\",\"2015-10-31T00:00:00\",\"2015-11-30T00:00:00\",\"2015-12-31T00:00:00\",\"2016-01-31T00:00:00\",\"2016-02-29T00:00:00\",\"2016-03-31T00:00:00\",\"2016-04-30T00:00:00\",\"2016-05-31T00:00:00\",\"2016-06-30T00:00:00\",\"2016-07-31T00:00:00\",\"2016-08-31T00:00:00\",\"2016-09-30T00:00:00\",\"2016-10-31T00:00:00\",\"2016-11-30T00:00:00\",\"2016-12-31T00:00:00\",\"2017-01-31T00:00:00\",\"2017-02-28T00:00:00\",\"2017-03-31T00:00:00\",\"2017-04-30T00:00:00\",\"2017-05-31T00:00:00\",\"2017-06-30T00:00:00\",\"2017-07-31T00:00:00\",\"2017-08-31T00:00:00\",\"2017-09-30T00:00:00\",\"2017-10-31T00:00:00\",\"2017-11-30T00:00:00\",\"2017-12-31T00:00:00\",\"2018-01-31T00:00:00\",\"2018-02-28T00:00:00\",\"2018-03-31T00:00:00\",\"2018-04-30T00:00:00\",\"2018-05-31T00:00:00\",\"2018-06-30T00:00:00\",\"2018-07-31T00:00:00\",\"2018-08-31T00:00:00\",\"2018-09-30T00:00:00\",\"2018-10-31T00:00:00\",\"2018-11-30T00:00:00\",\"2018-12-31T00:00:00\",\"2019-01-31T00:00:00\",\"2019-02-28T00:00:00\",\"2019-03-31T00:00:00\",\"2019-04-30T00:00:00\",\"2019-05-31T00:00:00\",\"2019-06-30T00:00:00\",\"2019-07-31T00:00:00\",\"2019-08-31T00:00:00\",\"2019-09-30T00:00:00\",\"2019-10-31T00:00:00\",\"2019-11-30T00:00:00\",\"2019-12-31T00:00:00\",\"2020-01-31T00:00:00\",\"2020-02-29T00:00:00\",\"2020-03-31T00:00:00\",\"2020-04-30T00:00:00\",\"2020-05-31T00:00:00\",\"2020-06-30T00:00:00\",\"2020-07-31T00:00:00\",\"2020-08-31T00:00:00\",\"2020-09-30T00:00:00\",\"2020-10-31T00:00:00\",\"2020-11-30T00:00:00\",\"2020-12-31T00:00:00\",\"2021-01-31T00:00:00\",\"2021-02-28T00:00:00\",\"2021-03-31T00:00:00\",\"2021-04-30T00:00:00\",\"2021-05-31T00:00:00\",\"2021-06-06T00:00:00\",\"2021-06-13T00:00:00\",\"2021-06-20T00:00:00\",\"2021-06-27T00:00:00\",\"2021-07-04T00:00:00\",\"2021-07-11T00:00:00\",\"2021-07-18T00:00:00\",\"2021-07-25T00:00:00\",\"2021-08-01T00:00:00\",\"2021-08-08T00:00:00\"],\"y\":[0.017764999550564396,0.017868905910390594,0.017976275815544333,0.018083645719503282,0.0181875520763425,0.018294921978409696,0.018398828335248918,0.018506198250524398,0.01861356816671079,0.01871054744584689,0.018817917370322516,0.018921823758588117,0.019029193693129234,0.019133100081394832,0.019240470028274913,0.019347839975154994,0.01945174637536152,0.019559116324533592,0.019663022728560107,0.01977039267938751,0.019877762629103447,0.01997474193330401,0.02008211187724035,0.020186018274598098,0.020293388216638304,0.020397294611151848,0.02050466455214918,0.020612034493507254,0.02071594088956685,0.020823310832161764,0.02092721722822136,0.02103458717090077,0.02114195711360483,0.02123893641669236,0.021346306361353706,0.021450212764043214,0.02155758271348904,0.02166148911617855,0.02176885905934721,0.021876229001308724,0.02198013539675535,0.022087505360093657,0.022191411804871348,0.02229878179780829,0.022406151790745232,0.022506594681747264,0.022613964666770184,0.02271787110388914,0.022825241083369995,0.022929147502015378,0.023036517467948943,0.023143887433882508,0.023247793850878825,0.023355163814846196,0.023459070231588806,0.023566440181259925,0.023673810111136232,0.023770789402637417,0.023878159332513728,0.023982064992108688,0.024089434120240515,0.024193339728110032,0.024300708404876595,0.024408076600186887,0.024511981305325874,0.024619349500011118,0.024723254195774414,0.024830622381396484,0.024937990567018557,0.02503496828483926,0.025142336473698023,0.025246241172593598,0.02535360935836677,0.025457514034120426,0.025564882199065875,0.02567225036401132,0.025776155051288486,0.02588352323324484,0.025987427925460653,0.02609479611009316,0.026202164302419634,0.02629914202452096,0.026406510216847427,0.026510414919760014,0.026617783112977623,0.026721687816091428,0.02682905600096811,0.026936424168328844,0.027040328846419874,0.027147697013780614,0.027251601691871647,0.02735896985923238,0.027466338026593113,0.027566779215414446,0.02767414738277518,0.027778052060866205,0.02788542022822694,0.02798932490631797,0.02809669307367871,0.028204061241039444,0.02830796591913047,0.028415334086491204,0.028519238764582244,0.028626606931942977,0.02873397509930371,0.02883095279885534,0.028938320966216072,0.029042225644307106,0.02914959381166784,0.02917037474728604,0.029194619172173954,0.02921886360393324,0.029243108043887946,0.029267352483668557,0.02929159692108452,0.029315841368549894,0.02934008581023211,0.029364330255103016,0.029388574708138993],\"type\":\"scatter\",\"xaxis\":\"x\",\"yaxis\":\"y\"},{\"fill\":\"tonexty\",\"fillcolor\":\"rgba(0, 114, 178, 0.2)\",\"line\":{\"color\":\"rgba(0, 114, 178, 0.2)\",\"width\":0},\"mode\":\"lines\",\"name\":\"trend_lower\",\"x\":[\"2012-05-31T00:00:00\",\"2012-06-30T00:00:00\",\"2012-07-31T00:00:00\",\"2012-08-31T00:00:00\",\"2012-09-30T00:00:00\",\"2012-10-31T00:00:00\",\"2012-11-30T00:00:00\",\"2012-12-31T00:00:00\",\"2013-01-31T00:00:00\",\"2013-02-28T00:00:00\",\"2013-03-31T00:00:00\",\"2013-04-30T00:00:00\",\"2013-05-31T00:00:00\",\"2013-06-30T00:00:00\",\"2013-07-31T00:00:00\",\"2013-08-31T00:00:00\",\"2013-09-30T00:00:00\",\"2013-10-31T00:00:00\",\"2013-11-30T00:00:00\",\"2013-12-31T00:00:00\",\"2014-01-31T00:00:00\",\"2014-02-28T00:00:00\",\"2014-03-31T00:00:00\",\"2014-04-30T00:00:00\",\"2014-05-31T00:00:00\",\"2014-06-30T00:00:00\",\"2014-07-31T00:00:00\",\"2014-08-31T00:00:00\",\"2014-09-30T00:00:00\",\"2014-10-31T00:00:00\",\"2014-11-30T00:00:00\",\"2014-12-31T00:00:00\",\"2015-01-31T00:00:00\",\"2015-02-28T00:00:00\",\"2015-03-31T00:00:00\",\"2015-04-30T00:00:00\",\"2015-05-31T00:00:00\",\"2015-06-30T00:00:00\",\"2015-07-31T00:00:00\",\"2015-08-31T00:00:00\",\"2015-09-30T00:00:00\",\"2015-10-31T00:00:00\",\"2015-11-30T00:00:00\",\"2015-12-31T00:00:00\",\"2016-01-31T00:00:00\",\"2016-02-29T00:00:00\",\"2016-03-31T00:00:00\",\"2016-04-30T00:00:00\",\"2016-05-31T00:00:00\",\"2016-06-30T00:00:00\",\"2016-07-31T00:00:00\",\"2016-08-31T00:00:00\",\"2016-09-30T00:00:00\",\"2016-10-31T00:00:00\",\"2016-11-30T00:00:00\",\"2016-12-31T00:00:00\",\"2017-01-31T00:00:00\",\"2017-02-28T00:00:00\",\"2017-03-31T00:00:00\",\"2017-04-30T00:00:00\",\"2017-05-31T00:00:00\",\"2017-06-30T00:00:00\",\"2017-07-31T00:00:00\",\"2017-08-31T00:00:00\",\"2017-09-30T00:00:00\",\"2017-10-31T00:00:00\",\"2017-11-30T00:00:00\",\"2017-12-31T00:00:00\",\"2018-01-31T00:00:00\",\"2018-02-28T00:00:00\",\"2018-03-31T00:00:00\",\"2018-04-30T00:00:00\",\"2018-05-31T00:00:00\",\"2018-06-30T00:00:00\",\"2018-07-31T00:00:00\",\"2018-08-31T00:00:00\",\"2018-09-30T00:00:00\",\"2018-10-31T00:00:00\",\"2018-11-30T00:00:00\",\"2018-12-31T00:00:00\",\"2019-01-31T00:00:00\",\"2019-02-28T00:00:00\",\"2019-03-31T00:00:00\",\"2019-04-30T00:00:00\",\"2019-05-31T00:00:00\",\"2019-06-30T00:00:00\",\"2019-07-31T00:00:00\",\"2019-08-31T00:00:00\",\"2019-09-30T00:00:00\",\"2019-10-31T00:00:00\",\"2019-11-30T00:00:00\",\"2019-12-31T00:00:00\",\"2020-01-31T00:00:00\",\"2020-02-29T00:00:00\",\"2020-03-31T00:00:00\",\"2020-04-30T00:00:00\",\"2020-05-31T00:00:00\",\"2020-06-30T00:00:00\",\"2020-07-31T00:00:00\",\"2020-08-31T00:00:00\",\"2020-09-30T00:00:00\",\"2020-10-31T00:00:00\",\"2020-11-30T00:00:00\",\"2020-12-31T00:00:00\",\"2021-01-31T00:00:00\",\"2021-02-28T00:00:00\",\"2021-03-31T00:00:00\",\"2021-04-30T00:00:00\",\"2021-05-31T00:00:00\",\"2021-06-06T00:00:00\",\"2021-06-13T00:00:00\",\"2021-06-20T00:00:00\",\"2021-06-27T00:00:00\",\"2021-07-04T00:00:00\",\"2021-07-11T00:00:00\",\"2021-07-18T00:00:00\",\"2021-07-25T00:00:00\",\"2021-08-01T00:00:00\",\"2021-08-08T00:00:00\"],\"y\":[0.017764999550564396,0.017868905910390594,0.017976275815544333,0.018083645719503282,0.0181875520763425,0.018294921978409696,0.018398828335248918,0.018506198250524398,0.01861356816671079,0.01871054744584689,0.018817917370322516,0.018921823758588117,0.019029193693129234,0.019133100081394832,0.019240470028274913,0.019347839975154994,0.01945174637536152,0.019559116324533592,0.019663022728560107,0.01977039267938751,0.019877762629103447,0.01997474193330401,0.02008211187724035,0.020186018274598098,0.020293388216638304,0.020397294611151848,0.02050466455214918,0.020612034493507254,0.02071594088956685,0.020823310832161764,0.02092721722822136,0.02103458717090077,0.02114195711360483,0.02123893641669236,0.021346306361353706,0.021450212764043214,0.02155758271348904,0.02166148911617855,0.02176885905934721,0.021876229001308724,0.02198013539675535,0.022087505360093657,0.022191411804871348,0.02229878179780829,0.022406151790745232,0.022506594681747264,0.022613964666770184,0.02271787110388914,0.022825241083369995,0.022929147502015378,0.023036517467948943,0.023143887433882508,0.023247793850878825,0.023355163814846196,0.023459070231588806,0.023566440181259925,0.023673810111136232,0.023770789402637417,0.023878159332513728,0.023982064992108688,0.024089434120240515,0.024193339728110032,0.024300708404876595,0.024408076600186887,0.024511981305325874,0.024619349500011118,0.024723254195774414,0.024830622381396484,0.024937990567018557,0.02503496828483926,0.025142336473698023,0.025246241172593598,0.02535360935836677,0.025457514034120426,0.025564882199065875,0.02567225036401132,0.025776155051288486,0.02588352323324484,0.025987427925460653,0.02609479611009316,0.026202164302419634,0.02629914202452096,0.026406510216847427,0.026510414919760014,0.026617783112977623,0.026721687816091428,0.02682905600096811,0.026936424168328844,0.027040328846419874,0.027147697013780614,0.027251601691871647,0.02735896985923238,0.027466338026593113,0.027566779215414446,0.02767414738277518,0.027778052060866205,0.02788542022822694,0.02798932490631797,0.02809669307367871,0.028204061241039444,0.02830796591913047,0.028415334086491204,0.028519238764582244,0.028626606931942977,0.02873397509930371,0.02883095279885534,0.028938320966216072,0.029042225644307106,0.02914959381166784,0.02917037474728604,0.029194619172173954,0.02921886359455719,0.029243108012663697,0.029267352424677807,0.029291596828112033,0.02931584123346036,0.02934008563637946,0.029364330034990917,0.029388574446169036],\"type\":\"scatter\",\"xaxis\":\"x\",\"yaxis\":\"y\"},{\"line\":{\"color\":\"#0072B2\",\"width\":2},\"mode\":\"lines\",\"name\":\"yearly\",\"x\":[\"2017-01-01T00:00:00\",\"2017-01-02T00:00:59.178082\",\"2017-01-03T00:01:58.356164\",\"2017-01-04T00:02:57.534246\",\"2017-01-05T00:03:56.712328\",\"2017-01-06T00:04:55.890411\",\"2017-01-07T00:05:55.068493\",\"2017-01-08T00:06:54.246575\",\"2017-01-09T00:07:53.424657\",\"2017-01-10T00:08:52.602739\",\"2017-01-11T00:09:51.780822\",\"2017-01-12T00:10:50.958904\",\"2017-01-13T00:11:50.136986\",\"2017-01-14T00:12:49.315068\",\"2017-01-15T00:13:48.493150\",\"2017-01-16T00:14:47.671232\",\"2017-01-17T00:15:46.849315\",\"2017-01-18T00:16:46.027397\",\"2017-01-19T00:17:45.205479\",\"2017-01-20T00:18:44.383561\",\"2017-01-21T00:19:43.561643\",\"2017-01-22T00:20:42.739726\",\"2017-01-23T00:21:41.917808\",\"2017-01-24T00:22:41.095890\",\"2017-01-25T00:23:40.273972\",\"2017-01-26T00:24:39.452054\",\"2017-01-27T00:25:38.630137\",\"2017-01-28T00:26:37.808219\",\"2017-01-29T00:27:36.986301\",\"2017-01-30T00:28:36.164383\",\"2017-01-31T00:29:35.342465\",\"2017-02-01T00:30:34.520547\",\"2017-02-02T00:31:33.698630\",\"2017-02-03T00:32:32.876712\",\"2017-02-04T00:33:32.054794\",\"2017-02-05T00:34:31.232876\",\"2017-02-06T00:35:30.410958\",\"2017-02-07T00:36:29.589041\",\"2017-02-08T00:37:28.767123\",\"2017-02-09T00:38:27.945205\",\"2017-02-10T00:39:27.123287\",\"2017-02-11T00:40:26.301369\",\"2017-02-12T00:41:25.479452\",\"2017-02-13T00:42:24.657534\",\"2017-02-14T00:43:23.835616\",\"2017-02-15T00:44:23.013698\",\"2017-02-16T00:45:22.191780\",\"2017-02-17T00:46:21.369862\",\"2017-02-18T00:47:20.547945\",\"2017-02-19T00:48:19.726027\",\"2017-02-20T00:49:18.904109\",\"2017-02-21T00:50:18.082191\",\"2017-02-22T00:51:17.260273\",\"2017-02-23T00:52:16.438356\",\"2017-02-24T00:53:15.616438\",\"2017-02-25T00:54:14.794520\",\"2017-02-26T00:55:13.972602\",\"2017-02-27T00:56:13.150684\",\"2017-02-28T00:57:12.328767\",\"2017-03-01T00:58:11.506849\",\"2017-03-02T00:59:10.684931\",\"2017-03-03T01:00:09.863013\",\"2017-03-04T01:01:09.041095\",\"2017-03-05T01:02:08.219177\",\"2017-03-06T01:03:07.397260\",\"2017-03-07T01:04:06.575342\",\"2017-03-08T01:05:05.753424\",\"2017-03-09T01:06:04.931506\",\"2017-03-10T01:07:04.109588\",\"2017-03-11T01:08:03.287671\",\"2017-03-12T01:09:02.465753\",\"2017-03-13T01:10:01.643835\",\"2017-03-14T01:11:00.821917\",\"2017-03-15T01:12:00\",\"2017-03-16T01:12:59.178082\",\"2017-03-17T01:13:58.356164\",\"2017-03-18T01:14:57.534246\",\"2017-03-19T01:15:56.712328\",\"2017-03-20T01:16:55.890411\",\"2017-03-21T01:17:55.068493\",\"2017-03-22T01:18:54.246575\",\"2017-03-23T01:19:53.424657\",\"2017-03-24T01:20:52.602739\",\"2017-03-25T01:21:51.780822\",\"2017-03-26T01:22:50.958904\",\"2017-03-27T01:23:50.136986\",\"2017-03-28T01:24:49.315068\",\"2017-03-29T01:25:48.493150\",\"2017-03-30T01:26:47.671232\",\"2017-03-31T01:27:46.849315\",\"2017-04-01T01:28:46.027397\",\"2017-04-02T01:29:45.205479\",\"2017-04-03T01:30:44.383561\",\"2017-04-04T01:31:43.561643\",\"2017-04-05T01:32:42.739726\",\"2017-04-06T01:33:41.917808\",\"2017-04-07T01:34:41.095890\",\"2017-04-08T01:35:40.273972\",\"2017-04-09T01:36:39.452054\",\"2017-04-10T01:37:38.630137\",\"2017-04-11T01:38:37.808219\",\"2017-04-12T01:39:36.986301\",\"2017-04-13T01:40:36.164383\",\"2017-04-14T01:41:35.342465\",\"2017-04-15T01:42:34.520547\",\"2017-04-16T01:43:33.698630\",\"2017-04-17T01:44:32.876712\",\"2017-04-18T01:45:32.054794\",\"2017-04-19T01:46:31.232876\",\"2017-04-20T01:47:30.410958\",\"2017-04-21T01:48:29.589041\",\"2017-04-22T01:49:28.767123\",\"2017-04-23T01:50:27.945205\",\"2017-04-24T01:51:27.123287\",\"2017-04-25T01:52:26.301369\",\"2017-04-26T01:53:25.479452\",\"2017-04-27T01:54:24.657534\",\"2017-04-28T01:55:23.835616\",\"2017-04-29T01:56:23.013698\",\"2017-04-30T01:57:22.191780\",\"2017-05-01T01:58:21.369862\",\"2017-05-02T01:59:20.547945\",\"2017-05-03T02:00:19.726027\",\"2017-05-04T02:01:18.904109\",\"2017-05-05T02:02:18.082191\",\"2017-05-06T02:03:17.260273\",\"2017-05-07T02:04:16.438356\",\"2017-05-08T02:05:15.616438\",\"2017-05-09T02:06:14.794520\",\"2017-05-10T02:07:13.972602\",\"2017-05-11T02:08:13.150684\",\"2017-05-12T02:09:12.328767\",\"2017-05-13T02:10:11.506849\",\"2017-05-14T02:11:10.684931\",\"2017-05-15T02:12:09.863013\",\"2017-05-16T02:13:09.041095\",\"2017-05-17T02:14:08.219177\",\"2017-05-18T02:15:07.397260\",\"2017-05-19T02:16:06.575342\",\"2017-05-20T02:17:05.753424\",\"2017-05-21T02:18:04.931506\",\"2017-05-22T02:19:04.109588\",\"2017-05-23T02:20:03.287671\",\"2017-05-24T02:21:02.465753\",\"2017-05-25T02:22:01.643835\",\"2017-05-26T02:23:00.821917\",\"2017-05-27T02:24:00\",\"2017-05-28T02:24:59.178082\",\"2017-05-29T02:25:58.356164\",\"2017-05-30T02:26:57.534246\",\"2017-05-31T02:27:56.712328\",\"2017-06-01T02:28:55.890411\",\"2017-06-02T02:29:55.068493\",\"2017-06-03T02:30:54.246575\",\"2017-06-04T02:31:53.424657\",\"2017-06-05T02:32:52.602739\",\"2017-06-06T02:33:51.780822\",\"2017-06-07T02:34:50.958904\",\"2017-06-08T02:35:50.136986\",\"2017-06-09T02:36:49.315068\",\"2017-06-10T02:37:48.493150\",\"2017-06-11T02:38:47.671232\",\"2017-06-12T02:39:46.849315\",\"2017-06-13T02:40:46.027397\",\"2017-06-14T02:41:45.205479\",\"2017-06-15T02:42:44.383561\",\"2017-06-16T02:43:43.561643\",\"2017-06-17T02:44:42.739726\",\"2017-06-18T02:45:41.917808\",\"2017-06-19T02:46:41.095890\",\"2017-06-20T02:47:40.273972\",\"2017-06-21T02:48:39.452054\",\"2017-06-22T02:49:38.630137\",\"2017-06-23T02:50:37.808219\",\"2017-06-24T02:51:36.986301\",\"2017-06-25T02:52:36.164383\",\"2017-06-26T02:53:35.342465\",\"2017-06-27T02:54:34.520547\",\"2017-06-28T02:55:33.698630\",\"2017-06-29T02:56:32.876712\",\"2017-06-30T02:57:32.054794\",\"2017-07-01T02:58:31.232876\",\"2017-07-02T02:59:30.410958\",\"2017-07-03T03:00:29.589041\",\"2017-07-04T03:01:28.767123\",\"2017-07-05T03:02:27.945205\",\"2017-07-06T03:03:27.123287\",\"2017-07-07T03:04:26.301369\",\"2017-07-08T03:05:25.479452\",\"2017-07-09T03:06:24.657534\",\"2017-07-10T03:07:23.835616\",\"2017-07-11T03:08:23.013698\",\"2017-07-12T03:09:22.191780\",\"2017-07-13T03:10:21.369862\",\"2017-07-14T03:11:20.547945\",\"2017-07-15T03:12:19.726027\",\"2017-07-16T03:13:18.904109\",\"2017-07-17T03:14:18.082191\",\"2017-07-18T03:15:17.260273\",\"2017-07-19T03:16:16.438356\",\"2017-07-20T03:17:15.616438\",\"2017-07-21T03:18:14.794520\",\"2017-07-22T03:19:13.972602\",\"2017-07-23T03:20:13.150684\",\"2017-07-24T03:21:12.328767\",\"2017-07-25T03:22:11.506849\",\"2017-07-26T03:23:10.684931\",\"2017-07-27T03:24:09.863013\",\"2017-07-28T03:25:09.041095\",\"2017-07-29T03:26:08.219177\",\"2017-07-30T03:27:07.397260\",\"2017-07-31T03:28:06.575342\",\"2017-08-01T03:29:05.753424\",\"2017-08-02T03:30:04.931506\",\"2017-08-03T03:31:04.109588\",\"2017-08-04T03:32:03.287671\",\"2017-08-05T03:33:02.465753\",\"2017-08-06T03:34:01.643835\",\"2017-08-07T03:35:00.821917\",\"2017-08-08T03:36:00\",\"2017-08-09T03:36:59.178082\",\"2017-08-10T03:37:58.356164\",\"2017-08-11T03:38:57.534246\",\"2017-08-12T03:39:56.712328\",\"2017-08-13T03:40:55.890411\",\"2017-08-14T03:41:55.068493\",\"2017-08-15T03:42:54.246575\",\"2017-08-16T03:43:53.424657\",\"2017-08-17T03:44:52.602739\",\"2017-08-18T03:45:51.780822\",\"2017-08-19T03:46:50.958904\",\"2017-08-20T03:47:50.136986\",\"2017-08-21T03:48:49.315068\",\"2017-08-22T03:49:48.493150\",\"2017-08-23T03:50:47.671232\",\"2017-08-24T03:51:46.849315\",\"2017-08-25T03:52:46.027397\",\"2017-08-26T03:53:45.205479\",\"2017-08-27T03:54:44.383561\",\"2017-08-28T03:55:43.561643\",\"2017-08-29T03:56:42.739726\",\"2017-08-30T03:57:41.917808\",\"2017-08-31T03:58:41.095890\",\"2017-09-01T03:59:40.273972\",\"2017-09-02T04:00:39.452054\",\"2017-09-03T04:01:38.630137\",\"2017-09-04T04:02:37.808219\",\"2017-09-05T04:03:36.986301\",\"2017-09-06T04:04:36.164383\",\"2017-09-07T04:05:35.342465\",\"2017-09-08T04:06:34.520547\",\"2017-09-09T04:07:33.698630\",\"2017-09-10T04:08:32.876712\",\"2017-09-11T04:09:32.054794\",\"2017-09-12T04:10:31.232876\",\"2017-09-13T04:11:30.410958\",\"2017-09-14T04:12:29.589041\",\"2017-09-15T04:13:28.767123\",\"2017-09-16T04:14:27.945205\",\"2017-09-17T04:15:27.123287\",\"2017-09-18T04:16:26.301369\",\"2017-09-19T04:17:25.479452\",\"2017-09-20T04:18:24.657534\",\"2017-09-21T04:19:23.835616\",\"2017-09-22T04:20:23.013698\",\"2017-09-23T04:21:22.191780\",\"2017-09-24T04:22:21.369862\",\"2017-09-25T04:23:20.547945\",\"2017-09-26T04:24:19.726027\",\"2017-09-27T04:25:18.904109\",\"2017-09-28T04:26:18.082191\",\"2017-09-29T04:27:17.260273\",\"2017-09-30T04:28:16.438356\",\"2017-10-01T04:29:15.616438\",\"2017-10-02T04:30:14.794520\",\"2017-10-03T04:31:13.972602\",\"2017-10-04T04:32:13.150684\",\"2017-10-05T04:33:12.328767\",\"2017-10-06T04:34:11.506849\",\"2017-10-07T04:35:10.684931\",\"2017-10-08T04:36:09.863013\",\"2017-10-09T04:37:09.041095\",\"2017-10-10T04:38:08.219177\",\"2017-10-11T04:39:07.397260\",\"2017-10-12T04:40:06.575342\",\"2017-10-13T04:41:05.753424\",\"2017-10-14T04:42:04.931506\",\"2017-10-15T04:43:04.109588\",\"2017-10-16T04:44:03.287671\",\"2017-10-17T04:45:02.465753\",\"2017-10-18T04:46:01.643835\",\"2017-10-19T04:47:00.821917\",\"2017-10-20T04:48:00\",\"2017-10-21T04:48:59.178082\",\"2017-10-22T04:49:58.356164\",\"2017-10-23T04:50:57.534246\",\"2017-10-24T04:51:56.712328\",\"2017-10-25T04:52:55.890411\",\"2017-10-26T04:53:55.068493\",\"2017-10-27T04:54:54.246575\",\"2017-10-28T04:55:53.424657\",\"2017-10-29T04:56:52.602739\",\"2017-10-30T04:57:51.780822\",\"2017-10-31T04:58:50.958904\",\"2017-11-01T04:59:50.136986\",\"2017-11-02T05:00:49.315068\",\"2017-11-03T05:01:48.493150\",\"2017-11-04T05:02:47.671232\",\"2017-11-05T05:03:46.849315\",\"2017-11-06T05:04:46.027397\",\"2017-11-07T05:05:45.205479\",\"2017-11-08T05:06:44.383561\",\"2017-11-09T05:07:43.561643\",\"2017-11-10T05:08:42.739726\",\"2017-11-11T05:09:41.917808\",\"2017-11-12T05:10:41.095890\",\"2017-11-13T05:11:40.273972\",\"2017-11-14T05:12:39.452054\",\"2017-11-15T05:13:38.630137\",\"2017-11-16T05:14:37.808219\",\"2017-11-17T05:15:36.986301\",\"2017-11-18T05:16:36.164383\",\"2017-11-19T05:17:35.342465\",\"2017-11-20T05:18:34.520547\",\"2017-11-21T05:19:33.698630\",\"2017-11-22T05:20:32.876712\",\"2017-11-23T05:21:32.054794\",\"2017-11-24T05:22:31.232876\",\"2017-11-25T05:23:30.410958\",\"2017-11-26T05:24:29.589041\",\"2017-11-27T05:25:28.767123\",\"2017-11-28T05:26:27.945205\",\"2017-11-29T05:27:27.123287\",\"2017-11-30T05:28:26.301369\",\"2017-12-01T05:29:25.479452\",\"2017-12-02T05:30:24.657534\",\"2017-12-03T05:31:23.835616\",\"2017-12-04T05:32:23.013698\",\"2017-12-05T05:33:22.191780\",\"2017-12-06T05:34:21.369862\",\"2017-12-07T05:35:20.547945\",\"2017-12-08T05:36:19.726027\",\"2017-12-09T05:37:18.904109\",\"2017-12-10T05:38:18.082191\",\"2017-12-11T05:39:17.260273\",\"2017-12-12T05:40:16.438356\",\"2017-12-13T05:41:15.616438\",\"2017-12-14T05:42:14.794520\",\"2017-12-15T05:43:13.972602\",\"2017-12-16T05:44:13.150684\",\"2017-12-17T05:45:12.328767\",\"2017-12-18T05:46:11.506849\",\"2017-12-19T05:47:10.684931\",\"2017-12-20T05:48:09.863013\",\"2017-12-21T05:49:09.041095\",\"2017-12-22T05:50:08.219177\",\"2017-12-23T05:51:07.397260\",\"2017-12-24T05:52:06.575342\",\"2017-12-25T05:53:05.753424\",\"2017-12-26T05:54:04.931506\",\"2017-12-27T05:55:04.109588\",\"2017-12-28T05:56:03.287671\",\"2017-12-29T05:57:02.465753\",\"2017-12-30T05:58:01.643835\",\"2017-12-31T05:59:00.821917\"],\"y\":[-0.02112633314752983,-0.021307453050048986,-0.021569277016183323,-0.021903093524927517,-0.02229781513881481,-0.02274034574985722,-0.023216013583190812,-0.023709055850924924,-0.024203139260411465,-0.024681899399839658,-0.025129481387915393,-0.02553106410533341,-0.0258733508282755,-0.02614501014233976,-0.026337052598951687,-0.026443130634548832,-0.026459751742703534,-0.0263863976925379,-0.026225545634437446,-0.025982590130006762,-0.025665668384130664,-0.025285394139900417,-0.02485450871825322,-0.02438746044527056,-0.023899926120854224,-0.02340829016207784,-0.02292909853647859,-0.02247850553302484,-0.02207173176717803,-0.021722551565276332,-0.021442827024978305,-0.021242104625543694,-0.021127288304012257,-0.021102400479497893,-0.02116843967126287,-0.021323340204821614,-0.02156203613200216,-0.021876628012337432,-0.022256647725462035,-0.022689413119733517,-0.023160461161487966,-0.023654045436194357,-0.02415368146370483,-0.024642721406994497,-0.025104938446775346,-0.02552510041325035,-0.025889512244554443,-0.026186507489637356,-0.02640687038307993,-0.0265441719607607,-0.02659500620763485,-0.026559115262513006,-0.026439396164306066,-0.026241785406592975,-0.025975021561200993,-0.025650290313685577,-0.025280760298149057,-0.024881021997906164,-0.024466445566616476,-0.024052476603718224,-0.023653891579553117,-0.023284036655939193,-0.022954075008320966,-0.022672268369540026,-0.022443318344897403,-0.022267792080756296,-0.022141655114770772,-0.02205593172881072,-0.021996509923885806,-0.021944104318650078,-0.02187438593961572,-0.021758283138121812,-0.021562452868027986,-0.02124991643005889,-0.02078084868259561,-0.020113504784084697,-0.019205263918557716,-0.018013765304615122,-0.016498108230803193,-0.014620085014512289,-0.012345413744255618,-0.009644936515622,-0.006495748660137711,-0.0028822252234684165,0.001203087326964916,0.00575874352139184,0.010773861240784461,0.01622779545713743,0.02209003975929162,0.028320366435419096,0.03486920982415047,0.041678291318954196,0.04868147797852575,0.0558058603395502,0.06297302891826481,0.07010052319721428,0.07710342178580816,0.0838960380648148,0.09039368210821687,0.09651444712760796,0.10218097719207424,0.10732217259125505,0.11187478996248643,0.11578489618840328,0.11900913805415447,0.12151579366969867,0.12328557661850892,0.12431216956966955,0.1246024705420031,0.12417654197460894,0.12306726005903117,0.12131966923579215,0.11899005415731635,0.11614474857654365,0.11285870734438265,0.1092138738123756,0.10529738027183441,0.10119962347555313,0.09701226065957864,0.09282617371652513,0.08872945020562402,0.08480542968196206,0.08113086239320737,0.07777422475188257,0.07479423221738737,0.07223858540250011,0.07014297948123706,0.06853040046403214,0.06741072479048144,0.06678063115500711,0.066623825719913,0.0669115740879733,0.06760352580251172,0.06864880991640578,0.06998737350830546,0.07155152909815184,0.07326767187573001,0.07505812363532272,0.07684305740690377,0.0785424550616058,0.08007804968523283,0.08137520526601447,0.08236468820508352,0.08298428827165767,0.08318025080238398,0.08290848706834618,0.08213553566373864,0.08083925434496625,0.0790092287914276,0.07664689207890668,0.07376535606020689,0.07038896313786357,0.06655257390042113,0.06230061259490615,0.057685898256791816,0.052768294367035645,0.04761321402848153,0.042290020753279825,0.03687036695666535,0.03142651312235321,0.026029670331554816,0.02074840745348007,0.015647161831647806,0.010784888851062834,0.006213881440047272,0.0019787854787686253,-0.0018841685966431703,-0.005347703828906582,-0.008393796635320402,-0.011013737263168084,-0.013207955887414646,-0.014985625554535868,-0.01636405886857759,-0.017367920431573567,-0.018028281456078155,-0.01838154655738065,-0.01846828541721345,-0.018332003734744938,-0.018017888611467726,-0.01757156325291017,-0.017037884637613375,-0.016459815655765507,-0.01587740023372816,-0.015326866238045786,-0.014839876612658167,-0.014442944382623599,-0.01415702200392486,-0.013997270206305307,-0.013973006123350878,-0.01408782528477237,-0.014339887111565858,-0.014722349041884169,-0.01522393044986879,-0.015829584206291374,-0.01652125115449052,-0.017278671000176184,-0.018080222176384397,-0.01890376315823205,-0.019727448452525328,-0.020530494037403844,-0.02129386931562104,-0.022000895590267935,-0.022637734571961433,-0.02319375436705475,-0.023661764648609297,-0.02403811714141587,-0.024322672019346053,-0.02451863518054756,-0.024632275499814782,-0.02467253493257939,-0.024650547650177542,-0.02457908712382111,-0.024471962167644926,-0.024343384340932913,-0.024207329761626147,-0.024076918284282767,-0.02396383215717832,-0.02387779472843461,-0.023826127574789118,-0.023813401653896473,-0.023841194822854708,-0.023907964429174935,-0.024009039781407657,-0.024136735270574805,-0.024280580867354684,-0.024427662791771436,-0.024563063464173446,-0.024670386514356015,-0.02473234975257997,-0.024731426681238438,-0.024650515420450523,-0.02447361288709825,-0.024186471736233082,-0.023777217956026234,-0.023236908089789846,-0.02256000680788958,-0.02174476791365199,-0.020793504768168023,-0.01971273946983653,-0.018513223822307825,-0.017209829056195988,-0.015821305314409256,-0.014369915945174939,-0.012880955546589619,-0.011382164352944087,-0.009903054835026607,-0.008474169202287912,-0.007126288760046525,-0.0058896177178215485,-0.004792965016343923,-0.0038629480095395494,-0.0031232413941549818,-0.002593893636360048,-0.0022907313339317107,-0.002224869528168675,-0.002402343012267708,-0.002823870260647514,-0.003484757827508646,-0.004374949044606717,-0.00547921670639928,-0.006777495288578773,-0.008245344224707253,-0.00985452998538809,-0.011573711275525726,-0.013369208688792017,-0.01520583772293241,-0.01704778223418519,-0.018859484249336637,-0.020606525591163646,-0.02225647702108261,-0.02377969155306467,-0.025150020215869064,-0.026345430787901365,-0.027348512833942108,-0.028146855650173552,-0.028733289379169306,-0.02910598347900213,-0.029268400806576757,-0.029229109684613137,-0.029001460343485833,-0.02860313594728983,-0.028055591915965142,-0.027383400342100416,-0.026613518883167764,-0.025774505514440344,-0.024895701898914,-0.024006408831844274,-0.023135077231481074,-0.022308537478415363,-0.021551288577318164,-0.020884866669676375,-0.02032730992571824,-0.019892733865777102,-0.019591027796152367,-0.01942767939494565,-0.019403730658535186,-0.019515864534422115,-0.0197566177361194,-0.020114711574262714,-0.02057548925216949,-0.02112144506306201,-0.021732828376005153,-0.022388303281362654,-0.023065643340310475,-0.023742440084127202,-0.024396803757242135,-0.02500803529218484,-0.025557249625134684,-0.026027932168407434,-0.02640641249564214,-0.026682241993810814,-0.026848465309349024,-0.026901778766921593,-0.026842572465449112,-0.02667485634834791,-0.02640607409399993,-0.02604681207074058,-0.02561041374565123,-0.02511251273418244,-0.024570500045813123,-0.02400294294952816,-0.023428974199306736,-0.022867671087296204,-0.022337443912730556,-0.021855452969196068,-0.02143707208012532,-0.021095415089863134,-0.02084093959942977,-0.020681139690009783,-0.020620336486106405,-0.0206595722646404,-0.020796610516105284,-0.021026041011955675,-0.021339485633638557,-0.021725897574707578,-0.022171943635959264,-0.022662456782681525,-0.02318094400082147,-0.023710132839484168,-0.024232538910006596,-0.024731036058825918,-0.0251894109574204,-0.025592884454563487,-0.025928583191716526,-0.02618594665436332,-0.02635705696447065,-0.026436881244353894,-0.026423419218752225,-0.02631775177893245,-0.02612398941480063,-0.02584912262513472,-0.02550277954341991,-0.02509689896705391,-0.02464532965915398,-0.02416336912016421,-0.023667256928019527,-0.023173639161850987,-0.022699021310323593,-0.02225922739498311,-0.021868882801552886,-0.021540937515862474,-0.02128624513222811,-0.021113211182787837,-0.02102752208504514,-0.021031963392899207],\"type\":\"scatter\",\"xaxis\":\"x2\",\"yaxis\":\"y2\"}],                        {\"template\":{\"data\":{\"bar\":[{\"error_x\":{\"color\":\"#2a3f5f\"},\"error_y\":{\"color\":\"#2a3f5f\"},\"marker\":{\"line\":{\"color\":\"#E5ECF6\",\"width\":0.5},\"pattern\":{\"fillmode\":\"overlay\",\"size\":10,\"solidity\":0.2}},\"type\":\"bar\"}],\"barpolar\":[{\"marker\":{\"line\":{\"color\":\"#E5ECF6\",\"width\":0.5},\"pattern\":{\"fillmode\":\"overlay\",\"size\":10,\"solidity\":0.2}},\"type\":\"barpolar\"}],\"carpet\":[{\"aaxis\":{\"endlinecolor\":\"#2a3f5f\",\"gridcolor\":\"white\",\"linecolor\":\"white\",\"minorgridcolor\":\"white\",\"startlinecolor\":\"#2a3f5f\"},\"baxis\":{\"endlinecolor\":\"#2a3f5f\",\"gridcolor\":\"white\",\"linecolor\":\"white\",\"minorgridcolor\":\"white\",\"startlinecolor\":\"#2a3f5f\"},\"type\":\"carpet\"}],\"choropleth\":[{\"colorbar\":{\"outlinewidth\":0,\"ticks\":\"\"},\"type\":\"choropleth\"}],\"contour\":[{\"colorbar\":{\"outlinewidth\":0,\"ticks\":\"\"},\"colorscale\":[[0.0,\"#0d0887\"],[0.1111111111111111,\"#46039f\"],[0.2222222222222222,\"#7201a8\"],[0.3333333333333333,\"#9c179e\"],[0.4444444444444444,\"#bd3786\"],[0.5555555555555556,\"#d8576b\"],[0.6666666666666666,\"#ed7953\"],[0.7777777777777778,\"#fb9f3a\"],[0.8888888888888888,\"#fdca26\"],[1.0,\"#f0f921\"]],\"type\":\"contour\"}],\"contourcarpet\":[{\"colorbar\":{\"outlinewidth\":0,\"ticks\":\"\"},\"type\":\"contourcarpet\"}],\"heatmap\":[{\"colorbar\":{\"outlinewidth\":0,\"ticks\":\"\"},\"colorscale\":[[0.0,\"#0d0887\"],[0.1111111111111111,\"#46039f\"],[0.2222222222222222,\"#7201a8\"],[0.3333333333333333,\"#9c179e\"],[0.4444444444444444,\"#bd3786\"],[0.5555555555555556,\"#d8576b\"],[0.6666666666666666,\"#ed7953\"],[0.7777777777777778,\"#fb9f3a\"],[0.8888888888888888,\"#fdca26\"],[1.0,\"#f0f921\"]],\"type\":\"heatmap\"}],\"heatmapgl\":[{\"colorbar\":{\"outlinewidth\":0,\"ticks\":\"\"},\"colorscale\":[[0.0,\"#0d0887\"],[0.1111111111111111,\"#46039f\"],[0.2222222222222222,\"#7201a8\"],[0.3333333333333333,\"#9c179e\"],[0.4444444444444444,\"#bd3786\"],[0.5555555555555556,\"#d8576b\"],[0.6666666666666666,\"#ed7953\"],[0.7777777777777778,\"#fb9f3a\"],[0.8888888888888888,\"#fdca26\"],[1.0,\"#f0f921\"]],\"type\":\"heatmapgl\"}],\"histogram\":[{\"marker\":{\"pattern\":{\"fillmode\":\"overlay\",\"size\":10,\"solidity\":0.2}},\"type\":\"histogram\"}],\"histogram2d\":[{\"colorbar\":{\"outlinewidth\":0,\"ticks\":\"\"},\"colorscale\":[[0.0,\"#0d0887\"],[0.1111111111111111,\"#46039f\"],[0.2222222222222222,\"#7201a8\"],[0.3333333333333333,\"#9c179e\"],[0.4444444444444444,\"#bd3786\"],[0.5555555555555556,\"#d8576b\"],[0.6666666666666666,\"#ed7953\"],[0.7777777777777778,\"#fb9f3a\"],[0.8888888888888888,\"#fdca26\"],[1.0,\"#f0f921\"]],\"type\":\"histogram2d\"}],\"histogram2dcontour\":[{\"colorbar\":{\"outlinewidth\":0,\"ticks\":\"\"},\"colorscale\":[[0.0,\"#0d0887\"],[0.1111111111111111,\"#46039f\"],[0.2222222222222222,\"#7201a8\"],[0.3333333333333333,\"#9c179e\"],[0.4444444444444444,\"#bd3786\"],[0.5555555555555556,\"#d8576b\"],[0.6666666666666666,\"#ed7953\"],[0.7777777777777778,\"#fb9f3a\"],[0.8888888888888888,\"#fdca26\"],[1.0,\"#f0f921\"]],\"type\":\"histogram2dcontour\"}],\"mesh3d\":[{\"colorbar\":{\"outlinewidth\":0,\"ticks\":\"\"},\"type\":\"mesh3d\"}],\"parcoords\":[{\"line\":{\"colorbar\":{\"outlinewidth\":0,\"ticks\":\"\"}},\"type\":\"parcoords\"}],\"pie\":[{\"automargin\":true,\"type\":\"pie\"}],\"scatter\":[{\"marker\":{\"colorbar\":{\"outlinewidth\":0,\"ticks\":\"\"}},\"type\":\"scatter\"}],\"scatter3d\":[{\"line\":{\"colorbar\":{\"outlinewidth\":0,\"ticks\":\"\"}},\"marker\":{\"colorbar\":{\"outlinewidth\":0,\"ticks\":\"\"}},\"type\":\"scatter3d\"}],\"scattercarpet\":[{\"marker\":{\"colorbar\":{\"outlinewidth\":0,\"ticks\":\"\"}},\"type\":\"scattercarpet\"}],\"scattergeo\":[{\"marker\":{\"colorbar\":{\"outlinewidth\":0,\"ticks\":\"\"}},\"type\":\"scattergeo\"}],\"scattergl\":[{\"marker\":{\"colorbar\":{\"outlinewidth\":0,\"ticks\":\"\"}},\"type\":\"scattergl\"}],\"scattermapbox\":[{\"marker\":{\"colorbar\":{\"outlinewidth\":0,\"ticks\":\"\"}},\"type\":\"scattermapbox\"}],\"scatterpolar\":[{\"marker\":{\"colorbar\":{\"outlinewidth\":0,\"ticks\":\"\"}},\"type\":\"scatterpolar\"}],\"scatterpolargl\":[{\"marker\":{\"colorbar\":{\"outlinewidth\":0,\"ticks\":\"\"}},\"type\":\"scatterpolargl\"}],\"scatterternary\":[{\"marker\":{\"colorbar\":{\"outlinewidth\":0,\"ticks\":\"\"}},\"type\":\"scatterternary\"}],\"surface\":[{\"colorbar\":{\"outlinewidth\":0,\"ticks\":\"\"},\"colorscale\":[[0.0,\"#0d0887\"],[0.1111111111111111,\"#46039f\"],[0.2222222222222222,\"#7201a8\"],[0.3333333333333333,\"#9c179e\"],[0.4444444444444444,\"#bd3786\"],[0.5555555555555556,\"#d8576b\"],[0.6666666666666666,\"#ed7953\"],[0.7777777777777778,\"#fb9f3a\"],[0.8888888888888888,\"#fdca26\"],[1.0,\"#f0f921\"]],\"type\":\"surface\"}],\"table\":[{\"cells\":{\"fill\":{\"color\":\"#EBF0F8\"},\"line\":{\"color\":\"white\"}},\"header\":{\"fill\":{\"color\":\"#C8D4E3\"},\"line\":{\"color\":\"white\"}},\"type\":\"table\"}]},\"layout\":{\"annotationdefaults\":{\"arrowcolor\":\"#2a3f5f\",\"arrowhead\":0,\"arrowwidth\":1},\"autotypenumbers\":\"strict\",\"coloraxis\":{\"colorbar\":{\"outlinewidth\":0,\"ticks\":\"\"}},\"colorscale\":{\"diverging\":[[0,\"#8e0152\"],[0.1,\"#c51b7d\"],[0.2,\"#de77ae\"],[0.3,\"#f1b6da\"],[0.4,\"#fde0ef\"],[0.5,\"#f7f7f7\"],[0.6,\"#e6f5d0\"],[0.7,\"#b8e186\"],[0.8,\"#7fbc41\"],[0.9,\"#4d9221\"],[1,\"#276419\"]],\"sequential\":[[0.0,\"#0d0887\"],[0.1111111111111111,\"#46039f\"],[0.2222222222222222,\"#7201a8\"],[0.3333333333333333,\"#9c179e\"],[0.4444444444444444,\"#bd3786\"],[0.5555555555555556,\"#d8576b\"],[0.6666666666666666,\"#ed7953\"],[0.7777777777777778,\"#fb9f3a\"],[0.8888888888888888,\"#fdca26\"],[1.0,\"#f0f921\"]],\"sequentialminus\":[[0.0,\"#0d0887\"],[0.1111111111111111,\"#46039f\"],[0.2222222222222222,\"#7201a8\"],[0.3333333333333333,\"#9c179e\"],[0.4444444444444444,\"#bd3786\"],[0.5555555555555556,\"#d8576b\"],[0.6666666666666666,\"#ed7953\"],[0.7777777777777778,\"#fb9f3a\"],[0.8888888888888888,\"#fdca26\"],[1.0,\"#f0f921\"]]},\"colorway\":[\"#636efa\",\"#EF553B\",\"#00cc96\",\"#ab63fa\",\"#FFA15A\",\"#19d3f3\",\"#FF6692\",\"#B6E880\",\"#FF97FF\",\"#FECB52\"],\"font\":{\"color\":\"#2a3f5f\"},\"geo\":{\"bgcolor\":\"white\",\"lakecolor\":\"white\",\"landcolor\":\"#E5ECF6\",\"showlakes\":true,\"showland\":true,\"subunitcolor\":\"white\"},\"hoverlabel\":{\"align\":\"left\"},\"hovermode\":\"closest\",\"mapbox\":{\"style\":\"light\"},\"paper_bgcolor\":\"white\",\"plot_bgcolor\":\"#E5ECF6\",\"polar\":{\"angularaxis\":{\"gridcolor\":\"white\",\"linecolor\":\"white\",\"ticks\":\"\"},\"bgcolor\":\"#E5ECF6\",\"radialaxis\":{\"gridcolor\":\"white\",\"linecolor\":\"white\",\"ticks\":\"\"}},\"scene\":{\"xaxis\":{\"backgroundcolor\":\"#E5ECF6\",\"gridcolor\":\"white\",\"gridwidth\":2,\"linecolor\":\"white\",\"showbackground\":true,\"ticks\":\"\",\"zerolinecolor\":\"white\"},\"yaxis\":{\"backgroundcolor\":\"#E5ECF6\",\"gridcolor\":\"white\",\"gridwidth\":2,\"linecolor\":\"white\",\"showbackground\":true,\"ticks\":\"\",\"zerolinecolor\":\"white\"},\"zaxis\":{\"backgroundcolor\":\"#E5ECF6\",\"gridcolor\":\"white\",\"gridwidth\":2,\"linecolor\":\"white\",\"showbackground\":true,\"ticks\":\"\",\"zerolinecolor\":\"white\"}},\"shapedefaults\":{\"line\":{\"color\":\"#2a3f5f\"}},\"ternary\":{\"aaxis\":{\"gridcolor\":\"white\",\"linecolor\":\"white\",\"ticks\":\"\"},\"baxis\":{\"gridcolor\":\"white\",\"linecolor\":\"white\",\"ticks\":\"\"},\"bgcolor\":\"#E5ECF6\",\"caxis\":{\"gridcolor\":\"white\",\"linecolor\":\"white\",\"ticks\":\"\"}},\"title\":{\"x\":0.05},\"xaxis\":{\"automargin\":true,\"gridcolor\":\"white\",\"linecolor\":\"white\",\"ticks\":\"\",\"title\":{\"standoff\":15},\"zerolinecolor\":\"white\",\"zerolinewidth\":2},\"yaxis\":{\"automargin\":true,\"gridcolor\":\"white\",\"linecolor\":\"white\",\"ticks\":\"\",\"title\":{\"standoff\":15},\"zerolinecolor\":\"white\",\"zerolinewidth\":2}}},\"xaxis\":{\"anchor\":\"y\",\"domain\":[0.0,1.0],\"range\":[\"2011-12-15T04:48:00\",\"2022-01-22T19:12:00\"],\"type\":\"date\"},\"yaxis\":{\"anchor\":\"x\",\"domain\":[0.575,1.0],\"title\":{\"text\":\"trend\"},\"rangemode\":\"normal\",\"zerolinecolor\":\"#AAA\"},\"xaxis2\":{\"anchor\":\"y2\",\"domain\":[0.0,1.0],\"range\":[\"2016-12-13T18:54:02.958904115\",\"2018-01-18T11:04:57.863013581\"],\"tickformat\":\"%B %e\",\"type\":\"date\"},\"yaxis2\":{\"anchor\":\"x2\",\"domain\":[0.0,0.425],\"title\":{\"text\":\"yearly\"},\"zerolinecolor\":\"#AAA\"},\"height\":400,\"showlegend\":false,\"width\":900},                        {\"responsive\": true}                    ).then(function(){\n",
       "                            \n",
       "var gd = document.getElementById('aba33db5-df48-43b4-be5c-5ed1ee74ae1a');\n",
       "var x = new MutationObserver(function (mutations, observer) {{\n",
       "        var display = window.getComputedStyle(gd).display;\n",
       "        if (!display || display === 'none') {{\n",
       "            console.log([gd, 'removed!']);\n",
       "            Plotly.purge(gd);\n",
       "            observer.disconnect();\n",
       "        }}\n",
       "}});\n",
       "\n",
       "// Listen for the removal of the full notebook cells\n",
       "var notebookContainer = gd.closest('#notebook-container');\n",
       "if (notebookContainer) {{\n",
       "    x.observe(notebookContainer, {childList: true});\n",
       "}}\n",
       "\n",
       "// Listen for the clearing of the current output cell\n",
       "var outputEl = gd.closest('.output');\n",
       "if (outputEl) {{\n",
       "    x.observe(outputEl, {childList: true});\n",
       "}}\n",
       "\n",
       "                        })                };                });            </script>        </div>"
      ]
     },
     "metadata": {},
     "output_type": "display_data"
    }
   ],
   "source": [
    "plot_plotly(w, forecast)\n",
    "plot_components_plotly(w, forecast)"
   ]
  },
  {
   "cell_type": "code",
   "execution_count": null,
   "id": "d451d072",
   "metadata": {},
   "outputs": [],
   "source": []
  }
 ],
 "metadata": {
  "kernelspec": {
   "display_name": "Python 3 (ipykernel)",
   "language": "python",
   "name": "python3"
  },
  "language_info": {
   "codemirror_mode": {
    "name": "ipython",
    "version": 3
   },
   "file_extension": ".py",
   "mimetype": "text/x-python",
   "name": "python",
   "nbconvert_exporter": "python",
   "pygments_lexer": "ipython3",
   "version": "3.8.10"
  }
 },
 "nbformat": 4,
 "nbformat_minor": 5
}
